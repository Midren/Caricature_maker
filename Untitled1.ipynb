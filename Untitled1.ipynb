{
 "cells": [
  {
   "cell_type": "code",
   "execution_count": 1,
   "metadata": {},
   "outputs": [],
   "source": [
    "import numpy as np\n",
    "import matplotlib.pyplot as plt\n",
    "import pandas as pd\n",
    "from tqdm import trange\n",
    "from scipy.stats.stats import pearsonr\n",
    "from sklearn.metrics import r2_score"
   ]
  },
  {
   "cell_type": "code",
   "execution_count": 2,
   "metadata": {},
   "outputs": [],
   "source": [
    "train_data = pd.read_csv(\"./data/training.csv\")\n",
    "test_data = pd.read_csv(\"./data/test.csv\")\n",
    "train_data.fillna(method='ffill', inplace=True)"
   ]
  },
  {
   "cell_type": "code",
   "execution_count": 3,
   "metadata": {},
   "outputs": [],
   "source": [
    "def append_X(X):\n",
    "    return [np.asarray(image.split(' '), dtype= 'float').reshape(96, 96) for image in X.Image]"
   ]
  },
  {
   "cell_type": "code",
   "execution_count": 4,
   "metadata": {},
   "outputs": [],
   "source": [
    "X_train = append_X(train_data) "
   ]
  },
  {
   "cell_type": "code",
   "execution_count": 5,
   "metadata": {},
   "outputs": [],
   "source": [
    "X_test = append_X(test_data)"
   ]
  },
  {
   "cell_type": "code",
   "execution_count": 6,
   "metadata": {},
   "outputs": [
    {
     "data": {
      "text/html": [
       "<div>\n",
       "<style scoped>\n",
       "    .dataframe tbody tr th:only-of-type {\n",
       "        vertical-align: middle;\n",
       "    }\n",
       "\n",
       "    .dataframe tbody tr th {\n",
       "        vertical-align: top;\n",
       "    }\n",
       "\n",
       "    .dataframe thead th {\n",
       "        text-align: right;\n",
       "    }\n",
       "</style>\n",
       "<table border=\"1\" class=\"dataframe\">\n",
       "  <thead>\n",
       "    <tr style=\"text-align: right;\">\n",
       "      <th></th>\n",
       "      <th>left_eye_center_x</th>\n",
       "      <th>left_eye_center_y</th>\n",
       "      <th>right_eye_center_x</th>\n",
       "      <th>right_eye_center_y</th>\n",
       "      <th>left_eye_inner_corner_x</th>\n",
       "      <th>left_eye_inner_corner_y</th>\n",
       "      <th>left_eye_outer_corner_x</th>\n",
       "      <th>left_eye_outer_corner_y</th>\n",
       "      <th>right_eye_inner_corner_x</th>\n",
       "      <th>right_eye_inner_corner_y</th>\n",
       "      <th>...</th>\n",
       "      <th>nose_tip_y</th>\n",
       "      <th>mouth_left_corner_x</th>\n",
       "      <th>mouth_left_corner_y</th>\n",
       "      <th>mouth_right_corner_x</th>\n",
       "      <th>mouth_right_corner_y</th>\n",
       "      <th>mouth_center_top_lip_x</th>\n",
       "      <th>mouth_center_top_lip_y</th>\n",
       "      <th>mouth_center_bottom_lip_x</th>\n",
       "      <th>mouth_center_bottom_lip_y</th>\n",
       "      <th>Image</th>\n",
       "    </tr>\n",
       "  </thead>\n",
       "  <tbody>\n",
       "    <tr>\n",
       "      <th>0</th>\n",
       "      <td>66.033564</td>\n",
       "      <td>39.002274</td>\n",
       "      <td>30.227008</td>\n",
       "      <td>36.421678</td>\n",
       "      <td>59.582075</td>\n",
       "      <td>39.647423</td>\n",
       "      <td>73.130346</td>\n",
       "      <td>39.969997</td>\n",
       "      <td>36.356571</td>\n",
       "      <td>37.389402</td>\n",
       "      <td>...</td>\n",
       "      <td>57.066803</td>\n",
       "      <td>61.195308</td>\n",
       "      <td>79.970165</td>\n",
       "      <td>28.614496</td>\n",
       "      <td>77.388992</td>\n",
       "      <td>43.312602</td>\n",
       "      <td>72.935459</td>\n",
       "      <td>43.130707</td>\n",
       "      <td>84.485774</td>\n",
       "      <td>238 236 237 238 240 240 239 241 241 243 240 23...</td>\n",
       "    </tr>\n",
       "    <tr>\n",
       "      <th>1</th>\n",
       "      <td>64.332936</td>\n",
       "      <td>34.970077</td>\n",
       "      <td>29.949277</td>\n",
       "      <td>33.448715</td>\n",
       "      <td>58.856170</td>\n",
       "      <td>35.274349</td>\n",
       "      <td>70.722723</td>\n",
       "      <td>36.187166</td>\n",
       "      <td>36.034723</td>\n",
       "      <td>34.361532</td>\n",
       "      <td>...</td>\n",
       "      <td>55.660936</td>\n",
       "      <td>56.421447</td>\n",
       "      <td>76.352000</td>\n",
       "      <td>35.122383</td>\n",
       "      <td>76.047660</td>\n",
       "      <td>46.684596</td>\n",
       "      <td>70.266553</td>\n",
       "      <td>45.467915</td>\n",
       "      <td>85.480170</td>\n",
       "      <td>219 215 204 196 204 211 212 200 180 168 178 19...</td>\n",
       "    </tr>\n",
       "    <tr>\n",
       "      <th>2</th>\n",
       "      <td>65.057053</td>\n",
       "      <td>34.909642</td>\n",
       "      <td>30.903789</td>\n",
       "      <td>34.909642</td>\n",
       "      <td>59.412000</td>\n",
       "      <td>36.320968</td>\n",
       "      <td>70.984421</td>\n",
       "      <td>36.320968</td>\n",
       "      <td>37.678105</td>\n",
       "      <td>36.320968</td>\n",
       "      <td>...</td>\n",
       "      <td>53.538947</td>\n",
       "      <td>60.822947</td>\n",
       "      <td>73.014316</td>\n",
       "      <td>33.726316</td>\n",
       "      <td>72.732000</td>\n",
       "      <td>47.274947</td>\n",
       "      <td>70.191789</td>\n",
       "      <td>47.274947</td>\n",
       "      <td>78.659368</td>\n",
       "      <td>144 142 159 180 188 188 184 180 167 132 84 59 ...</td>\n",
       "    </tr>\n",
       "    <tr>\n",
       "      <th>3</th>\n",
       "      <td>65.225739</td>\n",
       "      <td>37.261774</td>\n",
       "      <td>32.023096</td>\n",
       "      <td>37.261774</td>\n",
       "      <td>60.003339</td>\n",
       "      <td>39.127179</td>\n",
       "      <td>72.314713</td>\n",
       "      <td>38.380967</td>\n",
       "      <td>37.618643</td>\n",
       "      <td>38.754115</td>\n",
       "      <td>...</td>\n",
       "      <td>54.166539</td>\n",
       "      <td>65.598887</td>\n",
       "      <td>72.703722</td>\n",
       "      <td>37.245496</td>\n",
       "      <td>74.195478</td>\n",
       "      <td>50.303165</td>\n",
       "      <td>70.091687</td>\n",
       "      <td>51.561183</td>\n",
       "      <td>78.268383</td>\n",
       "      <td>193 192 193 194 194 194 193 192 168 111 50 12 ...</td>\n",
       "    </tr>\n",
       "    <tr>\n",
       "      <th>4</th>\n",
       "      <td>66.725301</td>\n",
       "      <td>39.621261</td>\n",
       "      <td>32.244810</td>\n",
       "      <td>38.042032</td>\n",
       "      <td>58.565890</td>\n",
       "      <td>39.621261</td>\n",
       "      <td>72.515926</td>\n",
       "      <td>39.884466</td>\n",
       "      <td>36.982380</td>\n",
       "      <td>39.094852</td>\n",
       "      <td>...</td>\n",
       "      <td>64.889521</td>\n",
       "      <td>60.671411</td>\n",
       "      <td>77.523239</td>\n",
       "      <td>31.191755</td>\n",
       "      <td>76.997301</td>\n",
       "      <td>44.962748</td>\n",
       "      <td>73.707387</td>\n",
       "      <td>44.227141</td>\n",
       "      <td>86.871166</td>\n",
       "      <td>147 148 160 196 215 214 216 217 219 220 206 18...</td>\n",
       "    </tr>\n",
       "  </tbody>\n",
       "</table>\n",
       "<p>5 rows × 31 columns</p>\n",
       "</div>"
      ],
      "text/plain": [
       "   left_eye_center_x  left_eye_center_y  right_eye_center_x  \\\n",
       "0          66.033564          39.002274           30.227008   \n",
       "1          64.332936          34.970077           29.949277   \n",
       "2          65.057053          34.909642           30.903789   \n",
       "3          65.225739          37.261774           32.023096   \n",
       "4          66.725301          39.621261           32.244810   \n",
       "\n",
       "   right_eye_center_y  left_eye_inner_corner_x  left_eye_inner_corner_y  \\\n",
       "0           36.421678                59.582075                39.647423   \n",
       "1           33.448715                58.856170                35.274349   \n",
       "2           34.909642                59.412000                36.320968   \n",
       "3           37.261774                60.003339                39.127179   \n",
       "4           38.042032                58.565890                39.621261   \n",
       "\n",
       "   left_eye_outer_corner_x  left_eye_outer_corner_y  right_eye_inner_corner_x  \\\n",
       "0                73.130346                39.969997                 36.356571   \n",
       "1                70.722723                36.187166                 36.034723   \n",
       "2                70.984421                36.320968                 37.678105   \n",
       "3                72.314713                38.380967                 37.618643   \n",
       "4                72.515926                39.884466                 36.982380   \n",
       "\n",
       "   right_eye_inner_corner_y  ...  nose_tip_y  mouth_left_corner_x  \\\n",
       "0                 37.389402  ...   57.066803            61.195308   \n",
       "1                 34.361532  ...   55.660936            56.421447   \n",
       "2                 36.320968  ...   53.538947            60.822947   \n",
       "3                 38.754115  ...   54.166539            65.598887   \n",
       "4                 39.094852  ...   64.889521            60.671411   \n",
       "\n",
       "   mouth_left_corner_y  mouth_right_corner_x  mouth_right_corner_y  \\\n",
       "0            79.970165             28.614496             77.388992   \n",
       "1            76.352000             35.122383             76.047660   \n",
       "2            73.014316             33.726316             72.732000   \n",
       "3            72.703722             37.245496             74.195478   \n",
       "4            77.523239             31.191755             76.997301   \n",
       "\n",
       "   mouth_center_top_lip_x  mouth_center_top_lip_y  mouth_center_bottom_lip_x  \\\n",
       "0               43.312602               72.935459                  43.130707   \n",
       "1               46.684596               70.266553                  45.467915   \n",
       "2               47.274947               70.191789                  47.274947   \n",
       "3               50.303165               70.091687                  51.561183   \n",
       "4               44.962748               73.707387                  44.227141   \n",
       "\n",
       "   mouth_center_bottom_lip_y  \\\n",
       "0                  84.485774   \n",
       "1                  85.480170   \n",
       "2                  78.659368   \n",
       "3                  78.268383   \n",
       "4                  86.871166   \n",
       "\n",
       "                                               Image  \n",
       "0  238 236 237 238 240 240 239 241 241 243 240 23...  \n",
       "1  219 215 204 196 204 211 212 200 180 168 178 19...  \n",
       "2  144 142 159 180 188 188 184 180 167 132 84 59 ...  \n",
       "3  193 192 193 194 194 194 193 192 168 111 50 12 ...  \n",
       "4  147 148 160 196 215 214 216 217 219 220 206 18...  \n",
       "\n",
       "[5 rows x 31 columns]"
      ]
     },
     "execution_count": 6,
     "metadata": {},
     "output_type": "execute_result"
    }
   ],
   "source": [
    "y_train = train_data.iloc[:, :-1].values\n",
    "train_data.head()"
   ]
  },
  {
   "cell_type": "code",
   "execution_count": 7,
   "metadata": {},
   "outputs": [],
   "source": [
    "X_train = np.array(X_train).reshape(len(X_train), -1)"
   ]
  },
  {
   "cell_type": "code",
   "execution_count": 8,
   "metadata": {},
   "outputs": [
    {
     "data": {
      "text/plain": [
       "array([[66.03356391, 39.00227368, 30.22700752, ..., 72.93545865,\n",
       "        43.13070677, 84.48577444],\n",
       "       [64.33293617, 34.9700766 , 29.9492766 , ..., 70.26655319,\n",
       "        45.46791489, 85.48017021],\n",
       "       [65.05705263, 34.90964211, 30.90378947, ..., 70.19178947,\n",
       "        47.27494737, 78.65936842],\n",
       "       ...,\n",
       "       [66.69073171, 36.84522146, 31.66641951, ..., 75.96359236,\n",
       "        49.46257171, 78.11712   ],\n",
       "       [70.96508235, 39.85366588, 30.54328471, ..., 75.96359236,\n",
       "        50.06518588, 79.58644706],\n",
       "       [66.93831111, 43.42450963, 31.09605926, ..., 75.96359236,\n",
       "        45.90048   , 82.7730963 ]])"
      ]
     },
     "execution_count": 8,
     "metadata": {},
     "output_type": "execute_result"
    }
   ],
   "source": [
    "y_train"
   ]
  },
  {
   "cell_type": "code",
   "execution_count": 9,
   "metadata": {},
   "outputs": [],
   "source": [
    "def group_in_pairs(ung_features):\n",
    "    return map(lambda item: list(zip(*[item[i::2] for i in range(2)])), ung_features)"
   ]
  },
  {
   "cell_type": "code",
   "execution_count": 10,
   "metadata": {},
   "outputs": [],
   "source": [
    "train_landmarks_coordinates = np.array(list(group_in_pairs(y_train)))"
   ]
  },
  {
   "cell_type": "code",
   "execution_count": 11,
   "metadata": {},
   "outputs": [
    {
     "data": {
      "text/plain": [
       "array([[[66.03356391, 39.00227368],\n",
       "        [30.22700752, 36.4216782 ],\n",
       "        [59.58207519, 39.64742256],\n",
       "        ...,\n",
       "        [28.61449624, 77.38899248],\n",
       "        [43.3126015 , 72.93545865],\n",
       "        [43.13070677, 84.48577444]],\n",
       "\n",
       "       [[64.33293617, 34.9700766 ],\n",
       "        [29.9492766 , 33.44871489],\n",
       "        [58.85617021, 35.27434894],\n",
       "        ...,\n",
       "        [35.12238298, 76.04765957],\n",
       "        [46.68459574, 70.26655319],\n",
       "        [45.46791489, 85.48017021]],\n",
       "\n",
       "       [[65.05705263, 34.90964211],\n",
       "        [30.90378947, 34.90964211],\n",
       "        [59.412     , 36.32096842],\n",
       "        ...,\n",
       "        [33.72631579, 72.732     ],\n",
       "        [47.27494737, 70.19178947],\n",
       "        [47.27494737, 78.65936842]],\n",
       "\n",
       "       ...,\n",
       "\n",
       "       [[66.69073171, 36.84522146],\n",
       "        [31.66641951, 39.68504195],\n",
       "        [59.25534694, 36.06514286],\n",
       "        ...,\n",
       "        [34.23275908, 77.3394291 ],\n",
       "        [51.59945296, 75.96359236],\n",
       "        [49.46257171, 78.11712   ]],\n",
       "\n",
       "       [[70.96508235, 39.85366588],\n",
       "        [30.54328471, 40.77233882],\n",
       "        [59.25534694, 36.06514286],\n",
       "        ...,\n",
       "        [34.23275908, 77.3394291 ],\n",
       "        [51.59945296, 75.96359236],\n",
       "        [50.06518588, 79.58644706]],\n",
       "\n",
       "       [[66.93831111, 43.42450963],\n",
       "        [31.09605926, 39.52860444],\n",
       "        [59.25534694, 36.06514286],\n",
       "        ...,\n",
       "        [34.23275908, 77.3394291 ],\n",
       "        [51.59945296, 75.96359236],\n",
       "        [45.90048   , 82.7730963 ]]])"
      ]
     },
     "execution_count": 11,
     "metadata": {},
     "output_type": "execute_result"
    }
   ],
   "source": [
    "train_landmarks_coordinates"
   ]
  },
  {
   "cell_type": "code",
   "execution_count": 12,
   "metadata": {},
   "outputs": [],
   "source": [
    "average_coordinates = train_landmarks_coordinates.mean(axis=0)"
   ]
  },
  {
   "cell_type": "code",
   "execution_count": 13,
   "metadata": {},
   "outputs": [
    {
     "data": {
      "text/plain": [
       "array([[66.35858788, 37.64913961],\n",
       "       [30.30663068, 37.97590128],\n",
       "       [59.22406008, 36.67573061],\n",
       "       [73.74677489, 35.61996104],\n",
       "       [37.21417075, 38.94284896],\n",
       "       [22.16244559, 39.58834765],\n",
       "       [54.19462033, 29.77441764],\n",
       "       [80.46890713, 28.53479087],\n",
       "       [38.95416945, 32.07073889],\n",
       "       [15.13827922, 34.18830542],\n",
       "       [48.37418629, 62.7158836 ],\n",
       "       [69.58693209, 73.19598525],\n",
       "       [33.79967979, 76.96454597],\n",
       "       [50.42529935, 74.98252873],\n",
       "       [48.56597567, 78.97925622]])"
      ]
     },
     "execution_count": 13,
     "metadata": {},
     "output_type": "execute_result"
    }
   ],
   "source": [
    "average_coordinates"
   ]
  },
  {
   "cell_type": "code",
   "execution_count": 32,
   "metadata": {},
   "outputs": [],
   "source": [
    "feature_id = 0\n",
    "box_x = int(average_coordinates[feature_id][0])\n",
    "box_y = int(average_coordinates[feature_id][1])\n",
    "box_range = 10"
   ]
  },
  {
   "cell_type": "code",
   "execution_count": 33,
   "metadata": {},
   "outputs": [
    {
     "data": {
      "text/plain": [
       "array([[238., 236., 237., ...,  70.,  75.,  90.],\n",
       "       [219., 215., 204., ...,   1.,   1.,   1.],\n",
       "       [144., 142., 159., ...,  78.,  78.,  77.],\n",
       "       ...,\n",
       "       [ 74.,  74.,  74., ...,  20.,  20.,  20.],\n",
       "       [254., 254., 254., ..., 254., 254., 254.],\n",
       "       [ 53.,  62.,  67., ..., 158., 158., 159.]])"
      ]
     },
     "execution_count": 33,
     "metadata": {},
     "output_type": "execute_result"
    }
   ],
   "source": [
    "X_train"
   ]
  },
  {
   "cell_type": "code",
   "execution_count": 34,
   "metadata": {},
   "outputs": [],
   "source": [
    "X_new = X_train.reshape(X_train.shape[0], 96, 96)"
   ]
  },
  {
   "cell_type": "code",
   "execution_count": 35,
   "metadata": {},
   "outputs": [],
   "source": [
    "X_new = np.array(list(map(lambda image: image[box_x - box_range: box_x + box_range, box_y - box_range: box_y + box_range], X_new)))"
   ]
  },
  {
   "cell_type": "code",
   "execution_count": 36,
   "metadata": {},
   "outputs": [],
   "source": [
    "alpha = 0.001\n",
    "iterations = 150"
   ]
  },
  {
   "cell_type": "code",
   "execution_count": 37,
   "metadata": {},
   "outputs": [],
   "source": [
    "def hypothesis(theta, X, n):\n",
    "    h = np.ones((X.shape[0],1))\n",
    "    theta = theta.reshape(1,n+1)\n",
    "    for i in range(0,X.shape[0]):\n",
    "        h[i] = float(np.matmul(theta, X[i]))\n",
    "    h = h.reshape(X.shape[0])\n",
    "    return h"
   ]
  },
  {
   "cell_type": "code",
   "execution_count": 38,
   "metadata": {},
   "outputs": [],
   "source": [
    "def BGD(theta, alpha, num_iters, h, X, y, n):\n",
    "    cost = np.ones(num_iters)\n",
    "    for i in trange(0,num_iters):\n",
    "        theta[0] = theta[0] - (alpha/X.shape[0]) * sum(h - y)\n",
    "        for j in range(1,n+1):\n",
    "            theta[j] = theta[j] - (alpha/X.shape[0]) * sum((h-y) * X.transpose()[j])\n",
    "        h = hypothesis(theta, X, n)\n",
    "        cost[i] = (1/X.shape[0]) * 0.5 * sum(np.square(h - y))\n",
    "        print(cost)\n",
    "    theta = theta.reshape(1,n+1)\n",
    "    return theta, cost"
   ]
  },
  {
   "cell_type": "code",
   "execution_count": 39,
   "metadata": {},
   "outputs": [],
   "source": [
    "def linear_regression(X, y, alpha, num_iters):\n",
    "    n = X.shape[1]\n",
    "    one_column = np.ones((X.shape[0],1))\n",
    "    X = np.concatenate((one_column, X), axis = 1)\n",
    "    print(X.shape, one_column.shape)\n",
    "    # initializing the parameter vector...\n",
    "    theta = np.zeros(n+1)\n",
    "    # hypothesis calculation....\n",
    "    h = hypothesis(theta, X, n)\n",
    "    # returning the optimized parameters by Gradient Descent...\n",
    "    theta, cost = BGD(theta,alpha,num_iters,h,X,y,n)\n",
    "    return theta, cost"
   ]
  },
  {
   "cell_type": "code",
   "execution_count": 40,
   "metadata": {},
   "outputs": [],
   "source": [
    "X_new = np.array(X_new).reshape(len(X_new), -1)"
   ]
  },
  {
   "cell_type": "code",
   "execution_count": 41,
   "metadata": {},
   "outputs": [
    {
     "data": {
      "text/plain": [
       "(7049, 400)"
      ]
     },
     "execution_count": 41,
     "metadata": {},
     "output_type": "execute_result"
    }
   ],
   "source": [
    "X_new.shape"
   ]
  },
  {
   "cell_type": "code",
   "execution_count": 42,
   "metadata": {},
   "outputs": [],
   "source": [
    "X = (X_new - X_new.mean()) / X_new.std()\n",
    "y = (y_train - y_train.mean()) / y_train.std()"
   ]
  },
  {
   "cell_type": "code",
   "execution_count": null,
   "metadata": {},
   "outputs": [
    {
     "name": "stderr",
     "output_type": "stream",
     "text": [
      "\r",
      "  0%|          | 0/150 [00:00<?, ?it/s]"
     ]
    },
    {
     "name": "stdout",
     "output_type": "stream",
     "text": [
      "(7049, 401) (7049, 1)\n"
     ]
    },
    {
     "name": "stderr",
     "output_type": "stream",
     "text": [
      "\r",
      "  1%|          | 1/150 [00:00<01:41,  1.46it/s]"
     ]
    },
    {
     "name": "stdout",
     "output_type": "stream",
     "text": [
      "[0.46535824 1.         1.         1.         1.         1.\n",
      " 1.         1.         1.         1.         1.         1.\n",
      " 1.         1.         1.         1.         1.         1.\n",
      " 1.         1.         1.         1.         1.         1.\n",
      " 1.         1.         1.         1.         1.         1.\n",
      " 1.         1.         1.         1.         1.         1.\n",
      " 1.         1.         1.         1.         1.         1.\n",
      " 1.         1.         1.         1.         1.         1.\n",
      " 1.         1.         1.         1.         1.         1.\n",
      " 1.         1.         1.         1.         1.         1.\n",
      " 1.         1.         1.         1.         1.         1.\n",
      " 1.         1.         1.         1.         1.         1.\n",
      " 1.         1.         1.         1.         1.         1.\n",
      " 1.         1.         1.         1.         1.         1.\n",
      " 1.         1.         1.         1.         1.         1.\n",
      " 1.         1.         1.         1.         1.         1.\n",
      " 1.         1.         1.         1.         1.         1.\n",
      " 1.         1.         1.         1.         1.         1.\n",
      " 1.         1.         1.         1.         1.         1.\n",
      " 1.         1.         1.         1.         1.         1.\n",
      " 1.         1.         1.         1.         1.         1.\n",
      " 1.         1.         1.         1.         1.         1.\n",
      " 1.         1.         1.         1.         1.         1.\n",
      " 1.         1.         1.         1.         1.         1.\n",
      " 1.         1.         1.         1.         1.         1.        ]\n"
     ]
    },
    {
     "name": "stderr",
     "output_type": "stream",
     "text": [
      "\r",
      "  1%|▏         | 2/150 [00:01<01:40,  1.47it/s]"
     ]
    },
    {
     "name": "stdout",
     "output_type": "stream",
     "text": [
      "[0.46535824 0.44898231 1.         1.         1.         1.\n",
      " 1.         1.         1.         1.         1.         1.\n",
      " 1.         1.         1.         1.         1.         1.\n",
      " 1.         1.         1.         1.         1.         1.\n",
      " 1.         1.         1.         1.         1.         1.\n",
      " 1.         1.         1.         1.         1.         1.\n",
      " 1.         1.         1.         1.         1.         1.\n",
      " 1.         1.         1.         1.         1.         1.\n",
      " 1.         1.         1.         1.         1.         1.\n",
      " 1.         1.         1.         1.         1.         1.\n",
      " 1.         1.         1.         1.         1.         1.\n",
      " 1.         1.         1.         1.         1.         1.\n",
      " 1.         1.         1.         1.         1.         1.\n",
      " 1.         1.         1.         1.         1.         1.\n",
      " 1.         1.         1.         1.         1.         1.\n",
      " 1.         1.         1.         1.         1.         1.\n",
      " 1.         1.         1.         1.         1.         1.\n",
      " 1.         1.         1.         1.         1.         1.\n",
      " 1.         1.         1.         1.         1.         1.\n",
      " 1.         1.         1.         1.         1.         1.\n",
      " 1.         1.         1.         1.         1.         1.\n",
      " 1.         1.         1.         1.         1.         1.\n",
      " 1.         1.         1.         1.         1.         1.\n",
      " 1.         1.         1.         1.         1.         1.\n",
      " 1.         1.         1.         1.         1.         1.        ]\n"
     ]
    },
    {
     "name": "stderr",
     "output_type": "stream",
     "text": [
      "\r",
      "  2%|▏         | 3/150 [00:02<01:42,  1.43it/s]"
     ]
    },
    {
     "name": "stdout",
     "output_type": "stream",
     "text": [
      "[0.46535824 0.44898231 0.4336141  1.         1.         1.\n",
      " 1.         1.         1.         1.         1.         1.\n",
      " 1.         1.         1.         1.         1.         1.\n",
      " 1.         1.         1.         1.         1.         1.\n",
      " 1.         1.         1.         1.         1.         1.\n",
      " 1.         1.         1.         1.         1.         1.\n",
      " 1.         1.         1.         1.         1.         1.\n",
      " 1.         1.         1.         1.         1.         1.\n",
      " 1.         1.         1.         1.         1.         1.\n",
      " 1.         1.         1.         1.         1.         1.\n",
      " 1.         1.         1.         1.         1.         1.\n",
      " 1.         1.         1.         1.         1.         1.\n",
      " 1.         1.         1.         1.         1.         1.\n",
      " 1.         1.         1.         1.         1.         1.\n",
      " 1.         1.         1.         1.         1.         1.\n",
      " 1.         1.         1.         1.         1.         1.\n",
      " 1.         1.         1.         1.         1.         1.\n",
      " 1.         1.         1.         1.         1.         1.\n",
      " 1.         1.         1.         1.         1.         1.\n",
      " 1.         1.         1.         1.         1.         1.\n",
      " 1.         1.         1.         1.         1.         1.\n",
      " 1.         1.         1.         1.         1.         1.\n",
      " 1.         1.         1.         1.         1.         1.\n",
      " 1.         1.         1.         1.         1.         1.\n",
      " 1.         1.         1.         1.         1.         1.        ]\n"
     ]
    },
    {
     "name": "stderr",
     "output_type": "stream",
     "text": [
      "\r",
      "  3%|▎         | 4/150 [00:03<01:54,  1.28it/s]"
     ]
    },
    {
     "name": "stdout",
     "output_type": "stream",
     "text": [
      "[0.46535824 0.44898231 0.4336141  0.41918878 1.         1.\n",
      " 1.         1.         1.         1.         1.         1.\n",
      " 1.         1.         1.         1.         1.         1.\n",
      " 1.         1.         1.         1.         1.         1.\n",
      " 1.         1.         1.         1.         1.         1.\n",
      " 1.         1.         1.         1.         1.         1.\n",
      " 1.         1.         1.         1.         1.         1.\n",
      " 1.         1.         1.         1.         1.         1.\n",
      " 1.         1.         1.         1.         1.         1.\n",
      " 1.         1.         1.         1.         1.         1.\n",
      " 1.         1.         1.         1.         1.         1.\n",
      " 1.         1.         1.         1.         1.         1.\n",
      " 1.         1.         1.         1.         1.         1.\n",
      " 1.         1.         1.         1.         1.         1.\n",
      " 1.         1.         1.         1.         1.         1.\n",
      " 1.         1.         1.         1.         1.         1.\n",
      " 1.         1.         1.         1.         1.         1.\n",
      " 1.         1.         1.         1.         1.         1.\n",
      " 1.         1.         1.         1.         1.         1.\n",
      " 1.         1.         1.         1.         1.         1.\n",
      " 1.         1.         1.         1.         1.         1.\n",
      " 1.         1.         1.         1.         1.         1.\n",
      " 1.         1.         1.         1.         1.         1.\n",
      " 1.         1.         1.         1.         1.         1.\n",
      " 1.         1.         1.         1.         1.         1.        ]\n"
     ]
    },
    {
     "name": "stderr",
     "output_type": "stream",
     "text": [
      "\r",
      "  3%|▎         | 5/150 [00:03<01:51,  1.30it/s]"
     ]
    },
    {
     "name": "stdout",
     "output_type": "stream",
     "text": [
      "[0.46535824 0.44898231 0.4336141  0.41918878 0.40564585 1.\n",
      " 1.         1.         1.         1.         1.         1.\n",
      " 1.         1.         1.         1.         1.         1.\n",
      " 1.         1.         1.         1.         1.         1.\n",
      " 1.         1.         1.         1.         1.         1.\n",
      " 1.         1.         1.         1.         1.         1.\n",
      " 1.         1.         1.         1.         1.         1.\n",
      " 1.         1.         1.         1.         1.         1.\n",
      " 1.         1.         1.         1.         1.         1.\n",
      " 1.         1.         1.         1.         1.         1.\n",
      " 1.         1.         1.         1.         1.         1.\n",
      " 1.         1.         1.         1.         1.         1.\n",
      " 1.         1.         1.         1.         1.         1.\n",
      " 1.         1.         1.         1.         1.         1.\n",
      " 1.         1.         1.         1.         1.         1.\n",
      " 1.         1.         1.         1.         1.         1.\n",
      " 1.         1.         1.         1.         1.         1.\n",
      " 1.         1.         1.         1.         1.         1.\n",
      " 1.         1.         1.         1.         1.         1.\n",
      " 1.         1.         1.         1.         1.         1.\n",
      " 1.         1.         1.         1.         1.         1.\n",
      " 1.         1.         1.         1.         1.         1.\n",
      " 1.         1.         1.         1.         1.         1.\n",
      " 1.         1.         1.         1.         1.         1.\n",
      " 1.         1.         1.         1.         1.         1.        ]\n"
     ]
    },
    {
     "name": "stderr",
     "output_type": "stream",
     "text": [
      "\r",
      "  4%|▍         | 6/150 [00:04<01:53,  1.27it/s]"
     ]
    },
    {
     "name": "stdout",
     "output_type": "stream",
     "text": [
      "[0.46535824 0.44898231 0.4336141  0.41918878 0.40564585 0.39292884\n",
      " 1.         1.         1.         1.         1.         1.\n",
      " 1.         1.         1.         1.         1.         1.\n",
      " 1.         1.         1.         1.         1.         1.\n",
      " 1.         1.         1.         1.         1.         1.\n",
      " 1.         1.         1.         1.         1.         1.\n",
      " 1.         1.         1.         1.         1.         1.\n",
      " 1.         1.         1.         1.         1.         1.\n",
      " 1.         1.         1.         1.         1.         1.\n",
      " 1.         1.         1.         1.         1.         1.\n",
      " 1.         1.         1.         1.         1.         1.\n",
      " 1.         1.         1.         1.         1.         1.\n",
      " 1.         1.         1.         1.         1.         1.\n",
      " 1.         1.         1.         1.         1.         1.\n",
      " 1.         1.         1.         1.         1.         1.\n",
      " 1.         1.         1.         1.         1.         1.\n",
      " 1.         1.         1.         1.         1.         1.\n",
      " 1.         1.         1.         1.         1.         1.\n",
      " 1.         1.         1.         1.         1.         1.\n",
      " 1.         1.         1.         1.         1.         1.\n",
      " 1.         1.         1.         1.         1.         1.\n",
      " 1.         1.         1.         1.         1.         1.\n",
      " 1.         1.         1.         1.         1.         1.\n",
      " 1.         1.         1.         1.         1.         1.\n",
      " 1.         1.         1.         1.         1.         1.        ]\n"
     ]
    },
    {
     "name": "stderr",
     "output_type": "stream",
     "text": [
      "\r",
      "  5%|▍         | 7/150 [00:05<01:52,  1.28it/s]"
     ]
    },
    {
     "name": "stdout",
     "output_type": "stream",
     "text": [
      "[0.46535824 0.44898231 0.4336141  0.41918878 0.40564585 0.39292884\n",
      " 0.38098495 1.         1.         1.         1.         1.\n",
      " 1.         1.         1.         1.         1.         1.\n",
      " 1.         1.         1.         1.         1.         1.\n",
      " 1.         1.         1.         1.         1.         1.\n",
      " 1.         1.         1.         1.         1.         1.\n",
      " 1.         1.         1.         1.         1.         1.\n",
      " 1.         1.         1.         1.         1.         1.\n",
      " 1.         1.         1.         1.         1.         1.\n",
      " 1.         1.         1.         1.         1.         1.\n",
      " 1.         1.         1.         1.         1.         1.\n",
      " 1.         1.         1.         1.         1.         1.\n",
      " 1.         1.         1.         1.         1.         1.\n",
      " 1.         1.         1.         1.         1.         1.\n",
      " 1.         1.         1.         1.         1.         1.\n",
      " 1.         1.         1.         1.         1.         1.\n",
      " 1.         1.         1.         1.         1.         1.\n",
      " 1.         1.         1.         1.         1.         1.\n",
      " 1.         1.         1.         1.         1.         1.\n",
      " 1.         1.         1.         1.         1.         1.\n",
      " 1.         1.         1.         1.         1.         1.\n",
      " 1.         1.         1.         1.         1.         1.\n",
      " 1.         1.         1.         1.         1.         1.\n",
      " 1.         1.         1.         1.         1.         1.\n",
      " 1.         1.         1.         1.         1.         1.        ]\n"
     ]
    },
    {
     "name": "stderr",
     "output_type": "stream",
     "text": [
      "\r",
      "  5%|▌         | 8/150 [00:06<01:47,  1.32it/s]"
     ]
    },
    {
     "name": "stdout",
     "output_type": "stream",
     "text": [
      "[0.46535824 0.44898231 0.4336141  0.41918878 0.40564585 0.39292884\n",
      " 0.38098495 0.36976484 1.         1.         1.         1.\n",
      " 1.         1.         1.         1.         1.         1.\n",
      " 1.         1.         1.         1.         1.         1.\n",
      " 1.         1.         1.         1.         1.         1.\n",
      " 1.         1.         1.         1.         1.         1.\n",
      " 1.         1.         1.         1.         1.         1.\n",
      " 1.         1.         1.         1.         1.         1.\n",
      " 1.         1.         1.         1.         1.         1.\n",
      " 1.         1.         1.         1.         1.         1.\n",
      " 1.         1.         1.         1.         1.         1.\n",
      " 1.         1.         1.         1.         1.         1.\n",
      " 1.         1.         1.         1.         1.         1.\n",
      " 1.         1.         1.         1.         1.         1.\n",
      " 1.         1.         1.         1.         1.         1.\n",
      " 1.         1.         1.         1.         1.         1.\n",
      " 1.         1.         1.         1.         1.         1.\n",
      " 1.         1.         1.         1.         1.         1.\n",
      " 1.         1.         1.         1.         1.         1.\n",
      " 1.         1.         1.         1.         1.         1.\n",
      " 1.         1.         1.         1.         1.         1.\n",
      " 1.         1.         1.         1.         1.         1.\n",
      " 1.         1.         1.         1.         1.         1.\n",
      " 1.         1.         1.         1.         1.         1.\n",
      " 1.         1.         1.         1.         1.         1.        ]\n"
     ]
    },
    {
     "name": "stderr",
     "output_type": "stream",
     "text": [
      "\r",
      "  6%|▌         | 9/150 [00:06<01:44,  1.35it/s]"
     ]
    },
    {
     "name": "stdout",
     "output_type": "stream",
     "text": [
      "[0.46535824 0.44898231 0.4336141  0.41918878 0.40564585 0.39292884\n",
      " 0.38098495 0.36976484 0.35922235 1.         1.         1.\n",
      " 1.         1.         1.         1.         1.         1.\n",
      " 1.         1.         1.         1.         1.         1.\n",
      " 1.         1.         1.         1.         1.         1.\n",
      " 1.         1.         1.         1.         1.         1.\n",
      " 1.         1.         1.         1.         1.         1.\n",
      " 1.         1.         1.         1.         1.         1.\n",
      " 1.         1.         1.         1.         1.         1.\n",
      " 1.         1.         1.         1.         1.         1.\n",
      " 1.         1.         1.         1.         1.         1.\n",
      " 1.         1.         1.         1.         1.         1.\n",
      " 1.         1.         1.         1.         1.         1.\n",
      " 1.         1.         1.         1.         1.         1.\n",
      " 1.         1.         1.         1.         1.         1.\n",
      " 1.         1.         1.         1.         1.         1.\n",
      " 1.         1.         1.         1.         1.         1.\n",
      " 1.         1.         1.         1.         1.         1.\n",
      " 1.         1.         1.         1.         1.         1.\n",
      " 1.         1.         1.         1.         1.         1.\n",
      " 1.         1.         1.         1.         1.         1.\n",
      " 1.         1.         1.         1.         1.         1.\n",
      " 1.         1.         1.         1.         1.         1.\n",
      " 1.         1.         1.         1.         1.         1.\n",
      " 1.         1.         1.         1.         1.         1.        ]\n"
     ]
    },
    {
     "name": "stderr",
     "output_type": "stream",
     "text": [
      "\r",
      "  7%|▋         | 10/150 [00:07<01:42,  1.37it/s]"
     ]
    },
    {
     "name": "stdout",
     "output_type": "stream",
     "text": [
      "[0.46535824 0.44898231 0.4336141  0.41918878 0.40564585 0.39292884\n",
      " 0.38098495 0.36976484 0.35922235 0.34931434 1.         1.\n",
      " 1.         1.         1.         1.         1.         1.\n",
      " 1.         1.         1.         1.         1.         1.\n",
      " 1.         1.         1.         1.         1.         1.\n",
      " 1.         1.         1.         1.         1.         1.\n",
      " 1.         1.         1.         1.         1.         1.\n",
      " 1.         1.         1.         1.         1.         1.\n",
      " 1.         1.         1.         1.         1.         1.\n",
      " 1.         1.         1.         1.         1.         1.\n",
      " 1.         1.         1.         1.         1.         1.\n",
      " 1.         1.         1.         1.         1.         1.\n",
      " 1.         1.         1.         1.         1.         1.\n",
      " 1.         1.         1.         1.         1.         1.\n",
      " 1.         1.         1.         1.         1.         1.\n",
      " 1.         1.         1.         1.         1.         1.\n",
      " 1.         1.         1.         1.         1.         1.\n",
      " 1.         1.         1.         1.         1.         1.\n",
      " 1.         1.         1.         1.         1.         1.\n",
      " 1.         1.         1.         1.         1.         1.\n",
      " 1.         1.         1.         1.         1.         1.\n",
      " 1.         1.         1.         1.         1.         1.\n",
      " 1.         1.         1.         1.         1.         1.\n",
      " 1.         1.         1.         1.         1.         1.\n",
      " 1.         1.         1.         1.         1.         1.        ]\n"
     ]
    }
   ],
   "source": [
    "theta, cost = linear_regression(X, y[:, feature_id], alpha, iterations)"
   ]
  },
  {
   "cell_type": "code",
   "execution_count": 26,
   "metadata": {},
   "outputs": [],
   "source": [
    "X_1 = np.concatenate((np.ones((X.shape[0], 1)), X), axis = 1)\n",
    "y_res = np.dot(theta, X_1.T) * y_train.std() + y_train.mean()"
   ]
  },
  {
   "cell_type": "code",
   "execution_count": 28,
   "metadata": {},
   "outputs": [
    {
     "data": {
      "text/plain": [
       "-5.697484715908489"
      ]
     },
     "execution_count": 28,
     "metadata": {},
     "output_type": "execute_result"
    }
   ],
   "source": [
    "r2_score(y_train[:,feature_id].flatten(), y_res.flatten())"
   ]
  },
  {
   "cell_type": "code",
   "execution_count": 29,
   "metadata": {},
   "outputs": [
    {
     "data": {
      "text/plain": [
       "array([66.03356391, 64.33293617, 65.05705263, ..., 66.69073171,\n",
       "       70.96508235, 66.93831111])"
      ]
     },
     "execution_count": 29,
     "metadata": {},
     "output_type": "execute_result"
    }
   ],
   "source": [
    "y_train[:, feature_id]"
   ]
  },
  {
   "cell_type": "code",
   "execution_count": 30,
   "metadata": {
    "scrolled": true
   },
   "outputs": [
    {
     "data": {
      "text/plain": [
       "array([[68.56639058, 51.13163849, 57.65844315, ..., 69.40764548,\n",
       "        56.87630887, 64.82137744]])"
      ]
     },
     "execution_count": 30,
     "metadata": {},
     "output_type": "execute_result"
    }
   ],
   "source": [
    "y_res"
   ]
  },
  {
   "cell_type": "code",
   "execution_count": 31,
   "metadata": {},
   "outputs": [
    {
     "data": {
      "text/plain": [
       "array([[560899.33705586]])"
      ]
     },
     "execution_count": 31,
     "metadata": {},
     "output_type": "execute_result"
    }
   ],
   "source": [
    "l = y_res - y_train[:,feature_id]\n",
    "np.dot(l,l.T)"
   ]
  },
  {
   "cell_type": "code",
   "execution_count": null,
   "metadata": {},
   "outputs": [],
   "source": []
  }
 ],
 "metadata": {
  "kernelspec": {
   "display_name": "Python 3",
   "language": "python",
   "name": "python3"
  },
  "language_info": {
   "codemirror_mode": {
    "name": "ipython",
    "version": 3
   },
   "file_extension": ".py",
   "mimetype": "text/x-python",
   "name": "python",
   "nbconvert_exporter": "python",
   "pygments_lexer": "ipython3",
   "version": "3.7.3"
  }
 },
 "nbformat": 4,
 "nbformat_minor": 2
}
