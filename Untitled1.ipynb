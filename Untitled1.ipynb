{
 "cells": [
  {
   "cell_type": "code",
   "execution_count": 161,
   "metadata": {},
   "outputs": [
    {
     "ename": "ModuleNotFoundError",
     "evalue": "No module named 'skimage'",
     "output_type": "error",
     "traceback": [
      "\u001b[0;31m---------------------------------------------------------------------------\u001b[0m",
      "\u001b[0;31mModuleNotFoundError\u001b[0m                       Traceback (most recent call last)",
      "\u001b[0;32m<ipython-input-161-2193cf8e4e48>\u001b[0m in \u001b[0;36m<module>\u001b[0;34m\u001b[0m\n\u001b[1;32m      4\u001b[0m \u001b[0;32mfrom\u001b[0m \u001b[0mtqdm\u001b[0m \u001b[0;32mimport\u001b[0m \u001b[0mtrange\u001b[0m\u001b[0;34m\u001b[0m\u001b[0;34m\u001b[0m\u001b[0m\n\u001b[1;32m      5\u001b[0m \u001b[0;32mfrom\u001b[0m \u001b[0mscipy\u001b[0m\u001b[0;34m.\u001b[0m\u001b[0mstats\u001b[0m\u001b[0;34m.\u001b[0m\u001b[0mstats\u001b[0m \u001b[0;32mimport\u001b[0m \u001b[0mpearsonr\u001b[0m\u001b[0;34m\u001b[0m\u001b[0;34m\u001b[0m\u001b[0m\n\u001b[0;32m----> 6\u001b[0;31m \u001b[0;32mfrom\u001b[0m \u001b[0mskimage\u001b[0m \u001b[0;32mimport\u001b[0m \u001b[0mfeature\u001b[0m\u001b[0;34m\u001b[0m\u001b[0;34m\u001b[0m\u001b[0m\n\u001b[0m\u001b[1;32m      7\u001b[0m \u001b[0;32mfrom\u001b[0m \u001b[0msklearn\u001b[0m\u001b[0;34m.\u001b[0m\u001b[0mmetrics\u001b[0m \u001b[0;32mimport\u001b[0m \u001b[0mr2_score\u001b[0m\u001b[0;34m\u001b[0m\u001b[0;34m\u001b[0m\u001b[0m\n",
      "\u001b[0;31mModuleNotFoundError\u001b[0m: No module named 'skimage'"
     ]
    }
   ],
   "source": [
    "import numpy as np\n",
    "import matplotlib.pyplot as plt\n",
    "import pandas as pd\n",
    "from tqdm import trange\n",
    "from scipy.stats.stats import pearsonr\n",
    "from skimage import feature\n",
    "from sklearn.metrics import r2_score"
   ]
  },
  {
   "cell_type": "code",
   "execution_count": 2,
   "metadata": {},
   "outputs": [],
   "source": [
    "train_data = pd.read_csv(\"./data/training.csv\")\n",
    "test_data = pd.read_csv(\"./data/test.csv\")\n",
    "train_data.fillna(method='ffill', inplace=True)"
   ]
  },
  {
   "cell_type": "code",
   "execution_count": 3,
   "metadata": {},
   "outputs": [],
   "source": [
    "def append_X(X):\n",
    "    return [np.asarray(image.split(' '), dtype= 'float').reshape(96, 96) for image in X.Image]"
   ]
  },
  {
   "cell_type": "code",
   "execution_count": 4,
   "metadata": {},
   "outputs": [],
   "source": [
    "X_train = append_X(train_data) "
   ]
  },
  {
   "cell_type": "code",
   "execution_count": 5,
   "metadata": {},
   "outputs": [],
   "source": [
    "X_test = append_X(test_data)"
   ]
  },
  {
   "cell_type": "code",
   "execution_count": 6,
   "metadata": {},
   "outputs": [
    {
     "data": {
      "text/html": [
       "<div>\n",
       "<style scoped>\n",
       "    .dataframe tbody tr th:only-of-type {\n",
       "        vertical-align: middle;\n",
       "    }\n",
       "\n",
       "    .dataframe tbody tr th {\n",
       "        vertical-align: top;\n",
       "    }\n",
       "\n",
       "    .dataframe thead th {\n",
       "        text-align: right;\n",
       "    }\n",
       "</style>\n",
       "<table border=\"1\" class=\"dataframe\">\n",
       "  <thead>\n",
       "    <tr style=\"text-align: right;\">\n",
       "      <th></th>\n",
       "      <th>left_eye_center_x</th>\n",
       "      <th>left_eye_center_y</th>\n",
       "      <th>right_eye_center_x</th>\n",
       "      <th>right_eye_center_y</th>\n",
       "      <th>left_eye_inner_corner_x</th>\n",
       "      <th>left_eye_inner_corner_y</th>\n",
       "      <th>left_eye_outer_corner_x</th>\n",
       "      <th>left_eye_outer_corner_y</th>\n",
       "      <th>right_eye_inner_corner_x</th>\n",
       "      <th>right_eye_inner_corner_y</th>\n",
       "      <th>...</th>\n",
       "      <th>nose_tip_y</th>\n",
       "      <th>mouth_left_corner_x</th>\n",
       "      <th>mouth_left_corner_y</th>\n",
       "      <th>mouth_right_corner_x</th>\n",
       "      <th>mouth_right_corner_y</th>\n",
       "      <th>mouth_center_top_lip_x</th>\n",
       "      <th>mouth_center_top_lip_y</th>\n",
       "      <th>mouth_center_bottom_lip_x</th>\n",
       "      <th>mouth_center_bottom_lip_y</th>\n",
       "      <th>Image</th>\n",
       "    </tr>\n",
       "  </thead>\n",
       "  <tbody>\n",
       "    <tr>\n",
       "      <th>0</th>\n",
       "      <td>66.033564</td>\n",
       "      <td>39.002274</td>\n",
       "      <td>30.227008</td>\n",
       "      <td>36.421678</td>\n",
       "      <td>59.582075</td>\n",
       "      <td>39.647423</td>\n",
       "      <td>73.130346</td>\n",
       "      <td>39.969997</td>\n",
       "      <td>36.356571</td>\n",
       "      <td>37.389402</td>\n",
       "      <td>...</td>\n",
       "      <td>57.066803</td>\n",
       "      <td>61.195308</td>\n",
       "      <td>79.970165</td>\n",
       "      <td>28.614496</td>\n",
       "      <td>77.388992</td>\n",
       "      <td>43.312602</td>\n",
       "      <td>72.935459</td>\n",
       "      <td>43.130707</td>\n",
       "      <td>84.485774</td>\n",
       "      <td>238 236 237 238 240 240 239 241 241 243 240 23...</td>\n",
       "    </tr>\n",
       "    <tr>\n",
       "      <th>1</th>\n",
       "      <td>64.332936</td>\n",
       "      <td>34.970077</td>\n",
       "      <td>29.949277</td>\n",
       "      <td>33.448715</td>\n",
       "      <td>58.856170</td>\n",
       "      <td>35.274349</td>\n",
       "      <td>70.722723</td>\n",
       "      <td>36.187166</td>\n",
       "      <td>36.034723</td>\n",
       "      <td>34.361532</td>\n",
       "      <td>...</td>\n",
       "      <td>55.660936</td>\n",
       "      <td>56.421447</td>\n",
       "      <td>76.352000</td>\n",
       "      <td>35.122383</td>\n",
       "      <td>76.047660</td>\n",
       "      <td>46.684596</td>\n",
       "      <td>70.266553</td>\n",
       "      <td>45.467915</td>\n",
       "      <td>85.480170</td>\n",
       "      <td>219 215 204 196 204 211 212 200 180 168 178 19...</td>\n",
       "    </tr>\n",
       "    <tr>\n",
       "      <th>2</th>\n",
       "      <td>65.057053</td>\n",
       "      <td>34.909642</td>\n",
       "      <td>30.903789</td>\n",
       "      <td>34.909642</td>\n",
       "      <td>59.412000</td>\n",
       "      <td>36.320968</td>\n",
       "      <td>70.984421</td>\n",
       "      <td>36.320968</td>\n",
       "      <td>37.678105</td>\n",
       "      <td>36.320968</td>\n",
       "      <td>...</td>\n",
       "      <td>53.538947</td>\n",
       "      <td>60.822947</td>\n",
       "      <td>73.014316</td>\n",
       "      <td>33.726316</td>\n",
       "      <td>72.732000</td>\n",
       "      <td>47.274947</td>\n",
       "      <td>70.191789</td>\n",
       "      <td>47.274947</td>\n",
       "      <td>78.659368</td>\n",
       "      <td>144 142 159 180 188 188 184 180 167 132 84 59 ...</td>\n",
       "    </tr>\n",
       "    <tr>\n",
       "      <th>3</th>\n",
       "      <td>65.225739</td>\n",
       "      <td>37.261774</td>\n",
       "      <td>32.023096</td>\n",
       "      <td>37.261774</td>\n",
       "      <td>60.003339</td>\n",
       "      <td>39.127179</td>\n",
       "      <td>72.314713</td>\n",
       "      <td>38.380967</td>\n",
       "      <td>37.618643</td>\n",
       "      <td>38.754115</td>\n",
       "      <td>...</td>\n",
       "      <td>54.166539</td>\n",
       "      <td>65.598887</td>\n",
       "      <td>72.703722</td>\n",
       "      <td>37.245496</td>\n",
       "      <td>74.195478</td>\n",
       "      <td>50.303165</td>\n",
       "      <td>70.091687</td>\n",
       "      <td>51.561183</td>\n",
       "      <td>78.268383</td>\n",
       "      <td>193 192 193 194 194 194 193 192 168 111 50 12 ...</td>\n",
       "    </tr>\n",
       "    <tr>\n",
       "      <th>4</th>\n",
       "      <td>66.725301</td>\n",
       "      <td>39.621261</td>\n",
       "      <td>32.244810</td>\n",
       "      <td>38.042032</td>\n",
       "      <td>58.565890</td>\n",
       "      <td>39.621261</td>\n",
       "      <td>72.515926</td>\n",
       "      <td>39.884466</td>\n",
       "      <td>36.982380</td>\n",
       "      <td>39.094852</td>\n",
       "      <td>...</td>\n",
       "      <td>64.889521</td>\n",
       "      <td>60.671411</td>\n",
       "      <td>77.523239</td>\n",
       "      <td>31.191755</td>\n",
       "      <td>76.997301</td>\n",
       "      <td>44.962748</td>\n",
       "      <td>73.707387</td>\n",
       "      <td>44.227141</td>\n",
       "      <td>86.871166</td>\n",
       "      <td>147 148 160 196 215 214 216 217 219 220 206 18...</td>\n",
       "    </tr>\n",
       "  </tbody>\n",
       "</table>\n",
       "<p>5 rows × 31 columns</p>\n",
       "</div>"
      ],
      "text/plain": [
       "   left_eye_center_x  left_eye_center_y  right_eye_center_x  \\\n",
       "0          66.033564          39.002274           30.227008   \n",
       "1          64.332936          34.970077           29.949277   \n",
       "2          65.057053          34.909642           30.903789   \n",
       "3          65.225739          37.261774           32.023096   \n",
       "4          66.725301          39.621261           32.244810   \n",
       "\n",
       "   right_eye_center_y  left_eye_inner_corner_x  left_eye_inner_corner_y  \\\n",
       "0           36.421678                59.582075                39.647423   \n",
       "1           33.448715                58.856170                35.274349   \n",
       "2           34.909642                59.412000                36.320968   \n",
       "3           37.261774                60.003339                39.127179   \n",
       "4           38.042032                58.565890                39.621261   \n",
       "\n",
       "   left_eye_outer_corner_x  left_eye_outer_corner_y  right_eye_inner_corner_x  \\\n",
       "0                73.130346                39.969997                 36.356571   \n",
       "1                70.722723                36.187166                 36.034723   \n",
       "2                70.984421                36.320968                 37.678105   \n",
       "3                72.314713                38.380967                 37.618643   \n",
       "4                72.515926                39.884466                 36.982380   \n",
       "\n",
       "   right_eye_inner_corner_y  ...  nose_tip_y  mouth_left_corner_x  \\\n",
       "0                 37.389402  ...   57.066803            61.195308   \n",
       "1                 34.361532  ...   55.660936            56.421447   \n",
       "2                 36.320968  ...   53.538947            60.822947   \n",
       "3                 38.754115  ...   54.166539            65.598887   \n",
       "4                 39.094852  ...   64.889521            60.671411   \n",
       "\n",
       "   mouth_left_corner_y  mouth_right_corner_x  mouth_right_corner_y  \\\n",
       "0            79.970165             28.614496             77.388992   \n",
       "1            76.352000             35.122383             76.047660   \n",
       "2            73.014316             33.726316             72.732000   \n",
       "3            72.703722             37.245496             74.195478   \n",
       "4            77.523239             31.191755             76.997301   \n",
       "\n",
       "   mouth_center_top_lip_x  mouth_center_top_lip_y  mouth_center_bottom_lip_x  \\\n",
       "0               43.312602               72.935459                  43.130707   \n",
       "1               46.684596               70.266553                  45.467915   \n",
       "2               47.274947               70.191789                  47.274947   \n",
       "3               50.303165               70.091687                  51.561183   \n",
       "4               44.962748               73.707387                  44.227141   \n",
       "\n",
       "   mouth_center_bottom_lip_y  \\\n",
       "0                  84.485774   \n",
       "1                  85.480170   \n",
       "2                  78.659368   \n",
       "3                  78.268383   \n",
       "4                  86.871166   \n",
       "\n",
       "                                               Image  \n",
       "0  238 236 237 238 240 240 239 241 241 243 240 23...  \n",
       "1  219 215 204 196 204 211 212 200 180 168 178 19...  \n",
       "2  144 142 159 180 188 188 184 180 167 132 84 59 ...  \n",
       "3  193 192 193 194 194 194 193 192 168 111 50 12 ...  \n",
       "4  147 148 160 196 215 214 216 217 219 220 206 18...  \n",
       "\n",
       "[5 rows x 31 columns]"
      ]
     },
     "execution_count": 6,
     "metadata": {},
     "output_type": "execute_result"
    }
   ],
   "source": [
    "y_train = train_data.iloc[:, :-1].values\n",
    "train_data.head()"
   ]
  },
  {
   "cell_type": "code",
   "execution_count": 7,
   "metadata": {},
   "outputs": [],
   "source": [
    "X_train = np.array(X_train).reshape(len(X_train), -1)"
   ]
  },
  {
   "cell_type": "code",
   "execution_count": 8,
   "metadata": {},
   "outputs": [
    {
     "data": {
      "text/plain": [
       "array([[66.03356391, 39.00227368, 30.22700752, ..., 72.93545865,\n",
       "        43.13070677, 84.48577444],\n",
       "       [64.33293617, 34.9700766 , 29.9492766 , ..., 70.26655319,\n",
       "        45.46791489, 85.48017021],\n",
       "       [65.05705263, 34.90964211, 30.90378947, ..., 70.19178947,\n",
       "        47.27494737, 78.65936842],\n",
       "       ...,\n",
       "       [66.69073171, 36.84522146, 31.66641951, ..., 75.96359236,\n",
       "        49.46257171, 78.11712   ],\n",
       "       [70.96508235, 39.85366588, 30.54328471, ..., 75.96359236,\n",
       "        50.06518588, 79.58644706],\n",
       "       [66.93831111, 43.42450963, 31.09605926, ..., 75.96359236,\n",
       "        45.90048   , 82.7730963 ]])"
      ]
     },
     "execution_count": 8,
     "metadata": {},
     "output_type": "execute_result"
    }
   ],
   "source": [
    "y_train"
   ]
  },
  {
   "cell_type": "code",
   "execution_count": 9,
   "metadata": {},
   "outputs": [],
   "source": [
    "def group_in_pairs(ung_features):\n",
    "    return map(lambda item: list(zip(*[item[i::2] for i in range(2)])), ung_features)"
   ]
  },
  {
   "cell_type": "code",
   "execution_count": 10,
   "metadata": {},
   "outputs": [],
   "source": [
    "train_landmarks_coordinates = np.array(list(group_in_pairs(y_train)))"
   ]
  },
  {
   "cell_type": "code",
   "execution_count": 11,
   "metadata": {},
   "outputs": [
    {
     "data": {
      "text/plain": [
       "array([[[66.03356391, 39.00227368],\n",
       "        [30.22700752, 36.4216782 ],\n",
       "        [59.58207519, 39.64742256],\n",
       "        ...,\n",
       "        [28.61449624, 77.38899248],\n",
       "        [43.3126015 , 72.93545865],\n",
       "        [43.13070677, 84.48577444]],\n",
       "\n",
       "       [[64.33293617, 34.9700766 ],\n",
       "        [29.9492766 , 33.44871489],\n",
       "        [58.85617021, 35.27434894],\n",
       "        ...,\n",
       "        [35.12238298, 76.04765957],\n",
       "        [46.68459574, 70.26655319],\n",
       "        [45.46791489, 85.48017021]],\n",
       "\n",
       "       [[65.05705263, 34.90964211],\n",
       "        [30.90378947, 34.90964211],\n",
       "        [59.412     , 36.32096842],\n",
       "        ...,\n",
       "        [33.72631579, 72.732     ],\n",
       "        [47.27494737, 70.19178947],\n",
       "        [47.27494737, 78.65936842]],\n",
       "\n",
       "       ...,\n",
       "\n",
       "       [[66.69073171, 36.84522146],\n",
       "        [31.66641951, 39.68504195],\n",
       "        [59.25534694, 36.06514286],\n",
       "        ...,\n",
       "        [34.23275908, 77.3394291 ],\n",
       "        [51.59945296, 75.96359236],\n",
       "        [49.46257171, 78.11712   ]],\n",
       "\n",
       "       [[70.96508235, 39.85366588],\n",
       "        [30.54328471, 40.77233882],\n",
       "        [59.25534694, 36.06514286],\n",
       "        ...,\n",
       "        [34.23275908, 77.3394291 ],\n",
       "        [51.59945296, 75.96359236],\n",
       "        [50.06518588, 79.58644706]],\n",
       "\n",
       "       [[66.93831111, 43.42450963],\n",
       "        [31.09605926, 39.52860444],\n",
       "        [59.25534694, 36.06514286],\n",
       "        ...,\n",
       "        [34.23275908, 77.3394291 ],\n",
       "        [51.59945296, 75.96359236],\n",
       "        [45.90048   , 82.7730963 ]]])"
      ]
     },
     "execution_count": 11,
     "metadata": {},
     "output_type": "execute_result"
    }
   ],
   "source": [
    "train_landmarks_coordinates"
   ]
  },
  {
   "cell_type": "code",
   "execution_count": 12,
   "metadata": {},
   "outputs": [],
   "source": [
    "average_coordinates = train_landmarks_coordinates.mean(axis=0)"
   ]
  },
  {
   "cell_type": "code",
   "execution_count": 13,
   "metadata": {},
   "outputs": [
    {
     "data": {
      "text/plain": [
       "array([[66.35858788, 37.64913961],\n",
       "       [30.30663068, 37.97590128],\n",
       "       [59.22406008, 36.67573061],\n",
       "       [73.74677489, 35.61996104],\n",
       "       [37.21417075, 38.94284896],\n",
       "       [22.16244559, 39.58834765],\n",
       "       [54.19462033, 29.77441764],\n",
       "       [80.46890713, 28.53479087],\n",
       "       [38.95416945, 32.07073889],\n",
       "       [15.13827922, 34.18830542],\n",
       "       [48.37418629, 62.7158836 ],\n",
       "       [69.58693209, 73.19598525],\n",
       "       [33.79967979, 76.96454597],\n",
       "       [50.42529935, 74.98252873],\n",
       "       [48.56597567, 78.97925622]])"
      ]
     },
     "execution_count": 13,
     "metadata": {},
     "output_type": "execute_result"
    }
   ],
   "source": [
    "average_coordinates"
   ]
  },
  {
   "cell_type": "code",
   "execution_count": 144,
   "metadata": {},
   "outputs": [],
   "source": [
    "feature_id = 14\n",
    "box_x = int(average_coordinates[feature_id][0])\n",
    "box_y = int(average_coordinates[feature_id][1])\n",
    "box_range = 20"
   ]
  },
  {
   "cell_type": "code",
   "execution_count": 145,
   "metadata": {},
   "outputs": [
    {
     "data": {
      "text/plain": [
       "array([[238., 236., 237., ...,  70.,  75.,  90.],\n",
       "       [219., 215., 204., ...,   1.,   1.,   1.],\n",
       "       [144., 142., 159., ...,  78.,  78.,  77.],\n",
       "       ...,\n",
       "       [ 74.,  74.,  74., ...,  20.,  20.,  20.],\n",
       "       [254., 254., 254., ..., 254., 254., 254.],\n",
       "       [ 53.,  62.,  67., ..., 158., 158., 159.]])"
      ]
     },
     "execution_count": 145,
     "metadata": {},
     "output_type": "execute_result"
    }
   ],
   "source": [
    "X_train"
   ]
  },
  {
   "cell_type": "code",
   "execution_count": 146,
   "metadata": {},
   "outputs": [],
   "source": [
    "X_new = X_train.reshape(X_train.shape[0], 96, 96)"
   ]
  },
  {
   "cell_type": "code",
   "execution_count": 147,
   "metadata": {},
   "outputs": [],
   "source": [
    "X_new = np.array(list(map(lambda image: image[box_x - box_range: box_x + box_range, box_y - box_range: box_y + box_range].flatten(), X_new)))"
   ]
  },
  {
   "cell_type": "code",
   "execution_count": 148,
   "metadata": {},
   "outputs": [],
   "source": [
    "alpha = 0.001\n",
    "iterations = 150"
   ]
  },
  {
   "cell_type": "code",
   "execution_count": 149,
   "metadata": {},
   "outputs": [],
   "source": [
    "def hypothesis(theta, X, n):\n",
    "    h = np.ones((X.shape[0],1))\n",
    "    theta = theta.reshape(1,n+1)\n",
    "    for i in range(0,X.shape[0]):\n",
    "        h[i] = float(np.matmul(theta, X[i]))\n",
    "    h = h.reshape(X.shape[0])\n",
    "    return h"
   ]
  },
  {
   "cell_type": "code",
   "execution_count": 150,
   "metadata": {},
   "outputs": [],
   "source": [
    "def BGD(theta, alpha, num_iters, h, X, y, n):\n",
    "    cost = np.ones(num_iters)\n",
    "    for i in trange(0,num_iters):\n",
    "        theta[0] = theta[0] - (alpha/X.shape[0]) * sum(h - y)\n",
    "        for j in range(1,n+1):\n",
    "            theta[j] = theta[j] - (alpha/X.shape[0]) * sum((h-y) * X.transpose()[j])\n",
    "        h = hypothesis(theta, X, n)\n",
    "        cost[i] = (1/X.shape[0]) * 0.5 * sum(np.square(h - y))\n",
    "        print(cost)\n",
    "    theta = theta.reshape(1,n+1)\n",
    "    return theta, cost"
   ]
  },
  {
   "cell_type": "code",
   "execution_count": 151,
   "metadata": {},
   "outputs": [],
   "source": [
    "def linear_regression(X, y, alpha, num_iters):\n",
    "    n = X.shape[1]\n",
    "    one_column = np.ones((X.shape[0],1))\n",
    "    X = np.concatenate((one_column, X), axis = 1)\n",
    "    print(X.shape, one_column.shape)\n",
    "    # initializing the parameter vector...\n",
    "    theta = np.zeros(n+1)\n",
    "    # hypothesis calculation....\n",
    "    h = hypothesis(theta, X, n)\n",
    "    # returning the optimized parameters by Gradient Descent...\n",
    "    theta, cost = BGD(theta,alpha,num_iters,h,X,y,n)\n",
    "    return theta, cost"
   ]
  },
  {
   "cell_type": "code",
   "execution_count": 152,
   "metadata": {},
   "outputs": [],
   "source": [
    "X_new = np.array(X_new).reshape(len(X_new), -1)"
   ]
  },
  {
   "cell_type": "code",
   "execution_count": 153,
   "metadata": {},
   "outputs": [
    {
     "data": {
      "text/plain": [
       "(7049, 1520)"
      ]
     },
     "execution_count": 153,
     "metadata": {},
     "output_type": "execute_result"
    }
   ],
   "source": [
    "X_new.shape"
   ]
  },
  {
   "cell_type": "code",
   "execution_count": 154,
   "metadata": {},
   "outputs": [],
   "source": [
    "X = (X_new - X_new.mean()) / X_new.std()\n",
    "y = (y_train - y_train.mean()) / y_train.std()"
   ]
  },
  {
   "cell_type": "code",
   "execution_count": 155,
   "metadata": {},
   "outputs": [
    {
     "name": "stderr",
     "output_type": "stream",
     "text": [
      "\n",
      "  0%|          | 0/150 [00:00<?, ?it/s]\u001b[A"
     ]
    },
    {
     "name": "stdout",
     "output_type": "stream",
     "text": [
      "(7049, 1521) (7049, 1)\n"
     ]
    },
    {
     "name": "stderr",
     "output_type": "stream",
     "text": [
      "\n",
      "  1%|          | 1/150 [00:02<06:20,  2.55s/it]\u001b[A"
     ]
    },
    {
     "name": "stdout",
     "output_type": "stream",
     "text": [
      "[0.94088217 1.         1.         1.         1.         1.\n",
      " 1.         1.         1.         1.         1.         1.\n",
      " 1.         1.         1.         1.         1.         1.\n",
      " 1.         1.         1.         1.         1.         1.\n",
      " 1.         1.         1.         1.         1.         1.\n",
      " 1.         1.         1.         1.         1.         1.\n",
      " 1.         1.         1.         1.         1.         1.\n",
      " 1.         1.         1.         1.         1.         1.\n",
      " 1.         1.         1.         1.         1.         1.\n",
      " 1.         1.         1.         1.         1.         1.\n",
      " 1.         1.         1.         1.         1.         1.\n",
      " 1.         1.         1.         1.         1.         1.\n",
      " 1.         1.         1.         1.         1.         1.\n",
      " 1.         1.         1.         1.         1.         1.\n",
      " 1.         1.         1.         1.         1.         1.\n",
      " 1.         1.         1.         1.         1.         1.\n",
      " 1.         1.         1.         1.         1.         1.\n",
      " 1.         1.         1.         1.         1.         1.\n",
      " 1.         1.         1.         1.         1.         1.\n",
      " 1.         1.         1.         1.         1.         1.\n",
      " 1.         1.         1.         1.         1.         1.\n",
      " 1.         1.         1.         1.         1.         1.\n",
      " 1.         1.         1.         1.         1.         1.\n",
      " 1.         1.         1.         1.         1.         1.\n",
      " 1.         1.         1.         1.         1.         1.        ]\n"
     ]
    },
    {
     "name": "stderr",
     "output_type": "stream",
     "text": [
      "\n",
      "  1%|▏         | 2/150 [00:05<06:24,  2.60s/it]\u001b[A"
     ]
    },
    {
     "name": "stdout",
     "output_type": "stream",
     "text": [
      "[0.94088217 0.71910878 1.         1.         1.         1.\n",
      " 1.         1.         1.         1.         1.         1.\n",
      " 1.         1.         1.         1.         1.         1.\n",
      " 1.         1.         1.         1.         1.         1.\n",
      " 1.         1.         1.         1.         1.         1.\n",
      " 1.         1.         1.         1.         1.         1.\n",
      " 1.         1.         1.         1.         1.         1.\n",
      " 1.         1.         1.         1.         1.         1.\n",
      " 1.         1.         1.         1.         1.         1.\n",
      " 1.         1.         1.         1.         1.         1.\n",
      " 1.         1.         1.         1.         1.         1.\n",
      " 1.         1.         1.         1.         1.         1.\n",
      " 1.         1.         1.         1.         1.         1.\n",
      " 1.         1.         1.         1.         1.         1.\n",
      " 1.         1.         1.         1.         1.         1.\n",
      " 1.         1.         1.         1.         1.         1.\n",
      " 1.         1.         1.         1.         1.         1.\n",
      " 1.         1.         1.         1.         1.         1.\n",
      " 1.         1.         1.         1.         1.         1.\n",
      " 1.         1.         1.         1.         1.         1.\n",
      " 1.         1.         1.         1.         1.         1.\n",
      " 1.         1.         1.         1.         1.         1.\n",
      " 1.         1.         1.         1.         1.         1.\n",
      " 1.         1.         1.         1.         1.         1.\n",
      " 1.         1.         1.         1.         1.         1.        ]\n"
     ]
    },
    {
     "name": "stderr",
     "output_type": "stream",
     "text": [
      "\n",
      "  2%|▏         | 3/150 [00:08<06:29,  2.65s/it]\u001b[A"
     ]
    },
    {
     "name": "stdout",
     "output_type": "stream",
     "text": [
      "[0.94088217 0.71910878 0.5953771  1.         1.         1.\n",
      " 1.         1.         1.         1.         1.         1.\n",
      " 1.         1.         1.         1.         1.         1.\n",
      " 1.         1.         1.         1.         1.         1.\n",
      " 1.         1.         1.         1.         1.         1.\n",
      " 1.         1.         1.         1.         1.         1.\n",
      " 1.         1.         1.         1.         1.         1.\n",
      " 1.         1.         1.         1.         1.         1.\n",
      " 1.         1.         1.         1.         1.         1.\n",
      " 1.         1.         1.         1.         1.         1.\n",
      " 1.         1.         1.         1.         1.         1.\n",
      " 1.         1.         1.         1.         1.         1.\n",
      " 1.         1.         1.         1.         1.         1.\n",
      " 1.         1.         1.         1.         1.         1.\n",
      " 1.         1.         1.         1.         1.         1.\n",
      " 1.         1.         1.         1.         1.         1.\n",
      " 1.         1.         1.         1.         1.         1.\n",
      " 1.         1.         1.         1.         1.         1.\n",
      " 1.         1.         1.         1.         1.         1.\n",
      " 1.         1.         1.         1.         1.         1.\n",
      " 1.         1.         1.         1.         1.         1.\n",
      " 1.         1.         1.         1.         1.         1.\n",
      " 1.         1.         1.         1.         1.         1.\n",
      " 1.         1.         1.         1.         1.         1.\n",
      " 1.         1.         1.         1.         1.         1.        ]\n"
     ]
    },
    {
     "name": "stderr",
     "output_type": "stream",
     "text": [
      "\n",
      "  3%|▎         | 4/150 [00:10<06:25,  2.64s/it]\u001b[A"
     ]
    },
    {
     "name": "stdout",
     "output_type": "stream",
     "text": [
      "[0.94088217 0.71910878 0.5953771  0.51834059 1.         1.\n",
      " 1.         1.         1.         1.         1.         1.\n",
      " 1.         1.         1.         1.         1.         1.\n",
      " 1.         1.         1.         1.         1.         1.\n",
      " 1.         1.         1.         1.         1.         1.\n",
      " 1.         1.         1.         1.         1.         1.\n",
      " 1.         1.         1.         1.         1.         1.\n",
      " 1.         1.         1.         1.         1.         1.\n",
      " 1.         1.         1.         1.         1.         1.\n",
      " 1.         1.         1.         1.         1.         1.\n",
      " 1.         1.         1.         1.         1.         1.\n",
      " 1.         1.         1.         1.         1.         1.\n",
      " 1.         1.         1.         1.         1.         1.\n",
      " 1.         1.         1.         1.         1.         1.\n",
      " 1.         1.         1.         1.         1.         1.\n",
      " 1.         1.         1.         1.         1.         1.\n",
      " 1.         1.         1.         1.         1.         1.\n",
      " 1.         1.         1.         1.         1.         1.\n",
      " 1.         1.         1.         1.         1.         1.\n",
      " 1.         1.         1.         1.         1.         1.\n",
      " 1.         1.         1.         1.         1.         1.\n",
      " 1.         1.         1.         1.         1.         1.\n",
      " 1.         1.         1.         1.         1.         1.\n",
      " 1.         1.         1.         1.         1.         1.\n",
      " 1.         1.         1.         1.         1.         1.        ]\n"
     ]
    },
    {
     "name": "stderr",
     "output_type": "stream",
     "text": [
      "\n",
      "  3%|▎         | 5/150 [00:13<06:32,  2.70s/it]\u001b[A"
     ]
    },
    {
     "name": "stdout",
     "output_type": "stream",
     "text": [
      "[0.94088217 0.71910878 0.5953771  0.51834059 0.46553218 1.\n",
      " 1.         1.         1.         1.         1.         1.\n",
      " 1.         1.         1.         1.         1.         1.\n",
      " 1.         1.         1.         1.         1.         1.\n",
      " 1.         1.         1.         1.         1.         1.\n",
      " 1.         1.         1.         1.         1.         1.\n",
      " 1.         1.         1.         1.         1.         1.\n",
      " 1.         1.         1.         1.         1.         1.\n",
      " 1.         1.         1.         1.         1.         1.\n",
      " 1.         1.         1.         1.         1.         1.\n",
      " 1.         1.         1.         1.         1.         1.\n",
      " 1.         1.         1.         1.         1.         1.\n",
      " 1.         1.         1.         1.         1.         1.\n",
      " 1.         1.         1.         1.         1.         1.\n",
      " 1.         1.         1.         1.         1.         1.\n",
      " 1.         1.         1.         1.         1.         1.\n",
      " 1.         1.         1.         1.         1.         1.\n",
      " 1.         1.         1.         1.         1.         1.\n",
      " 1.         1.         1.         1.         1.         1.\n",
      " 1.         1.         1.         1.         1.         1.\n",
      " 1.         1.         1.         1.         1.         1.\n",
      " 1.         1.         1.         1.         1.         1.\n",
      " 1.         1.         1.         1.         1.         1.\n",
      " 1.         1.         1.         1.         1.         1.\n",
      " 1.         1.         1.         1.         1.         1.        ]\n"
     ]
    },
    {
     "name": "stderr",
     "output_type": "stream",
     "text": [
      "\n",
      "  4%|▍         | 6/150 [00:16<06:31,  2.72s/it]\u001b[A"
     ]
    },
    {
     "name": "stdout",
     "output_type": "stream",
     "text": [
      "[0.94088217 0.71910878 0.5953771  0.51834059 0.46553218 0.4266931\n",
      " 1.         1.         1.         1.         1.         1.\n",
      " 1.         1.         1.         1.         1.         1.\n",
      " 1.         1.         1.         1.         1.         1.\n",
      " 1.         1.         1.         1.         1.         1.\n",
      " 1.         1.         1.         1.         1.         1.\n",
      " 1.         1.         1.         1.         1.         1.\n",
      " 1.         1.         1.         1.         1.         1.\n",
      " 1.         1.         1.         1.         1.         1.\n",
      " 1.         1.         1.         1.         1.         1.\n",
      " 1.         1.         1.         1.         1.         1.\n",
      " 1.         1.         1.         1.         1.         1.\n",
      " 1.         1.         1.         1.         1.         1.\n",
      " 1.         1.         1.         1.         1.         1.\n",
      " 1.         1.         1.         1.         1.         1.\n",
      " 1.         1.         1.         1.         1.         1.\n",
      " 1.         1.         1.         1.         1.         1.\n",
      " 1.         1.         1.         1.         1.         1.\n",
      " 1.         1.         1.         1.         1.         1.\n",
      " 1.         1.         1.         1.         1.         1.\n",
      " 1.         1.         1.         1.         1.         1.\n",
      " 1.         1.         1.         1.         1.         1.\n",
      " 1.         1.         1.         1.         1.         1.\n",
      " 1.         1.         1.         1.         1.         1.\n",
      " 1.         1.         1.         1.         1.         1.        ]\n"
     ]
    },
    {
     "name": "stderr",
     "output_type": "stream",
     "text": [
      "\n",
      "  5%|▍         | 7/150 [00:19<06:32,  2.74s/it]\u001b[A"
     ]
    },
    {
     "name": "stdout",
     "output_type": "stream",
     "text": [
      "[0.94088217 0.71910878 0.5953771  0.51834059 0.46553218 0.4266931\n",
      " 0.3968121  1.         1.         1.         1.         1.\n",
      " 1.         1.         1.         1.         1.         1.\n",
      " 1.         1.         1.         1.         1.         1.\n",
      " 1.         1.         1.         1.         1.         1.\n",
      " 1.         1.         1.         1.         1.         1.\n",
      " 1.         1.         1.         1.         1.         1.\n",
      " 1.         1.         1.         1.         1.         1.\n",
      " 1.         1.         1.         1.         1.         1.\n",
      " 1.         1.         1.         1.         1.         1.\n",
      " 1.         1.         1.         1.         1.         1.\n",
      " 1.         1.         1.         1.         1.         1.\n",
      " 1.         1.         1.         1.         1.         1.\n",
      " 1.         1.         1.         1.         1.         1.\n",
      " 1.         1.         1.         1.         1.         1.\n",
      " 1.         1.         1.         1.         1.         1.\n",
      " 1.         1.         1.         1.         1.         1.\n",
      " 1.         1.         1.         1.         1.         1.\n",
      " 1.         1.         1.         1.         1.         1.\n",
      " 1.         1.         1.         1.         1.         1.\n",
      " 1.         1.         1.         1.         1.         1.\n",
      " 1.         1.         1.         1.         1.         1.\n",
      " 1.         1.         1.         1.         1.         1.\n",
      " 1.         1.         1.         1.         1.         1.\n",
      " 1.         1.         1.         1.         1.         1.        ]\n"
     ]
    },
    {
     "name": "stderr",
     "output_type": "stream",
     "text": [
      "\n",
      "  5%|▌         | 8/150 [00:21<06:27,  2.73s/it]\u001b[A"
     ]
    },
    {
     "name": "stdout",
     "output_type": "stream",
     "text": [
      "[0.94088217 0.71910878 0.5953771  0.51834059 0.46553218 0.4266931\n",
      " 0.3968121  0.37320173 1.         1.         1.         1.\n",
      " 1.         1.         1.         1.         1.         1.\n",
      " 1.         1.         1.         1.         1.         1.\n",
      " 1.         1.         1.         1.         1.         1.\n",
      " 1.         1.         1.         1.         1.         1.\n",
      " 1.         1.         1.         1.         1.         1.\n",
      " 1.         1.         1.         1.         1.         1.\n",
      " 1.         1.         1.         1.         1.         1.\n",
      " 1.         1.         1.         1.         1.         1.\n",
      " 1.         1.         1.         1.         1.         1.\n",
      " 1.         1.         1.         1.         1.         1.\n",
      " 1.         1.         1.         1.         1.         1.\n",
      " 1.         1.         1.         1.         1.         1.\n",
      " 1.         1.         1.         1.         1.         1.\n",
      " 1.         1.         1.         1.         1.         1.\n",
      " 1.         1.         1.         1.         1.         1.\n",
      " 1.         1.         1.         1.         1.         1.\n",
      " 1.         1.         1.         1.         1.         1.\n",
      " 1.         1.         1.         1.         1.         1.\n",
      " 1.         1.         1.         1.         1.         1.\n",
      " 1.         1.         1.         1.         1.         1.\n",
      " 1.         1.         1.         1.         1.         1.\n",
      " 1.         1.         1.         1.         1.         1.\n",
      " 1.         1.         1.         1.         1.         1.        ]\n"
     ]
    },
    {
     "name": "stderr",
     "output_type": "stream",
     "text": [
      "\n",
      "  6%|▌         | 9/150 [00:24<06:17,  2.68s/it]\u001b[A"
     ]
    },
    {
     "name": "stdout",
     "output_type": "stream",
     "text": [
      "[0.94088217 0.71910878 0.5953771  0.51834059 0.46553218 0.4266931\n",
      " 0.3968121  0.37320173 0.35425665 1.         1.         1.\n",
      " 1.         1.         1.         1.         1.         1.\n",
      " 1.         1.         1.         1.         1.         1.\n",
      " 1.         1.         1.         1.         1.         1.\n",
      " 1.         1.         1.         1.         1.         1.\n",
      " 1.         1.         1.         1.         1.         1.\n",
      " 1.         1.         1.         1.         1.         1.\n",
      " 1.         1.         1.         1.         1.         1.\n",
      " 1.         1.         1.         1.         1.         1.\n",
      " 1.         1.         1.         1.         1.         1.\n",
      " 1.         1.         1.         1.         1.         1.\n",
      " 1.         1.         1.         1.         1.         1.\n",
      " 1.         1.         1.         1.         1.         1.\n",
      " 1.         1.         1.         1.         1.         1.\n",
      " 1.         1.         1.         1.         1.         1.\n",
      " 1.         1.         1.         1.         1.         1.\n",
      " 1.         1.         1.         1.         1.         1.\n",
      " 1.         1.         1.         1.         1.         1.\n",
      " 1.         1.         1.         1.         1.         1.\n",
      " 1.         1.         1.         1.         1.         1.\n",
      " 1.         1.         1.         1.         1.         1.\n",
      " 1.         1.         1.         1.         1.         1.\n",
      " 1.         1.         1.         1.         1.         1.\n",
      " 1.         1.         1.         1.         1.         1.        ]\n"
     ]
    },
    {
     "name": "stderr",
     "output_type": "stream",
     "text": [
      "\n",
      "  7%|▋         | 10/150 [00:26<06:12,  2.66s/it]\u001b[A"
     ]
    },
    {
     "name": "stdout",
     "output_type": "stream",
     "text": [
      "[0.94088217 0.71910878 0.5953771  0.51834059 0.46553218 0.4266931\n",
      " 0.3968121  0.37320173 0.35425665 0.33891547 1.         1.\n",
      " 1.         1.         1.         1.         1.         1.\n",
      " 1.         1.         1.         1.         1.         1.\n",
      " 1.         1.         1.         1.         1.         1.\n",
      " 1.         1.         1.         1.         1.         1.\n",
      " 1.         1.         1.         1.         1.         1.\n",
      " 1.         1.         1.         1.         1.         1.\n",
      " 1.         1.         1.         1.         1.         1.\n",
      " 1.         1.         1.         1.         1.         1.\n",
      " 1.         1.         1.         1.         1.         1.\n",
      " 1.         1.         1.         1.         1.         1.\n",
      " 1.         1.         1.         1.         1.         1.\n",
      " 1.         1.         1.         1.         1.         1.\n",
      " 1.         1.         1.         1.         1.         1.\n",
      " 1.         1.         1.         1.         1.         1.\n",
      " 1.         1.         1.         1.         1.         1.\n",
      " 1.         1.         1.         1.         1.         1.\n",
      " 1.         1.         1.         1.         1.         1.\n",
      " 1.         1.         1.         1.         1.         1.\n",
      " 1.         1.         1.         1.         1.         1.\n",
      " 1.         1.         1.         1.         1.         1.\n",
      " 1.         1.         1.         1.         1.         1.\n",
      " 1.         1.         1.         1.         1.         1.\n",
      " 1.         1.         1.         1.         1.         1.        ]\n"
     ]
    },
    {
     "name": "stderr",
     "output_type": "stream",
     "text": [
      "\n",
      "  7%|▋         | 11/150 [00:29<06:18,  2.72s/it]\u001b[A"
     ]
    },
    {
     "name": "stdout",
     "output_type": "stream",
     "text": [
      "[0.94088217 0.71910878 0.5953771  0.51834059 0.46553218 0.4266931\n",
      " 0.3968121  0.37320173 0.35425665 0.33891547 0.32641899 1.\n",
      " 1.         1.         1.         1.         1.         1.\n",
      " 1.         1.         1.         1.         1.         1.\n",
      " 1.         1.         1.         1.         1.         1.\n",
      " 1.         1.         1.         1.         1.         1.\n",
      " 1.         1.         1.         1.         1.         1.\n",
      " 1.         1.         1.         1.         1.         1.\n",
      " 1.         1.         1.         1.         1.         1.\n",
      " 1.         1.         1.         1.         1.         1.\n",
      " 1.         1.         1.         1.         1.         1.\n",
      " 1.         1.         1.         1.         1.         1.\n",
      " 1.         1.         1.         1.         1.         1.\n",
      " 1.         1.         1.         1.         1.         1.\n",
      " 1.         1.         1.         1.         1.         1.\n",
      " 1.         1.         1.         1.         1.         1.\n",
      " 1.         1.         1.         1.         1.         1.\n",
      " 1.         1.         1.         1.         1.         1.\n",
      " 1.         1.         1.         1.         1.         1.\n",
      " 1.         1.         1.         1.         1.         1.\n",
      " 1.         1.         1.         1.         1.         1.\n",
      " 1.         1.         1.         1.         1.         1.\n",
      " 1.         1.         1.         1.         1.         1.\n",
      " 1.         1.         1.         1.         1.         1.\n",
      " 1.         1.         1.         1.         1.         1.        ]\n"
     ]
    },
    {
     "name": "stderr",
     "output_type": "stream",
     "text": [
      "\n",
      "  8%|▊         | 12/150 [00:32<06:05,  2.65s/it]\u001b[A"
     ]
    },
    {
     "name": "stdout",
     "output_type": "stream",
     "text": [
      "[0.94088217 0.71910878 0.5953771  0.51834059 0.46553218 0.4266931\n",
      " 0.3968121  0.37320173 0.35425665 0.33891547 0.32641899 0.31619501\n",
      " 1.         1.         1.         1.         1.         1.\n",
      " 1.         1.         1.         1.         1.         1.\n",
      " 1.         1.         1.         1.         1.         1.\n",
      " 1.         1.         1.         1.         1.         1.\n",
      " 1.         1.         1.         1.         1.         1.\n",
      " 1.         1.         1.         1.         1.         1.\n",
      " 1.         1.         1.         1.         1.         1.\n",
      " 1.         1.         1.         1.         1.         1.\n",
      " 1.         1.         1.         1.         1.         1.\n",
      " 1.         1.         1.         1.         1.         1.\n",
      " 1.         1.         1.         1.         1.         1.\n",
      " 1.         1.         1.         1.         1.         1.\n",
      " 1.         1.         1.         1.         1.         1.\n",
      " 1.         1.         1.         1.         1.         1.\n",
      " 1.         1.         1.         1.         1.         1.\n",
      " 1.         1.         1.         1.         1.         1.\n",
      " 1.         1.         1.         1.         1.         1.\n",
      " 1.         1.         1.         1.         1.         1.\n",
      " 1.         1.         1.         1.         1.         1.\n",
      " 1.         1.         1.         1.         1.         1.\n",
      " 1.         1.         1.         1.         1.         1.\n",
      " 1.         1.         1.         1.         1.         1.\n",
      " 1.         1.         1.         1.         1.         1.        ]\n"
     ]
    },
    {
     "name": "stderr",
     "output_type": "stream",
     "text": [
      "\n",
      "  9%|▊         | 13/150 [00:34<05:50,  2.56s/it]\u001b[A"
     ]
    },
    {
     "name": "stdout",
     "output_type": "stream",
     "text": [
      "[0.94088217 0.71910878 0.5953771  0.51834059 0.46553218 0.4266931\n",
      " 0.3968121  0.37320173 0.35425665 0.33891547 0.32641899 0.31619501\n",
      " 0.30779861 1.         1.         1.         1.         1.\n",
      " 1.         1.         1.         1.         1.         1.\n",
      " 1.         1.         1.         1.         1.         1.\n",
      " 1.         1.         1.         1.         1.         1.\n",
      " 1.         1.         1.         1.         1.         1.\n",
      " 1.         1.         1.         1.         1.         1.\n",
      " 1.         1.         1.         1.         1.         1.\n",
      " 1.         1.         1.         1.         1.         1.\n",
      " 1.         1.         1.         1.         1.         1.\n",
      " 1.         1.         1.         1.         1.         1.\n",
      " 1.         1.         1.         1.         1.         1.\n",
      " 1.         1.         1.         1.         1.         1.\n",
      " 1.         1.         1.         1.         1.         1.\n",
      " 1.         1.         1.         1.         1.         1.\n",
      " 1.         1.         1.         1.         1.         1.\n",
      " 1.         1.         1.         1.         1.         1.\n",
      " 1.         1.         1.         1.         1.         1.\n",
      " 1.         1.         1.         1.         1.         1.\n",
      " 1.         1.         1.         1.         1.         1.\n",
      " 1.         1.         1.         1.         1.         1.\n",
      " 1.         1.         1.         1.         1.         1.\n",
      " 1.         1.         1.         1.         1.         1.\n",
      " 1.         1.         1.         1.         1.         1.        ]\n"
     ]
    },
    {
     "name": "stderr",
     "output_type": "stream",
     "text": [
      "\n",
      "  9%|▉         | 14/150 [00:36<05:38,  2.49s/it]\u001b[A"
     ]
    },
    {
     "name": "stdout",
     "output_type": "stream",
     "text": [
      "[0.94088217 0.71910878 0.5953771  0.51834059 0.46553218 0.4266931\n",
      " 0.3968121  0.37320173 0.35425665 0.33891547 0.32641899 0.31619501\n",
      " 0.30779861 0.30087769 1.         1.         1.         1.\n",
      " 1.         1.         1.         1.         1.         1.\n",
      " 1.         1.         1.         1.         1.         1.\n",
      " 1.         1.         1.         1.         1.         1.\n",
      " 1.         1.         1.         1.         1.         1.\n",
      " 1.         1.         1.         1.         1.         1.\n",
      " 1.         1.         1.         1.         1.         1.\n",
      " 1.         1.         1.         1.         1.         1.\n",
      " 1.         1.         1.         1.         1.         1.\n",
      " 1.         1.         1.         1.         1.         1.\n",
      " 1.         1.         1.         1.         1.         1.\n",
      " 1.         1.         1.         1.         1.         1.\n",
      " 1.         1.         1.         1.         1.         1.\n",
      " 1.         1.         1.         1.         1.         1.\n",
      " 1.         1.         1.         1.         1.         1.\n",
      " 1.         1.         1.         1.         1.         1.\n",
      " 1.         1.         1.         1.         1.         1.\n",
      " 1.         1.         1.         1.         1.         1.\n",
      " 1.         1.         1.         1.         1.         1.\n",
      " 1.         1.         1.         1.         1.         1.\n",
      " 1.         1.         1.         1.         1.         1.\n",
      " 1.         1.         1.         1.         1.         1.\n",
      " 1.         1.         1.         1.         1.         1.        ]\n"
     ]
    },
    {
     "name": "stderr",
     "output_type": "stream",
     "text": [
      "\n",
      " 10%|█         | 15/150 [00:39<05:31,  2.46s/it]\u001b[A"
     ]
    },
    {
     "name": "stdout",
     "output_type": "stream",
     "text": [
      "[0.94088217 0.71910878 0.5953771  0.51834059 0.46553218 0.4266931\n",
      " 0.3968121  0.37320173 0.35425665 0.33891547 0.32641899 0.31619501\n",
      " 0.30779861 0.30087769 0.29515094 1.         1.         1.\n",
      " 1.         1.         1.         1.         1.         1.\n",
      " 1.         1.         1.         1.         1.         1.\n",
      " 1.         1.         1.         1.         1.         1.\n",
      " 1.         1.         1.         1.         1.         1.\n",
      " 1.         1.         1.         1.         1.         1.\n",
      " 1.         1.         1.         1.         1.         1.\n",
      " 1.         1.         1.         1.         1.         1.\n",
      " 1.         1.         1.         1.         1.         1.\n",
      " 1.         1.         1.         1.         1.         1.\n",
      " 1.         1.         1.         1.         1.         1.\n",
      " 1.         1.         1.         1.         1.         1.\n",
      " 1.         1.         1.         1.         1.         1.\n",
      " 1.         1.         1.         1.         1.         1.\n",
      " 1.         1.         1.         1.         1.         1.\n",
      " 1.         1.         1.         1.         1.         1.\n",
      " 1.         1.         1.         1.         1.         1.\n",
      " 1.         1.         1.         1.         1.         1.\n",
      " 1.         1.         1.         1.         1.         1.\n",
      " 1.         1.         1.         1.         1.         1.\n",
      " 1.         1.         1.         1.         1.         1.\n",
      " 1.         1.         1.         1.         1.         1.\n",
      " 1.         1.         1.         1.         1.         1.        ]\n"
     ]
    },
    {
     "name": "stderr",
     "output_type": "stream",
     "text": [
      "\n",
      " 11%|█         | 16/150 [00:41<05:24,  2.42s/it]\u001b[A"
     ]
    },
    {
     "name": "stdout",
     "output_type": "stream",
     "text": [
      "[0.94088217 0.71910878 0.5953771  0.51834059 0.46553218 0.4266931\n",
      " 0.3968121  0.37320173 0.35425665 0.33891547 0.32641899 0.31619501\n",
      " 0.30779861 0.30087769 0.29515094 0.29039244 1.         1.\n",
      " 1.         1.         1.         1.         1.         1.\n",
      " 1.         1.         1.         1.         1.         1.\n",
      " 1.         1.         1.         1.         1.         1.\n",
      " 1.         1.         1.         1.         1.         1.\n",
      " 1.         1.         1.         1.         1.         1.\n",
      " 1.         1.         1.         1.         1.         1.\n",
      " 1.         1.         1.         1.         1.         1.\n",
      " 1.         1.         1.         1.         1.         1.\n",
      " 1.         1.         1.         1.         1.         1.\n",
      " 1.         1.         1.         1.         1.         1.\n",
      " 1.         1.         1.         1.         1.         1.\n",
      " 1.         1.         1.         1.         1.         1.\n",
      " 1.         1.         1.         1.         1.         1.\n",
      " 1.         1.         1.         1.         1.         1.\n",
      " 1.         1.         1.         1.         1.         1.\n",
      " 1.         1.         1.         1.         1.         1.\n",
      " 1.         1.         1.         1.         1.         1.\n",
      " 1.         1.         1.         1.         1.         1.\n",
      " 1.         1.         1.         1.         1.         1.\n",
      " 1.         1.         1.         1.         1.         1.\n",
      " 1.         1.         1.         1.         1.         1.\n",
      " 1.         1.         1.         1.         1.         1.        ]\n"
     ]
    },
    {
     "name": "stderr",
     "output_type": "stream",
     "text": [
      "\n",
      " 11%|█▏        | 17/150 [00:43<05:18,  2.40s/it]\u001b[A"
     ]
    },
    {
     "name": "stdout",
     "output_type": "stream",
     "text": [
      "[0.94088217 0.71910878 0.5953771  0.51834059 0.46553218 0.4266931\n",
      " 0.3968121  0.37320173 0.35425665 0.33891547 0.32641899 0.31619501\n",
      " 0.30779861 0.30087769 0.29515094 0.29039244 0.2864202  1.\n",
      " 1.         1.         1.         1.         1.         1.\n",
      " 1.         1.         1.         1.         1.         1.\n",
      " 1.         1.         1.         1.         1.         1.\n",
      " 1.         1.         1.         1.         1.         1.\n",
      " 1.         1.         1.         1.         1.         1.\n",
      " 1.         1.         1.         1.         1.         1.\n",
      " 1.         1.         1.         1.         1.         1.\n",
      " 1.         1.         1.         1.         1.         1.\n",
      " 1.         1.         1.         1.         1.         1.\n",
      " 1.         1.         1.         1.         1.         1.\n",
      " 1.         1.         1.         1.         1.         1.\n",
      " 1.         1.         1.         1.         1.         1.\n",
      " 1.         1.         1.         1.         1.         1.\n",
      " 1.         1.         1.         1.         1.         1.\n",
      " 1.         1.         1.         1.         1.         1.\n",
      " 1.         1.         1.         1.         1.         1.\n",
      " 1.         1.         1.         1.         1.         1.\n",
      " 1.         1.         1.         1.         1.         1.\n",
      " 1.         1.         1.         1.         1.         1.\n",
      " 1.         1.         1.         1.         1.         1.\n",
      " 1.         1.         1.         1.         1.         1.\n",
      " 1.         1.         1.         1.         1.         1.        ]\n"
     ]
    },
    {
     "name": "stderr",
     "output_type": "stream",
     "text": [
      "\n",
      " 12%|█▏        | 18/150 [00:46<05:14,  2.39s/it]\u001b[A"
     ]
    },
    {
     "name": "stdout",
     "output_type": "stream",
     "text": [
      "[0.94088217 0.71910878 0.5953771  0.51834059 0.46553218 0.4266931\n",
      " 0.3968121  0.37320173 0.35425665 0.33891547 0.32641899 0.31619501\n",
      " 0.30779861 0.30087769 0.29515094 0.29039244 0.2864202  0.28308739\n",
      " 1.         1.         1.         1.         1.         1.\n",
      " 1.         1.         1.         1.         1.         1.\n",
      " 1.         1.         1.         1.         1.         1.\n",
      " 1.         1.         1.         1.         1.         1.\n",
      " 1.         1.         1.         1.         1.         1.\n",
      " 1.         1.         1.         1.         1.         1.\n",
      " 1.         1.         1.         1.         1.         1.\n",
      " 1.         1.         1.         1.         1.         1.\n",
      " 1.         1.         1.         1.         1.         1.\n",
      " 1.         1.         1.         1.         1.         1.\n",
      " 1.         1.         1.         1.         1.         1.\n",
      " 1.         1.         1.         1.         1.         1.\n",
      " 1.         1.         1.         1.         1.         1.\n",
      " 1.         1.         1.         1.         1.         1.\n",
      " 1.         1.         1.         1.         1.         1.\n",
      " 1.         1.         1.         1.         1.         1.\n",
      " 1.         1.         1.         1.         1.         1.\n",
      " 1.         1.         1.         1.         1.         1.\n",
      " 1.         1.         1.         1.         1.         1.\n",
      " 1.         1.         1.         1.         1.         1.\n",
      " 1.         1.         1.         1.         1.         1.\n",
      " 1.         1.         1.         1.         1.         1.        ]\n"
     ]
    },
    {
     "name": "stderr",
     "output_type": "stream",
     "text": [
      "\n",
      " 13%|█▎        | 19/150 [00:48<05:08,  2.36s/it]\u001b[A"
     ]
    },
    {
     "name": "stdout",
     "output_type": "stream",
     "text": [
      "[0.94088217 0.71910878 0.5953771  0.51834059 0.46553218 0.4266931\n",
      " 0.3968121  0.37320173 0.35425665 0.33891547 0.32641899 0.31619501\n",
      " 0.30779861 0.30087769 0.29515094 0.29039244 0.2864202  0.28308739\n",
      " 0.28027541 1.         1.         1.         1.         1.\n",
      " 1.         1.         1.         1.         1.         1.\n",
      " 1.         1.         1.         1.         1.         1.\n",
      " 1.         1.         1.         1.         1.         1.\n",
      " 1.         1.         1.         1.         1.         1.\n",
      " 1.         1.         1.         1.         1.         1.\n",
      " 1.         1.         1.         1.         1.         1.\n",
      " 1.         1.         1.         1.         1.         1.\n",
      " 1.         1.         1.         1.         1.         1.\n",
      " 1.         1.         1.         1.         1.         1.\n",
      " 1.         1.         1.         1.         1.         1.\n",
      " 1.         1.         1.         1.         1.         1.\n",
      " 1.         1.         1.         1.         1.         1.\n",
      " 1.         1.         1.         1.         1.         1.\n",
      " 1.         1.         1.         1.         1.         1.\n",
      " 1.         1.         1.         1.         1.         1.\n",
      " 1.         1.         1.         1.         1.         1.\n",
      " 1.         1.         1.         1.         1.         1.\n",
      " 1.         1.         1.         1.         1.         1.\n",
      " 1.         1.         1.         1.         1.         1.\n",
      " 1.         1.         1.         1.         1.         1.\n",
      " 1.         1.         1.         1.         1.         1.        ]\n"
     ]
    },
    {
     "name": "stderr",
     "output_type": "stream",
     "text": [
      "\n",
      " 13%|█▎        | 20/150 [00:50<05:04,  2.34s/it]\u001b[A"
     ]
    },
    {
     "name": "stdout",
     "output_type": "stream",
     "text": [
      "[0.94088217 0.71910878 0.5953771  0.51834059 0.46553218 0.4266931\n",
      " 0.3968121  0.37320173 0.35425665 0.33891547 0.32641899 0.31619501\n",
      " 0.30779861 0.30087769 0.29515094 0.29039244 0.2864202  0.28308739\n",
      " 0.28027541 0.27788837 1.         1.         1.         1.\n",
      " 1.         1.         1.         1.         1.         1.\n",
      " 1.         1.         1.         1.         1.         1.\n",
      " 1.         1.         1.         1.         1.         1.\n",
      " 1.         1.         1.         1.         1.         1.\n",
      " 1.         1.         1.         1.         1.         1.\n",
      " 1.         1.         1.         1.         1.         1.\n",
      " 1.         1.         1.         1.         1.         1.\n",
      " 1.         1.         1.         1.         1.         1.\n",
      " 1.         1.         1.         1.         1.         1.\n",
      " 1.         1.         1.         1.         1.         1.\n",
      " 1.         1.         1.         1.         1.         1.\n",
      " 1.         1.         1.         1.         1.         1.\n",
      " 1.         1.         1.         1.         1.         1.\n",
      " 1.         1.         1.         1.         1.         1.\n",
      " 1.         1.         1.         1.         1.         1.\n",
      " 1.         1.         1.         1.         1.         1.\n",
      " 1.         1.         1.         1.         1.         1.\n",
      " 1.         1.         1.         1.         1.         1.\n",
      " 1.         1.         1.         1.         1.         1.\n",
      " 1.         1.         1.         1.         1.         1.\n",
      " 1.         1.         1.         1.         1.         1.        ]\n"
     ]
    },
    {
     "name": "stderr",
     "output_type": "stream",
     "text": [
      "\n",
      " 14%|█▍        | 21/150 [00:53<05:01,  2.33s/it]\u001b[A"
     ]
    },
    {
     "name": "stdout",
     "output_type": "stream",
     "text": [
      "[0.94088217 0.71910878 0.5953771  0.51834059 0.46553218 0.4266931\n",
      " 0.3968121  0.37320173 0.35425665 0.33891547 0.32641899 0.31619501\n",
      " 0.30779861 0.30087769 0.29515094 0.29039244 0.2864202  0.28308739\n",
      " 0.28027541 0.27788837 0.27584869 1.         1.         1.\n",
      " 1.         1.         1.         1.         1.         1.\n",
      " 1.         1.         1.         1.         1.         1.\n",
      " 1.         1.         1.         1.         1.         1.\n",
      " 1.         1.         1.         1.         1.         1.\n",
      " 1.         1.         1.         1.         1.         1.\n",
      " 1.         1.         1.         1.         1.         1.\n",
      " 1.         1.         1.         1.         1.         1.\n",
      " 1.         1.         1.         1.         1.         1.\n",
      " 1.         1.         1.         1.         1.         1.\n",
      " 1.         1.         1.         1.         1.         1.\n",
      " 1.         1.         1.         1.         1.         1.\n",
      " 1.         1.         1.         1.         1.         1.\n",
      " 1.         1.         1.         1.         1.         1.\n",
      " 1.         1.         1.         1.         1.         1.\n",
      " 1.         1.         1.         1.         1.         1.\n",
      " 1.         1.         1.         1.         1.         1.\n",
      " 1.         1.         1.         1.         1.         1.\n",
      " 1.         1.         1.         1.         1.         1.\n",
      " 1.         1.         1.         1.         1.         1.\n",
      " 1.         1.         1.         1.         1.         1.\n",
      " 1.         1.         1.         1.         1.         1.        ]\n"
     ]
    },
    {
     "name": "stderr",
     "output_type": "stream",
     "text": [
      "\n",
      " 15%|█▍        | 22/150 [00:55<04:59,  2.34s/it]\u001b[A"
     ]
    },
    {
     "name": "stdout",
     "output_type": "stream",
     "text": [
      "[0.94088217 0.71910878 0.5953771  0.51834059 0.46553218 0.4266931\n",
      " 0.3968121  0.37320173 0.35425665 0.33891547 0.32641899 0.31619501\n",
      " 0.30779861 0.30087769 0.29515094 0.29039244 0.2864202  0.28308739\n",
      " 0.28027541 0.27788837 0.27584869 0.27409354 1.         1.\n",
      " 1.         1.         1.         1.         1.         1.\n",
      " 1.         1.         1.         1.         1.         1.\n",
      " 1.         1.         1.         1.         1.         1.\n",
      " 1.         1.         1.         1.         1.         1.\n",
      " 1.         1.         1.         1.         1.         1.\n",
      " 1.         1.         1.         1.         1.         1.\n",
      " 1.         1.         1.         1.         1.         1.\n",
      " 1.         1.         1.         1.         1.         1.\n",
      " 1.         1.         1.         1.         1.         1.\n",
      " 1.         1.         1.         1.         1.         1.\n",
      " 1.         1.         1.         1.         1.         1.\n",
      " 1.         1.         1.         1.         1.         1.\n",
      " 1.         1.         1.         1.         1.         1.\n",
      " 1.         1.         1.         1.         1.         1.\n",
      " 1.         1.         1.         1.         1.         1.\n",
      " 1.         1.         1.         1.         1.         1.\n",
      " 1.         1.         1.         1.         1.         1.\n",
      " 1.         1.         1.         1.         1.         1.\n",
      " 1.         1.         1.         1.         1.         1.\n",
      " 1.         1.         1.         1.         1.         1.\n",
      " 1.         1.         1.         1.         1.         1.        ]\n"
     ]
    },
    {
     "name": "stderr",
     "output_type": "stream",
     "text": [
      "\n",
      " 15%|█▌        | 23/150 [00:57<04:55,  2.33s/it]\u001b[A"
     ]
    },
    {
     "name": "stdout",
     "output_type": "stream",
     "text": [
      "[0.94088217 0.71910878 0.5953771  0.51834059 0.46553218 0.4266931\n",
      " 0.3968121  0.37320173 0.35425665 0.33891547 0.32641899 0.31619501\n",
      " 0.30779861 0.30087769 0.29515094 0.29039244 0.2864202  0.28308739\n",
      " 0.28027541 0.27788837 0.27584869 0.27409354 0.27257201 1.\n",
      " 1.         1.         1.         1.         1.         1.\n",
      " 1.         1.         1.         1.         1.         1.\n",
      " 1.         1.         1.         1.         1.         1.\n",
      " 1.         1.         1.         1.         1.         1.\n",
      " 1.         1.         1.         1.         1.         1.\n",
      " 1.         1.         1.         1.         1.         1.\n",
      " 1.         1.         1.         1.         1.         1.\n",
      " 1.         1.         1.         1.         1.         1.\n",
      " 1.         1.         1.         1.         1.         1.\n",
      " 1.         1.         1.         1.         1.         1.\n",
      " 1.         1.         1.         1.         1.         1.\n",
      " 1.         1.         1.         1.         1.         1.\n",
      " 1.         1.         1.         1.         1.         1.\n",
      " 1.         1.         1.         1.         1.         1.\n",
      " 1.         1.         1.         1.         1.         1.\n",
      " 1.         1.         1.         1.         1.         1.\n",
      " 1.         1.         1.         1.         1.         1.\n",
      " 1.         1.         1.         1.         1.         1.\n",
      " 1.         1.         1.         1.         1.         1.\n",
      " 1.         1.         1.         1.         1.         1.\n",
      " 1.         1.         1.         1.         1.         1.        ]\n"
     ]
    },
    {
     "name": "stderr",
     "output_type": "stream",
     "text": [
      "\n",
      " 16%|█▌        | 24/150 [01:00<04:53,  2.33s/it]\u001b[A"
     ]
    },
    {
     "name": "stdout",
     "output_type": "stream",
     "text": [
      "[0.94088217 0.71910878 0.5953771  0.51834059 0.46553218 0.4266931\n",
      " 0.3968121  0.37320173 0.35425665 0.33891547 0.32641899 0.31619501\n",
      " 0.30779861 0.30087769 0.29515094 0.29039244 0.2864202  0.28308739\n",
      " 0.28027541 0.27788837 0.27584869 0.27409354 0.27257201 0.2712428\n",
      " 1.         1.         1.         1.         1.         1.\n",
      " 1.         1.         1.         1.         1.         1.\n",
      " 1.         1.         1.         1.         1.         1.\n",
      " 1.         1.         1.         1.         1.         1.\n",
      " 1.         1.         1.         1.         1.         1.\n",
      " 1.         1.         1.         1.         1.         1.\n",
      " 1.         1.         1.         1.         1.         1.\n",
      " 1.         1.         1.         1.         1.         1.\n",
      " 1.         1.         1.         1.         1.         1.\n",
      " 1.         1.         1.         1.         1.         1.\n",
      " 1.         1.         1.         1.         1.         1.\n",
      " 1.         1.         1.         1.         1.         1.\n",
      " 1.         1.         1.         1.         1.         1.\n",
      " 1.         1.         1.         1.         1.         1.\n",
      " 1.         1.         1.         1.         1.         1.\n",
      " 1.         1.         1.         1.         1.         1.\n",
      " 1.         1.         1.         1.         1.         1.\n",
      " 1.         1.         1.         1.         1.         1.\n",
      " 1.         1.         1.         1.         1.         1.\n",
      " 1.         1.         1.         1.         1.         1.\n",
      " 1.         1.         1.         1.         1.         1.        ]\n"
     ]
    },
    {
     "name": "stderr",
     "output_type": "stream",
     "text": [
      "\n",
      " 17%|█▋        | 25/150 [01:02<04:50,  2.33s/it]\u001b[A"
     ]
    },
    {
     "name": "stdout",
     "output_type": "stream",
     "text": [
      "[0.94088217 0.71910878 0.5953771  0.51834059 0.46553218 0.4266931\n",
      " 0.3968121  0.37320173 0.35425665 0.33891547 0.32641899 0.31619501\n",
      " 0.30779861 0.30087769 0.29515094 0.29039244 0.2864202  0.28308739\n",
      " 0.28027541 0.27788837 0.27584869 0.27409354 0.27257201 0.2712428\n",
      " 0.27007237 1.         1.         1.         1.         1.\n",
      " 1.         1.         1.         1.         1.         1.\n",
      " 1.         1.         1.         1.         1.         1.\n",
      " 1.         1.         1.         1.         1.         1.\n",
      " 1.         1.         1.         1.         1.         1.\n",
      " 1.         1.         1.         1.         1.         1.\n",
      " 1.         1.         1.         1.         1.         1.\n",
      " 1.         1.         1.         1.         1.         1.\n",
      " 1.         1.         1.         1.         1.         1.\n",
      " 1.         1.         1.         1.         1.         1.\n",
      " 1.         1.         1.         1.         1.         1.\n",
      " 1.         1.         1.         1.         1.         1.\n",
      " 1.         1.         1.         1.         1.         1.\n",
      " 1.         1.         1.         1.         1.         1.\n",
      " 1.         1.         1.         1.         1.         1.\n",
      " 1.         1.         1.         1.         1.         1.\n",
      " 1.         1.         1.         1.         1.         1.\n",
      " 1.         1.         1.         1.         1.         1.\n",
      " 1.         1.         1.         1.         1.         1.\n",
      " 1.         1.         1.         1.         1.         1.\n",
      " 1.         1.         1.         1.         1.         1.        ]\n"
     ]
    },
    {
     "name": "stderr",
     "output_type": "stream",
     "text": [
      "\n",
      " 17%|█▋        | 26/150 [01:04<04:48,  2.33s/it]\u001b[A"
     ]
    },
    {
     "name": "stdout",
     "output_type": "stream",
     "text": [
      "[0.94088217 0.71910878 0.5953771  0.51834059 0.46553218 0.4266931\n",
      " 0.3968121  0.37320173 0.35425665 0.33891547 0.32641899 0.31619501\n",
      " 0.30779861 0.30087769 0.29515094 0.29039244 0.2864202  0.28308739\n",
      " 0.28027541 0.27788837 0.27584869 0.27409354 0.27257201 0.2712428\n",
      " 0.27007237 0.26903347 1.         1.         1.         1.\n",
      " 1.         1.         1.         1.         1.         1.\n",
      " 1.         1.         1.         1.         1.         1.\n",
      " 1.         1.         1.         1.         1.         1.\n",
      " 1.         1.         1.         1.         1.         1.\n",
      " 1.         1.         1.         1.         1.         1.\n",
      " 1.         1.         1.         1.         1.         1.\n",
      " 1.         1.         1.         1.         1.         1.\n",
      " 1.         1.         1.         1.         1.         1.\n",
      " 1.         1.         1.         1.         1.         1.\n",
      " 1.         1.         1.         1.         1.         1.\n",
      " 1.         1.         1.         1.         1.         1.\n",
      " 1.         1.         1.         1.         1.         1.\n",
      " 1.         1.         1.         1.         1.         1.\n",
      " 1.         1.         1.         1.         1.         1.\n",
      " 1.         1.         1.         1.         1.         1.\n",
      " 1.         1.         1.         1.         1.         1.\n",
      " 1.         1.         1.         1.         1.         1.\n",
      " 1.         1.         1.         1.         1.         1.\n",
      " 1.         1.         1.         1.         1.         1.\n",
      " 1.         1.         1.         1.         1.         1.        ]\n"
     ]
    },
    {
     "name": "stderr",
     "output_type": "stream",
     "text": [
      "\n",
      " 18%|█▊        | 27/150 [01:07<04:45,  2.32s/it]\u001b[A"
     ]
    },
    {
     "name": "stdout",
     "output_type": "stream",
     "text": [
      "[0.94088217 0.71910878 0.5953771  0.51834059 0.46553218 0.4266931\n",
      " 0.3968121  0.37320173 0.35425665 0.33891547 0.32641899 0.31619501\n",
      " 0.30779861 0.30087769 0.29515094 0.29039244 0.2864202  0.28308739\n",
      " 0.28027541 0.27788837 0.27584869 0.27409354 0.27257201 0.2712428\n",
      " 0.27007237 0.26903347 0.2681039  1.         1.         1.\n",
      " 1.         1.         1.         1.         1.         1.\n",
      " 1.         1.         1.         1.         1.         1.\n",
      " 1.         1.         1.         1.         1.         1.\n",
      " 1.         1.         1.         1.         1.         1.\n",
      " 1.         1.         1.         1.         1.         1.\n",
      " 1.         1.         1.         1.         1.         1.\n",
      " 1.         1.         1.         1.         1.         1.\n",
      " 1.         1.         1.         1.         1.         1.\n",
      " 1.         1.         1.         1.         1.         1.\n",
      " 1.         1.         1.         1.         1.         1.\n",
      " 1.         1.         1.         1.         1.         1.\n",
      " 1.         1.         1.         1.         1.         1.\n",
      " 1.         1.         1.         1.         1.         1.\n",
      " 1.         1.         1.         1.         1.         1.\n",
      " 1.         1.         1.         1.         1.         1.\n",
      " 1.         1.         1.         1.         1.         1.\n",
      " 1.         1.         1.         1.         1.         1.\n",
      " 1.         1.         1.         1.         1.         1.\n",
      " 1.         1.         1.         1.         1.         1.\n",
      " 1.         1.         1.         1.         1.         1.        ]\n"
     ]
    },
    {
     "name": "stderr",
     "output_type": "stream",
     "text": [
      "\n",
      " 19%|█▊        | 28/150 [01:09<04:49,  2.38s/it]\u001b[A"
     ]
    },
    {
     "name": "stdout",
     "output_type": "stream",
     "text": [
      "[0.94088217 0.71910878 0.5953771  0.51834059 0.46553218 0.4266931\n",
      " 0.3968121  0.37320173 0.35425665 0.33891547 0.32641899 0.31619501\n",
      " 0.30779861 0.30087769 0.29515094 0.29039244 0.2864202  0.28308739\n",
      " 0.28027541 0.27788837 0.27584869 0.27409354 0.27257201 0.2712428\n",
      " 0.27007237 0.26903347 0.2681039  0.26726558 1.         1.\n",
      " 1.         1.         1.         1.         1.         1.\n",
      " 1.         1.         1.         1.         1.         1.\n",
      " 1.         1.         1.         1.         1.         1.\n",
      " 1.         1.         1.         1.         1.         1.\n",
      " 1.         1.         1.         1.         1.         1.\n",
      " 1.         1.         1.         1.         1.         1.\n",
      " 1.         1.         1.         1.         1.         1.\n",
      " 1.         1.         1.         1.         1.         1.\n",
      " 1.         1.         1.         1.         1.         1.\n",
      " 1.         1.         1.         1.         1.         1.\n",
      " 1.         1.         1.         1.         1.         1.\n",
      " 1.         1.         1.         1.         1.         1.\n",
      " 1.         1.         1.         1.         1.         1.\n",
      " 1.         1.         1.         1.         1.         1.\n",
      " 1.         1.         1.         1.         1.         1.\n",
      " 1.         1.         1.         1.         1.         1.\n",
      " 1.         1.         1.         1.         1.         1.\n",
      " 1.         1.         1.         1.         1.         1.\n",
      " 1.         1.         1.         1.         1.         1.\n",
      " 1.         1.         1.         1.         1.         1.        ]\n"
     ]
    },
    {
     "name": "stderr",
     "output_type": "stream",
     "text": [
      "\n",
      " 19%|█▉        | 29/150 [01:12<04:45,  2.36s/it]\u001b[A"
     ]
    },
    {
     "name": "stdout",
     "output_type": "stream",
     "text": [
      "[0.94088217 0.71910878 0.5953771  0.51834059 0.46553218 0.4266931\n",
      " 0.3968121  0.37320173 0.35425665 0.33891547 0.32641899 0.31619501\n",
      " 0.30779861 0.30087769 0.29515094 0.29039244 0.2864202  0.28308739\n",
      " 0.28027541 0.27788837 0.27584869 0.27409354 0.27257201 0.2712428\n",
      " 0.27007237 0.26903347 0.2681039  0.26726558 0.26650374 1.\n",
      " 1.         1.         1.         1.         1.         1.\n",
      " 1.         1.         1.         1.         1.         1.\n",
      " 1.         1.         1.         1.         1.         1.\n",
      " 1.         1.         1.         1.         1.         1.\n",
      " 1.         1.         1.         1.         1.         1.\n",
      " 1.         1.         1.         1.         1.         1.\n",
      " 1.         1.         1.         1.         1.         1.\n",
      " 1.         1.         1.         1.         1.         1.\n",
      " 1.         1.         1.         1.         1.         1.\n",
      " 1.         1.         1.         1.         1.         1.\n",
      " 1.         1.         1.         1.         1.         1.\n",
      " 1.         1.         1.         1.         1.         1.\n",
      " 1.         1.         1.         1.         1.         1.\n",
      " 1.         1.         1.         1.         1.         1.\n",
      " 1.         1.         1.         1.         1.         1.\n",
      " 1.         1.         1.         1.         1.         1.\n",
      " 1.         1.         1.         1.         1.         1.\n",
      " 1.         1.         1.         1.         1.         1.\n",
      " 1.         1.         1.         1.         1.         1.\n",
      " 1.         1.         1.         1.         1.         1.        ]\n"
     ]
    },
    {
     "name": "stderr",
     "output_type": "stream",
     "text": [
      "\n",
      " 20%|██        | 30/150 [01:14<04:41,  2.35s/it]\u001b[A"
     ]
    },
    {
     "name": "stdout",
     "output_type": "stream",
     "text": [
      "[0.94088217 0.71910878 0.5953771  0.51834059 0.46553218 0.4266931\n",
      " 0.3968121  0.37320173 0.35425665 0.33891547 0.32641899 0.31619501\n",
      " 0.30779861 0.30087769 0.29515094 0.29039244 0.2864202  0.28308739\n",
      " 0.28027541 0.27788837 0.27584869 0.27409354 0.27257201 0.2712428\n",
      " 0.27007237 0.26903347 0.2681039  0.26726558 0.26650374 0.26580629\n",
      " 1.         1.         1.         1.         1.         1.\n",
      " 1.         1.         1.         1.         1.         1.\n",
      " 1.         1.         1.         1.         1.         1.\n",
      " 1.         1.         1.         1.         1.         1.\n",
      " 1.         1.         1.         1.         1.         1.\n",
      " 1.         1.         1.         1.         1.         1.\n",
      " 1.         1.         1.         1.         1.         1.\n",
      " 1.         1.         1.         1.         1.         1.\n",
      " 1.         1.         1.         1.         1.         1.\n",
      " 1.         1.         1.         1.         1.         1.\n",
      " 1.         1.         1.         1.         1.         1.\n",
      " 1.         1.         1.         1.         1.         1.\n",
      " 1.         1.         1.         1.         1.         1.\n",
      " 1.         1.         1.         1.         1.         1.\n",
      " 1.         1.         1.         1.         1.         1.\n",
      " 1.         1.         1.         1.         1.         1.\n",
      " 1.         1.         1.         1.         1.         1.\n",
      " 1.         1.         1.         1.         1.         1.\n",
      " 1.         1.         1.         1.         1.         1.\n",
      " 1.         1.         1.         1.         1.         1.        ]\n"
     ]
    },
    {
     "name": "stderr",
     "output_type": "stream",
     "text": [
      "\n",
      " 21%|██        | 31/150 [01:16<04:37,  2.33s/it]\u001b[A"
     ]
    },
    {
     "name": "stdout",
     "output_type": "stream",
     "text": [
      "[0.94088217 0.71910878 0.5953771  0.51834059 0.46553218 0.4266931\n",
      " 0.3968121  0.37320173 0.35425665 0.33891547 0.32641899 0.31619501\n",
      " 0.30779861 0.30087769 0.29515094 0.29039244 0.2864202  0.28308739\n",
      " 0.28027541 0.27788837 0.27584869 0.27409354 0.27257201 0.2712428\n",
      " 0.27007237 0.26903347 0.2681039  0.26726558 0.26650374 0.26580629\n",
      " 0.26516333 1.         1.         1.         1.         1.\n",
      " 1.         1.         1.         1.         1.         1.\n",
      " 1.         1.         1.         1.         1.         1.\n",
      " 1.         1.         1.         1.         1.         1.\n",
      " 1.         1.         1.         1.         1.         1.\n",
      " 1.         1.         1.         1.         1.         1.\n",
      " 1.         1.         1.         1.         1.         1.\n",
      " 1.         1.         1.         1.         1.         1.\n",
      " 1.         1.         1.         1.         1.         1.\n",
      " 1.         1.         1.         1.         1.         1.\n",
      " 1.         1.         1.         1.         1.         1.\n",
      " 1.         1.         1.         1.         1.         1.\n",
      " 1.         1.         1.         1.         1.         1.\n",
      " 1.         1.         1.         1.         1.         1.\n",
      " 1.         1.         1.         1.         1.         1.\n",
      " 1.         1.         1.         1.         1.         1.\n",
      " 1.         1.         1.         1.         1.         1.\n",
      " 1.         1.         1.         1.         1.         1.\n",
      " 1.         1.         1.         1.         1.         1.\n",
      " 1.         1.         1.         1.         1.         1.        ]\n"
     ]
    },
    {
     "name": "stderr",
     "output_type": "stream",
     "text": [
      "\n",
      " 21%|██▏       | 32/150 [01:18<04:35,  2.34s/it]\u001b[A"
     ]
    },
    {
     "name": "stdout",
     "output_type": "stream",
     "text": [
      "[0.94088217 0.71910878 0.5953771  0.51834059 0.46553218 0.4266931\n",
      " 0.3968121  0.37320173 0.35425665 0.33891547 0.32641899 0.31619501\n",
      " 0.30779861 0.30087769 0.29515094 0.29039244 0.2864202  0.28308739\n",
      " 0.28027541 0.27788837 0.27584869 0.27409354 0.27257201 0.2712428\n",
      " 0.27007237 0.26903347 0.2681039  0.26726558 0.26650374 0.26580629\n",
      " 0.26516333 0.26456673 1.         1.         1.         1.\n",
      " 1.         1.         1.         1.         1.         1.\n",
      " 1.         1.         1.         1.         1.         1.\n",
      " 1.         1.         1.         1.         1.         1.\n",
      " 1.         1.         1.         1.         1.         1.\n",
      " 1.         1.         1.         1.         1.         1.\n",
      " 1.         1.         1.         1.         1.         1.\n",
      " 1.         1.         1.         1.         1.         1.\n",
      " 1.         1.         1.         1.         1.         1.\n",
      " 1.         1.         1.         1.         1.         1.\n",
      " 1.         1.         1.         1.         1.         1.\n",
      " 1.         1.         1.         1.         1.         1.\n",
      " 1.         1.         1.         1.         1.         1.\n",
      " 1.         1.         1.         1.         1.         1.\n",
      " 1.         1.         1.         1.         1.         1.\n",
      " 1.         1.         1.         1.         1.         1.\n",
      " 1.         1.         1.         1.         1.         1.\n",
      " 1.         1.         1.         1.         1.         1.\n",
      " 1.         1.         1.         1.         1.         1.\n",
      " 1.         1.         1.         1.         1.         1.        ]\n"
     ]
    },
    {
     "name": "stderr",
     "output_type": "stream",
     "text": [
      "\n",
      " 22%|██▏       | 33/150 [01:21<04:36,  2.37s/it]\u001b[A"
     ]
    },
    {
     "name": "stdout",
     "output_type": "stream",
     "text": [
      "[0.94088217 0.71910878 0.5953771  0.51834059 0.46553218 0.4266931\n",
      " 0.3968121  0.37320173 0.35425665 0.33891547 0.32641899 0.31619501\n",
      " 0.30779861 0.30087769 0.29515094 0.29039244 0.2864202  0.28308739\n",
      " 0.28027541 0.27788837 0.27584869 0.27409354 0.27257201 0.2712428\n",
      " 0.27007237 0.26903347 0.2681039  0.26726558 0.26650374 0.26580629\n",
      " 0.26516333 0.26456673 0.26400977 1.         1.         1.\n",
      " 1.         1.         1.         1.         1.         1.\n",
      " 1.         1.         1.         1.         1.         1.\n",
      " 1.         1.         1.         1.         1.         1.\n",
      " 1.         1.         1.         1.         1.         1.\n",
      " 1.         1.         1.         1.         1.         1.\n",
      " 1.         1.         1.         1.         1.         1.\n",
      " 1.         1.         1.         1.         1.         1.\n",
      " 1.         1.         1.         1.         1.         1.\n",
      " 1.         1.         1.         1.         1.         1.\n",
      " 1.         1.         1.         1.         1.         1.\n",
      " 1.         1.         1.         1.         1.         1.\n",
      " 1.         1.         1.         1.         1.         1.\n",
      " 1.         1.         1.         1.         1.         1.\n",
      " 1.         1.         1.         1.         1.         1.\n",
      " 1.         1.         1.         1.         1.         1.\n",
      " 1.         1.         1.         1.         1.         1.\n",
      " 1.         1.         1.         1.         1.         1.\n",
      " 1.         1.         1.         1.         1.         1.\n",
      " 1.         1.         1.         1.         1.         1.        ]\n"
     ]
    },
    {
     "name": "stderr",
     "output_type": "stream",
     "text": [
      "\n",
      " 23%|██▎       | 34/150 [01:23<04:32,  2.35s/it]\u001b[A"
     ]
    },
    {
     "name": "stdout",
     "output_type": "stream",
     "text": [
      "[0.94088217 0.71910878 0.5953771  0.51834059 0.46553218 0.4266931\n",
      " 0.3968121  0.37320173 0.35425665 0.33891547 0.32641899 0.31619501\n",
      " 0.30779861 0.30087769 0.29515094 0.29039244 0.2864202  0.28308739\n",
      " 0.28027541 0.27788837 0.27584869 0.27409354 0.27257201 0.2712428\n",
      " 0.27007237 0.26903347 0.2681039  0.26726558 0.26650374 0.26580629\n",
      " 0.26516333 0.26456673 0.26400977 0.26348692 1.         1.\n",
      " 1.         1.         1.         1.         1.         1.\n",
      " 1.         1.         1.         1.         1.         1.\n",
      " 1.         1.         1.         1.         1.         1.\n",
      " 1.         1.         1.         1.         1.         1.\n",
      " 1.         1.         1.         1.         1.         1.\n",
      " 1.         1.         1.         1.         1.         1.\n",
      " 1.         1.         1.         1.         1.         1.\n",
      " 1.         1.         1.         1.         1.         1.\n",
      " 1.         1.         1.         1.         1.         1.\n",
      " 1.         1.         1.         1.         1.         1.\n",
      " 1.         1.         1.         1.         1.         1.\n",
      " 1.         1.         1.         1.         1.         1.\n",
      " 1.         1.         1.         1.         1.         1.\n",
      " 1.         1.         1.         1.         1.         1.\n",
      " 1.         1.         1.         1.         1.         1.\n",
      " 1.         1.         1.         1.         1.         1.\n",
      " 1.         1.         1.         1.         1.         1.\n",
      " 1.         1.         1.         1.         1.         1.\n",
      " 1.         1.         1.         1.         1.         1.        ]\n"
     ]
    },
    {
     "name": "stderr",
     "output_type": "stream",
     "text": [
      "\n",
      " 23%|██▎       | 35/150 [01:26<04:40,  2.44s/it]\u001b[A"
     ]
    },
    {
     "name": "stdout",
     "output_type": "stream",
     "text": [
      "[0.94088217 0.71910878 0.5953771  0.51834059 0.46553218 0.4266931\n",
      " 0.3968121  0.37320173 0.35425665 0.33891547 0.32641899 0.31619501\n",
      " 0.30779861 0.30087769 0.29515094 0.29039244 0.2864202  0.28308739\n",
      " 0.28027541 0.27788837 0.27584869 0.27409354 0.27257201 0.2712428\n",
      " 0.27007237 0.26903347 0.2681039  0.26726558 0.26650374 0.26580629\n",
      " 0.26516333 0.26456673 0.26400977 0.26348692 0.2629936  1.\n",
      " 1.         1.         1.         1.         1.         1.\n",
      " 1.         1.         1.         1.         1.         1.\n",
      " 1.         1.         1.         1.         1.         1.\n",
      " 1.         1.         1.         1.         1.         1.\n",
      " 1.         1.         1.         1.         1.         1.\n",
      " 1.         1.         1.         1.         1.         1.\n",
      " 1.         1.         1.         1.         1.         1.\n",
      " 1.         1.         1.         1.         1.         1.\n",
      " 1.         1.         1.         1.         1.         1.\n",
      " 1.         1.         1.         1.         1.         1.\n",
      " 1.         1.         1.         1.         1.         1.\n",
      " 1.         1.         1.         1.         1.         1.\n",
      " 1.         1.         1.         1.         1.         1.\n",
      " 1.         1.         1.         1.         1.         1.\n",
      " 1.         1.         1.         1.         1.         1.\n",
      " 1.         1.         1.         1.         1.         1.\n",
      " 1.         1.         1.         1.         1.         1.\n",
      " 1.         1.         1.         1.         1.         1.\n",
      " 1.         1.         1.         1.         1.         1.        ]\n"
     ]
    },
    {
     "name": "stderr",
     "output_type": "stream",
     "text": [
      "\n",
      " 24%|██▍       | 36/150 [01:28<04:40,  2.46s/it]\u001b[A"
     ]
    },
    {
     "name": "stdout",
     "output_type": "stream",
     "text": [
      "[0.94088217 0.71910878 0.5953771  0.51834059 0.46553218 0.4266931\n",
      " 0.3968121  0.37320173 0.35425665 0.33891547 0.32641899 0.31619501\n",
      " 0.30779861 0.30087769 0.29515094 0.29039244 0.2864202  0.28308739\n",
      " 0.28027541 0.27788837 0.27584869 0.27409354 0.27257201 0.2712428\n",
      " 0.27007237 0.26903347 0.2681039  0.26726558 0.26650374 0.26580629\n",
      " 0.26516333 0.26456673 0.26400977 0.26348692 0.2629936  0.26252597\n",
      " 1.         1.         1.         1.         1.         1.\n",
      " 1.         1.         1.         1.         1.         1.\n",
      " 1.         1.         1.         1.         1.         1.\n",
      " 1.         1.         1.         1.         1.         1.\n",
      " 1.         1.         1.         1.         1.         1.\n",
      " 1.         1.         1.         1.         1.         1.\n",
      " 1.         1.         1.         1.         1.         1.\n",
      " 1.         1.         1.         1.         1.         1.\n",
      " 1.         1.         1.         1.         1.         1.\n",
      " 1.         1.         1.         1.         1.         1.\n",
      " 1.         1.         1.         1.         1.         1.\n",
      " 1.         1.         1.         1.         1.         1.\n",
      " 1.         1.         1.         1.         1.         1.\n",
      " 1.         1.         1.         1.         1.         1.\n",
      " 1.         1.         1.         1.         1.         1.\n",
      " 1.         1.         1.         1.         1.         1.\n",
      " 1.         1.         1.         1.         1.         1.\n",
      " 1.         1.         1.         1.         1.         1.\n",
      " 1.         1.         1.         1.         1.         1.        ]\n"
     ]
    },
    {
     "name": "stderr",
     "output_type": "stream",
     "text": [
      "\n",
      " 25%|██▍       | 37/150 [01:31<04:33,  2.42s/it]\u001b[A"
     ]
    },
    {
     "name": "stdout",
     "output_type": "stream",
     "text": [
      "[0.94088217 0.71910878 0.5953771  0.51834059 0.46553218 0.4266931\n",
      " 0.3968121  0.37320173 0.35425665 0.33891547 0.32641899 0.31619501\n",
      " 0.30779861 0.30087769 0.29515094 0.29039244 0.2864202  0.28308739\n",
      " 0.28027541 0.27788837 0.27584869 0.27409354 0.27257201 0.2712428\n",
      " 0.27007237 0.26903347 0.2681039  0.26726558 0.26650374 0.26580629\n",
      " 0.26516333 0.26456673 0.26400977 0.26348692 0.2629936  0.26252597\n",
      " 0.26208087 1.         1.         1.         1.         1.\n",
      " 1.         1.         1.         1.         1.         1.\n",
      " 1.         1.         1.         1.         1.         1.\n",
      " 1.         1.         1.         1.         1.         1.\n",
      " 1.         1.         1.         1.         1.         1.\n",
      " 1.         1.         1.         1.         1.         1.\n",
      " 1.         1.         1.         1.         1.         1.\n",
      " 1.         1.         1.         1.         1.         1.\n",
      " 1.         1.         1.         1.         1.         1.\n",
      " 1.         1.         1.         1.         1.         1.\n",
      " 1.         1.         1.         1.         1.         1.\n",
      " 1.         1.         1.         1.         1.         1.\n",
      " 1.         1.         1.         1.         1.         1.\n",
      " 1.         1.         1.         1.         1.         1.\n",
      " 1.         1.         1.         1.         1.         1.\n",
      " 1.         1.         1.         1.         1.         1.\n",
      " 1.         1.         1.         1.         1.         1.\n",
      " 1.         1.         1.         1.         1.         1.\n",
      " 1.         1.         1.         1.         1.         1.        ]\n"
     ]
    },
    {
     "name": "stderr",
     "output_type": "stream",
     "text": [
      "\n",
      " 25%|██▌       | 38/150 [01:33<04:27,  2.39s/it]\u001b[A"
     ]
    },
    {
     "name": "stdout",
     "output_type": "stream",
     "text": [
      "[0.94088217 0.71910878 0.5953771  0.51834059 0.46553218 0.4266931\n",
      " 0.3968121  0.37320173 0.35425665 0.33891547 0.32641899 0.31619501\n",
      " 0.30779861 0.30087769 0.29515094 0.29039244 0.2864202  0.28308739\n",
      " 0.28027541 0.27788837 0.27584869 0.27409354 0.27257201 0.2712428\n",
      " 0.27007237 0.26903347 0.2681039  0.26726558 0.26650374 0.26580629\n",
      " 0.26516333 0.26456673 0.26400977 0.26348692 0.2629936  0.26252597\n",
      " 0.26208087 0.26165561 1.         1.         1.         1.\n",
      " 1.         1.         1.         1.         1.         1.\n",
      " 1.         1.         1.         1.         1.         1.\n",
      " 1.         1.         1.         1.         1.         1.\n",
      " 1.         1.         1.         1.         1.         1.\n",
      " 1.         1.         1.         1.         1.         1.\n",
      " 1.         1.         1.         1.         1.         1.\n",
      " 1.         1.         1.         1.         1.         1.\n",
      " 1.         1.         1.         1.         1.         1.\n",
      " 1.         1.         1.         1.         1.         1.\n",
      " 1.         1.         1.         1.         1.         1.\n",
      " 1.         1.         1.         1.         1.         1.\n",
      " 1.         1.         1.         1.         1.         1.\n",
      " 1.         1.         1.         1.         1.         1.\n",
      " 1.         1.         1.         1.         1.         1.\n",
      " 1.         1.         1.         1.         1.         1.\n",
      " 1.         1.         1.         1.         1.         1.\n",
      " 1.         1.         1.         1.         1.         1.\n",
      " 1.         1.         1.         1.         1.         1.        ]\n"
     ]
    },
    {
     "name": "stderr",
     "output_type": "stream",
     "text": [
      "\n",
      " 26%|██▌       | 39/150 [01:35<04:22,  2.36s/it]\u001b[A"
     ]
    },
    {
     "name": "stdout",
     "output_type": "stream",
     "text": [
      "[0.94088217 0.71910878 0.5953771  0.51834059 0.46553218 0.4266931\n",
      " 0.3968121  0.37320173 0.35425665 0.33891547 0.32641899 0.31619501\n",
      " 0.30779861 0.30087769 0.29515094 0.29039244 0.2864202  0.28308739\n",
      " 0.28027541 0.27788837 0.27584869 0.27409354 0.27257201 0.2712428\n",
      " 0.27007237 0.26903347 0.2681039  0.26726558 0.26650374 0.26580629\n",
      " 0.26516333 0.26456673 0.26400977 0.26348692 0.2629936  0.26252597\n",
      " 0.26208087 0.26165561 0.26124795 1.         1.         1.\n",
      " 1.         1.         1.         1.         1.         1.\n",
      " 1.         1.         1.         1.         1.         1.\n",
      " 1.         1.         1.         1.         1.         1.\n",
      " 1.         1.         1.         1.         1.         1.\n",
      " 1.         1.         1.         1.         1.         1.\n",
      " 1.         1.         1.         1.         1.         1.\n",
      " 1.         1.         1.         1.         1.         1.\n",
      " 1.         1.         1.         1.         1.         1.\n",
      " 1.         1.         1.         1.         1.         1.\n",
      " 1.         1.         1.         1.         1.         1.\n",
      " 1.         1.         1.         1.         1.         1.\n",
      " 1.         1.         1.         1.         1.         1.\n",
      " 1.         1.         1.         1.         1.         1.\n",
      " 1.         1.         1.         1.         1.         1.\n",
      " 1.         1.         1.         1.         1.         1.\n",
      " 1.         1.         1.         1.         1.         1.\n",
      " 1.         1.         1.         1.         1.         1.\n",
      " 1.         1.         1.         1.         1.         1.        ]\n"
     ]
    },
    {
     "name": "stderr",
     "output_type": "stream",
     "text": [
      "\n",
      " 27%|██▋       | 40/150 [01:38<04:19,  2.35s/it]\u001b[A"
     ]
    },
    {
     "name": "stdout",
     "output_type": "stream",
     "text": [
      "[0.94088217 0.71910878 0.5953771  0.51834059 0.46553218 0.4266931\n",
      " 0.3968121  0.37320173 0.35425665 0.33891547 0.32641899 0.31619501\n",
      " 0.30779861 0.30087769 0.29515094 0.29039244 0.2864202  0.28308739\n",
      " 0.28027541 0.27788837 0.27584869 0.27409354 0.27257201 0.2712428\n",
      " 0.27007237 0.26903347 0.2681039  0.26726558 0.26650374 0.26580629\n",
      " 0.26516333 0.26456673 0.26400977 0.26348692 0.2629936  0.26252597\n",
      " 0.26208087 0.26165561 0.26124795 0.26085599 1.         1.\n",
      " 1.         1.         1.         1.         1.         1.\n",
      " 1.         1.         1.         1.         1.         1.\n",
      " 1.         1.         1.         1.         1.         1.\n",
      " 1.         1.         1.         1.         1.         1.\n",
      " 1.         1.         1.         1.         1.         1.\n",
      " 1.         1.         1.         1.         1.         1.\n",
      " 1.         1.         1.         1.         1.         1.\n",
      " 1.         1.         1.         1.         1.         1.\n",
      " 1.         1.         1.         1.         1.         1.\n",
      " 1.         1.         1.         1.         1.         1.\n",
      " 1.         1.         1.         1.         1.         1.\n",
      " 1.         1.         1.         1.         1.         1.\n",
      " 1.         1.         1.         1.         1.         1.\n",
      " 1.         1.         1.         1.         1.         1.\n",
      " 1.         1.         1.         1.         1.         1.\n",
      " 1.         1.         1.         1.         1.         1.\n",
      " 1.         1.         1.         1.         1.         1.\n",
      " 1.         1.         1.         1.         1.         1.        ]\n"
     ]
    },
    {
     "name": "stderr",
     "output_type": "stream",
     "text": [
      "\n",
      " 27%|██▋       | 41/150 [01:40<04:14,  2.34s/it]\u001b[A"
     ]
    },
    {
     "name": "stdout",
     "output_type": "stream",
     "text": [
      "[0.94088217 0.71910878 0.5953771  0.51834059 0.46553218 0.4266931\n",
      " 0.3968121  0.37320173 0.35425665 0.33891547 0.32641899 0.31619501\n",
      " 0.30779861 0.30087769 0.29515094 0.29039244 0.2864202  0.28308739\n",
      " 0.28027541 0.27788837 0.27584869 0.27409354 0.27257201 0.2712428\n",
      " 0.27007237 0.26903347 0.2681039  0.26726558 0.26650374 0.26580629\n",
      " 0.26516333 0.26456673 0.26400977 0.26348692 0.2629936  0.26252597\n",
      " 0.26208087 0.26165561 0.26124795 0.26085599 0.26047811 1.\n",
      " 1.         1.         1.         1.         1.         1.\n",
      " 1.         1.         1.         1.         1.         1.\n",
      " 1.         1.         1.         1.         1.         1.\n",
      " 1.         1.         1.         1.         1.         1.\n",
      " 1.         1.         1.         1.         1.         1.\n",
      " 1.         1.         1.         1.         1.         1.\n",
      " 1.         1.         1.         1.         1.         1.\n",
      " 1.         1.         1.         1.         1.         1.\n",
      " 1.         1.         1.         1.         1.         1.\n",
      " 1.         1.         1.         1.         1.         1.\n",
      " 1.         1.         1.         1.         1.         1.\n",
      " 1.         1.         1.         1.         1.         1.\n",
      " 1.         1.         1.         1.         1.         1.\n",
      " 1.         1.         1.         1.         1.         1.\n",
      " 1.         1.         1.         1.         1.         1.\n",
      " 1.         1.         1.         1.         1.         1.\n",
      " 1.         1.         1.         1.         1.         1.\n",
      " 1.         1.         1.         1.         1.         1.        ]\n"
     ]
    },
    {
     "name": "stderr",
     "output_type": "stream",
     "text": [
      "\n",
      " 28%|██▊       | 42/150 [01:42<04:11,  2.33s/it]\u001b[A"
     ]
    },
    {
     "name": "stdout",
     "output_type": "stream",
     "text": [
      "[0.94088217 0.71910878 0.5953771  0.51834059 0.46553218 0.4266931\n",
      " 0.3968121  0.37320173 0.35425665 0.33891547 0.32641899 0.31619501\n",
      " 0.30779861 0.30087769 0.29515094 0.29039244 0.2864202  0.28308739\n",
      " 0.28027541 0.27788837 0.27584869 0.27409354 0.27257201 0.2712428\n",
      " 0.27007237 0.26903347 0.2681039  0.26726558 0.26650374 0.26580629\n",
      " 0.26516333 0.26456673 0.26400977 0.26348692 0.2629936  0.26252597\n",
      " 0.26208087 0.26165561 0.26124795 0.26085599 0.26047811 0.26011294\n",
      " 1.         1.         1.         1.         1.         1.\n",
      " 1.         1.         1.         1.         1.         1.\n",
      " 1.         1.         1.         1.         1.         1.\n",
      " 1.         1.         1.         1.         1.         1.\n",
      " 1.         1.         1.         1.         1.         1.\n",
      " 1.         1.         1.         1.         1.         1.\n",
      " 1.         1.         1.         1.         1.         1.\n",
      " 1.         1.         1.         1.         1.         1.\n",
      " 1.         1.         1.         1.         1.         1.\n",
      " 1.         1.         1.         1.         1.         1.\n",
      " 1.         1.         1.         1.         1.         1.\n",
      " 1.         1.         1.         1.         1.         1.\n",
      " 1.         1.         1.         1.         1.         1.\n",
      " 1.         1.         1.         1.         1.         1.\n",
      " 1.         1.         1.         1.         1.         1.\n",
      " 1.         1.         1.         1.         1.         1.\n",
      " 1.         1.         1.         1.         1.         1.\n",
      " 1.         1.         1.         1.         1.         1.        ]\n"
     ]
    },
    {
     "name": "stderr",
     "output_type": "stream",
     "text": [
      "\n",
      " 29%|██▊       | 43/150 [01:45<04:08,  2.32s/it]\u001b[A"
     ]
    },
    {
     "name": "stdout",
     "output_type": "stream",
     "text": [
      "[0.94088217 0.71910878 0.5953771  0.51834059 0.46553218 0.4266931\n",
      " 0.3968121  0.37320173 0.35425665 0.33891547 0.32641899 0.31619501\n",
      " 0.30779861 0.30087769 0.29515094 0.29039244 0.2864202  0.28308739\n",
      " 0.28027541 0.27788837 0.27584869 0.27409354 0.27257201 0.2712428\n",
      " 0.27007237 0.26903347 0.2681039  0.26726558 0.26650374 0.26580629\n",
      " 0.26516333 0.26456673 0.26400977 0.26348692 0.2629936  0.26252597\n",
      " 0.26208087 0.26165561 0.26124795 0.26085599 0.26047811 0.26011294\n",
      " 0.25975929 1.         1.         1.         1.         1.\n",
      " 1.         1.         1.         1.         1.         1.\n",
      " 1.         1.         1.         1.         1.         1.\n",
      " 1.         1.         1.         1.         1.         1.\n",
      " 1.         1.         1.         1.         1.         1.\n",
      " 1.         1.         1.         1.         1.         1.\n",
      " 1.         1.         1.         1.         1.         1.\n",
      " 1.         1.         1.         1.         1.         1.\n",
      " 1.         1.         1.         1.         1.         1.\n",
      " 1.         1.         1.         1.         1.         1.\n",
      " 1.         1.         1.         1.         1.         1.\n",
      " 1.         1.         1.         1.         1.         1.\n",
      " 1.         1.         1.         1.         1.         1.\n",
      " 1.         1.         1.         1.         1.         1.\n",
      " 1.         1.         1.         1.         1.         1.\n",
      " 1.         1.         1.         1.         1.         1.\n",
      " 1.         1.         1.         1.         1.         1.\n",
      " 1.         1.         1.         1.         1.         1.        ]\n"
     ]
    },
    {
     "name": "stderr",
     "output_type": "stream",
     "text": [
      "\n",
      " 29%|██▉       | 44/150 [01:47<04:07,  2.34s/it]\u001b[A"
     ]
    },
    {
     "name": "stdout",
     "output_type": "stream",
     "text": [
      "[0.94088217 0.71910878 0.5953771  0.51834059 0.46553218 0.4266931\n",
      " 0.3968121  0.37320173 0.35425665 0.33891547 0.32641899 0.31619501\n",
      " 0.30779861 0.30087769 0.29515094 0.29039244 0.2864202  0.28308739\n",
      " 0.28027541 0.27788837 0.27584869 0.27409354 0.27257201 0.2712428\n",
      " 0.27007237 0.26903347 0.2681039  0.26726558 0.26650374 0.26580629\n",
      " 0.26516333 0.26456673 0.26400977 0.26348692 0.2629936  0.26252597\n",
      " 0.26208087 0.26165561 0.26124795 0.26085599 0.26047811 0.26011294\n",
      " 0.25975929 0.25941614 1.         1.         1.         1.\n",
      " 1.         1.         1.         1.         1.         1.\n",
      " 1.         1.         1.         1.         1.         1.\n",
      " 1.         1.         1.         1.         1.         1.\n",
      " 1.         1.         1.         1.         1.         1.\n",
      " 1.         1.         1.         1.         1.         1.\n",
      " 1.         1.         1.         1.         1.         1.\n",
      " 1.         1.         1.         1.         1.         1.\n",
      " 1.         1.         1.         1.         1.         1.\n",
      " 1.         1.         1.         1.         1.         1.\n",
      " 1.         1.         1.         1.         1.         1.\n",
      " 1.         1.         1.         1.         1.         1.\n",
      " 1.         1.         1.         1.         1.         1.\n",
      " 1.         1.         1.         1.         1.         1.\n",
      " 1.         1.         1.         1.         1.         1.\n",
      " 1.         1.         1.         1.         1.         1.\n",
      " 1.         1.         1.         1.         1.         1.\n",
      " 1.         1.         1.         1.         1.         1.        ]\n"
     ]
    },
    {
     "name": "stderr",
     "output_type": "stream",
     "text": [
      "\n",
      " 30%|███       | 45/150 [01:49<04:05,  2.34s/it]\u001b[A"
     ]
    },
    {
     "name": "stdout",
     "output_type": "stream",
     "text": [
      "[0.94088217 0.71910878 0.5953771  0.51834059 0.46553218 0.4266931\n",
      " 0.3968121  0.37320173 0.35425665 0.33891547 0.32641899 0.31619501\n",
      " 0.30779861 0.30087769 0.29515094 0.29039244 0.2864202  0.28308739\n",
      " 0.28027541 0.27788837 0.27584869 0.27409354 0.27257201 0.2712428\n",
      " 0.27007237 0.26903347 0.2681039  0.26726558 0.26650374 0.26580629\n",
      " 0.26516333 0.26456673 0.26400977 0.26348692 0.2629936  0.26252597\n",
      " 0.26208087 0.26165561 0.26124795 0.26085599 0.26047811 0.26011294\n",
      " 0.25975929 0.25941614 0.25908261 1.         1.         1.\n",
      " 1.         1.         1.         1.         1.         1.\n",
      " 1.         1.         1.         1.         1.         1.\n",
      " 1.         1.         1.         1.         1.         1.\n",
      " 1.         1.         1.         1.         1.         1.\n",
      " 1.         1.         1.         1.         1.         1.\n",
      " 1.         1.         1.         1.         1.         1.\n",
      " 1.         1.         1.         1.         1.         1.\n",
      " 1.         1.         1.         1.         1.         1.\n",
      " 1.         1.         1.         1.         1.         1.\n",
      " 1.         1.         1.         1.         1.         1.\n",
      " 1.         1.         1.         1.         1.         1.\n",
      " 1.         1.         1.         1.         1.         1.\n",
      " 1.         1.         1.         1.         1.         1.\n",
      " 1.         1.         1.         1.         1.         1.\n",
      " 1.         1.         1.         1.         1.         1.\n",
      " 1.         1.         1.         1.         1.         1.\n",
      " 1.         1.         1.         1.         1.         1.        ]\n"
     ]
    },
    {
     "name": "stderr",
     "output_type": "stream",
     "text": [
      "\n",
      " 31%|███       | 46/150 [01:52<04:02,  2.33s/it]\u001b[A"
     ]
    },
    {
     "name": "stdout",
     "output_type": "stream",
     "text": [
      "[0.94088217 0.71910878 0.5953771  0.51834059 0.46553218 0.4266931\n",
      " 0.3968121  0.37320173 0.35425665 0.33891547 0.32641899 0.31619501\n",
      " 0.30779861 0.30087769 0.29515094 0.29039244 0.2864202  0.28308739\n",
      " 0.28027541 0.27788837 0.27584869 0.27409354 0.27257201 0.2712428\n",
      " 0.27007237 0.26903347 0.2681039  0.26726558 0.26650374 0.26580629\n",
      " 0.26516333 0.26456673 0.26400977 0.26348692 0.2629936  0.26252597\n",
      " 0.26208087 0.26165561 0.26124795 0.26085599 0.26047811 0.26011294\n",
      " 0.25975929 0.25941614 0.25908261 0.25875791 1.         1.\n",
      " 1.         1.         1.         1.         1.         1.\n",
      " 1.         1.         1.         1.         1.         1.\n",
      " 1.         1.         1.         1.         1.         1.\n",
      " 1.         1.         1.         1.         1.         1.\n",
      " 1.         1.         1.         1.         1.         1.\n",
      " 1.         1.         1.         1.         1.         1.\n",
      " 1.         1.         1.         1.         1.         1.\n",
      " 1.         1.         1.         1.         1.         1.\n",
      " 1.         1.         1.         1.         1.         1.\n",
      " 1.         1.         1.         1.         1.         1.\n",
      " 1.         1.         1.         1.         1.         1.\n",
      " 1.         1.         1.         1.         1.         1.\n",
      " 1.         1.         1.         1.         1.         1.\n",
      " 1.         1.         1.         1.         1.         1.\n",
      " 1.         1.         1.         1.         1.         1.\n",
      " 1.         1.         1.         1.         1.         1.\n",
      " 1.         1.         1.         1.         1.         1.        ]\n"
     ]
    },
    {
     "name": "stderr",
     "output_type": "stream",
     "text": [
      "\n",
      " 31%|███▏      | 47/150 [01:54<03:59,  2.33s/it]\u001b[A"
     ]
    },
    {
     "name": "stdout",
     "output_type": "stream",
     "text": [
      "[0.94088217 0.71910878 0.5953771  0.51834059 0.46553218 0.4266931\n",
      " 0.3968121  0.37320173 0.35425665 0.33891547 0.32641899 0.31619501\n",
      " 0.30779861 0.30087769 0.29515094 0.29039244 0.2864202  0.28308739\n",
      " 0.28027541 0.27788837 0.27584869 0.27409354 0.27257201 0.2712428\n",
      " 0.27007237 0.26903347 0.2681039  0.26726558 0.26650374 0.26580629\n",
      " 0.26516333 0.26456673 0.26400977 0.26348692 0.2629936  0.26252597\n",
      " 0.26208087 0.26165561 0.26124795 0.26085599 0.26047811 0.26011294\n",
      " 0.25975929 0.25941614 0.25908261 0.25875791 0.25844137 1.\n",
      " 1.         1.         1.         1.         1.         1.\n",
      " 1.         1.         1.         1.         1.         1.\n",
      " 1.         1.         1.         1.         1.         1.\n",
      " 1.         1.         1.         1.         1.         1.\n",
      " 1.         1.         1.         1.         1.         1.\n",
      " 1.         1.         1.         1.         1.         1.\n",
      " 1.         1.         1.         1.         1.         1.\n",
      " 1.         1.         1.         1.         1.         1.\n",
      " 1.         1.         1.         1.         1.         1.\n",
      " 1.         1.         1.         1.         1.         1.\n",
      " 1.         1.         1.         1.         1.         1.\n",
      " 1.         1.         1.         1.         1.         1.\n",
      " 1.         1.         1.         1.         1.         1.\n",
      " 1.         1.         1.         1.         1.         1.\n",
      " 1.         1.         1.         1.         1.         1.\n",
      " 1.         1.         1.         1.         1.         1.\n",
      " 1.         1.         1.         1.         1.         1.        ]\n"
     ]
    },
    {
     "name": "stderr",
     "output_type": "stream",
     "text": [
      "\n",
      " 32%|███▏      | 48/150 [01:56<03:57,  2.33s/it]\u001b[A"
     ]
    },
    {
     "name": "stdout",
     "output_type": "stream",
     "text": [
      "[0.94088217 0.71910878 0.5953771  0.51834059 0.46553218 0.4266931\n",
      " 0.3968121  0.37320173 0.35425665 0.33891547 0.32641899 0.31619501\n",
      " 0.30779861 0.30087769 0.29515094 0.29039244 0.2864202  0.28308739\n",
      " 0.28027541 0.27788837 0.27584869 0.27409354 0.27257201 0.2712428\n",
      " 0.27007237 0.26903347 0.2681039  0.26726558 0.26650374 0.26580629\n",
      " 0.26516333 0.26456673 0.26400977 0.26348692 0.2629936  0.26252597\n",
      " 0.26208087 0.26165561 0.26124795 0.26085599 0.26047811 0.26011294\n",
      " 0.25975929 0.25941614 0.25908261 0.25875791 0.25844137 0.2581324\n",
      " 1.         1.         1.         1.         1.         1.\n",
      " 1.         1.         1.         1.         1.         1.\n",
      " 1.         1.         1.         1.         1.         1.\n",
      " 1.         1.         1.         1.         1.         1.\n",
      " 1.         1.         1.         1.         1.         1.\n",
      " 1.         1.         1.         1.         1.         1.\n",
      " 1.         1.         1.         1.         1.         1.\n",
      " 1.         1.         1.         1.         1.         1.\n",
      " 1.         1.         1.         1.         1.         1.\n",
      " 1.         1.         1.         1.         1.         1.\n",
      " 1.         1.         1.         1.         1.         1.\n",
      " 1.         1.         1.         1.         1.         1.\n",
      " 1.         1.         1.         1.         1.         1.\n",
      " 1.         1.         1.         1.         1.         1.\n",
      " 1.         1.         1.         1.         1.         1.\n",
      " 1.         1.         1.         1.         1.         1.\n",
      " 1.         1.         1.         1.         1.         1.        ]\n"
     ]
    },
    {
     "name": "stderr",
     "output_type": "stream",
     "text": [
      "\n",
      " 33%|███▎      | 49/150 [01:59<03:53,  2.32s/it]\u001b[A"
     ]
    },
    {
     "name": "stdout",
     "output_type": "stream",
     "text": [
      "[0.94088217 0.71910878 0.5953771  0.51834059 0.46553218 0.4266931\n",
      " 0.3968121  0.37320173 0.35425665 0.33891547 0.32641899 0.31619501\n",
      " 0.30779861 0.30087769 0.29515094 0.29039244 0.2864202  0.28308739\n",
      " 0.28027541 0.27788837 0.27584869 0.27409354 0.27257201 0.2712428\n",
      " 0.27007237 0.26903347 0.2681039  0.26726558 0.26650374 0.26580629\n",
      " 0.26516333 0.26456673 0.26400977 0.26348692 0.2629936  0.26252597\n",
      " 0.26208087 0.26165561 0.26124795 0.26085599 0.26047811 0.26011294\n",
      " 0.25975929 0.25941614 0.25908261 0.25875791 0.25844137 0.2581324\n",
      " 0.25783046 1.         1.         1.         1.         1.\n",
      " 1.         1.         1.         1.         1.         1.\n",
      " 1.         1.         1.         1.         1.         1.\n",
      " 1.         1.         1.         1.         1.         1.\n",
      " 1.         1.         1.         1.         1.         1.\n",
      " 1.         1.         1.         1.         1.         1.\n",
      " 1.         1.         1.         1.         1.         1.\n",
      " 1.         1.         1.         1.         1.         1.\n",
      " 1.         1.         1.         1.         1.         1.\n",
      " 1.         1.         1.         1.         1.         1.\n",
      " 1.         1.         1.         1.         1.         1.\n",
      " 1.         1.         1.         1.         1.         1.\n",
      " 1.         1.         1.         1.         1.         1.\n",
      " 1.         1.         1.         1.         1.         1.\n",
      " 1.         1.         1.         1.         1.         1.\n",
      " 1.         1.         1.         1.         1.         1.\n",
      " 1.         1.         1.         1.         1.         1.        ]\n"
     ]
    },
    {
     "name": "stderr",
     "output_type": "stream",
     "text": [
      "\n",
      " 33%|███▎      | 50/150 [02:01<03:51,  2.31s/it]\u001b[A"
     ]
    },
    {
     "name": "stdout",
     "output_type": "stream",
     "text": [
      "[0.94088217 0.71910878 0.5953771  0.51834059 0.46553218 0.4266931\n",
      " 0.3968121  0.37320173 0.35425665 0.33891547 0.32641899 0.31619501\n",
      " 0.30779861 0.30087769 0.29515094 0.29039244 0.2864202  0.28308739\n",
      " 0.28027541 0.27788837 0.27584869 0.27409354 0.27257201 0.2712428\n",
      " 0.27007237 0.26903347 0.2681039  0.26726558 0.26650374 0.26580629\n",
      " 0.26516333 0.26456673 0.26400977 0.26348692 0.2629936  0.26252597\n",
      " 0.26208087 0.26165561 0.26124795 0.26085599 0.26047811 0.26011294\n",
      " 0.25975929 0.25941614 0.25908261 0.25875791 0.25844137 0.2581324\n",
      " 0.25783046 0.25753508 1.         1.         1.         1.\n",
      " 1.         1.         1.         1.         1.         1.\n",
      " 1.         1.         1.         1.         1.         1.\n",
      " 1.         1.         1.         1.         1.         1.\n",
      " 1.         1.         1.         1.         1.         1.\n",
      " 1.         1.         1.         1.         1.         1.\n",
      " 1.         1.         1.         1.         1.         1.\n",
      " 1.         1.         1.         1.         1.         1.\n",
      " 1.         1.         1.         1.         1.         1.\n",
      " 1.         1.         1.         1.         1.         1.\n",
      " 1.         1.         1.         1.         1.         1.\n",
      " 1.         1.         1.         1.         1.         1.\n",
      " 1.         1.         1.         1.         1.         1.\n",
      " 1.         1.         1.         1.         1.         1.\n",
      " 1.         1.         1.         1.         1.         1.\n",
      " 1.         1.         1.         1.         1.         1.\n",
      " 1.         1.         1.         1.         1.         1.        ]\n"
     ]
    },
    {
     "name": "stderr",
     "output_type": "stream",
     "text": [
      "\n",
      " 34%|███▍      | 51/150 [02:03<03:48,  2.31s/it]\u001b[A"
     ]
    },
    {
     "name": "stdout",
     "output_type": "stream",
     "text": [
      "[0.94088217 0.71910878 0.5953771  0.51834059 0.46553218 0.4266931\n",
      " 0.3968121  0.37320173 0.35425665 0.33891547 0.32641899 0.31619501\n",
      " 0.30779861 0.30087769 0.29515094 0.29039244 0.2864202  0.28308739\n",
      " 0.28027541 0.27788837 0.27584869 0.27409354 0.27257201 0.2712428\n",
      " 0.27007237 0.26903347 0.2681039  0.26726558 0.26650374 0.26580629\n",
      " 0.26516333 0.26456673 0.26400977 0.26348692 0.2629936  0.26252597\n",
      " 0.26208087 0.26165561 0.26124795 0.26085599 0.26047811 0.26011294\n",
      " 0.25975929 0.25941614 0.25908261 0.25875791 0.25844137 0.2581324\n",
      " 0.25783046 0.25753508 0.25724583 1.         1.         1.\n",
      " 1.         1.         1.         1.         1.         1.\n",
      " 1.         1.         1.         1.         1.         1.\n",
      " 1.         1.         1.         1.         1.         1.\n",
      " 1.         1.         1.         1.         1.         1.\n",
      " 1.         1.         1.         1.         1.         1.\n",
      " 1.         1.         1.         1.         1.         1.\n",
      " 1.         1.         1.         1.         1.         1.\n",
      " 1.         1.         1.         1.         1.         1.\n",
      " 1.         1.         1.         1.         1.         1.\n",
      " 1.         1.         1.         1.         1.         1.\n",
      " 1.         1.         1.         1.         1.         1.\n",
      " 1.         1.         1.         1.         1.         1.\n",
      " 1.         1.         1.         1.         1.         1.\n",
      " 1.         1.         1.         1.         1.         1.\n",
      " 1.         1.         1.         1.         1.         1.\n",
      " 1.         1.         1.         1.         1.         1.        ]\n"
     ]
    },
    {
     "name": "stderr",
     "output_type": "stream",
     "text": [
      "\n",
      " 35%|███▍      | 52/150 [02:05<03:45,  2.30s/it]\u001b[A"
     ]
    },
    {
     "name": "stdout",
     "output_type": "stream",
     "text": [
      "[0.94088217 0.71910878 0.5953771  0.51834059 0.46553218 0.4266931\n",
      " 0.3968121  0.37320173 0.35425665 0.33891547 0.32641899 0.31619501\n",
      " 0.30779861 0.30087769 0.29515094 0.29039244 0.2864202  0.28308739\n",
      " 0.28027541 0.27788837 0.27584869 0.27409354 0.27257201 0.2712428\n",
      " 0.27007237 0.26903347 0.2681039  0.26726558 0.26650374 0.26580629\n",
      " 0.26516333 0.26456673 0.26400977 0.26348692 0.2629936  0.26252597\n",
      " 0.26208087 0.26165561 0.26124795 0.26085599 0.26047811 0.26011294\n",
      " 0.25975929 0.25941614 0.25908261 0.25875791 0.25844137 0.2581324\n",
      " 0.25783046 0.25753508 0.25724583 0.25696234 1.         1.\n",
      " 1.         1.         1.         1.         1.         1.\n",
      " 1.         1.         1.         1.         1.         1.\n",
      " 1.         1.         1.         1.         1.         1.\n",
      " 1.         1.         1.         1.         1.         1.\n",
      " 1.         1.         1.         1.         1.         1.\n",
      " 1.         1.         1.         1.         1.         1.\n",
      " 1.         1.         1.         1.         1.         1.\n",
      " 1.         1.         1.         1.         1.         1.\n",
      " 1.         1.         1.         1.         1.         1.\n",
      " 1.         1.         1.         1.         1.         1.\n",
      " 1.         1.         1.         1.         1.         1.\n",
      " 1.         1.         1.         1.         1.         1.\n",
      " 1.         1.         1.         1.         1.         1.\n",
      " 1.         1.         1.         1.         1.         1.\n",
      " 1.         1.         1.         1.         1.         1.\n",
      " 1.         1.         1.         1.         1.         1.        ]\n"
     ]
    },
    {
     "name": "stderr",
     "output_type": "stream",
     "text": [
      "\n",
      " 35%|███▌      | 53/150 [02:08<03:43,  2.30s/it]\u001b[A"
     ]
    },
    {
     "name": "stdout",
     "output_type": "stream",
     "text": [
      "[0.94088217 0.71910878 0.5953771  0.51834059 0.46553218 0.4266931\n",
      " 0.3968121  0.37320173 0.35425665 0.33891547 0.32641899 0.31619501\n",
      " 0.30779861 0.30087769 0.29515094 0.29039244 0.2864202  0.28308739\n",
      " 0.28027541 0.27788837 0.27584869 0.27409354 0.27257201 0.2712428\n",
      " 0.27007237 0.26903347 0.2681039  0.26726558 0.26650374 0.26580629\n",
      " 0.26516333 0.26456673 0.26400977 0.26348692 0.2629936  0.26252597\n",
      " 0.26208087 0.26165561 0.26124795 0.26085599 0.26047811 0.26011294\n",
      " 0.25975929 0.25941614 0.25908261 0.25875791 0.25844137 0.2581324\n",
      " 0.25783046 0.25753508 0.25724583 0.25696234 0.25668426 1.\n",
      " 1.         1.         1.         1.         1.         1.\n",
      " 1.         1.         1.         1.         1.         1.\n",
      " 1.         1.         1.         1.         1.         1.\n",
      " 1.         1.         1.         1.         1.         1.\n",
      " 1.         1.         1.         1.         1.         1.\n",
      " 1.         1.         1.         1.         1.         1.\n",
      " 1.         1.         1.         1.         1.         1.\n",
      " 1.         1.         1.         1.         1.         1.\n",
      " 1.         1.         1.         1.         1.         1.\n",
      " 1.         1.         1.         1.         1.         1.\n",
      " 1.         1.         1.         1.         1.         1.\n",
      " 1.         1.         1.         1.         1.         1.\n",
      " 1.         1.         1.         1.         1.         1.\n",
      " 1.         1.         1.         1.         1.         1.\n",
      " 1.         1.         1.         1.         1.         1.\n",
      " 1.         1.         1.         1.         1.         1.        ]\n"
     ]
    },
    {
     "name": "stderr",
     "output_type": "stream",
     "text": [
      "\n",
      " 36%|███▌      | 54/150 [02:10<03:45,  2.35s/it]\u001b[A"
     ]
    },
    {
     "name": "stdout",
     "output_type": "stream",
     "text": [
      "[0.94088217 0.71910878 0.5953771  0.51834059 0.46553218 0.4266931\n",
      " 0.3968121  0.37320173 0.35425665 0.33891547 0.32641899 0.31619501\n",
      " 0.30779861 0.30087769 0.29515094 0.29039244 0.2864202  0.28308739\n",
      " 0.28027541 0.27788837 0.27584869 0.27409354 0.27257201 0.2712428\n",
      " 0.27007237 0.26903347 0.2681039  0.26726558 0.26650374 0.26580629\n",
      " 0.26516333 0.26456673 0.26400977 0.26348692 0.2629936  0.26252597\n",
      " 0.26208087 0.26165561 0.26124795 0.26085599 0.26047811 0.26011294\n",
      " 0.25975929 0.25941614 0.25908261 0.25875791 0.25844137 0.2581324\n",
      " 0.25783046 0.25753508 0.25724583 0.25696234 0.25668426 0.25641127\n",
      " 1.         1.         1.         1.         1.         1.\n",
      " 1.         1.         1.         1.         1.         1.\n",
      " 1.         1.         1.         1.         1.         1.\n",
      " 1.         1.         1.         1.         1.         1.\n",
      " 1.         1.         1.         1.         1.         1.\n",
      " 1.         1.         1.         1.         1.         1.\n",
      " 1.         1.         1.         1.         1.         1.\n",
      " 1.         1.         1.         1.         1.         1.\n",
      " 1.         1.         1.         1.         1.         1.\n",
      " 1.         1.         1.         1.         1.         1.\n",
      " 1.         1.         1.         1.         1.         1.\n",
      " 1.         1.         1.         1.         1.         1.\n",
      " 1.         1.         1.         1.         1.         1.\n",
      " 1.         1.         1.         1.         1.         1.\n",
      " 1.         1.         1.         1.         1.         1.\n",
      " 1.         1.         1.         1.         1.         1.        ]\n"
     ]
    },
    {
     "name": "stderr",
     "output_type": "stream",
     "text": [
      "\n",
      " 37%|███▋      | 55/150 [02:13<04:03,  2.57s/it]\u001b[A"
     ]
    },
    {
     "name": "stdout",
     "output_type": "stream",
     "text": [
      "[0.94088217 0.71910878 0.5953771  0.51834059 0.46553218 0.4266931\n",
      " 0.3968121  0.37320173 0.35425665 0.33891547 0.32641899 0.31619501\n",
      " 0.30779861 0.30087769 0.29515094 0.29039244 0.2864202  0.28308739\n",
      " 0.28027541 0.27788837 0.27584869 0.27409354 0.27257201 0.2712428\n",
      " 0.27007237 0.26903347 0.2681039  0.26726558 0.26650374 0.26580629\n",
      " 0.26516333 0.26456673 0.26400977 0.26348692 0.2629936  0.26252597\n",
      " 0.26208087 0.26165561 0.26124795 0.26085599 0.26047811 0.26011294\n",
      " 0.25975929 0.25941614 0.25908261 0.25875791 0.25844137 0.2581324\n",
      " 0.25783046 0.25753508 0.25724583 0.25696234 0.25668426 0.25641127\n",
      " 0.2561431  1.         1.         1.         1.         1.\n",
      " 1.         1.         1.         1.         1.         1.\n",
      " 1.         1.         1.         1.         1.         1.\n",
      " 1.         1.         1.         1.         1.         1.\n",
      " 1.         1.         1.         1.         1.         1.\n",
      " 1.         1.         1.         1.         1.         1.\n",
      " 1.         1.         1.         1.         1.         1.\n",
      " 1.         1.         1.         1.         1.         1.\n",
      " 1.         1.         1.         1.         1.         1.\n",
      " 1.         1.         1.         1.         1.         1.\n",
      " 1.         1.         1.         1.         1.         1.\n",
      " 1.         1.         1.         1.         1.         1.\n",
      " 1.         1.         1.         1.         1.         1.\n",
      " 1.         1.         1.         1.         1.         1.\n",
      " 1.         1.         1.         1.         1.         1.\n",
      " 1.         1.         1.         1.         1.         1.        ]\n"
     ]
    },
    {
     "name": "stderr",
     "output_type": "stream",
     "text": [
      "\n",
      " 37%|███▋      | 56/150 [02:16<04:11,  2.68s/it]\u001b[A"
     ]
    },
    {
     "name": "stdout",
     "output_type": "stream",
     "text": [
      "[0.94088217 0.71910878 0.5953771  0.51834059 0.46553218 0.4266931\n",
      " 0.3968121  0.37320173 0.35425665 0.33891547 0.32641899 0.31619501\n",
      " 0.30779861 0.30087769 0.29515094 0.29039244 0.2864202  0.28308739\n",
      " 0.28027541 0.27788837 0.27584869 0.27409354 0.27257201 0.2712428\n",
      " 0.27007237 0.26903347 0.2681039  0.26726558 0.26650374 0.26580629\n",
      " 0.26516333 0.26456673 0.26400977 0.26348692 0.2629936  0.26252597\n",
      " 0.26208087 0.26165561 0.26124795 0.26085599 0.26047811 0.26011294\n",
      " 0.25975929 0.25941614 0.25908261 0.25875791 0.25844137 0.2581324\n",
      " 0.25783046 0.25753508 0.25724583 0.25696234 0.25668426 0.25641127\n",
      " 0.2561431  0.25587948 1.         1.         1.         1.\n",
      " 1.         1.         1.         1.         1.         1.\n",
      " 1.         1.         1.         1.         1.         1.\n",
      " 1.         1.         1.         1.         1.         1.\n",
      " 1.         1.         1.         1.         1.         1.\n",
      " 1.         1.         1.         1.         1.         1.\n",
      " 1.         1.         1.         1.         1.         1.\n",
      " 1.         1.         1.         1.         1.         1.\n",
      " 1.         1.         1.         1.         1.         1.\n",
      " 1.         1.         1.         1.         1.         1.\n",
      " 1.         1.         1.         1.         1.         1.\n",
      " 1.         1.         1.         1.         1.         1.\n",
      " 1.         1.         1.         1.         1.         1.\n",
      " 1.         1.         1.         1.         1.         1.\n",
      " 1.         1.         1.         1.         1.         1.\n",
      " 1.         1.         1.         1.         1.         1.        ]\n"
     ]
    },
    {
     "name": "stderr",
     "output_type": "stream",
     "text": [
      "\n",
      " 38%|███▊      | 57/150 [02:19<04:02,  2.61s/it]\u001b[A"
     ]
    },
    {
     "name": "stdout",
     "output_type": "stream",
     "text": [
      "[0.94088217 0.71910878 0.5953771  0.51834059 0.46553218 0.4266931\n",
      " 0.3968121  0.37320173 0.35425665 0.33891547 0.32641899 0.31619501\n",
      " 0.30779861 0.30087769 0.29515094 0.29039244 0.2864202  0.28308739\n",
      " 0.28027541 0.27788837 0.27584869 0.27409354 0.27257201 0.2712428\n",
      " 0.27007237 0.26903347 0.2681039  0.26726558 0.26650374 0.26580629\n",
      " 0.26516333 0.26456673 0.26400977 0.26348692 0.2629936  0.26252597\n",
      " 0.26208087 0.26165561 0.26124795 0.26085599 0.26047811 0.26011294\n",
      " 0.25975929 0.25941614 0.25908261 0.25875791 0.25844137 0.2581324\n",
      " 0.25783046 0.25753508 0.25724583 0.25696234 0.25668426 0.25641127\n",
      " 0.2561431  0.25587948 0.25562018 1.         1.         1.\n",
      " 1.         1.         1.         1.         1.         1.\n",
      " 1.         1.         1.         1.         1.         1.\n",
      " 1.         1.         1.         1.         1.         1.\n",
      " 1.         1.         1.         1.         1.         1.\n",
      " 1.         1.         1.         1.         1.         1.\n",
      " 1.         1.         1.         1.         1.         1.\n",
      " 1.         1.         1.         1.         1.         1.\n",
      " 1.         1.         1.         1.         1.         1.\n",
      " 1.         1.         1.         1.         1.         1.\n",
      " 1.         1.         1.         1.         1.         1.\n",
      " 1.         1.         1.         1.         1.         1.\n",
      " 1.         1.         1.         1.         1.         1.\n",
      " 1.         1.         1.         1.         1.         1.\n",
      " 1.         1.         1.         1.         1.         1.\n",
      " 1.         1.         1.         1.         1.         1.        ]\n"
     ]
    },
    {
     "name": "stderr",
     "output_type": "stream",
     "text": [
      "\n",
      " 39%|███▊      | 58/150 [02:21<03:53,  2.53s/it]\u001b[A"
     ]
    },
    {
     "name": "stdout",
     "output_type": "stream",
     "text": [
      "[0.94088217 0.71910878 0.5953771  0.51834059 0.46553218 0.4266931\n",
      " 0.3968121  0.37320173 0.35425665 0.33891547 0.32641899 0.31619501\n",
      " 0.30779861 0.30087769 0.29515094 0.29039244 0.2864202  0.28308739\n",
      " 0.28027541 0.27788837 0.27584869 0.27409354 0.27257201 0.2712428\n",
      " 0.27007237 0.26903347 0.2681039  0.26726558 0.26650374 0.26580629\n",
      " 0.26516333 0.26456673 0.26400977 0.26348692 0.2629936  0.26252597\n",
      " 0.26208087 0.26165561 0.26124795 0.26085599 0.26047811 0.26011294\n",
      " 0.25975929 0.25941614 0.25908261 0.25875791 0.25844137 0.2581324\n",
      " 0.25783046 0.25753508 0.25724583 0.25696234 0.25668426 0.25641127\n",
      " 0.2561431  0.25587948 0.25562018 0.25536497 1.         1.\n",
      " 1.         1.         1.         1.         1.         1.\n",
      " 1.         1.         1.         1.         1.         1.\n",
      " 1.         1.         1.         1.         1.         1.\n",
      " 1.         1.         1.         1.         1.         1.\n",
      " 1.         1.         1.         1.         1.         1.\n",
      " 1.         1.         1.         1.         1.         1.\n",
      " 1.         1.         1.         1.         1.         1.\n",
      " 1.         1.         1.         1.         1.         1.\n",
      " 1.         1.         1.         1.         1.         1.\n",
      " 1.         1.         1.         1.         1.         1.\n",
      " 1.         1.         1.         1.         1.         1.\n",
      " 1.         1.         1.         1.         1.         1.\n",
      " 1.         1.         1.         1.         1.         1.\n",
      " 1.         1.         1.         1.         1.         1.\n",
      " 1.         1.         1.         1.         1.         1.        ]\n"
     ]
    },
    {
     "name": "stderr",
     "output_type": "stream",
     "text": [
      "\n",
      " 39%|███▉      | 59/150 [02:23<03:49,  2.52s/it]\u001b[A"
     ]
    },
    {
     "name": "stdout",
     "output_type": "stream",
     "text": [
      "[0.94088217 0.71910878 0.5953771  0.51834059 0.46553218 0.4266931\n",
      " 0.3968121  0.37320173 0.35425665 0.33891547 0.32641899 0.31619501\n",
      " 0.30779861 0.30087769 0.29515094 0.29039244 0.2864202  0.28308739\n",
      " 0.28027541 0.27788837 0.27584869 0.27409354 0.27257201 0.2712428\n",
      " 0.27007237 0.26903347 0.2681039  0.26726558 0.26650374 0.26580629\n",
      " 0.26516333 0.26456673 0.26400977 0.26348692 0.2629936  0.26252597\n",
      " 0.26208087 0.26165561 0.26124795 0.26085599 0.26047811 0.26011294\n",
      " 0.25975929 0.25941614 0.25908261 0.25875791 0.25844137 0.2581324\n",
      " 0.25783046 0.25753508 0.25724583 0.25696234 0.25668426 0.25641127\n",
      " 0.2561431  0.25587948 0.25562018 0.25536497 0.25511366 1.\n",
      " 1.         1.         1.         1.         1.         1.\n",
      " 1.         1.         1.         1.         1.         1.\n",
      " 1.         1.         1.         1.         1.         1.\n",
      " 1.         1.         1.         1.         1.         1.\n",
      " 1.         1.         1.         1.         1.         1.\n",
      " 1.         1.         1.         1.         1.         1.\n",
      " 1.         1.         1.         1.         1.         1.\n",
      " 1.         1.         1.         1.         1.         1.\n",
      " 1.         1.         1.         1.         1.         1.\n",
      " 1.         1.         1.         1.         1.         1.\n",
      " 1.         1.         1.         1.         1.         1.\n",
      " 1.         1.         1.         1.         1.         1.\n",
      " 1.         1.         1.         1.         1.         1.\n",
      " 1.         1.         1.         1.         1.         1.\n",
      " 1.         1.         1.         1.         1.         1.        ]\n"
     ]
    },
    {
     "name": "stderr",
     "output_type": "stream",
     "text": [
      "\n",
      " 40%|████      | 60/150 [02:26<03:42,  2.47s/it]\u001b[A"
     ]
    },
    {
     "name": "stdout",
     "output_type": "stream",
     "text": [
      "[0.94088217 0.71910878 0.5953771  0.51834059 0.46553218 0.4266931\n",
      " 0.3968121  0.37320173 0.35425665 0.33891547 0.32641899 0.31619501\n",
      " 0.30779861 0.30087769 0.29515094 0.29039244 0.2864202  0.28308739\n",
      " 0.28027541 0.27788837 0.27584869 0.27409354 0.27257201 0.2712428\n",
      " 0.27007237 0.26903347 0.2681039  0.26726558 0.26650374 0.26580629\n",
      " 0.26516333 0.26456673 0.26400977 0.26348692 0.2629936  0.26252597\n",
      " 0.26208087 0.26165561 0.26124795 0.26085599 0.26047811 0.26011294\n",
      " 0.25975929 0.25941614 0.25908261 0.25875791 0.25844137 0.2581324\n",
      " 0.25783046 0.25753508 0.25724583 0.25696234 0.25668426 0.25641127\n",
      " 0.2561431  0.25587948 0.25562018 0.25536497 0.25511366 0.25486605\n",
      " 1.         1.         1.         1.         1.         1.\n",
      " 1.         1.         1.         1.         1.         1.\n",
      " 1.         1.         1.         1.         1.         1.\n",
      " 1.         1.         1.         1.         1.         1.\n",
      " 1.         1.         1.         1.         1.         1.\n",
      " 1.         1.         1.         1.         1.         1.\n",
      " 1.         1.         1.         1.         1.         1.\n",
      " 1.         1.         1.         1.         1.         1.\n",
      " 1.         1.         1.         1.         1.         1.\n",
      " 1.         1.         1.         1.         1.         1.\n",
      " 1.         1.         1.         1.         1.         1.\n",
      " 1.         1.         1.         1.         1.         1.\n",
      " 1.         1.         1.         1.         1.         1.\n",
      " 1.         1.         1.         1.         1.         1.\n",
      " 1.         1.         1.         1.         1.         1.        ]\n"
     ]
    },
    {
     "name": "stderr",
     "output_type": "stream",
     "text": [
      "\n",
      " 41%|████      | 61/150 [02:28<03:35,  2.42s/it]\u001b[A"
     ]
    },
    {
     "name": "stdout",
     "output_type": "stream",
     "text": [
      "[0.94088217 0.71910878 0.5953771  0.51834059 0.46553218 0.4266931\n",
      " 0.3968121  0.37320173 0.35425665 0.33891547 0.32641899 0.31619501\n",
      " 0.30779861 0.30087769 0.29515094 0.29039244 0.2864202  0.28308739\n",
      " 0.28027541 0.27788837 0.27584869 0.27409354 0.27257201 0.2712428\n",
      " 0.27007237 0.26903347 0.2681039  0.26726558 0.26650374 0.26580629\n",
      " 0.26516333 0.26456673 0.26400977 0.26348692 0.2629936  0.26252597\n",
      " 0.26208087 0.26165561 0.26124795 0.26085599 0.26047811 0.26011294\n",
      " 0.25975929 0.25941614 0.25908261 0.25875791 0.25844137 0.2581324\n",
      " 0.25783046 0.25753508 0.25724583 0.25696234 0.25668426 0.25641127\n",
      " 0.2561431  0.25587948 0.25562018 0.25536497 0.25511366 0.25486605\n",
      " 0.25462197 1.         1.         1.         1.         1.\n",
      " 1.         1.         1.         1.         1.         1.\n",
      " 1.         1.         1.         1.         1.         1.\n",
      " 1.         1.         1.         1.         1.         1.\n",
      " 1.         1.         1.         1.         1.         1.\n",
      " 1.         1.         1.         1.         1.         1.\n",
      " 1.         1.         1.         1.         1.         1.\n",
      " 1.         1.         1.         1.         1.         1.\n",
      " 1.         1.         1.         1.         1.         1.\n",
      " 1.         1.         1.         1.         1.         1.\n",
      " 1.         1.         1.         1.         1.         1.\n",
      " 1.         1.         1.         1.         1.         1.\n",
      " 1.         1.         1.         1.         1.         1.\n",
      " 1.         1.         1.         1.         1.         1.\n",
      " 1.         1.         1.         1.         1.         1.        ]\n"
     ]
    },
    {
     "name": "stderr",
     "output_type": "stream",
     "text": [
      "\n",
      " 41%|████▏     | 62/150 [02:30<03:30,  2.39s/it]\u001b[A"
     ]
    },
    {
     "name": "stdout",
     "output_type": "stream",
     "text": [
      "[0.94088217 0.71910878 0.5953771  0.51834059 0.46553218 0.4266931\n",
      " 0.3968121  0.37320173 0.35425665 0.33891547 0.32641899 0.31619501\n",
      " 0.30779861 0.30087769 0.29515094 0.29039244 0.2864202  0.28308739\n",
      " 0.28027541 0.27788837 0.27584869 0.27409354 0.27257201 0.2712428\n",
      " 0.27007237 0.26903347 0.2681039  0.26726558 0.26650374 0.26580629\n",
      " 0.26516333 0.26456673 0.26400977 0.26348692 0.2629936  0.26252597\n",
      " 0.26208087 0.26165561 0.26124795 0.26085599 0.26047811 0.26011294\n",
      " 0.25975929 0.25941614 0.25908261 0.25875791 0.25844137 0.2581324\n",
      " 0.25783046 0.25753508 0.25724583 0.25696234 0.25668426 0.25641127\n",
      " 0.2561431  0.25587948 0.25562018 0.25536497 0.25511366 0.25486605\n",
      " 0.25462197 0.25438127 1.         1.         1.         1.\n",
      " 1.         1.         1.         1.         1.         1.\n",
      " 1.         1.         1.         1.         1.         1.\n",
      " 1.         1.         1.         1.         1.         1.\n",
      " 1.         1.         1.         1.         1.         1.\n",
      " 1.         1.         1.         1.         1.         1.\n",
      " 1.         1.         1.         1.         1.         1.\n",
      " 1.         1.         1.         1.         1.         1.\n",
      " 1.         1.         1.         1.         1.         1.\n",
      " 1.         1.         1.         1.         1.         1.\n",
      " 1.         1.         1.         1.         1.         1.\n",
      " 1.         1.         1.         1.         1.         1.\n",
      " 1.         1.         1.         1.         1.         1.\n",
      " 1.         1.         1.         1.         1.         1.\n",
      " 1.         1.         1.         1.         1.         1.        ]\n"
     ]
    },
    {
     "name": "stderr",
     "output_type": "stream",
     "text": [
      "\n",
      " 42%|████▏     | 63/150 [02:33<03:26,  2.37s/it]\u001b[A"
     ]
    },
    {
     "name": "stdout",
     "output_type": "stream",
     "text": [
      "[0.94088217 0.71910878 0.5953771  0.51834059 0.46553218 0.4266931\n",
      " 0.3968121  0.37320173 0.35425665 0.33891547 0.32641899 0.31619501\n",
      " 0.30779861 0.30087769 0.29515094 0.29039244 0.2864202  0.28308739\n",
      " 0.28027541 0.27788837 0.27584869 0.27409354 0.27257201 0.2712428\n",
      " 0.27007237 0.26903347 0.2681039  0.26726558 0.26650374 0.26580629\n",
      " 0.26516333 0.26456673 0.26400977 0.26348692 0.2629936  0.26252597\n",
      " 0.26208087 0.26165561 0.26124795 0.26085599 0.26047811 0.26011294\n",
      " 0.25975929 0.25941614 0.25908261 0.25875791 0.25844137 0.2581324\n",
      " 0.25783046 0.25753508 0.25724583 0.25696234 0.25668426 0.25641127\n",
      " 0.2561431  0.25587948 0.25562018 0.25536497 0.25511366 0.25486605\n",
      " 0.25462197 0.25438127 0.25414379 1.         1.         1.\n",
      " 1.         1.         1.         1.         1.         1.\n",
      " 1.         1.         1.         1.         1.         1.\n",
      " 1.         1.         1.         1.         1.         1.\n",
      " 1.         1.         1.         1.         1.         1.\n",
      " 1.         1.         1.         1.         1.         1.\n",
      " 1.         1.         1.         1.         1.         1.\n",
      " 1.         1.         1.         1.         1.         1.\n",
      " 1.         1.         1.         1.         1.         1.\n",
      " 1.         1.         1.         1.         1.         1.\n",
      " 1.         1.         1.         1.         1.         1.\n",
      " 1.         1.         1.         1.         1.         1.\n",
      " 1.         1.         1.         1.         1.         1.\n",
      " 1.         1.         1.         1.         1.         1.\n",
      " 1.         1.         1.         1.         1.         1.        ]\n"
     ]
    },
    {
     "name": "stderr",
     "output_type": "stream",
     "text": [
      "\n",
      " 43%|████▎     | 64/150 [02:35<03:22,  2.36s/it]\u001b[A"
     ]
    },
    {
     "name": "stdout",
     "output_type": "stream",
     "text": [
      "[0.94088217 0.71910878 0.5953771  0.51834059 0.46553218 0.4266931\n",
      " 0.3968121  0.37320173 0.35425665 0.33891547 0.32641899 0.31619501\n",
      " 0.30779861 0.30087769 0.29515094 0.29039244 0.2864202  0.28308739\n",
      " 0.28027541 0.27788837 0.27584869 0.27409354 0.27257201 0.2712428\n",
      " 0.27007237 0.26903347 0.2681039  0.26726558 0.26650374 0.26580629\n",
      " 0.26516333 0.26456673 0.26400977 0.26348692 0.2629936  0.26252597\n",
      " 0.26208087 0.26165561 0.26124795 0.26085599 0.26047811 0.26011294\n",
      " 0.25975929 0.25941614 0.25908261 0.25875791 0.25844137 0.2581324\n",
      " 0.25783046 0.25753508 0.25724583 0.25696234 0.25668426 0.25641127\n",
      " 0.2561431  0.25587948 0.25562018 0.25536497 0.25511366 0.25486605\n",
      " 0.25462197 0.25438127 0.25414379 0.25390939 1.         1.\n",
      " 1.         1.         1.         1.         1.         1.\n",
      " 1.         1.         1.         1.         1.         1.\n",
      " 1.         1.         1.         1.         1.         1.\n",
      " 1.         1.         1.         1.         1.         1.\n",
      " 1.         1.         1.         1.         1.         1.\n",
      " 1.         1.         1.         1.         1.         1.\n",
      " 1.         1.         1.         1.         1.         1.\n",
      " 1.         1.         1.         1.         1.         1.\n",
      " 1.         1.         1.         1.         1.         1.\n",
      " 1.         1.         1.         1.         1.         1.\n",
      " 1.         1.         1.         1.         1.         1.\n",
      " 1.         1.         1.         1.         1.         1.\n",
      " 1.         1.         1.         1.         1.         1.\n",
      " 1.         1.         1.         1.         1.         1.        ]\n"
     ]
    },
    {
     "name": "stderr",
     "output_type": "stream",
     "text": [
      "\n",
      " 43%|████▎     | 65/150 [02:38<03:26,  2.43s/it]\u001b[A"
     ]
    },
    {
     "name": "stdout",
     "output_type": "stream",
     "text": [
      "[0.94088217 0.71910878 0.5953771  0.51834059 0.46553218 0.4266931\n",
      " 0.3968121  0.37320173 0.35425665 0.33891547 0.32641899 0.31619501\n",
      " 0.30779861 0.30087769 0.29515094 0.29039244 0.2864202  0.28308739\n",
      " 0.28027541 0.27788837 0.27584869 0.27409354 0.27257201 0.2712428\n",
      " 0.27007237 0.26903347 0.2681039  0.26726558 0.26650374 0.26580629\n",
      " 0.26516333 0.26456673 0.26400977 0.26348692 0.2629936  0.26252597\n",
      " 0.26208087 0.26165561 0.26124795 0.26085599 0.26047811 0.26011294\n",
      " 0.25975929 0.25941614 0.25908261 0.25875791 0.25844137 0.2581324\n",
      " 0.25783046 0.25753508 0.25724583 0.25696234 0.25668426 0.25641127\n",
      " 0.2561431  0.25587948 0.25562018 0.25536497 0.25511366 0.25486605\n",
      " 0.25462197 0.25438127 0.25414379 0.25390939 0.25367794 1.\n",
      " 1.         1.         1.         1.         1.         1.\n",
      " 1.         1.         1.         1.         1.         1.\n",
      " 1.         1.         1.         1.         1.         1.\n",
      " 1.         1.         1.         1.         1.         1.\n",
      " 1.         1.         1.         1.         1.         1.\n",
      " 1.         1.         1.         1.         1.         1.\n",
      " 1.         1.         1.         1.         1.         1.\n",
      " 1.         1.         1.         1.         1.         1.\n",
      " 1.         1.         1.         1.         1.         1.\n",
      " 1.         1.         1.         1.         1.         1.\n",
      " 1.         1.         1.         1.         1.         1.\n",
      " 1.         1.         1.         1.         1.         1.\n",
      " 1.         1.         1.         1.         1.         1.\n",
      " 1.         1.         1.         1.         1.         1.        ]\n"
     ]
    },
    {
     "name": "stderr",
     "output_type": "stream",
     "text": [
      "\n",
      " 44%|████▍     | 66/150 [02:40<03:30,  2.50s/it]\u001b[A"
     ]
    },
    {
     "name": "stdout",
     "output_type": "stream",
     "text": [
      "[0.94088217 0.71910878 0.5953771  0.51834059 0.46553218 0.4266931\n",
      " 0.3968121  0.37320173 0.35425665 0.33891547 0.32641899 0.31619501\n",
      " 0.30779861 0.30087769 0.29515094 0.29039244 0.2864202  0.28308739\n",
      " 0.28027541 0.27788837 0.27584869 0.27409354 0.27257201 0.2712428\n",
      " 0.27007237 0.26903347 0.2681039  0.26726558 0.26650374 0.26580629\n",
      " 0.26516333 0.26456673 0.26400977 0.26348692 0.2629936  0.26252597\n",
      " 0.26208087 0.26165561 0.26124795 0.26085599 0.26047811 0.26011294\n",
      " 0.25975929 0.25941614 0.25908261 0.25875791 0.25844137 0.2581324\n",
      " 0.25783046 0.25753508 0.25724583 0.25696234 0.25668426 0.25641127\n",
      " 0.2561431  0.25587948 0.25562018 0.25536497 0.25511366 0.25486605\n",
      " 0.25462197 0.25438127 0.25414379 0.25390939 0.25367794 0.25344933\n",
      " 1.         1.         1.         1.         1.         1.\n",
      " 1.         1.         1.         1.         1.         1.\n",
      " 1.         1.         1.         1.         1.         1.\n",
      " 1.         1.         1.         1.         1.         1.\n",
      " 1.         1.         1.         1.         1.         1.\n",
      " 1.         1.         1.         1.         1.         1.\n",
      " 1.         1.         1.         1.         1.         1.\n",
      " 1.         1.         1.         1.         1.         1.\n",
      " 1.         1.         1.         1.         1.         1.\n",
      " 1.         1.         1.         1.         1.         1.\n",
      " 1.         1.         1.         1.         1.         1.\n",
      " 1.         1.         1.         1.         1.         1.\n",
      " 1.         1.         1.         1.         1.         1.\n",
      " 1.         1.         1.         1.         1.         1.        ]\n"
     ]
    },
    {
     "name": "stderr",
     "output_type": "stream",
     "text": [
      "\n",
      " 45%|████▍     | 67/150 [02:43<03:22,  2.44s/it]\u001b[A"
     ]
    },
    {
     "name": "stdout",
     "output_type": "stream",
     "text": [
      "[0.94088217 0.71910878 0.5953771  0.51834059 0.46553218 0.4266931\n",
      " 0.3968121  0.37320173 0.35425665 0.33891547 0.32641899 0.31619501\n",
      " 0.30779861 0.30087769 0.29515094 0.29039244 0.2864202  0.28308739\n",
      " 0.28027541 0.27788837 0.27584869 0.27409354 0.27257201 0.2712428\n",
      " 0.27007237 0.26903347 0.2681039  0.26726558 0.26650374 0.26580629\n",
      " 0.26516333 0.26456673 0.26400977 0.26348692 0.2629936  0.26252597\n",
      " 0.26208087 0.26165561 0.26124795 0.26085599 0.26047811 0.26011294\n",
      " 0.25975929 0.25941614 0.25908261 0.25875791 0.25844137 0.2581324\n",
      " 0.25783046 0.25753508 0.25724583 0.25696234 0.25668426 0.25641127\n",
      " 0.2561431  0.25587948 0.25562018 0.25536497 0.25511366 0.25486605\n",
      " 0.25462197 0.25438127 0.25414379 0.25390939 0.25367794 0.25344933\n",
      " 0.25322342 1.         1.         1.         1.         1.\n",
      " 1.         1.         1.         1.         1.         1.\n",
      " 1.         1.         1.         1.         1.         1.\n",
      " 1.         1.         1.         1.         1.         1.\n",
      " 1.         1.         1.         1.         1.         1.\n",
      " 1.         1.         1.         1.         1.         1.\n",
      " 1.         1.         1.         1.         1.         1.\n",
      " 1.         1.         1.         1.         1.         1.\n",
      " 1.         1.         1.         1.         1.         1.\n",
      " 1.         1.         1.         1.         1.         1.\n",
      " 1.         1.         1.         1.         1.         1.\n",
      " 1.         1.         1.         1.         1.         1.\n",
      " 1.         1.         1.         1.         1.         1.\n",
      " 1.         1.         1.         1.         1.         1.        ]\n"
     ]
    },
    {
     "name": "stderr",
     "output_type": "stream",
     "text": [
      "\n",
      " 45%|████▌     | 68/150 [02:45<03:18,  2.42s/it]\u001b[A"
     ]
    },
    {
     "name": "stdout",
     "output_type": "stream",
     "text": [
      "[0.94088217 0.71910878 0.5953771  0.51834059 0.46553218 0.4266931\n",
      " 0.3968121  0.37320173 0.35425665 0.33891547 0.32641899 0.31619501\n",
      " 0.30779861 0.30087769 0.29515094 0.29039244 0.2864202  0.28308739\n",
      " 0.28027541 0.27788837 0.27584869 0.27409354 0.27257201 0.2712428\n",
      " 0.27007237 0.26903347 0.2681039  0.26726558 0.26650374 0.26580629\n",
      " 0.26516333 0.26456673 0.26400977 0.26348692 0.2629936  0.26252597\n",
      " 0.26208087 0.26165561 0.26124795 0.26085599 0.26047811 0.26011294\n",
      " 0.25975929 0.25941614 0.25908261 0.25875791 0.25844137 0.2581324\n",
      " 0.25783046 0.25753508 0.25724583 0.25696234 0.25668426 0.25641127\n",
      " 0.2561431  0.25587948 0.25562018 0.25536497 0.25511366 0.25486605\n",
      " 0.25462197 0.25438127 0.25414379 0.25390939 0.25367794 0.25344933\n",
      " 0.25322342 0.25300013 1.         1.         1.         1.\n",
      " 1.         1.         1.         1.         1.         1.\n",
      " 1.         1.         1.         1.         1.         1.\n",
      " 1.         1.         1.         1.         1.         1.\n",
      " 1.         1.         1.         1.         1.         1.\n",
      " 1.         1.         1.         1.         1.         1.\n",
      " 1.         1.         1.         1.         1.         1.\n",
      " 1.         1.         1.         1.         1.         1.\n",
      " 1.         1.         1.         1.         1.         1.\n",
      " 1.         1.         1.         1.         1.         1.\n",
      " 1.         1.         1.         1.         1.         1.\n",
      " 1.         1.         1.         1.         1.         1.\n",
      " 1.         1.         1.         1.         1.         1.\n",
      " 1.         1.         1.         1.         1.         1.        ]\n"
     ]
    },
    {
     "name": "stderr",
     "output_type": "stream",
     "text": [
      "\n",
      " 46%|████▌     | 69/150 [02:47<03:12,  2.37s/it]\u001b[A"
     ]
    },
    {
     "name": "stdout",
     "output_type": "stream",
     "text": [
      "[0.94088217 0.71910878 0.5953771  0.51834059 0.46553218 0.4266931\n",
      " 0.3968121  0.37320173 0.35425665 0.33891547 0.32641899 0.31619501\n",
      " 0.30779861 0.30087769 0.29515094 0.29039244 0.2864202  0.28308739\n",
      " 0.28027541 0.27788837 0.27584869 0.27409354 0.27257201 0.2712428\n",
      " 0.27007237 0.26903347 0.2681039  0.26726558 0.26650374 0.26580629\n",
      " 0.26516333 0.26456673 0.26400977 0.26348692 0.2629936  0.26252597\n",
      " 0.26208087 0.26165561 0.26124795 0.26085599 0.26047811 0.26011294\n",
      " 0.25975929 0.25941614 0.25908261 0.25875791 0.25844137 0.2581324\n",
      " 0.25783046 0.25753508 0.25724583 0.25696234 0.25668426 0.25641127\n",
      " 0.2561431  0.25587948 0.25562018 0.25536497 0.25511366 0.25486605\n",
      " 0.25462197 0.25438127 0.25414379 0.25390939 0.25367794 0.25344933\n",
      " 0.25322342 0.25300013 0.25277935 1.         1.         1.\n",
      " 1.         1.         1.         1.         1.         1.\n",
      " 1.         1.         1.         1.         1.         1.\n",
      " 1.         1.         1.         1.         1.         1.\n",
      " 1.         1.         1.         1.         1.         1.\n",
      " 1.         1.         1.         1.         1.         1.\n",
      " 1.         1.         1.         1.         1.         1.\n",
      " 1.         1.         1.         1.         1.         1.\n",
      " 1.         1.         1.         1.         1.         1.\n",
      " 1.         1.         1.         1.         1.         1.\n",
      " 1.         1.         1.         1.         1.         1.\n",
      " 1.         1.         1.         1.         1.         1.\n",
      " 1.         1.         1.         1.         1.         1.\n",
      " 1.         1.         1.         1.         1.         1.        ]\n"
     ]
    },
    {
     "name": "stderr",
     "output_type": "stream",
     "text": [
      "\n",
      " 47%|████▋     | 70/150 [02:50<03:11,  2.40s/it]\u001b[A"
     ]
    },
    {
     "name": "stdout",
     "output_type": "stream",
     "text": [
      "[0.94088217 0.71910878 0.5953771  0.51834059 0.46553218 0.4266931\n",
      " 0.3968121  0.37320173 0.35425665 0.33891547 0.32641899 0.31619501\n",
      " 0.30779861 0.30087769 0.29515094 0.29039244 0.2864202  0.28308739\n",
      " 0.28027541 0.27788837 0.27584869 0.27409354 0.27257201 0.2712428\n",
      " 0.27007237 0.26903347 0.2681039  0.26726558 0.26650374 0.26580629\n",
      " 0.26516333 0.26456673 0.26400977 0.26348692 0.2629936  0.26252597\n",
      " 0.26208087 0.26165561 0.26124795 0.26085599 0.26047811 0.26011294\n",
      " 0.25975929 0.25941614 0.25908261 0.25875791 0.25844137 0.2581324\n",
      " 0.25783046 0.25753508 0.25724583 0.25696234 0.25668426 0.25641127\n",
      " 0.2561431  0.25587948 0.25562018 0.25536497 0.25511366 0.25486605\n",
      " 0.25462197 0.25438127 0.25414379 0.25390939 0.25367794 0.25344933\n",
      " 0.25322342 0.25300013 0.25277935 0.25256097 1.         1.\n",
      " 1.         1.         1.         1.         1.         1.\n",
      " 1.         1.         1.         1.         1.         1.\n",
      " 1.         1.         1.         1.         1.         1.\n",
      " 1.         1.         1.         1.         1.         1.\n",
      " 1.         1.         1.         1.         1.         1.\n",
      " 1.         1.         1.         1.         1.         1.\n",
      " 1.         1.         1.         1.         1.         1.\n",
      " 1.         1.         1.         1.         1.         1.\n",
      " 1.         1.         1.         1.         1.         1.\n",
      " 1.         1.         1.         1.         1.         1.\n",
      " 1.         1.         1.         1.         1.         1.\n",
      " 1.         1.         1.         1.         1.         1.\n",
      " 1.         1.         1.         1.         1.         1.        ]\n"
     ]
    },
    {
     "name": "stderr",
     "output_type": "stream",
     "text": [
      "\n",
      " 47%|████▋     | 71/150 [02:52<03:07,  2.37s/it]\u001b[A"
     ]
    },
    {
     "name": "stdout",
     "output_type": "stream",
     "text": [
      "[0.94088217 0.71910878 0.5953771  0.51834059 0.46553218 0.4266931\n",
      " 0.3968121  0.37320173 0.35425665 0.33891547 0.32641899 0.31619501\n",
      " 0.30779861 0.30087769 0.29515094 0.29039244 0.2864202  0.28308739\n",
      " 0.28027541 0.27788837 0.27584869 0.27409354 0.27257201 0.2712428\n",
      " 0.27007237 0.26903347 0.2681039  0.26726558 0.26650374 0.26580629\n",
      " 0.26516333 0.26456673 0.26400977 0.26348692 0.2629936  0.26252597\n",
      " 0.26208087 0.26165561 0.26124795 0.26085599 0.26047811 0.26011294\n",
      " 0.25975929 0.25941614 0.25908261 0.25875791 0.25844137 0.2581324\n",
      " 0.25783046 0.25753508 0.25724583 0.25696234 0.25668426 0.25641127\n",
      " 0.2561431  0.25587948 0.25562018 0.25536497 0.25511366 0.25486605\n",
      " 0.25462197 0.25438127 0.25414379 0.25390939 0.25367794 0.25344933\n",
      " 0.25322342 0.25300013 0.25277935 0.25256097 0.25234492 1.\n",
      " 1.         1.         1.         1.         1.         1.\n",
      " 1.         1.         1.         1.         1.         1.\n",
      " 1.         1.         1.         1.         1.         1.\n",
      " 1.         1.         1.         1.         1.         1.\n",
      " 1.         1.         1.         1.         1.         1.\n",
      " 1.         1.         1.         1.         1.         1.\n",
      " 1.         1.         1.         1.         1.         1.\n",
      " 1.         1.         1.         1.         1.         1.\n",
      " 1.         1.         1.         1.         1.         1.\n",
      " 1.         1.         1.         1.         1.         1.\n",
      " 1.         1.         1.         1.         1.         1.\n",
      " 1.         1.         1.         1.         1.         1.\n",
      " 1.         1.         1.         1.         1.         1.        ]\n"
     ]
    },
    {
     "name": "stderr",
     "output_type": "stream",
     "text": [
      "\n",
      " 48%|████▊     | 72/150 [02:54<03:04,  2.37s/it]\u001b[A"
     ]
    },
    {
     "name": "stdout",
     "output_type": "stream",
     "text": [
      "[0.94088217 0.71910878 0.5953771  0.51834059 0.46553218 0.4266931\n",
      " 0.3968121  0.37320173 0.35425665 0.33891547 0.32641899 0.31619501\n",
      " 0.30779861 0.30087769 0.29515094 0.29039244 0.2864202  0.28308739\n",
      " 0.28027541 0.27788837 0.27584869 0.27409354 0.27257201 0.2712428\n",
      " 0.27007237 0.26903347 0.2681039  0.26726558 0.26650374 0.26580629\n",
      " 0.26516333 0.26456673 0.26400977 0.26348692 0.2629936  0.26252597\n",
      " 0.26208087 0.26165561 0.26124795 0.26085599 0.26047811 0.26011294\n",
      " 0.25975929 0.25941614 0.25908261 0.25875791 0.25844137 0.2581324\n",
      " 0.25783046 0.25753508 0.25724583 0.25696234 0.25668426 0.25641127\n",
      " 0.2561431  0.25587948 0.25562018 0.25536497 0.25511366 0.25486605\n",
      " 0.25462197 0.25438127 0.25414379 0.25390939 0.25367794 0.25344933\n",
      " 0.25322342 0.25300013 0.25277935 0.25256097 0.25234492 0.25213111\n",
      " 1.         1.         1.         1.         1.         1.\n",
      " 1.         1.         1.         1.         1.         1.\n",
      " 1.         1.         1.         1.         1.         1.\n",
      " 1.         1.         1.         1.         1.         1.\n",
      " 1.         1.         1.         1.         1.         1.\n",
      " 1.         1.         1.         1.         1.         1.\n",
      " 1.         1.         1.         1.         1.         1.\n",
      " 1.         1.         1.         1.         1.         1.\n",
      " 1.         1.         1.         1.         1.         1.\n",
      " 1.         1.         1.         1.         1.         1.\n",
      " 1.         1.         1.         1.         1.         1.\n",
      " 1.         1.         1.         1.         1.         1.\n",
      " 1.         1.         1.         1.         1.         1.        ]\n"
     ]
    },
    {
     "name": "stderr",
     "output_type": "stream",
     "text": [
      "\n",
      " 49%|████▊     | 73/150 [02:57<03:01,  2.36s/it]\u001b[A"
     ]
    },
    {
     "name": "stdout",
     "output_type": "stream",
     "text": [
      "[0.94088217 0.71910878 0.5953771  0.51834059 0.46553218 0.4266931\n",
      " 0.3968121  0.37320173 0.35425665 0.33891547 0.32641899 0.31619501\n",
      " 0.30779861 0.30087769 0.29515094 0.29039244 0.2864202  0.28308739\n",
      " 0.28027541 0.27788837 0.27584869 0.27409354 0.27257201 0.2712428\n",
      " 0.27007237 0.26903347 0.2681039  0.26726558 0.26650374 0.26580629\n",
      " 0.26516333 0.26456673 0.26400977 0.26348692 0.2629936  0.26252597\n",
      " 0.26208087 0.26165561 0.26124795 0.26085599 0.26047811 0.26011294\n",
      " 0.25975929 0.25941614 0.25908261 0.25875791 0.25844137 0.2581324\n",
      " 0.25783046 0.25753508 0.25724583 0.25696234 0.25668426 0.25641127\n",
      " 0.2561431  0.25587948 0.25562018 0.25536497 0.25511366 0.25486605\n",
      " 0.25462197 0.25438127 0.25414379 0.25390939 0.25367794 0.25344933\n",
      " 0.25322342 0.25300013 0.25277935 0.25256097 0.25234492 0.25213111\n",
      " 0.25191946 1.         1.         1.         1.         1.\n",
      " 1.         1.         1.         1.         1.         1.\n",
      " 1.         1.         1.         1.         1.         1.\n",
      " 1.         1.         1.         1.         1.         1.\n",
      " 1.         1.         1.         1.         1.         1.\n",
      " 1.         1.         1.         1.         1.         1.\n",
      " 1.         1.         1.         1.         1.         1.\n",
      " 1.         1.         1.         1.         1.         1.\n",
      " 1.         1.         1.         1.         1.         1.\n",
      " 1.         1.         1.         1.         1.         1.\n",
      " 1.         1.         1.         1.         1.         1.\n",
      " 1.         1.         1.         1.         1.         1.\n",
      " 1.         1.         1.         1.         1.         1.        ]\n"
     ]
    },
    {
     "name": "stderr",
     "output_type": "stream",
     "text": [
      "\n",
      " 49%|████▉     | 74/150 [02:59<02:58,  2.35s/it]\u001b[A"
     ]
    },
    {
     "name": "stdout",
     "output_type": "stream",
     "text": [
      "[0.94088217 0.71910878 0.5953771  0.51834059 0.46553218 0.4266931\n",
      " 0.3968121  0.37320173 0.35425665 0.33891547 0.32641899 0.31619501\n",
      " 0.30779861 0.30087769 0.29515094 0.29039244 0.2864202  0.28308739\n",
      " 0.28027541 0.27788837 0.27584869 0.27409354 0.27257201 0.2712428\n",
      " 0.27007237 0.26903347 0.2681039  0.26726558 0.26650374 0.26580629\n",
      " 0.26516333 0.26456673 0.26400977 0.26348692 0.2629936  0.26252597\n",
      " 0.26208087 0.26165561 0.26124795 0.26085599 0.26047811 0.26011294\n",
      " 0.25975929 0.25941614 0.25908261 0.25875791 0.25844137 0.2581324\n",
      " 0.25783046 0.25753508 0.25724583 0.25696234 0.25668426 0.25641127\n",
      " 0.2561431  0.25587948 0.25562018 0.25536497 0.25511366 0.25486605\n",
      " 0.25462197 0.25438127 0.25414379 0.25390939 0.25367794 0.25344933\n",
      " 0.25322342 0.25300013 0.25277935 0.25256097 0.25234492 0.25213111\n",
      " 0.25191946 0.2517099  1.         1.         1.         1.\n",
      " 1.         1.         1.         1.         1.         1.\n",
      " 1.         1.         1.         1.         1.         1.\n",
      " 1.         1.         1.         1.         1.         1.\n",
      " 1.         1.         1.         1.         1.         1.\n",
      " 1.         1.         1.         1.         1.         1.\n",
      " 1.         1.         1.         1.         1.         1.\n",
      " 1.         1.         1.         1.         1.         1.\n",
      " 1.         1.         1.         1.         1.         1.\n",
      " 1.         1.         1.         1.         1.         1.\n",
      " 1.         1.         1.         1.         1.         1.\n",
      " 1.         1.         1.         1.         1.         1.\n",
      " 1.         1.         1.         1.         1.         1.        ]\n"
     ]
    },
    {
     "name": "stderr",
     "output_type": "stream",
     "text": [
      "\n",
      " 50%|█████     | 75/150 [03:01<02:55,  2.34s/it]\u001b[A"
     ]
    },
    {
     "name": "stdout",
     "output_type": "stream",
     "text": [
      "[0.94088217 0.71910878 0.5953771  0.51834059 0.46553218 0.4266931\n",
      " 0.3968121  0.37320173 0.35425665 0.33891547 0.32641899 0.31619501\n",
      " 0.30779861 0.30087769 0.29515094 0.29039244 0.2864202  0.28308739\n",
      " 0.28027541 0.27788837 0.27584869 0.27409354 0.27257201 0.2712428\n",
      " 0.27007237 0.26903347 0.2681039  0.26726558 0.26650374 0.26580629\n",
      " 0.26516333 0.26456673 0.26400977 0.26348692 0.2629936  0.26252597\n",
      " 0.26208087 0.26165561 0.26124795 0.26085599 0.26047811 0.26011294\n",
      " 0.25975929 0.25941614 0.25908261 0.25875791 0.25844137 0.2581324\n",
      " 0.25783046 0.25753508 0.25724583 0.25696234 0.25668426 0.25641127\n",
      " 0.2561431  0.25587948 0.25562018 0.25536497 0.25511366 0.25486605\n",
      " 0.25462197 0.25438127 0.25414379 0.25390939 0.25367794 0.25344933\n",
      " 0.25322342 0.25300013 0.25277935 0.25256097 0.25234492 0.25213111\n",
      " 0.25191946 0.2517099  0.25150235 1.         1.         1.\n",
      " 1.         1.         1.         1.         1.         1.\n",
      " 1.         1.         1.         1.         1.         1.\n",
      " 1.         1.         1.         1.         1.         1.\n",
      " 1.         1.         1.         1.         1.         1.\n",
      " 1.         1.         1.         1.         1.         1.\n",
      " 1.         1.         1.         1.         1.         1.\n",
      " 1.         1.         1.         1.         1.         1.\n",
      " 1.         1.         1.         1.         1.         1.\n",
      " 1.         1.         1.         1.         1.         1.\n",
      " 1.         1.         1.         1.         1.         1.\n",
      " 1.         1.         1.         1.         1.         1.\n",
      " 1.         1.         1.         1.         1.         1.        ]\n"
     ]
    },
    {
     "name": "stderr",
     "output_type": "stream",
     "text": [
      "\n",
      " 51%|█████     | 76/150 [03:04<02:52,  2.33s/it]\u001b[A"
     ]
    },
    {
     "name": "stdout",
     "output_type": "stream",
     "text": [
      "[0.94088217 0.71910878 0.5953771  0.51834059 0.46553218 0.4266931\n",
      " 0.3968121  0.37320173 0.35425665 0.33891547 0.32641899 0.31619501\n",
      " 0.30779861 0.30087769 0.29515094 0.29039244 0.2864202  0.28308739\n",
      " 0.28027541 0.27788837 0.27584869 0.27409354 0.27257201 0.2712428\n",
      " 0.27007237 0.26903347 0.2681039  0.26726558 0.26650374 0.26580629\n",
      " 0.26516333 0.26456673 0.26400977 0.26348692 0.2629936  0.26252597\n",
      " 0.26208087 0.26165561 0.26124795 0.26085599 0.26047811 0.26011294\n",
      " 0.25975929 0.25941614 0.25908261 0.25875791 0.25844137 0.2581324\n",
      " 0.25783046 0.25753508 0.25724583 0.25696234 0.25668426 0.25641127\n",
      " 0.2561431  0.25587948 0.25562018 0.25536497 0.25511366 0.25486605\n",
      " 0.25462197 0.25438127 0.25414379 0.25390939 0.25367794 0.25344933\n",
      " 0.25322342 0.25300013 0.25277935 0.25256097 0.25234492 0.25213111\n",
      " 0.25191946 0.2517099  0.25150235 0.25129675 1.         1.\n",
      " 1.         1.         1.         1.         1.         1.\n",
      " 1.         1.         1.         1.         1.         1.\n",
      " 1.         1.         1.         1.         1.         1.\n",
      " 1.         1.         1.         1.         1.         1.\n",
      " 1.         1.         1.         1.         1.         1.\n",
      " 1.         1.         1.         1.         1.         1.\n",
      " 1.         1.         1.         1.         1.         1.\n",
      " 1.         1.         1.         1.         1.         1.\n",
      " 1.         1.         1.         1.         1.         1.\n",
      " 1.         1.         1.         1.         1.         1.\n",
      " 1.         1.         1.         1.         1.         1.\n",
      " 1.         1.         1.         1.         1.         1.        ]\n"
     ]
    },
    {
     "name": "stderr",
     "output_type": "stream",
     "text": [
      "\n",
      " 51%|█████▏    | 77/150 [03:06<02:49,  2.33s/it]\u001b[A"
     ]
    },
    {
     "name": "stdout",
     "output_type": "stream",
     "text": [
      "[0.94088217 0.71910878 0.5953771  0.51834059 0.46553218 0.4266931\n",
      " 0.3968121  0.37320173 0.35425665 0.33891547 0.32641899 0.31619501\n",
      " 0.30779861 0.30087769 0.29515094 0.29039244 0.2864202  0.28308739\n",
      " 0.28027541 0.27788837 0.27584869 0.27409354 0.27257201 0.2712428\n",
      " 0.27007237 0.26903347 0.2681039  0.26726558 0.26650374 0.26580629\n",
      " 0.26516333 0.26456673 0.26400977 0.26348692 0.2629936  0.26252597\n",
      " 0.26208087 0.26165561 0.26124795 0.26085599 0.26047811 0.26011294\n",
      " 0.25975929 0.25941614 0.25908261 0.25875791 0.25844137 0.2581324\n",
      " 0.25783046 0.25753508 0.25724583 0.25696234 0.25668426 0.25641127\n",
      " 0.2561431  0.25587948 0.25562018 0.25536497 0.25511366 0.25486605\n",
      " 0.25462197 0.25438127 0.25414379 0.25390939 0.25367794 0.25344933\n",
      " 0.25322342 0.25300013 0.25277935 0.25256097 0.25234492 0.25213111\n",
      " 0.25191946 0.2517099  0.25150235 0.25129675 0.25109303 1.\n",
      " 1.         1.         1.         1.         1.         1.\n",
      " 1.         1.         1.         1.         1.         1.\n",
      " 1.         1.         1.         1.         1.         1.\n",
      " 1.         1.         1.         1.         1.         1.\n",
      " 1.         1.         1.         1.         1.         1.\n",
      " 1.         1.         1.         1.         1.         1.\n",
      " 1.         1.         1.         1.         1.         1.\n",
      " 1.         1.         1.         1.         1.         1.\n",
      " 1.         1.         1.         1.         1.         1.\n",
      " 1.         1.         1.         1.         1.         1.\n",
      " 1.         1.         1.         1.         1.         1.\n",
      " 1.         1.         1.         1.         1.         1.        ]\n"
     ]
    },
    {
     "name": "stderr",
     "output_type": "stream",
     "text": [
      "\n",
      " 52%|█████▏    | 78/150 [03:08<02:46,  2.32s/it]\u001b[A"
     ]
    },
    {
     "name": "stdout",
     "output_type": "stream",
     "text": [
      "[0.94088217 0.71910878 0.5953771  0.51834059 0.46553218 0.4266931\n",
      " 0.3968121  0.37320173 0.35425665 0.33891547 0.32641899 0.31619501\n",
      " 0.30779861 0.30087769 0.29515094 0.29039244 0.2864202  0.28308739\n",
      " 0.28027541 0.27788837 0.27584869 0.27409354 0.27257201 0.2712428\n",
      " 0.27007237 0.26903347 0.2681039  0.26726558 0.26650374 0.26580629\n",
      " 0.26516333 0.26456673 0.26400977 0.26348692 0.2629936  0.26252597\n",
      " 0.26208087 0.26165561 0.26124795 0.26085599 0.26047811 0.26011294\n",
      " 0.25975929 0.25941614 0.25908261 0.25875791 0.25844137 0.2581324\n",
      " 0.25783046 0.25753508 0.25724583 0.25696234 0.25668426 0.25641127\n",
      " 0.2561431  0.25587948 0.25562018 0.25536497 0.25511366 0.25486605\n",
      " 0.25462197 0.25438127 0.25414379 0.25390939 0.25367794 0.25344933\n",
      " 0.25322342 0.25300013 0.25277935 0.25256097 0.25234492 0.25213111\n",
      " 0.25191946 0.2517099  0.25150235 0.25129675 0.25109303 0.25089114\n",
      " 1.         1.         1.         1.         1.         1.\n",
      " 1.         1.         1.         1.         1.         1.\n",
      " 1.         1.         1.         1.         1.         1.\n",
      " 1.         1.         1.         1.         1.         1.\n",
      " 1.         1.         1.         1.         1.         1.\n",
      " 1.         1.         1.         1.         1.         1.\n",
      " 1.         1.         1.         1.         1.         1.\n",
      " 1.         1.         1.         1.         1.         1.\n",
      " 1.         1.         1.         1.         1.         1.\n",
      " 1.         1.         1.         1.         1.         1.\n",
      " 1.         1.         1.         1.         1.         1.\n",
      " 1.         1.         1.         1.         1.         1.        ]\n"
     ]
    },
    {
     "name": "stderr",
     "output_type": "stream",
     "text": [
      "\n",
      " 53%|█████▎    | 79/150 [03:11<02:43,  2.31s/it]\u001b[A"
     ]
    },
    {
     "name": "stdout",
     "output_type": "stream",
     "text": [
      "[0.94088217 0.71910878 0.5953771  0.51834059 0.46553218 0.4266931\n",
      " 0.3968121  0.37320173 0.35425665 0.33891547 0.32641899 0.31619501\n",
      " 0.30779861 0.30087769 0.29515094 0.29039244 0.2864202  0.28308739\n",
      " 0.28027541 0.27788837 0.27584869 0.27409354 0.27257201 0.2712428\n",
      " 0.27007237 0.26903347 0.2681039  0.26726558 0.26650374 0.26580629\n",
      " 0.26516333 0.26456673 0.26400977 0.26348692 0.2629936  0.26252597\n",
      " 0.26208087 0.26165561 0.26124795 0.26085599 0.26047811 0.26011294\n",
      " 0.25975929 0.25941614 0.25908261 0.25875791 0.25844137 0.2581324\n",
      " 0.25783046 0.25753508 0.25724583 0.25696234 0.25668426 0.25641127\n",
      " 0.2561431  0.25587948 0.25562018 0.25536497 0.25511366 0.25486605\n",
      " 0.25462197 0.25438127 0.25414379 0.25390939 0.25367794 0.25344933\n",
      " 0.25322342 0.25300013 0.25277935 0.25256097 0.25234492 0.25213111\n",
      " 0.25191946 0.2517099  0.25150235 0.25129675 0.25109303 0.25089114\n",
      " 0.25069101 1.         1.         1.         1.         1.\n",
      " 1.         1.         1.         1.         1.         1.\n",
      " 1.         1.         1.         1.         1.         1.\n",
      " 1.         1.         1.         1.         1.         1.\n",
      " 1.         1.         1.         1.         1.         1.\n",
      " 1.         1.         1.         1.         1.         1.\n",
      " 1.         1.         1.         1.         1.         1.\n",
      " 1.         1.         1.         1.         1.         1.\n",
      " 1.         1.         1.         1.         1.         1.\n",
      " 1.         1.         1.         1.         1.         1.\n",
      " 1.         1.         1.         1.         1.         1.\n",
      " 1.         1.         1.         1.         1.         1.        ]\n"
     ]
    },
    {
     "name": "stderr",
     "output_type": "stream",
     "text": [
      "\n",
      " 53%|█████▎    | 80/150 [03:13<02:41,  2.31s/it]\u001b[A"
     ]
    },
    {
     "name": "stdout",
     "output_type": "stream",
     "text": [
      "[0.94088217 0.71910878 0.5953771  0.51834059 0.46553218 0.4266931\n",
      " 0.3968121  0.37320173 0.35425665 0.33891547 0.32641899 0.31619501\n",
      " 0.30779861 0.30087769 0.29515094 0.29039244 0.2864202  0.28308739\n",
      " 0.28027541 0.27788837 0.27584869 0.27409354 0.27257201 0.2712428\n",
      " 0.27007237 0.26903347 0.2681039  0.26726558 0.26650374 0.26580629\n",
      " 0.26516333 0.26456673 0.26400977 0.26348692 0.2629936  0.26252597\n",
      " 0.26208087 0.26165561 0.26124795 0.26085599 0.26047811 0.26011294\n",
      " 0.25975929 0.25941614 0.25908261 0.25875791 0.25844137 0.2581324\n",
      " 0.25783046 0.25753508 0.25724583 0.25696234 0.25668426 0.25641127\n",
      " 0.2561431  0.25587948 0.25562018 0.25536497 0.25511366 0.25486605\n",
      " 0.25462197 0.25438127 0.25414379 0.25390939 0.25367794 0.25344933\n",
      " 0.25322342 0.25300013 0.25277935 0.25256097 0.25234492 0.25213111\n",
      " 0.25191946 0.2517099  0.25150235 0.25129675 0.25109303 0.25089114\n",
      " 0.25069101 0.2504926  1.         1.         1.         1.\n",
      " 1.         1.         1.         1.         1.         1.\n",
      " 1.         1.         1.         1.         1.         1.\n",
      " 1.         1.         1.         1.         1.         1.\n",
      " 1.         1.         1.         1.         1.         1.\n",
      " 1.         1.         1.         1.         1.         1.\n",
      " 1.         1.         1.         1.         1.         1.\n",
      " 1.         1.         1.         1.         1.         1.\n",
      " 1.         1.         1.         1.         1.         1.\n",
      " 1.         1.         1.         1.         1.         1.\n",
      " 1.         1.         1.         1.         1.         1.\n",
      " 1.         1.         1.         1.         1.         1.        ]\n"
     ]
    },
    {
     "name": "stderr",
     "output_type": "stream",
     "text": [
      "\n",
      " 54%|█████▍    | 81/150 [03:15<02:38,  2.30s/it]\u001b[A"
     ]
    },
    {
     "name": "stdout",
     "output_type": "stream",
     "text": [
      "[0.94088217 0.71910878 0.5953771  0.51834059 0.46553218 0.4266931\n",
      " 0.3968121  0.37320173 0.35425665 0.33891547 0.32641899 0.31619501\n",
      " 0.30779861 0.30087769 0.29515094 0.29039244 0.2864202  0.28308739\n",
      " 0.28027541 0.27788837 0.27584869 0.27409354 0.27257201 0.2712428\n",
      " 0.27007237 0.26903347 0.2681039  0.26726558 0.26650374 0.26580629\n",
      " 0.26516333 0.26456673 0.26400977 0.26348692 0.2629936  0.26252597\n",
      " 0.26208087 0.26165561 0.26124795 0.26085599 0.26047811 0.26011294\n",
      " 0.25975929 0.25941614 0.25908261 0.25875791 0.25844137 0.2581324\n",
      " 0.25783046 0.25753508 0.25724583 0.25696234 0.25668426 0.25641127\n",
      " 0.2561431  0.25587948 0.25562018 0.25536497 0.25511366 0.25486605\n",
      " 0.25462197 0.25438127 0.25414379 0.25390939 0.25367794 0.25344933\n",
      " 0.25322342 0.25300013 0.25277935 0.25256097 0.25234492 0.25213111\n",
      " 0.25191946 0.2517099  0.25150235 0.25129675 0.25109303 0.25089114\n",
      " 0.25069101 0.2504926  0.25029585 1.         1.         1.\n",
      " 1.         1.         1.         1.         1.         1.\n",
      " 1.         1.         1.         1.         1.         1.\n",
      " 1.         1.         1.         1.         1.         1.\n",
      " 1.         1.         1.         1.         1.         1.\n",
      " 1.         1.         1.         1.         1.         1.\n",
      " 1.         1.         1.         1.         1.         1.\n",
      " 1.         1.         1.         1.         1.         1.\n",
      " 1.         1.         1.         1.         1.         1.\n",
      " 1.         1.         1.         1.         1.         1.\n",
      " 1.         1.         1.         1.         1.         1.\n",
      " 1.         1.         1.         1.         1.         1.        ]\n"
     ]
    },
    {
     "name": "stderr",
     "output_type": "stream",
     "text": [
      "\n",
      " 55%|█████▍    | 82/150 [03:18<02:36,  2.30s/it]\u001b[A"
     ]
    },
    {
     "name": "stdout",
     "output_type": "stream",
     "text": [
      "[0.94088217 0.71910878 0.5953771  0.51834059 0.46553218 0.4266931\n",
      " 0.3968121  0.37320173 0.35425665 0.33891547 0.32641899 0.31619501\n",
      " 0.30779861 0.30087769 0.29515094 0.29039244 0.2864202  0.28308739\n",
      " 0.28027541 0.27788837 0.27584869 0.27409354 0.27257201 0.2712428\n",
      " 0.27007237 0.26903347 0.2681039  0.26726558 0.26650374 0.26580629\n",
      " 0.26516333 0.26456673 0.26400977 0.26348692 0.2629936  0.26252597\n",
      " 0.26208087 0.26165561 0.26124795 0.26085599 0.26047811 0.26011294\n",
      " 0.25975929 0.25941614 0.25908261 0.25875791 0.25844137 0.2581324\n",
      " 0.25783046 0.25753508 0.25724583 0.25696234 0.25668426 0.25641127\n",
      " 0.2561431  0.25587948 0.25562018 0.25536497 0.25511366 0.25486605\n",
      " 0.25462197 0.25438127 0.25414379 0.25390939 0.25367794 0.25344933\n",
      " 0.25322342 0.25300013 0.25277935 0.25256097 0.25234492 0.25213111\n",
      " 0.25191946 0.2517099  0.25150235 0.25129675 0.25109303 0.25089114\n",
      " 0.25069101 0.2504926  0.25029585 0.25010071 1.         1.\n",
      " 1.         1.         1.         1.         1.         1.\n",
      " 1.         1.         1.         1.         1.         1.\n",
      " 1.         1.         1.         1.         1.         1.\n",
      " 1.         1.         1.         1.         1.         1.\n",
      " 1.         1.         1.         1.         1.         1.\n",
      " 1.         1.         1.         1.         1.         1.\n",
      " 1.         1.         1.         1.         1.         1.\n",
      " 1.         1.         1.         1.         1.         1.\n",
      " 1.         1.         1.         1.         1.         1.\n",
      " 1.         1.         1.         1.         1.         1.\n",
      " 1.         1.         1.         1.         1.         1.        ]\n"
     ]
    },
    {
     "name": "stderr",
     "output_type": "stream",
     "text": [
      "\n",
      " 55%|█████▌    | 83/150 [03:20<02:34,  2.30s/it]\u001b[A"
     ]
    },
    {
     "name": "stdout",
     "output_type": "stream",
     "text": [
      "[0.94088217 0.71910878 0.5953771  0.51834059 0.46553218 0.4266931\n",
      " 0.3968121  0.37320173 0.35425665 0.33891547 0.32641899 0.31619501\n",
      " 0.30779861 0.30087769 0.29515094 0.29039244 0.2864202  0.28308739\n",
      " 0.28027541 0.27788837 0.27584869 0.27409354 0.27257201 0.2712428\n",
      " 0.27007237 0.26903347 0.2681039  0.26726558 0.26650374 0.26580629\n",
      " 0.26516333 0.26456673 0.26400977 0.26348692 0.2629936  0.26252597\n",
      " 0.26208087 0.26165561 0.26124795 0.26085599 0.26047811 0.26011294\n",
      " 0.25975929 0.25941614 0.25908261 0.25875791 0.25844137 0.2581324\n",
      " 0.25783046 0.25753508 0.25724583 0.25696234 0.25668426 0.25641127\n",
      " 0.2561431  0.25587948 0.25562018 0.25536497 0.25511366 0.25486605\n",
      " 0.25462197 0.25438127 0.25414379 0.25390939 0.25367794 0.25344933\n",
      " 0.25322342 0.25300013 0.25277935 0.25256097 0.25234492 0.25213111\n",
      " 0.25191946 0.2517099  0.25150235 0.25129675 0.25109303 0.25089114\n",
      " 0.25069101 0.2504926  0.25029585 0.25010071 0.24990714 1.\n",
      " 1.         1.         1.         1.         1.         1.\n",
      " 1.         1.         1.         1.         1.         1.\n",
      " 1.         1.         1.         1.         1.         1.\n",
      " 1.         1.         1.         1.         1.         1.\n",
      " 1.         1.         1.         1.         1.         1.\n",
      " 1.         1.         1.         1.         1.         1.\n",
      " 1.         1.         1.         1.         1.         1.\n",
      " 1.         1.         1.         1.         1.         1.\n",
      " 1.         1.         1.         1.         1.         1.\n",
      " 1.         1.         1.         1.         1.         1.\n",
      " 1.         1.         1.         1.         1.         1.        ]\n"
     ]
    },
    {
     "name": "stderr",
     "output_type": "stream",
     "text": [
      "\n",
      " 56%|█████▌    | 84/150 [03:22<02:33,  2.33s/it]\u001b[A"
     ]
    },
    {
     "name": "stdout",
     "output_type": "stream",
     "text": [
      "[0.94088217 0.71910878 0.5953771  0.51834059 0.46553218 0.4266931\n",
      " 0.3968121  0.37320173 0.35425665 0.33891547 0.32641899 0.31619501\n",
      " 0.30779861 0.30087769 0.29515094 0.29039244 0.2864202  0.28308739\n",
      " 0.28027541 0.27788837 0.27584869 0.27409354 0.27257201 0.2712428\n",
      " 0.27007237 0.26903347 0.2681039  0.26726558 0.26650374 0.26580629\n",
      " 0.26516333 0.26456673 0.26400977 0.26348692 0.2629936  0.26252597\n",
      " 0.26208087 0.26165561 0.26124795 0.26085599 0.26047811 0.26011294\n",
      " 0.25975929 0.25941614 0.25908261 0.25875791 0.25844137 0.2581324\n",
      " 0.25783046 0.25753508 0.25724583 0.25696234 0.25668426 0.25641127\n",
      " 0.2561431  0.25587948 0.25562018 0.25536497 0.25511366 0.25486605\n",
      " 0.25462197 0.25438127 0.25414379 0.25390939 0.25367794 0.25344933\n",
      " 0.25322342 0.25300013 0.25277935 0.25256097 0.25234492 0.25213111\n",
      " 0.25191946 0.2517099  0.25150235 0.25129675 0.25109303 0.25089114\n",
      " 0.25069101 0.2504926  0.25029585 0.25010071 0.24990714 0.24971509\n",
      " 1.         1.         1.         1.         1.         1.\n",
      " 1.         1.         1.         1.         1.         1.\n",
      " 1.         1.         1.         1.         1.         1.\n",
      " 1.         1.         1.         1.         1.         1.\n",
      " 1.         1.         1.         1.         1.         1.\n",
      " 1.         1.         1.         1.         1.         1.\n",
      " 1.         1.         1.         1.         1.         1.\n",
      " 1.         1.         1.         1.         1.         1.\n",
      " 1.         1.         1.         1.         1.         1.\n",
      " 1.         1.         1.         1.         1.         1.\n",
      " 1.         1.         1.         1.         1.         1.        ]\n"
     ]
    },
    {
     "name": "stderr",
     "output_type": "stream",
     "text": [
      "\n",
      " 57%|█████▋    | 85/150 [03:25<02:35,  2.39s/it]\u001b[A"
     ]
    },
    {
     "name": "stdout",
     "output_type": "stream",
     "text": [
      "[0.94088217 0.71910878 0.5953771  0.51834059 0.46553218 0.4266931\n",
      " 0.3968121  0.37320173 0.35425665 0.33891547 0.32641899 0.31619501\n",
      " 0.30779861 0.30087769 0.29515094 0.29039244 0.2864202  0.28308739\n",
      " 0.28027541 0.27788837 0.27584869 0.27409354 0.27257201 0.2712428\n",
      " 0.27007237 0.26903347 0.2681039  0.26726558 0.26650374 0.26580629\n",
      " 0.26516333 0.26456673 0.26400977 0.26348692 0.2629936  0.26252597\n",
      " 0.26208087 0.26165561 0.26124795 0.26085599 0.26047811 0.26011294\n",
      " 0.25975929 0.25941614 0.25908261 0.25875791 0.25844137 0.2581324\n",
      " 0.25783046 0.25753508 0.25724583 0.25696234 0.25668426 0.25641127\n",
      " 0.2561431  0.25587948 0.25562018 0.25536497 0.25511366 0.25486605\n",
      " 0.25462197 0.25438127 0.25414379 0.25390939 0.25367794 0.25344933\n",
      " 0.25322342 0.25300013 0.25277935 0.25256097 0.25234492 0.25213111\n",
      " 0.25191946 0.2517099  0.25150235 0.25129675 0.25109303 0.25089114\n",
      " 0.25069101 0.2504926  0.25029585 0.25010071 0.24990714 0.24971509\n",
      " 0.24952452 1.         1.         1.         1.         1.\n",
      " 1.         1.         1.         1.         1.         1.\n",
      " 1.         1.         1.         1.         1.         1.\n",
      " 1.         1.         1.         1.         1.         1.\n",
      " 1.         1.         1.         1.         1.         1.\n",
      " 1.         1.         1.         1.         1.         1.\n",
      " 1.         1.         1.         1.         1.         1.\n",
      " 1.         1.         1.         1.         1.         1.\n",
      " 1.         1.         1.         1.         1.         1.\n",
      " 1.         1.         1.         1.         1.         1.\n",
      " 1.         1.         1.         1.         1.         1.        ]\n"
     ]
    },
    {
     "name": "stderr",
     "output_type": "stream",
     "text": [
      "\n",
      " 57%|█████▋    | 86/150 [03:27<02:35,  2.43s/it]\u001b[A"
     ]
    },
    {
     "name": "stdout",
     "output_type": "stream",
     "text": [
      "[0.94088217 0.71910878 0.5953771  0.51834059 0.46553218 0.4266931\n",
      " 0.3968121  0.37320173 0.35425665 0.33891547 0.32641899 0.31619501\n",
      " 0.30779861 0.30087769 0.29515094 0.29039244 0.2864202  0.28308739\n",
      " 0.28027541 0.27788837 0.27584869 0.27409354 0.27257201 0.2712428\n",
      " 0.27007237 0.26903347 0.2681039  0.26726558 0.26650374 0.26580629\n",
      " 0.26516333 0.26456673 0.26400977 0.26348692 0.2629936  0.26252597\n",
      " 0.26208087 0.26165561 0.26124795 0.26085599 0.26047811 0.26011294\n",
      " 0.25975929 0.25941614 0.25908261 0.25875791 0.25844137 0.2581324\n",
      " 0.25783046 0.25753508 0.25724583 0.25696234 0.25668426 0.25641127\n",
      " 0.2561431  0.25587948 0.25562018 0.25536497 0.25511366 0.25486605\n",
      " 0.25462197 0.25438127 0.25414379 0.25390939 0.25367794 0.25344933\n",
      " 0.25322342 0.25300013 0.25277935 0.25256097 0.25234492 0.25213111\n",
      " 0.25191946 0.2517099  0.25150235 0.25129675 0.25109303 0.25089114\n",
      " 0.25069101 0.2504926  0.25029585 0.25010071 0.24990714 0.24971509\n",
      " 0.24952452 0.2493354  1.         1.         1.         1.\n",
      " 1.         1.         1.         1.         1.         1.\n",
      " 1.         1.         1.         1.         1.         1.\n",
      " 1.         1.         1.         1.         1.         1.\n",
      " 1.         1.         1.         1.         1.         1.\n",
      " 1.         1.         1.         1.         1.         1.\n",
      " 1.         1.         1.         1.         1.         1.\n",
      " 1.         1.         1.         1.         1.         1.\n",
      " 1.         1.         1.         1.         1.         1.\n",
      " 1.         1.         1.         1.         1.         1.\n",
      " 1.         1.         1.         1.         1.         1.        ]\n"
     ]
    },
    {
     "name": "stderr",
     "output_type": "stream",
     "text": [
      "\n",
      " 58%|█████▊    | 87/150 [03:30<02:31,  2.40s/it]\u001b[A"
     ]
    },
    {
     "name": "stdout",
     "output_type": "stream",
     "text": [
      "[0.94088217 0.71910878 0.5953771  0.51834059 0.46553218 0.4266931\n",
      " 0.3968121  0.37320173 0.35425665 0.33891547 0.32641899 0.31619501\n",
      " 0.30779861 0.30087769 0.29515094 0.29039244 0.2864202  0.28308739\n",
      " 0.28027541 0.27788837 0.27584869 0.27409354 0.27257201 0.2712428\n",
      " 0.27007237 0.26903347 0.2681039  0.26726558 0.26650374 0.26580629\n",
      " 0.26516333 0.26456673 0.26400977 0.26348692 0.2629936  0.26252597\n",
      " 0.26208087 0.26165561 0.26124795 0.26085599 0.26047811 0.26011294\n",
      " 0.25975929 0.25941614 0.25908261 0.25875791 0.25844137 0.2581324\n",
      " 0.25783046 0.25753508 0.25724583 0.25696234 0.25668426 0.25641127\n",
      " 0.2561431  0.25587948 0.25562018 0.25536497 0.25511366 0.25486605\n",
      " 0.25462197 0.25438127 0.25414379 0.25390939 0.25367794 0.25344933\n",
      " 0.25322342 0.25300013 0.25277935 0.25256097 0.25234492 0.25213111\n",
      " 0.25191946 0.2517099  0.25150235 0.25129675 0.25109303 0.25089114\n",
      " 0.25069101 0.2504926  0.25029585 0.25010071 0.24990714 0.24971509\n",
      " 0.24952452 0.2493354  0.24914767 1.         1.         1.\n",
      " 1.         1.         1.         1.         1.         1.\n",
      " 1.         1.         1.         1.         1.         1.\n",
      " 1.         1.         1.         1.         1.         1.\n",
      " 1.         1.         1.         1.         1.         1.\n",
      " 1.         1.         1.         1.         1.         1.\n",
      " 1.         1.         1.         1.         1.         1.\n",
      " 1.         1.         1.         1.         1.         1.\n",
      " 1.         1.         1.         1.         1.         1.\n",
      " 1.         1.         1.         1.         1.         1.\n",
      " 1.         1.         1.         1.         1.         1.        ]\n"
     ]
    },
    {
     "name": "stderr",
     "output_type": "stream",
     "text": [
      "\n",
      " 59%|█████▊    | 88/150 [03:32<02:28,  2.39s/it]\u001b[A"
     ]
    },
    {
     "name": "stdout",
     "output_type": "stream",
     "text": [
      "[0.94088217 0.71910878 0.5953771  0.51834059 0.46553218 0.4266931\n",
      " 0.3968121  0.37320173 0.35425665 0.33891547 0.32641899 0.31619501\n",
      " 0.30779861 0.30087769 0.29515094 0.29039244 0.2864202  0.28308739\n",
      " 0.28027541 0.27788837 0.27584869 0.27409354 0.27257201 0.2712428\n",
      " 0.27007237 0.26903347 0.2681039  0.26726558 0.26650374 0.26580629\n",
      " 0.26516333 0.26456673 0.26400977 0.26348692 0.2629936  0.26252597\n",
      " 0.26208087 0.26165561 0.26124795 0.26085599 0.26047811 0.26011294\n",
      " 0.25975929 0.25941614 0.25908261 0.25875791 0.25844137 0.2581324\n",
      " 0.25783046 0.25753508 0.25724583 0.25696234 0.25668426 0.25641127\n",
      " 0.2561431  0.25587948 0.25562018 0.25536497 0.25511366 0.25486605\n",
      " 0.25462197 0.25438127 0.25414379 0.25390939 0.25367794 0.25344933\n",
      " 0.25322342 0.25300013 0.25277935 0.25256097 0.25234492 0.25213111\n",
      " 0.25191946 0.2517099  0.25150235 0.25129675 0.25109303 0.25089114\n",
      " 0.25069101 0.2504926  0.25029585 0.25010071 0.24990714 0.24971509\n",
      " 0.24952452 0.2493354  0.24914767 0.24896131 1.         1.\n",
      " 1.         1.         1.         1.         1.         1.\n",
      " 1.         1.         1.         1.         1.         1.\n",
      " 1.         1.         1.         1.         1.         1.\n",
      " 1.         1.         1.         1.         1.         1.\n",
      " 1.         1.         1.         1.         1.         1.\n",
      " 1.         1.         1.         1.         1.         1.\n",
      " 1.         1.         1.         1.         1.         1.\n",
      " 1.         1.         1.         1.         1.         1.\n",
      " 1.         1.         1.         1.         1.         1.\n",
      " 1.         1.         1.         1.         1.         1.        ]\n"
     ]
    },
    {
     "name": "stderr",
     "output_type": "stream",
     "text": [
      "\n",
      " 59%|█████▉    | 89/150 [03:34<02:23,  2.35s/it]\u001b[A"
     ]
    },
    {
     "name": "stdout",
     "output_type": "stream",
     "text": [
      "[0.94088217 0.71910878 0.5953771  0.51834059 0.46553218 0.4266931\n",
      " 0.3968121  0.37320173 0.35425665 0.33891547 0.32641899 0.31619501\n",
      " 0.30779861 0.30087769 0.29515094 0.29039244 0.2864202  0.28308739\n",
      " 0.28027541 0.27788837 0.27584869 0.27409354 0.27257201 0.2712428\n",
      " 0.27007237 0.26903347 0.2681039  0.26726558 0.26650374 0.26580629\n",
      " 0.26516333 0.26456673 0.26400977 0.26348692 0.2629936  0.26252597\n",
      " 0.26208087 0.26165561 0.26124795 0.26085599 0.26047811 0.26011294\n",
      " 0.25975929 0.25941614 0.25908261 0.25875791 0.25844137 0.2581324\n",
      " 0.25783046 0.25753508 0.25724583 0.25696234 0.25668426 0.25641127\n",
      " 0.2561431  0.25587948 0.25562018 0.25536497 0.25511366 0.25486605\n",
      " 0.25462197 0.25438127 0.25414379 0.25390939 0.25367794 0.25344933\n",
      " 0.25322342 0.25300013 0.25277935 0.25256097 0.25234492 0.25213111\n",
      " 0.25191946 0.2517099  0.25150235 0.25129675 0.25109303 0.25089114\n",
      " 0.25069101 0.2504926  0.25029585 0.25010071 0.24990714 0.24971509\n",
      " 0.24952452 0.2493354  0.24914767 0.24896131 0.24877628 1.\n",
      " 1.         1.         1.         1.         1.         1.\n",
      " 1.         1.         1.         1.         1.         1.\n",
      " 1.         1.         1.         1.         1.         1.\n",
      " 1.         1.         1.         1.         1.         1.\n",
      " 1.         1.         1.         1.         1.         1.\n",
      " 1.         1.         1.         1.         1.         1.\n",
      " 1.         1.         1.         1.         1.         1.\n",
      " 1.         1.         1.         1.         1.         1.\n",
      " 1.         1.         1.         1.         1.         1.\n",
      " 1.         1.         1.         1.         1.         1.        ]\n"
     ]
    },
    {
     "name": "stderr",
     "output_type": "stream",
     "text": [
      "\n",
      " 60%|██████    | 90/150 [03:37<02:20,  2.34s/it]\u001b[A"
     ]
    },
    {
     "name": "stdout",
     "output_type": "stream",
     "text": [
      "[0.94088217 0.71910878 0.5953771  0.51834059 0.46553218 0.4266931\n",
      " 0.3968121  0.37320173 0.35425665 0.33891547 0.32641899 0.31619501\n",
      " 0.30779861 0.30087769 0.29515094 0.29039244 0.2864202  0.28308739\n",
      " 0.28027541 0.27788837 0.27584869 0.27409354 0.27257201 0.2712428\n",
      " 0.27007237 0.26903347 0.2681039  0.26726558 0.26650374 0.26580629\n",
      " 0.26516333 0.26456673 0.26400977 0.26348692 0.2629936  0.26252597\n",
      " 0.26208087 0.26165561 0.26124795 0.26085599 0.26047811 0.26011294\n",
      " 0.25975929 0.25941614 0.25908261 0.25875791 0.25844137 0.2581324\n",
      " 0.25783046 0.25753508 0.25724583 0.25696234 0.25668426 0.25641127\n",
      " 0.2561431  0.25587948 0.25562018 0.25536497 0.25511366 0.25486605\n",
      " 0.25462197 0.25438127 0.25414379 0.25390939 0.25367794 0.25344933\n",
      " 0.25322342 0.25300013 0.25277935 0.25256097 0.25234492 0.25213111\n",
      " 0.25191946 0.2517099  0.25150235 0.25129675 0.25109303 0.25089114\n",
      " 0.25069101 0.2504926  0.25029585 0.25010071 0.24990714 0.24971509\n",
      " 0.24952452 0.2493354  0.24914767 0.24896131 0.24877628 0.24859255\n",
      " 1.         1.         1.         1.         1.         1.\n",
      " 1.         1.         1.         1.         1.         1.\n",
      " 1.         1.         1.         1.         1.         1.\n",
      " 1.         1.         1.         1.         1.         1.\n",
      " 1.         1.         1.         1.         1.         1.\n",
      " 1.         1.         1.         1.         1.         1.\n",
      " 1.         1.         1.         1.         1.         1.\n",
      " 1.         1.         1.         1.         1.         1.\n",
      " 1.         1.         1.         1.         1.         1.\n",
      " 1.         1.         1.         1.         1.         1.        ]\n"
     ]
    },
    {
     "name": "stderr",
     "output_type": "stream",
     "text": [
      "\n",
      " 61%|██████    | 91/150 [03:39<02:19,  2.37s/it]\u001b[A"
     ]
    },
    {
     "name": "stdout",
     "output_type": "stream",
     "text": [
      "[0.94088217 0.71910878 0.5953771  0.51834059 0.46553218 0.4266931\n",
      " 0.3968121  0.37320173 0.35425665 0.33891547 0.32641899 0.31619501\n",
      " 0.30779861 0.30087769 0.29515094 0.29039244 0.2864202  0.28308739\n",
      " 0.28027541 0.27788837 0.27584869 0.27409354 0.27257201 0.2712428\n",
      " 0.27007237 0.26903347 0.2681039  0.26726558 0.26650374 0.26580629\n",
      " 0.26516333 0.26456673 0.26400977 0.26348692 0.2629936  0.26252597\n",
      " 0.26208087 0.26165561 0.26124795 0.26085599 0.26047811 0.26011294\n",
      " 0.25975929 0.25941614 0.25908261 0.25875791 0.25844137 0.2581324\n",
      " 0.25783046 0.25753508 0.25724583 0.25696234 0.25668426 0.25641127\n",
      " 0.2561431  0.25587948 0.25562018 0.25536497 0.25511366 0.25486605\n",
      " 0.25462197 0.25438127 0.25414379 0.25390939 0.25367794 0.25344933\n",
      " 0.25322342 0.25300013 0.25277935 0.25256097 0.25234492 0.25213111\n",
      " 0.25191946 0.2517099  0.25150235 0.25129675 0.25109303 0.25089114\n",
      " 0.25069101 0.2504926  0.25029585 0.25010071 0.24990714 0.24971509\n",
      " 0.24952452 0.2493354  0.24914767 0.24896131 0.24877628 0.24859255\n",
      " 0.24841008 1.         1.         1.         1.         1.\n",
      " 1.         1.         1.         1.         1.         1.\n",
      " 1.         1.         1.         1.         1.         1.\n",
      " 1.         1.         1.         1.         1.         1.\n",
      " 1.         1.         1.         1.         1.         1.\n",
      " 1.         1.         1.         1.         1.         1.\n",
      " 1.         1.         1.         1.         1.         1.\n",
      " 1.         1.         1.         1.         1.         1.\n",
      " 1.         1.         1.         1.         1.         1.\n",
      " 1.         1.         1.         1.         1.         1.        ]\n"
     ]
    },
    {
     "name": "stderr",
     "output_type": "stream",
     "text": [
      "\n",
      " 61%|██████▏   | 92/150 [03:41<02:16,  2.36s/it]\u001b[A"
     ]
    },
    {
     "name": "stdout",
     "output_type": "stream",
     "text": [
      "[0.94088217 0.71910878 0.5953771  0.51834059 0.46553218 0.4266931\n",
      " 0.3968121  0.37320173 0.35425665 0.33891547 0.32641899 0.31619501\n",
      " 0.30779861 0.30087769 0.29515094 0.29039244 0.2864202  0.28308739\n",
      " 0.28027541 0.27788837 0.27584869 0.27409354 0.27257201 0.2712428\n",
      " 0.27007237 0.26903347 0.2681039  0.26726558 0.26650374 0.26580629\n",
      " 0.26516333 0.26456673 0.26400977 0.26348692 0.2629936  0.26252597\n",
      " 0.26208087 0.26165561 0.26124795 0.26085599 0.26047811 0.26011294\n",
      " 0.25975929 0.25941614 0.25908261 0.25875791 0.25844137 0.2581324\n",
      " 0.25783046 0.25753508 0.25724583 0.25696234 0.25668426 0.25641127\n",
      " 0.2561431  0.25587948 0.25562018 0.25536497 0.25511366 0.25486605\n",
      " 0.25462197 0.25438127 0.25414379 0.25390939 0.25367794 0.25344933\n",
      " 0.25322342 0.25300013 0.25277935 0.25256097 0.25234492 0.25213111\n",
      " 0.25191946 0.2517099  0.25150235 0.25129675 0.25109303 0.25089114\n",
      " 0.25069101 0.2504926  0.25029585 0.25010071 0.24990714 0.24971509\n",
      " 0.24952452 0.2493354  0.24914767 0.24896131 0.24877628 0.24859255\n",
      " 0.24841008 0.24822884 1.         1.         1.         1.\n",
      " 1.         1.         1.         1.         1.         1.\n",
      " 1.         1.         1.         1.         1.         1.\n",
      " 1.         1.         1.         1.         1.         1.\n",
      " 1.         1.         1.         1.         1.         1.\n",
      " 1.         1.         1.         1.         1.         1.\n",
      " 1.         1.         1.         1.         1.         1.\n",
      " 1.         1.         1.         1.         1.         1.\n",
      " 1.         1.         1.         1.         1.         1.\n",
      " 1.         1.         1.         1.         1.         1.        ]\n"
     ]
    },
    {
     "name": "stderr",
     "output_type": "stream",
     "text": [
      "\n",
      " 62%|██████▏   | 93/150 [03:44<02:13,  2.35s/it]\u001b[A"
     ]
    },
    {
     "name": "stdout",
     "output_type": "stream",
     "text": [
      "[0.94088217 0.71910878 0.5953771  0.51834059 0.46553218 0.4266931\n",
      " 0.3968121  0.37320173 0.35425665 0.33891547 0.32641899 0.31619501\n",
      " 0.30779861 0.30087769 0.29515094 0.29039244 0.2864202  0.28308739\n",
      " 0.28027541 0.27788837 0.27584869 0.27409354 0.27257201 0.2712428\n",
      " 0.27007237 0.26903347 0.2681039  0.26726558 0.26650374 0.26580629\n",
      " 0.26516333 0.26456673 0.26400977 0.26348692 0.2629936  0.26252597\n",
      " 0.26208087 0.26165561 0.26124795 0.26085599 0.26047811 0.26011294\n",
      " 0.25975929 0.25941614 0.25908261 0.25875791 0.25844137 0.2581324\n",
      " 0.25783046 0.25753508 0.25724583 0.25696234 0.25668426 0.25641127\n",
      " 0.2561431  0.25587948 0.25562018 0.25536497 0.25511366 0.25486605\n",
      " 0.25462197 0.25438127 0.25414379 0.25390939 0.25367794 0.25344933\n",
      " 0.25322342 0.25300013 0.25277935 0.25256097 0.25234492 0.25213111\n",
      " 0.25191946 0.2517099  0.25150235 0.25129675 0.25109303 0.25089114\n",
      " 0.25069101 0.2504926  0.25029585 0.25010071 0.24990714 0.24971509\n",
      " 0.24952452 0.2493354  0.24914767 0.24896131 0.24877628 0.24859255\n",
      " 0.24841008 0.24822884 0.24804881 1.         1.         1.\n",
      " 1.         1.         1.         1.         1.         1.\n",
      " 1.         1.         1.         1.         1.         1.\n",
      " 1.         1.         1.         1.         1.         1.\n",
      " 1.         1.         1.         1.         1.         1.\n",
      " 1.         1.         1.         1.         1.         1.\n",
      " 1.         1.         1.         1.         1.         1.\n",
      " 1.         1.         1.         1.         1.         1.\n",
      " 1.         1.         1.         1.         1.         1.\n",
      " 1.         1.         1.         1.         1.         1.        ]\n"
     ]
    },
    {
     "name": "stderr",
     "output_type": "stream",
     "text": [
      "\n",
      " 63%|██████▎   | 94/150 [03:46<02:11,  2.34s/it]\u001b[A"
     ]
    },
    {
     "name": "stdout",
     "output_type": "stream",
     "text": [
      "[0.94088217 0.71910878 0.5953771  0.51834059 0.46553218 0.4266931\n",
      " 0.3968121  0.37320173 0.35425665 0.33891547 0.32641899 0.31619501\n",
      " 0.30779861 0.30087769 0.29515094 0.29039244 0.2864202  0.28308739\n",
      " 0.28027541 0.27788837 0.27584869 0.27409354 0.27257201 0.2712428\n",
      " 0.27007237 0.26903347 0.2681039  0.26726558 0.26650374 0.26580629\n",
      " 0.26516333 0.26456673 0.26400977 0.26348692 0.2629936  0.26252597\n",
      " 0.26208087 0.26165561 0.26124795 0.26085599 0.26047811 0.26011294\n",
      " 0.25975929 0.25941614 0.25908261 0.25875791 0.25844137 0.2581324\n",
      " 0.25783046 0.25753508 0.25724583 0.25696234 0.25668426 0.25641127\n",
      " 0.2561431  0.25587948 0.25562018 0.25536497 0.25511366 0.25486605\n",
      " 0.25462197 0.25438127 0.25414379 0.25390939 0.25367794 0.25344933\n",
      " 0.25322342 0.25300013 0.25277935 0.25256097 0.25234492 0.25213111\n",
      " 0.25191946 0.2517099  0.25150235 0.25129675 0.25109303 0.25089114\n",
      " 0.25069101 0.2504926  0.25029585 0.25010071 0.24990714 0.24971509\n",
      " 0.24952452 0.2493354  0.24914767 0.24896131 0.24877628 0.24859255\n",
      " 0.24841008 0.24822884 0.24804881 0.24786996 1.         1.\n",
      " 1.         1.         1.         1.         1.         1.\n",
      " 1.         1.         1.         1.         1.         1.\n",
      " 1.         1.         1.         1.         1.         1.\n",
      " 1.         1.         1.         1.         1.         1.\n",
      " 1.         1.         1.         1.         1.         1.\n",
      " 1.         1.         1.         1.         1.         1.\n",
      " 1.         1.         1.         1.         1.         1.\n",
      " 1.         1.         1.         1.         1.         1.\n",
      " 1.         1.         1.         1.         1.         1.        ]\n"
     ]
    },
    {
     "name": "stderr",
     "output_type": "stream",
     "text": [
      "\n",
      " 63%|██████▎   | 95/150 [03:48<02:08,  2.34s/it]\u001b[A"
     ]
    },
    {
     "name": "stdout",
     "output_type": "stream",
     "text": [
      "[0.94088217 0.71910878 0.5953771  0.51834059 0.46553218 0.4266931\n",
      " 0.3968121  0.37320173 0.35425665 0.33891547 0.32641899 0.31619501\n",
      " 0.30779861 0.30087769 0.29515094 0.29039244 0.2864202  0.28308739\n",
      " 0.28027541 0.27788837 0.27584869 0.27409354 0.27257201 0.2712428\n",
      " 0.27007237 0.26903347 0.2681039  0.26726558 0.26650374 0.26580629\n",
      " 0.26516333 0.26456673 0.26400977 0.26348692 0.2629936  0.26252597\n",
      " 0.26208087 0.26165561 0.26124795 0.26085599 0.26047811 0.26011294\n",
      " 0.25975929 0.25941614 0.25908261 0.25875791 0.25844137 0.2581324\n",
      " 0.25783046 0.25753508 0.25724583 0.25696234 0.25668426 0.25641127\n",
      " 0.2561431  0.25587948 0.25562018 0.25536497 0.25511366 0.25486605\n",
      " 0.25462197 0.25438127 0.25414379 0.25390939 0.25367794 0.25344933\n",
      " 0.25322342 0.25300013 0.25277935 0.25256097 0.25234492 0.25213111\n",
      " 0.25191946 0.2517099  0.25150235 0.25129675 0.25109303 0.25089114\n",
      " 0.25069101 0.2504926  0.25029585 0.25010071 0.24990714 0.24971509\n",
      " 0.24952452 0.2493354  0.24914767 0.24896131 0.24877628 0.24859255\n",
      " 0.24841008 0.24822884 0.24804881 0.24786996 0.24769226 1.\n",
      " 1.         1.         1.         1.         1.         1.\n",
      " 1.         1.         1.         1.         1.         1.\n",
      " 1.         1.         1.         1.         1.         1.\n",
      " 1.         1.         1.         1.         1.         1.\n",
      " 1.         1.         1.         1.         1.         1.\n",
      " 1.         1.         1.         1.         1.         1.\n",
      " 1.         1.         1.         1.         1.         1.\n",
      " 1.         1.         1.         1.         1.         1.\n",
      " 1.         1.         1.         1.         1.         1.        ]\n"
     ]
    },
    {
     "name": "stderr",
     "output_type": "stream",
     "text": [
      "\n",
      " 64%|██████▍   | 96/150 [03:51<02:06,  2.34s/it]\u001b[A"
     ]
    },
    {
     "name": "stdout",
     "output_type": "stream",
     "text": [
      "[0.94088217 0.71910878 0.5953771  0.51834059 0.46553218 0.4266931\n",
      " 0.3968121  0.37320173 0.35425665 0.33891547 0.32641899 0.31619501\n",
      " 0.30779861 0.30087769 0.29515094 0.29039244 0.2864202  0.28308739\n",
      " 0.28027541 0.27788837 0.27584869 0.27409354 0.27257201 0.2712428\n",
      " 0.27007237 0.26903347 0.2681039  0.26726558 0.26650374 0.26580629\n",
      " 0.26516333 0.26456673 0.26400977 0.26348692 0.2629936  0.26252597\n",
      " 0.26208087 0.26165561 0.26124795 0.26085599 0.26047811 0.26011294\n",
      " 0.25975929 0.25941614 0.25908261 0.25875791 0.25844137 0.2581324\n",
      " 0.25783046 0.25753508 0.25724583 0.25696234 0.25668426 0.25641127\n",
      " 0.2561431  0.25587948 0.25562018 0.25536497 0.25511366 0.25486605\n",
      " 0.25462197 0.25438127 0.25414379 0.25390939 0.25367794 0.25344933\n",
      " 0.25322342 0.25300013 0.25277935 0.25256097 0.25234492 0.25213111\n",
      " 0.25191946 0.2517099  0.25150235 0.25129675 0.25109303 0.25089114\n",
      " 0.25069101 0.2504926  0.25029585 0.25010071 0.24990714 0.24971509\n",
      " 0.24952452 0.2493354  0.24914767 0.24896131 0.24877628 0.24859255\n",
      " 0.24841008 0.24822884 0.24804881 0.24786996 0.24769226 0.24751568\n",
      " 1.         1.         1.         1.         1.         1.\n",
      " 1.         1.         1.         1.         1.         1.\n",
      " 1.         1.         1.         1.         1.         1.\n",
      " 1.         1.         1.         1.         1.         1.\n",
      " 1.         1.         1.         1.         1.         1.\n",
      " 1.         1.         1.         1.         1.         1.\n",
      " 1.         1.         1.         1.         1.         1.\n",
      " 1.         1.         1.         1.         1.         1.\n",
      " 1.         1.         1.         1.         1.         1.        ]\n"
     ]
    },
    {
     "name": "stderr",
     "output_type": "stream",
     "text": [
      "\n",
      " 65%|██████▍   | 97/150 [03:53<02:03,  2.33s/it]\u001b[A"
     ]
    },
    {
     "name": "stdout",
     "output_type": "stream",
     "text": [
      "[0.94088217 0.71910878 0.5953771  0.51834059 0.46553218 0.4266931\n",
      " 0.3968121  0.37320173 0.35425665 0.33891547 0.32641899 0.31619501\n",
      " 0.30779861 0.30087769 0.29515094 0.29039244 0.2864202  0.28308739\n",
      " 0.28027541 0.27788837 0.27584869 0.27409354 0.27257201 0.2712428\n",
      " 0.27007237 0.26903347 0.2681039  0.26726558 0.26650374 0.26580629\n",
      " 0.26516333 0.26456673 0.26400977 0.26348692 0.2629936  0.26252597\n",
      " 0.26208087 0.26165561 0.26124795 0.26085599 0.26047811 0.26011294\n",
      " 0.25975929 0.25941614 0.25908261 0.25875791 0.25844137 0.2581324\n",
      " 0.25783046 0.25753508 0.25724583 0.25696234 0.25668426 0.25641127\n",
      " 0.2561431  0.25587948 0.25562018 0.25536497 0.25511366 0.25486605\n",
      " 0.25462197 0.25438127 0.25414379 0.25390939 0.25367794 0.25344933\n",
      " 0.25322342 0.25300013 0.25277935 0.25256097 0.25234492 0.25213111\n",
      " 0.25191946 0.2517099  0.25150235 0.25129675 0.25109303 0.25089114\n",
      " 0.25069101 0.2504926  0.25029585 0.25010071 0.24990714 0.24971509\n",
      " 0.24952452 0.2493354  0.24914767 0.24896131 0.24877628 0.24859255\n",
      " 0.24841008 0.24822884 0.24804881 0.24786996 0.24769226 0.24751568\n",
      " 0.2473402  1.         1.         1.         1.         1.\n",
      " 1.         1.         1.         1.         1.         1.\n",
      " 1.         1.         1.         1.         1.         1.\n",
      " 1.         1.         1.         1.         1.         1.\n",
      " 1.         1.         1.         1.         1.         1.\n",
      " 1.         1.         1.         1.         1.         1.\n",
      " 1.         1.         1.         1.         1.         1.\n",
      " 1.         1.         1.         1.         1.         1.\n",
      " 1.         1.         1.         1.         1.         1.        ]\n"
     ]
    },
    {
     "name": "stderr",
     "output_type": "stream",
     "text": [
      "\n",
      " 65%|██████▌   | 98/150 [03:55<02:00,  2.32s/it]\u001b[A"
     ]
    },
    {
     "name": "stdout",
     "output_type": "stream",
     "text": [
      "[0.94088217 0.71910878 0.5953771  0.51834059 0.46553218 0.4266931\n",
      " 0.3968121  0.37320173 0.35425665 0.33891547 0.32641899 0.31619501\n",
      " 0.30779861 0.30087769 0.29515094 0.29039244 0.2864202  0.28308739\n",
      " 0.28027541 0.27788837 0.27584869 0.27409354 0.27257201 0.2712428\n",
      " 0.27007237 0.26903347 0.2681039  0.26726558 0.26650374 0.26580629\n",
      " 0.26516333 0.26456673 0.26400977 0.26348692 0.2629936  0.26252597\n",
      " 0.26208087 0.26165561 0.26124795 0.26085599 0.26047811 0.26011294\n",
      " 0.25975929 0.25941614 0.25908261 0.25875791 0.25844137 0.2581324\n",
      " 0.25783046 0.25753508 0.25724583 0.25696234 0.25668426 0.25641127\n",
      " 0.2561431  0.25587948 0.25562018 0.25536497 0.25511366 0.25486605\n",
      " 0.25462197 0.25438127 0.25414379 0.25390939 0.25367794 0.25344933\n",
      " 0.25322342 0.25300013 0.25277935 0.25256097 0.25234492 0.25213111\n",
      " 0.25191946 0.2517099  0.25150235 0.25129675 0.25109303 0.25089114\n",
      " 0.25069101 0.2504926  0.25029585 0.25010071 0.24990714 0.24971509\n",
      " 0.24952452 0.2493354  0.24914767 0.24896131 0.24877628 0.24859255\n",
      " 0.24841008 0.24822884 0.24804881 0.24786996 0.24769226 0.24751568\n",
      " 0.2473402  0.24716579 1.         1.         1.         1.\n",
      " 1.         1.         1.         1.         1.         1.\n",
      " 1.         1.         1.         1.         1.         1.\n",
      " 1.         1.         1.         1.         1.         1.\n",
      " 1.         1.         1.         1.         1.         1.\n",
      " 1.         1.         1.         1.         1.         1.\n",
      " 1.         1.         1.         1.         1.         1.\n",
      " 1.         1.         1.         1.         1.         1.\n",
      " 1.         1.         1.         1.         1.         1.        ]\n"
     ]
    },
    {
     "name": "stderr",
     "output_type": "stream",
     "text": [
      "\n",
      " 66%|██████▌   | 99/150 [03:58<01:57,  2.31s/it]\u001b[A"
     ]
    },
    {
     "name": "stdout",
     "output_type": "stream",
     "text": [
      "[0.94088217 0.71910878 0.5953771  0.51834059 0.46553218 0.4266931\n",
      " 0.3968121  0.37320173 0.35425665 0.33891547 0.32641899 0.31619501\n",
      " 0.30779861 0.30087769 0.29515094 0.29039244 0.2864202  0.28308739\n",
      " 0.28027541 0.27788837 0.27584869 0.27409354 0.27257201 0.2712428\n",
      " 0.27007237 0.26903347 0.2681039  0.26726558 0.26650374 0.26580629\n",
      " 0.26516333 0.26456673 0.26400977 0.26348692 0.2629936  0.26252597\n",
      " 0.26208087 0.26165561 0.26124795 0.26085599 0.26047811 0.26011294\n",
      " 0.25975929 0.25941614 0.25908261 0.25875791 0.25844137 0.2581324\n",
      " 0.25783046 0.25753508 0.25724583 0.25696234 0.25668426 0.25641127\n",
      " 0.2561431  0.25587948 0.25562018 0.25536497 0.25511366 0.25486605\n",
      " 0.25462197 0.25438127 0.25414379 0.25390939 0.25367794 0.25344933\n",
      " 0.25322342 0.25300013 0.25277935 0.25256097 0.25234492 0.25213111\n",
      " 0.25191946 0.2517099  0.25150235 0.25129675 0.25109303 0.25089114\n",
      " 0.25069101 0.2504926  0.25029585 0.25010071 0.24990714 0.24971509\n",
      " 0.24952452 0.2493354  0.24914767 0.24896131 0.24877628 0.24859255\n",
      " 0.24841008 0.24822884 0.24804881 0.24786996 0.24769226 0.24751568\n",
      " 0.2473402  0.24716579 0.24699243 1.         1.         1.\n",
      " 1.         1.         1.         1.         1.         1.\n",
      " 1.         1.         1.         1.         1.         1.\n",
      " 1.         1.         1.         1.         1.         1.\n",
      " 1.         1.         1.         1.         1.         1.\n",
      " 1.         1.         1.         1.         1.         1.\n",
      " 1.         1.         1.         1.         1.         1.\n",
      " 1.         1.         1.         1.         1.         1.\n",
      " 1.         1.         1.         1.         1.         1.        ]\n"
     ]
    },
    {
     "name": "stderr",
     "output_type": "stream",
     "text": [
      "\n",
      " 67%|██████▋   | 100/150 [04:00<01:56,  2.32s/it]\u001b[A"
     ]
    },
    {
     "name": "stdout",
     "output_type": "stream",
     "text": [
      "[0.94088217 0.71910878 0.5953771  0.51834059 0.46553218 0.4266931\n",
      " 0.3968121  0.37320173 0.35425665 0.33891547 0.32641899 0.31619501\n",
      " 0.30779861 0.30087769 0.29515094 0.29039244 0.2864202  0.28308739\n",
      " 0.28027541 0.27788837 0.27584869 0.27409354 0.27257201 0.2712428\n",
      " 0.27007237 0.26903347 0.2681039  0.26726558 0.26650374 0.26580629\n",
      " 0.26516333 0.26456673 0.26400977 0.26348692 0.2629936  0.26252597\n",
      " 0.26208087 0.26165561 0.26124795 0.26085599 0.26047811 0.26011294\n",
      " 0.25975929 0.25941614 0.25908261 0.25875791 0.25844137 0.2581324\n",
      " 0.25783046 0.25753508 0.25724583 0.25696234 0.25668426 0.25641127\n",
      " 0.2561431  0.25587948 0.25562018 0.25536497 0.25511366 0.25486605\n",
      " 0.25462197 0.25438127 0.25414379 0.25390939 0.25367794 0.25344933\n",
      " 0.25322342 0.25300013 0.25277935 0.25256097 0.25234492 0.25213111\n",
      " 0.25191946 0.2517099  0.25150235 0.25129675 0.25109303 0.25089114\n",
      " 0.25069101 0.2504926  0.25029585 0.25010071 0.24990714 0.24971509\n",
      " 0.24952452 0.2493354  0.24914767 0.24896131 0.24877628 0.24859255\n",
      " 0.24841008 0.24822884 0.24804881 0.24786996 0.24769226 0.24751568\n",
      " 0.2473402  0.24716579 0.24699243 0.24682011 1.         1.\n",
      " 1.         1.         1.         1.         1.         1.\n",
      " 1.         1.         1.         1.         1.         1.\n",
      " 1.         1.         1.         1.         1.         1.\n",
      " 1.         1.         1.         1.         1.         1.\n",
      " 1.         1.         1.         1.         1.         1.\n",
      " 1.         1.         1.         1.         1.         1.\n",
      " 1.         1.         1.         1.         1.         1.\n",
      " 1.         1.         1.         1.         1.         1.        ]\n"
     ]
    },
    {
     "name": "stderr",
     "output_type": "stream",
     "text": [
      "\n",
      " 67%|██████▋   | 101/150 [04:02<01:53,  2.31s/it]\u001b[A"
     ]
    },
    {
     "name": "stdout",
     "output_type": "stream",
     "text": [
      "[0.94088217 0.71910878 0.5953771  0.51834059 0.46553218 0.4266931\n",
      " 0.3968121  0.37320173 0.35425665 0.33891547 0.32641899 0.31619501\n",
      " 0.30779861 0.30087769 0.29515094 0.29039244 0.2864202  0.28308739\n",
      " 0.28027541 0.27788837 0.27584869 0.27409354 0.27257201 0.2712428\n",
      " 0.27007237 0.26903347 0.2681039  0.26726558 0.26650374 0.26580629\n",
      " 0.26516333 0.26456673 0.26400977 0.26348692 0.2629936  0.26252597\n",
      " 0.26208087 0.26165561 0.26124795 0.26085599 0.26047811 0.26011294\n",
      " 0.25975929 0.25941614 0.25908261 0.25875791 0.25844137 0.2581324\n",
      " 0.25783046 0.25753508 0.25724583 0.25696234 0.25668426 0.25641127\n",
      " 0.2561431  0.25587948 0.25562018 0.25536497 0.25511366 0.25486605\n",
      " 0.25462197 0.25438127 0.25414379 0.25390939 0.25367794 0.25344933\n",
      " 0.25322342 0.25300013 0.25277935 0.25256097 0.25234492 0.25213111\n",
      " 0.25191946 0.2517099  0.25150235 0.25129675 0.25109303 0.25089114\n",
      " 0.25069101 0.2504926  0.25029585 0.25010071 0.24990714 0.24971509\n",
      " 0.24952452 0.2493354  0.24914767 0.24896131 0.24877628 0.24859255\n",
      " 0.24841008 0.24822884 0.24804881 0.24786996 0.24769226 0.24751568\n",
      " 0.2473402  0.24716579 0.24699243 0.24682011 0.24664879 1.\n",
      " 1.         1.         1.         1.         1.         1.\n",
      " 1.         1.         1.         1.         1.         1.\n",
      " 1.         1.         1.         1.         1.         1.\n",
      " 1.         1.         1.         1.         1.         1.\n",
      " 1.         1.         1.         1.         1.         1.\n",
      " 1.         1.         1.         1.         1.         1.\n",
      " 1.         1.         1.         1.         1.         1.\n",
      " 1.         1.         1.         1.         1.         1.        ]\n"
     ]
    },
    {
     "name": "stderr",
     "output_type": "stream",
     "text": [
      "\n",
      " 68%|██████▊   | 102/150 [04:04<01:50,  2.31s/it]\u001b[A"
     ]
    },
    {
     "name": "stdout",
     "output_type": "stream",
     "text": [
      "[0.94088217 0.71910878 0.5953771  0.51834059 0.46553218 0.4266931\n",
      " 0.3968121  0.37320173 0.35425665 0.33891547 0.32641899 0.31619501\n",
      " 0.30779861 0.30087769 0.29515094 0.29039244 0.2864202  0.28308739\n",
      " 0.28027541 0.27788837 0.27584869 0.27409354 0.27257201 0.2712428\n",
      " 0.27007237 0.26903347 0.2681039  0.26726558 0.26650374 0.26580629\n",
      " 0.26516333 0.26456673 0.26400977 0.26348692 0.2629936  0.26252597\n",
      " 0.26208087 0.26165561 0.26124795 0.26085599 0.26047811 0.26011294\n",
      " 0.25975929 0.25941614 0.25908261 0.25875791 0.25844137 0.2581324\n",
      " 0.25783046 0.25753508 0.25724583 0.25696234 0.25668426 0.25641127\n",
      " 0.2561431  0.25587948 0.25562018 0.25536497 0.25511366 0.25486605\n",
      " 0.25462197 0.25438127 0.25414379 0.25390939 0.25367794 0.25344933\n",
      " 0.25322342 0.25300013 0.25277935 0.25256097 0.25234492 0.25213111\n",
      " 0.25191946 0.2517099  0.25150235 0.25129675 0.25109303 0.25089114\n",
      " 0.25069101 0.2504926  0.25029585 0.25010071 0.24990714 0.24971509\n",
      " 0.24952452 0.2493354  0.24914767 0.24896131 0.24877628 0.24859255\n",
      " 0.24841008 0.24822884 0.24804881 0.24786996 0.24769226 0.24751568\n",
      " 0.2473402  0.24716579 0.24699243 0.24682011 0.24664879 0.24647846\n",
      " 1.         1.         1.         1.         1.         1.\n",
      " 1.         1.         1.         1.         1.         1.\n",
      " 1.         1.         1.         1.         1.         1.\n",
      " 1.         1.         1.         1.         1.         1.\n",
      " 1.         1.         1.         1.         1.         1.\n",
      " 1.         1.         1.         1.         1.         1.\n",
      " 1.         1.         1.         1.         1.         1.\n",
      " 1.         1.         1.         1.         1.         1.        ]\n"
     ]
    },
    {
     "name": "stderr",
     "output_type": "stream",
     "text": [
      "\n",
      " 69%|██████▊   | 103/150 [04:07<01:48,  2.30s/it]\u001b[A"
     ]
    },
    {
     "name": "stdout",
     "output_type": "stream",
     "text": [
      "[0.94088217 0.71910878 0.5953771  0.51834059 0.46553218 0.4266931\n",
      " 0.3968121  0.37320173 0.35425665 0.33891547 0.32641899 0.31619501\n",
      " 0.30779861 0.30087769 0.29515094 0.29039244 0.2864202  0.28308739\n",
      " 0.28027541 0.27788837 0.27584869 0.27409354 0.27257201 0.2712428\n",
      " 0.27007237 0.26903347 0.2681039  0.26726558 0.26650374 0.26580629\n",
      " 0.26516333 0.26456673 0.26400977 0.26348692 0.2629936  0.26252597\n",
      " 0.26208087 0.26165561 0.26124795 0.26085599 0.26047811 0.26011294\n",
      " 0.25975929 0.25941614 0.25908261 0.25875791 0.25844137 0.2581324\n",
      " 0.25783046 0.25753508 0.25724583 0.25696234 0.25668426 0.25641127\n",
      " 0.2561431  0.25587948 0.25562018 0.25536497 0.25511366 0.25486605\n",
      " 0.25462197 0.25438127 0.25414379 0.25390939 0.25367794 0.25344933\n",
      " 0.25322342 0.25300013 0.25277935 0.25256097 0.25234492 0.25213111\n",
      " 0.25191946 0.2517099  0.25150235 0.25129675 0.25109303 0.25089114\n",
      " 0.25069101 0.2504926  0.25029585 0.25010071 0.24990714 0.24971509\n",
      " 0.24952452 0.2493354  0.24914767 0.24896131 0.24877628 0.24859255\n",
      " 0.24841008 0.24822884 0.24804881 0.24786996 0.24769226 0.24751568\n",
      " 0.2473402  0.24716579 0.24699243 0.24682011 0.24664879 0.24647846\n",
      " 0.2463091  1.         1.         1.         1.         1.\n",
      " 1.         1.         1.         1.         1.         1.\n",
      " 1.         1.         1.         1.         1.         1.\n",
      " 1.         1.         1.         1.         1.         1.\n",
      " 1.         1.         1.         1.         1.         1.\n",
      " 1.         1.         1.         1.         1.         1.\n",
      " 1.         1.         1.         1.         1.         1.\n",
      " 1.         1.         1.         1.         1.         1.        ]\n"
     ]
    },
    {
     "name": "stderr",
     "output_type": "stream",
     "text": [
      "\n",
      " 69%|██████▉   | 104/150 [04:09<01:46,  2.31s/it]\u001b[A"
     ]
    },
    {
     "name": "stdout",
     "output_type": "stream",
     "text": [
      "[0.94088217 0.71910878 0.5953771  0.51834059 0.46553218 0.4266931\n",
      " 0.3968121  0.37320173 0.35425665 0.33891547 0.32641899 0.31619501\n",
      " 0.30779861 0.30087769 0.29515094 0.29039244 0.2864202  0.28308739\n",
      " 0.28027541 0.27788837 0.27584869 0.27409354 0.27257201 0.2712428\n",
      " 0.27007237 0.26903347 0.2681039  0.26726558 0.26650374 0.26580629\n",
      " 0.26516333 0.26456673 0.26400977 0.26348692 0.2629936  0.26252597\n",
      " 0.26208087 0.26165561 0.26124795 0.26085599 0.26047811 0.26011294\n",
      " 0.25975929 0.25941614 0.25908261 0.25875791 0.25844137 0.2581324\n",
      " 0.25783046 0.25753508 0.25724583 0.25696234 0.25668426 0.25641127\n",
      " 0.2561431  0.25587948 0.25562018 0.25536497 0.25511366 0.25486605\n",
      " 0.25462197 0.25438127 0.25414379 0.25390939 0.25367794 0.25344933\n",
      " 0.25322342 0.25300013 0.25277935 0.25256097 0.25234492 0.25213111\n",
      " 0.25191946 0.2517099  0.25150235 0.25129675 0.25109303 0.25089114\n",
      " 0.25069101 0.2504926  0.25029585 0.25010071 0.24990714 0.24971509\n",
      " 0.24952452 0.2493354  0.24914767 0.24896131 0.24877628 0.24859255\n",
      " 0.24841008 0.24822884 0.24804881 0.24786996 0.24769226 0.24751568\n",
      " 0.2473402  0.24716579 0.24699243 0.24682011 0.24664879 0.24647846\n",
      " 0.2463091  0.24614069 1.         1.         1.         1.\n",
      " 1.         1.         1.         1.         1.         1.\n",
      " 1.         1.         1.         1.         1.         1.\n",
      " 1.         1.         1.         1.         1.         1.\n",
      " 1.         1.         1.         1.         1.         1.\n",
      " 1.         1.         1.         1.         1.         1.\n",
      " 1.         1.         1.         1.         1.         1.\n",
      " 1.         1.         1.         1.         1.         1.        ]\n"
     ]
    },
    {
     "name": "stderr",
     "output_type": "stream",
     "text": [
      "\n",
      " 70%|███████   | 105/150 [04:11<01:43,  2.31s/it]\u001b[A"
     ]
    },
    {
     "name": "stdout",
     "output_type": "stream",
     "text": [
      "[0.94088217 0.71910878 0.5953771  0.51834059 0.46553218 0.4266931\n",
      " 0.3968121  0.37320173 0.35425665 0.33891547 0.32641899 0.31619501\n",
      " 0.30779861 0.30087769 0.29515094 0.29039244 0.2864202  0.28308739\n",
      " 0.28027541 0.27788837 0.27584869 0.27409354 0.27257201 0.2712428\n",
      " 0.27007237 0.26903347 0.2681039  0.26726558 0.26650374 0.26580629\n",
      " 0.26516333 0.26456673 0.26400977 0.26348692 0.2629936  0.26252597\n",
      " 0.26208087 0.26165561 0.26124795 0.26085599 0.26047811 0.26011294\n",
      " 0.25975929 0.25941614 0.25908261 0.25875791 0.25844137 0.2581324\n",
      " 0.25783046 0.25753508 0.25724583 0.25696234 0.25668426 0.25641127\n",
      " 0.2561431  0.25587948 0.25562018 0.25536497 0.25511366 0.25486605\n",
      " 0.25462197 0.25438127 0.25414379 0.25390939 0.25367794 0.25344933\n",
      " 0.25322342 0.25300013 0.25277935 0.25256097 0.25234492 0.25213111\n",
      " 0.25191946 0.2517099  0.25150235 0.25129675 0.25109303 0.25089114\n",
      " 0.25069101 0.2504926  0.25029585 0.25010071 0.24990714 0.24971509\n",
      " 0.24952452 0.2493354  0.24914767 0.24896131 0.24877628 0.24859255\n",
      " 0.24841008 0.24822884 0.24804881 0.24786996 0.24769226 0.24751568\n",
      " 0.2473402  0.24716579 0.24699243 0.24682011 0.24664879 0.24647846\n",
      " 0.2463091  0.24614069 0.2459732  1.         1.         1.\n",
      " 1.         1.         1.         1.         1.         1.\n",
      " 1.         1.         1.         1.         1.         1.\n",
      " 1.         1.         1.         1.         1.         1.\n",
      " 1.         1.         1.         1.         1.         1.\n",
      " 1.         1.         1.         1.         1.         1.\n",
      " 1.         1.         1.         1.         1.         1.\n",
      " 1.         1.         1.         1.         1.         1.        ]\n"
     ]
    },
    {
     "name": "stderr",
     "output_type": "stream",
     "text": [
      "\n",
      " 71%|███████   | 106/150 [04:14<01:41,  2.31s/it]\u001b[A"
     ]
    },
    {
     "name": "stdout",
     "output_type": "stream",
     "text": [
      "[0.94088217 0.71910878 0.5953771  0.51834059 0.46553218 0.4266931\n",
      " 0.3968121  0.37320173 0.35425665 0.33891547 0.32641899 0.31619501\n",
      " 0.30779861 0.30087769 0.29515094 0.29039244 0.2864202  0.28308739\n",
      " 0.28027541 0.27788837 0.27584869 0.27409354 0.27257201 0.2712428\n",
      " 0.27007237 0.26903347 0.2681039  0.26726558 0.26650374 0.26580629\n",
      " 0.26516333 0.26456673 0.26400977 0.26348692 0.2629936  0.26252597\n",
      " 0.26208087 0.26165561 0.26124795 0.26085599 0.26047811 0.26011294\n",
      " 0.25975929 0.25941614 0.25908261 0.25875791 0.25844137 0.2581324\n",
      " 0.25783046 0.25753508 0.25724583 0.25696234 0.25668426 0.25641127\n",
      " 0.2561431  0.25587948 0.25562018 0.25536497 0.25511366 0.25486605\n",
      " 0.25462197 0.25438127 0.25414379 0.25390939 0.25367794 0.25344933\n",
      " 0.25322342 0.25300013 0.25277935 0.25256097 0.25234492 0.25213111\n",
      " 0.25191946 0.2517099  0.25150235 0.25129675 0.25109303 0.25089114\n",
      " 0.25069101 0.2504926  0.25029585 0.25010071 0.24990714 0.24971509\n",
      " 0.24952452 0.2493354  0.24914767 0.24896131 0.24877628 0.24859255\n",
      " 0.24841008 0.24822884 0.24804881 0.24786996 0.24769226 0.24751568\n",
      " 0.2473402  0.24716579 0.24699243 0.24682011 0.24664879 0.24647846\n",
      " 0.2463091  0.24614069 0.2459732  0.24580663 1.         1.\n",
      " 1.         1.         1.         1.         1.         1.\n",
      " 1.         1.         1.         1.         1.         1.\n",
      " 1.         1.         1.         1.         1.         1.\n",
      " 1.         1.         1.         1.         1.         1.\n",
      " 1.         1.         1.         1.         1.         1.\n",
      " 1.         1.         1.         1.         1.         1.\n",
      " 1.         1.         1.         1.         1.         1.        ]\n"
     ]
    },
    {
     "name": "stderr",
     "output_type": "stream",
     "text": [
      "\n",
      " 71%|███████▏  | 107/150 [04:16<01:39,  2.31s/it]\u001b[A"
     ]
    },
    {
     "name": "stdout",
     "output_type": "stream",
     "text": [
      "[0.94088217 0.71910878 0.5953771  0.51834059 0.46553218 0.4266931\n",
      " 0.3968121  0.37320173 0.35425665 0.33891547 0.32641899 0.31619501\n",
      " 0.30779861 0.30087769 0.29515094 0.29039244 0.2864202  0.28308739\n",
      " 0.28027541 0.27788837 0.27584869 0.27409354 0.27257201 0.2712428\n",
      " 0.27007237 0.26903347 0.2681039  0.26726558 0.26650374 0.26580629\n",
      " 0.26516333 0.26456673 0.26400977 0.26348692 0.2629936  0.26252597\n",
      " 0.26208087 0.26165561 0.26124795 0.26085599 0.26047811 0.26011294\n",
      " 0.25975929 0.25941614 0.25908261 0.25875791 0.25844137 0.2581324\n",
      " 0.25783046 0.25753508 0.25724583 0.25696234 0.25668426 0.25641127\n",
      " 0.2561431  0.25587948 0.25562018 0.25536497 0.25511366 0.25486605\n",
      " 0.25462197 0.25438127 0.25414379 0.25390939 0.25367794 0.25344933\n",
      " 0.25322342 0.25300013 0.25277935 0.25256097 0.25234492 0.25213111\n",
      " 0.25191946 0.2517099  0.25150235 0.25129675 0.25109303 0.25089114\n",
      " 0.25069101 0.2504926  0.25029585 0.25010071 0.24990714 0.24971509\n",
      " 0.24952452 0.2493354  0.24914767 0.24896131 0.24877628 0.24859255\n",
      " 0.24841008 0.24822884 0.24804881 0.24786996 0.24769226 0.24751568\n",
      " 0.2473402  0.24716579 0.24699243 0.24682011 0.24664879 0.24647846\n",
      " 0.2463091  0.24614069 0.2459732  0.24580663 0.24564096 1.\n",
      " 1.         1.         1.         1.         1.         1.\n",
      " 1.         1.         1.         1.         1.         1.\n",
      " 1.         1.         1.         1.         1.         1.\n",
      " 1.         1.         1.         1.         1.         1.\n",
      " 1.         1.         1.         1.         1.         1.\n",
      " 1.         1.         1.         1.         1.         1.\n",
      " 1.         1.         1.         1.         1.         1.        ]\n"
     ]
    },
    {
     "name": "stderr",
     "output_type": "stream",
     "text": [
      "\n",
      " 72%|███████▏  | 108/150 [04:18<01:37,  2.32s/it]\u001b[A"
     ]
    },
    {
     "name": "stdout",
     "output_type": "stream",
     "text": [
      "[0.94088217 0.71910878 0.5953771  0.51834059 0.46553218 0.4266931\n",
      " 0.3968121  0.37320173 0.35425665 0.33891547 0.32641899 0.31619501\n",
      " 0.30779861 0.30087769 0.29515094 0.29039244 0.2864202  0.28308739\n",
      " 0.28027541 0.27788837 0.27584869 0.27409354 0.27257201 0.2712428\n",
      " 0.27007237 0.26903347 0.2681039  0.26726558 0.26650374 0.26580629\n",
      " 0.26516333 0.26456673 0.26400977 0.26348692 0.2629936  0.26252597\n",
      " 0.26208087 0.26165561 0.26124795 0.26085599 0.26047811 0.26011294\n",
      " 0.25975929 0.25941614 0.25908261 0.25875791 0.25844137 0.2581324\n",
      " 0.25783046 0.25753508 0.25724583 0.25696234 0.25668426 0.25641127\n",
      " 0.2561431  0.25587948 0.25562018 0.25536497 0.25511366 0.25486605\n",
      " 0.25462197 0.25438127 0.25414379 0.25390939 0.25367794 0.25344933\n",
      " 0.25322342 0.25300013 0.25277935 0.25256097 0.25234492 0.25213111\n",
      " 0.25191946 0.2517099  0.25150235 0.25129675 0.25109303 0.25089114\n",
      " 0.25069101 0.2504926  0.25029585 0.25010071 0.24990714 0.24971509\n",
      " 0.24952452 0.2493354  0.24914767 0.24896131 0.24877628 0.24859255\n",
      " 0.24841008 0.24822884 0.24804881 0.24786996 0.24769226 0.24751568\n",
      " 0.2473402  0.24716579 0.24699243 0.24682011 0.24664879 0.24647846\n",
      " 0.2463091  0.24614069 0.2459732  0.24580663 0.24564096 0.24547616\n",
      " 1.         1.         1.         1.         1.         1.\n",
      " 1.         1.         1.         1.         1.         1.\n",
      " 1.         1.         1.         1.         1.         1.\n",
      " 1.         1.         1.         1.         1.         1.\n",
      " 1.         1.         1.         1.         1.         1.\n",
      " 1.         1.         1.         1.         1.         1.\n",
      " 1.         1.         1.         1.         1.         1.        ]\n"
     ]
    },
    {
     "name": "stderr",
     "output_type": "stream",
     "text": [
      "\n",
      " 73%|███████▎  | 109/150 [04:21<01:34,  2.31s/it]\u001b[A"
     ]
    },
    {
     "name": "stdout",
     "output_type": "stream",
     "text": [
      "[0.94088217 0.71910878 0.5953771  0.51834059 0.46553218 0.4266931\n",
      " 0.3968121  0.37320173 0.35425665 0.33891547 0.32641899 0.31619501\n",
      " 0.30779861 0.30087769 0.29515094 0.29039244 0.2864202  0.28308739\n",
      " 0.28027541 0.27788837 0.27584869 0.27409354 0.27257201 0.2712428\n",
      " 0.27007237 0.26903347 0.2681039  0.26726558 0.26650374 0.26580629\n",
      " 0.26516333 0.26456673 0.26400977 0.26348692 0.2629936  0.26252597\n",
      " 0.26208087 0.26165561 0.26124795 0.26085599 0.26047811 0.26011294\n",
      " 0.25975929 0.25941614 0.25908261 0.25875791 0.25844137 0.2581324\n",
      " 0.25783046 0.25753508 0.25724583 0.25696234 0.25668426 0.25641127\n",
      " 0.2561431  0.25587948 0.25562018 0.25536497 0.25511366 0.25486605\n",
      " 0.25462197 0.25438127 0.25414379 0.25390939 0.25367794 0.25344933\n",
      " 0.25322342 0.25300013 0.25277935 0.25256097 0.25234492 0.25213111\n",
      " 0.25191946 0.2517099  0.25150235 0.25129675 0.25109303 0.25089114\n",
      " 0.25069101 0.2504926  0.25029585 0.25010071 0.24990714 0.24971509\n",
      " 0.24952452 0.2493354  0.24914767 0.24896131 0.24877628 0.24859255\n",
      " 0.24841008 0.24822884 0.24804881 0.24786996 0.24769226 0.24751568\n",
      " 0.2473402  0.24716579 0.24699243 0.24682011 0.24664879 0.24647846\n",
      " 0.2463091  0.24614069 0.2459732  0.24580663 0.24564096 0.24547616\n",
      " 0.24531223 1.         1.         1.         1.         1.\n",
      " 1.         1.         1.         1.         1.         1.\n",
      " 1.         1.         1.         1.         1.         1.\n",
      " 1.         1.         1.         1.         1.         1.\n",
      " 1.         1.         1.         1.         1.         1.\n",
      " 1.         1.         1.         1.         1.         1.\n",
      " 1.         1.         1.         1.         1.         1.        ]\n"
     ]
    },
    {
     "name": "stderr",
     "output_type": "stream",
     "text": [
      "\n",
      " 73%|███████▎  | 110/150 [04:23<01:32,  2.32s/it]\u001b[A"
     ]
    },
    {
     "name": "stdout",
     "output_type": "stream",
     "text": [
      "[0.94088217 0.71910878 0.5953771  0.51834059 0.46553218 0.4266931\n",
      " 0.3968121  0.37320173 0.35425665 0.33891547 0.32641899 0.31619501\n",
      " 0.30779861 0.30087769 0.29515094 0.29039244 0.2864202  0.28308739\n",
      " 0.28027541 0.27788837 0.27584869 0.27409354 0.27257201 0.2712428\n",
      " 0.27007237 0.26903347 0.2681039  0.26726558 0.26650374 0.26580629\n",
      " 0.26516333 0.26456673 0.26400977 0.26348692 0.2629936  0.26252597\n",
      " 0.26208087 0.26165561 0.26124795 0.26085599 0.26047811 0.26011294\n",
      " 0.25975929 0.25941614 0.25908261 0.25875791 0.25844137 0.2581324\n",
      " 0.25783046 0.25753508 0.25724583 0.25696234 0.25668426 0.25641127\n",
      " 0.2561431  0.25587948 0.25562018 0.25536497 0.25511366 0.25486605\n",
      " 0.25462197 0.25438127 0.25414379 0.25390939 0.25367794 0.25344933\n",
      " 0.25322342 0.25300013 0.25277935 0.25256097 0.25234492 0.25213111\n",
      " 0.25191946 0.2517099  0.25150235 0.25129675 0.25109303 0.25089114\n",
      " 0.25069101 0.2504926  0.25029585 0.25010071 0.24990714 0.24971509\n",
      " 0.24952452 0.2493354  0.24914767 0.24896131 0.24877628 0.24859255\n",
      " 0.24841008 0.24822884 0.24804881 0.24786996 0.24769226 0.24751568\n",
      " 0.2473402  0.24716579 0.24699243 0.24682011 0.24664879 0.24647846\n",
      " 0.2463091  0.24614069 0.2459732  0.24580663 0.24564096 0.24547616\n",
      " 0.24531223 0.24514914 1.         1.         1.         1.\n",
      " 1.         1.         1.         1.         1.         1.\n",
      " 1.         1.         1.         1.         1.         1.\n",
      " 1.         1.         1.         1.         1.         1.\n",
      " 1.         1.         1.         1.         1.         1.\n",
      " 1.         1.         1.         1.         1.         1.\n",
      " 1.         1.         1.         1.         1.         1.        ]\n"
     ]
    },
    {
     "name": "stderr",
     "output_type": "stream",
     "text": [
      "\n",
      " 74%|███████▍  | 111/150 [04:25<01:30,  2.31s/it]\u001b[A"
     ]
    },
    {
     "name": "stdout",
     "output_type": "stream",
     "text": [
      "[0.94088217 0.71910878 0.5953771  0.51834059 0.46553218 0.4266931\n",
      " 0.3968121  0.37320173 0.35425665 0.33891547 0.32641899 0.31619501\n",
      " 0.30779861 0.30087769 0.29515094 0.29039244 0.2864202  0.28308739\n",
      " 0.28027541 0.27788837 0.27584869 0.27409354 0.27257201 0.2712428\n",
      " 0.27007237 0.26903347 0.2681039  0.26726558 0.26650374 0.26580629\n",
      " 0.26516333 0.26456673 0.26400977 0.26348692 0.2629936  0.26252597\n",
      " 0.26208087 0.26165561 0.26124795 0.26085599 0.26047811 0.26011294\n",
      " 0.25975929 0.25941614 0.25908261 0.25875791 0.25844137 0.2581324\n",
      " 0.25783046 0.25753508 0.25724583 0.25696234 0.25668426 0.25641127\n",
      " 0.2561431  0.25587948 0.25562018 0.25536497 0.25511366 0.25486605\n",
      " 0.25462197 0.25438127 0.25414379 0.25390939 0.25367794 0.25344933\n",
      " 0.25322342 0.25300013 0.25277935 0.25256097 0.25234492 0.25213111\n",
      " 0.25191946 0.2517099  0.25150235 0.25129675 0.25109303 0.25089114\n",
      " 0.25069101 0.2504926  0.25029585 0.25010071 0.24990714 0.24971509\n",
      " 0.24952452 0.2493354  0.24914767 0.24896131 0.24877628 0.24859255\n",
      " 0.24841008 0.24822884 0.24804881 0.24786996 0.24769226 0.24751568\n",
      " 0.2473402  0.24716579 0.24699243 0.24682011 0.24664879 0.24647846\n",
      " 0.2463091  0.24614069 0.2459732  0.24580663 0.24564096 0.24547616\n",
      " 0.24531223 0.24514914 0.24498688 1.         1.         1.\n",
      " 1.         1.         1.         1.         1.         1.\n",
      " 1.         1.         1.         1.         1.         1.\n",
      " 1.         1.         1.         1.         1.         1.\n",
      " 1.         1.         1.         1.         1.         1.\n",
      " 1.         1.         1.         1.         1.         1.\n",
      " 1.         1.         1.         1.         1.         1.        ]\n"
     ]
    },
    {
     "name": "stderr",
     "output_type": "stream",
     "text": [
      "\n",
      " 75%|███████▍  | 112/150 [04:28<01:27,  2.31s/it]\u001b[A"
     ]
    },
    {
     "name": "stdout",
     "output_type": "stream",
     "text": [
      "[0.94088217 0.71910878 0.5953771  0.51834059 0.46553218 0.4266931\n",
      " 0.3968121  0.37320173 0.35425665 0.33891547 0.32641899 0.31619501\n",
      " 0.30779861 0.30087769 0.29515094 0.29039244 0.2864202  0.28308739\n",
      " 0.28027541 0.27788837 0.27584869 0.27409354 0.27257201 0.2712428\n",
      " 0.27007237 0.26903347 0.2681039  0.26726558 0.26650374 0.26580629\n",
      " 0.26516333 0.26456673 0.26400977 0.26348692 0.2629936  0.26252597\n",
      " 0.26208087 0.26165561 0.26124795 0.26085599 0.26047811 0.26011294\n",
      " 0.25975929 0.25941614 0.25908261 0.25875791 0.25844137 0.2581324\n",
      " 0.25783046 0.25753508 0.25724583 0.25696234 0.25668426 0.25641127\n",
      " 0.2561431  0.25587948 0.25562018 0.25536497 0.25511366 0.25486605\n",
      " 0.25462197 0.25438127 0.25414379 0.25390939 0.25367794 0.25344933\n",
      " 0.25322342 0.25300013 0.25277935 0.25256097 0.25234492 0.25213111\n",
      " 0.25191946 0.2517099  0.25150235 0.25129675 0.25109303 0.25089114\n",
      " 0.25069101 0.2504926  0.25029585 0.25010071 0.24990714 0.24971509\n",
      " 0.24952452 0.2493354  0.24914767 0.24896131 0.24877628 0.24859255\n",
      " 0.24841008 0.24822884 0.24804881 0.24786996 0.24769226 0.24751568\n",
      " 0.2473402  0.24716579 0.24699243 0.24682011 0.24664879 0.24647846\n",
      " 0.2463091  0.24614069 0.2459732  0.24580663 0.24564096 0.24547616\n",
      " 0.24531223 0.24514914 0.24498688 0.24482544 1.         1.\n",
      " 1.         1.         1.         1.         1.         1.\n",
      " 1.         1.         1.         1.         1.         1.\n",
      " 1.         1.         1.         1.         1.         1.\n",
      " 1.         1.         1.         1.         1.         1.\n",
      " 1.         1.         1.         1.         1.         1.\n",
      " 1.         1.         1.         1.         1.         1.        ]\n"
     ]
    },
    {
     "name": "stderr",
     "output_type": "stream",
     "text": [
      "\n",
      " 75%|███████▌  | 113/150 [04:30<01:25,  2.32s/it]\u001b[A"
     ]
    },
    {
     "name": "stdout",
     "output_type": "stream",
     "text": [
      "[0.94088217 0.71910878 0.5953771  0.51834059 0.46553218 0.4266931\n",
      " 0.3968121  0.37320173 0.35425665 0.33891547 0.32641899 0.31619501\n",
      " 0.30779861 0.30087769 0.29515094 0.29039244 0.2864202  0.28308739\n",
      " 0.28027541 0.27788837 0.27584869 0.27409354 0.27257201 0.2712428\n",
      " 0.27007237 0.26903347 0.2681039  0.26726558 0.26650374 0.26580629\n",
      " 0.26516333 0.26456673 0.26400977 0.26348692 0.2629936  0.26252597\n",
      " 0.26208087 0.26165561 0.26124795 0.26085599 0.26047811 0.26011294\n",
      " 0.25975929 0.25941614 0.25908261 0.25875791 0.25844137 0.2581324\n",
      " 0.25783046 0.25753508 0.25724583 0.25696234 0.25668426 0.25641127\n",
      " 0.2561431  0.25587948 0.25562018 0.25536497 0.25511366 0.25486605\n",
      " 0.25462197 0.25438127 0.25414379 0.25390939 0.25367794 0.25344933\n",
      " 0.25322342 0.25300013 0.25277935 0.25256097 0.25234492 0.25213111\n",
      " 0.25191946 0.2517099  0.25150235 0.25129675 0.25109303 0.25089114\n",
      " 0.25069101 0.2504926  0.25029585 0.25010071 0.24990714 0.24971509\n",
      " 0.24952452 0.2493354  0.24914767 0.24896131 0.24877628 0.24859255\n",
      " 0.24841008 0.24822884 0.24804881 0.24786996 0.24769226 0.24751568\n",
      " 0.2473402  0.24716579 0.24699243 0.24682011 0.24664879 0.24647846\n",
      " 0.2463091  0.24614069 0.2459732  0.24580663 0.24564096 0.24547616\n",
      " 0.24531223 0.24514914 0.24498688 0.24482544 0.24466481 1.\n",
      " 1.         1.         1.         1.         1.         1.\n",
      " 1.         1.         1.         1.         1.         1.\n",
      " 1.         1.         1.         1.         1.         1.\n",
      " 1.         1.         1.         1.         1.         1.\n",
      " 1.         1.         1.         1.         1.         1.\n",
      " 1.         1.         1.         1.         1.         1.        ]\n"
     ]
    },
    {
     "name": "stderr",
     "output_type": "stream",
     "text": [
      "\n",
      " 76%|███████▌  | 114/150 [04:32<01:23,  2.32s/it]\u001b[A"
     ]
    },
    {
     "name": "stdout",
     "output_type": "stream",
     "text": [
      "[0.94088217 0.71910878 0.5953771  0.51834059 0.46553218 0.4266931\n",
      " 0.3968121  0.37320173 0.35425665 0.33891547 0.32641899 0.31619501\n",
      " 0.30779861 0.30087769 0.29515094 0.29039244 0.2864202  0.28308739\n",
      " 0.28027541 0.27788837 0.27584869 0.27409354 0.27257201 0.2712428\n",
      " 0.27007237 0.26903347 0.2681039  0.26726558 0.26650374 0.26580629\n",
      " 0.26516333 0.26456673 0.26400977 0.26348692 0.2629936  0.26252597\n",
      " 0.26208087 0.26165561 0.26124795 0.26085599 0.26047811 0.26011294\n",
      " 0.25975929 0.25941614 0.25908261 0.25875791 0.25844137 0.2581324\n",
      " 0.25783046 0.25753508 0.25724583 0.25696234 0.25668426 0.25641127\n",
      " 0.2561431  0.25587948 0.25562018 0.25536497 0.25511366 0.25486605\n",
      " 0.25462197 0.25438127 0.25414379 0.25390939 0.25367794 0.25344933\n",
      " 0.25322342 0.25300013 0.25277935 0.25256097 0.25234492 0.25213111\n",
      " 0.25191946 0.2517099  0.25150235 0.25129675 0.25109303 0.25089114\n",
      " 0.25069101 0.2504926  0.25029585 0.25010071 0.24990714 0.24971509\n",
      " 0.24952452 0.2493354  0.24914767 0.24896131 0.24877628 0.24859255\n",
      " 0.24841008 0.24822884 0.24804881 0.24786996 0.24769226 0.24751568\n",
      " 0.2473402  0.24716579 0.24699243 0.24682011 0.24664879 0.24647846\n",
      " 0.2463091  0.24614069 0.2459732  0.24580663 0.24564096 0.24547616\n",
      " 0.24531223 0.24514914 0.24498688 0.24482544 0.24466481 0.24450496\n",
      " 1.         1.         1.         1.         1.         1.\n",
      " 1.         1.         1.         1.         1.         1.\n",
      " 1.         1.         1.         1.         1.         1.\n",
      " 1.         1.         1.         1.         1.         1.\n",
      " 1.         1.         1.         1.         1.         1.\n",
      " 1.         1.         1.         1.         1.         1.        ]\n"
     ]
    },
    {
     "name": "stderr",
     "output_type": "stream",
     "text": [
      "\n",
      " 77%|███████▋  | 115/150 [04:35<01:20,  2.31s/it]\u001b[A"
     ]
    },
    {
     "name": "stdout",
     "output_type": "stream",
     "text": [
      "[0.94088217 0.71910878 0.5953771  0.51834059 0.46553218 0.4266931\n",
      " 0.3968121  0.37320173 0.35425665 0.33891547 0.32641899 0.31619501\n",
      " 0.30779861 0.30087769 0.29515094 0.29039244 0.2864202  0.28308739\n",
      " 0.28027541 0.27788837 0.27584869 0.27409354 0.27257201 0.2712428\n",
      " 0.27007237 0.26903347 0.2681039  0.26726558 0.26650374 0.26580629\n",
      " 0.26516333 0.26456673 0.26400977 0.26348692 0.2629936  0.26252597\n",
      " 0.26208087 0.26165561 0.26124795 0.26085599 0.26047811 0.26011294\n",
      " 0.25975929 0.25941614 0.25908261 0.25875791 0.25844137 0.2581324\n",
      " 0.25783046 0.25753508 0.25724583 0.25696234 0.25668426 0.25641127\n",
      " 0.2561431  0.25587948 0.25562018 0.25536497 0.25511366 0.25486605\n",
      " 0.25462197 0.25438127 0.25414379 0.25390939 0.25367794 0.25344933\n",
      " 0.25322342 0.25300013 0.25277935 0.25256097 0.25234492 0.25213111\n",
      " 0.25191946 0.2517099  0.25150235 0.25129675 0.25109303 0.25089114\n",
      " 0.25069101 0.2504926  0.25029585 0.25010071 0.24990714 0.24971509\n",
      " 0.24952452 0.2493354  0.24914767 0.24896131 0.24877628 0.24859255\n",
      " 0.24841008 0.24822884 0.24804881 0.24786996 0.24769226 0.24751568\n",
      " 0.2473402  0.24716579 0.24699243 0.24682011 0.24664879 0.24647846\n",
      " 0.2463091  0.24614069 0.2459732  0.24580663 0.24564096 0.24547616\n",
      " 0.24531223 0.24514914 0.24498688 0.24482544 0.24466481 0.24450496\n",
      " 0.24434589 1.         1.         1.         1.         1.\n",
      " 1.         1.         1.         1.         1.         1.\n",
      " 1.         1.         1.         1.         1.         1.\n",
      " 1.         1.         1.         1.         1.         1.\n",
      " 1.         1.         1.         1.         1.         1.\n",
      " 1.         1.         1.         1.         1.         1.        ]\n"
     ]
    },
    {
     "name": "stderr",
     "output_type": "stream",
     "text": [
      "\n",
      " 77%|███████▋  | 116/150 [04:37<01:18,  2.31s/it]\u001b[A"
     ]
    },
    {
     "name": "stdout",
     "output_type": "stream",
     "text": [
      "[0.94088217 0.71910878 0.5953771  0.51834059 0.46553218 0.4266931\n",
      " 0.3968121  0.37320173 0.35425665 0.33891547 0.32641899 0.31619501\n",
      " 0.30779861 0.30087769 0.29515094 0.29039244 0.2864202  0.28308739\n",
      " 0.28027541 0.27788837 0.27584869 0.27409354 0.27257201 0.2712428\n",
      " 0.27007237 0.26903347 0.2681039  0.26726558 0.26650374 0.26580629\n",
      " 0.26516333 0.26456673 0.26400977 0.26348692 0.2629936  0.26252597\n",
      " 0.26208087 0.26165561 0.26124795 0.26085599 0.26047811 0.26011294\n",
      " 0.25975929 0.25941614 0.25908261 0.25875791 0.25844137 0.2581324\n",
      " 0.25783046 0.25753508 0.25724583 0.25696234 0.25668426 0.25641127\n",
      " 0.2561431  0.25587948 0.25562018 0.25536497 0.25511366 0.25486605\n",
      " 0.25462197 0.25438127 0.25414379 0.25390939 0.25367794 0.25344933\n",
      " 0.25322342 0.25300013 0.25277935 0.25256097 0.25234492 0.25213111\n",
      " 0.25191946 0.2517099  0.25150235 0.25129675 0.25109303 0.25089114\n",
      " 0.25069101 0.2504926  0.25029585 0.25010071 0.24990714 0.24971509\n",
      " 0.24952452 0.2493354  0.24914767 0.24896131 0.24877628 0.24859255\n",
      " 0.24841008 0.24822884 0.24804881 0.24786996 0.24769226 0.24751568\n",
      " 0.2473402  0.24716579 0.24699243 0.24682011 0.24664879 0.24647846\n",
      " 0.2463091  0.24614069 0.2459732  0.24580663 0.24564096 0.24547616\n",
      " 0.24531223 0.24514914 0.24498688 0.24482544 0.24466481 0.24450496\n",
      " 0.24434589 0.24418758 1.         1.         1.         1.\n",
      " 1.         1.         1.         1.         1.         1.\n",
      " 1.         1.         1.         1.         1.         1.\n",
      " 1.         1.         1.         1.         1.         1.\n",
      " 1.         1.         1.         1.         1.         1.\n",
      " 1.         1.         1.         1.         1.         1.        ]\n"
     ]
    },
    {
     "name": "stderr",
     "output_type": "stream",
     "text": [
      "\n",
      " 78%|███████▊  | 117/150 [04:39<01:16,  2.31s/it]\u001b[A"
     ]
    },
    {
     "name": "stdout",
     "output_type": "stream",
     "text": [
      "[0.94088217 0.71910878 0.5953771  0.51834059 0.46553218 0.4266931\n",
      " 0.3968121  0.37320173 0.35425665 0.33891547 0.32641899 0.31619501\n",
      " 0.30779861 0.30087769 0.29515094 0.29039244 0.2864202  0.28308739\n",
      " 0.28027541 0.27788837 0.27584869 0.27409354 0.27257201 0.2712428\n",
      " 0.27007237 0.26903347 0.2681039  0.26726558 0.26650374 0.26580629\n",
      " 0.26516333 0.26456673 0.26400977 0.26348692 0.2629936  0.26252597\n",
      " 0.26208087 0.26165561 0.26124795 0.26085599 0.26047811 0.26011294\n",
      " 0.25975929 0.25941614 0.25908261 0.25875791 0.25844137 0.2581324\n",
      " 0.25783046 0.25753508 0.25724583 0.25696234 0.25668426 0.25641127\n",
      " 0.2561431  0.25587948 0.25562018 0.25536497 0.25511366 0.25486605\n",
      " 0.25462197 0.25438127 0.25414379 0.25390939 0.25367794 0.25344933\n",
      " 0.25322342 0.25300013 0.25277935 0.25256097 0.25234492 0.25213111\n",
      " 0.25191946 0.2517099  0.25150235 0.25129675 0.25109303 0.25089114\n",
      " 0.25069101 0.2504926  0.25029585 0.25010071 0.24990714 0.24971509\n",
      " 0.24952452 0.2493354  0.24914767 0.24896131 0.24877628 0.24859255\n",
      " 0.24841008 0.24822884 0.24804881 0.24786996 0.24769226 0.24751568\n",
      " 0.2473402  0.24716579 0.24699243 0.24682011 0.24664879 0.24647846\n",
      " 0.2463091  0.24614069 0.2459732  0.24580663 0.24564096 0.24547616\n",
      " 0.24531223 0.24514914 0.24498688 0.24482544 0.24466481 0.24450496\n",
      " 0.24434589 0.24418758 0.24403002 1.         1.         1.\n",
      " 1.         1.         1.         1.         1.         1.\n",
      " 1.         1.         1.         1.         1.         1.\n",
      " 1.         1.         1.         1.         1.         1.\n",
      " 1.         1.         1.         1.         1.         1.\n",
      " 1.         1.         1.         1.         1.         1.        ]\n"
     ]
    },
    {
     "name": "stderr",
     "output_type": "stream",
     "text": [
      "\n",
      " 79%|███████▊  | 118/150 [04:41<01:14,  2.32s/it]\u001b[A"
     ]
    },
    {
     "name": "stdout",
     "output_type": "stream",
     "text": [
      "[0.94088217 0.71910878 0.5953771  0.51834059 0.46553218 0.4266931\n",
      " 0.3968121  0.37320173 0.35425665 0.33891547 0.32641899 0.31619501\n",
      " 0.30779861 0.30087769 0.29515094 0.29039244 0.2864202  0.28308739\n",
      " 0.28027541 0.27788837 0.27584869 0.27409354 0.27257201 0.2712428\n",
      " 0.27007237 0.26903347 0.2681039  0.26726558 0.26650374 0.26580629\n",
      " 0.26516333 0.26456673 0.26400977 0.26348692 0.2629936  0.26252597\n",
      " 0.26208087 0.26165561 0.26124795 0.26085599 0.26047811 0.26011294\n",
      " 0.25975929 0.25941614 0.25908261 0.25875791 0.25844137 0.2581324\n",
      " 0.25783046 0.25753508 0.25724583 0.25696234 0.25668426 0.25641127\n",
      " 0.2561431  0.25587948 0.25562018 0.25536497 0.25511366 0.25486605\n",
      " 0.25462197 0.25438127 0.25414379 0.25390939 0.25367794 0.25344933\n",
      " 0.25322342 0.25300013 0.25277935 0.25256097 0.25234492 0.25213111\n",
      " 0.25191946 0.2517099  0.25150235 0.25129675 0.25109303 0.25089114\n",
      " 0.25069101 0.2504926  0.25029585 0.25010071 0.24990714 0.24971509\n",
      " 0.24952452 0.2493354  0.24914767 0.24896131 0.24877628 0.24859255\n",
      " 0.24841008 0.24822884 0.24804881 0.24786996 0.24769226 0.24751568\n",
      " 0.2473402  0.24716579 0.24699243 0.24682011 0.24664879 0.24647846\n",
      " 0.2463091  0.24614069 0.2459732  0.24580663 0.24564096 0.24547616\n",
      " 0.24531223 0.24514914 0.24498688 0.24482544 0.24466481 0.24450496\n",
      " 0.24434589 0.24418758 0.24403002 0.2438732  1.         1.\n",
      " 1.         1.         1.         1.         1.         1.\n",
      " 1.         1.         1.         1.         1.         1.\n",
      " 1.         1.         1.         1.         1.         1.\n",
      " 1.         1.         1.         1.         1.         1.\n",
      " 1.         1.         1.         1.         1.         1.        ]\n"
     ]
    },
    {
     "name": "stderr",
     "output_type": "stream",
     "text": [
      "\n",
      " 79%|███████▉  | 119/150 [04:44<01:11,  2.32s/it]\u001b[A"
     ]
    },
    {
     "name": "stdout",
     "output_type": "stream",
     "text": [
      "[0.94088217 0.71910878 0.5953771  0.51834059 0.46553218 0.4266931\n",
      " 0.3968121  0.37320173 0.35425665 0.33891547 0.32641899 0.31619501\n",
      " 0.30779861 0.30087769 0.29515094 0.29039244 0.2864202  0.28308739\n",
      " 0.28027541 0.27788837 0.27584869 0.27409354 0.27257201 0.2712428\n",
      " 0.27007237 0.26903347 0.2681039  0.26726558 0.26650374 0.26580629\n",
      " 0.26516333 0.26456673 0.26400977 0.26348692 0.2629936  0.26252597\n",
      " 0.26208087 0.26165561 0.26124795 0.26085599 0.26047811 0.26011294\n",
      " 0.25975929 0.25941614 0.25908261 0.25875791 0.25844137 0.2581324\n",
      " 0.25783046 0.25753508 0.25724583 0.25696234 0.25668426 0.25641127\n",
      " 0.2561431  0.25587948 0.25562018 0.25536497 0.25511366 0.25486605\n",
      " 0.25462197 0.25438127 0.25414379 0.25390939 0.25367794 0.25344933\n",
      " 0.25322342 0.25300013 0.25277935 0.25256097 0.25234492 0.25213111\n",
      " 0.25191946 0.2517099  0.25150235 0.25129675 0.25109303 0.25089114\n",
      " 0.25069101 0.2504926  0.25029585 0.25010071 0.24990714 0.24971509\n",
      " 0.24952452 0.2493354  0.24914767 0.24896131 0.24877628 0.24859255\n",
      " 0.24841008 0.24822884 0.24804881 0.24786996 0.24769226 0.24751568\n",
      " 0.2473402  0.24716579 0.24699243 0.24682011 0.24664879 0.24647846\n",
      " 0.2463091  0.24614069 0.2459732  0.24580663 0.24564096 0.24547616\n",
      " 0.24531223 0.24514914 0.24498688 0.24482544 0.24466481 0.24450496\n",
      " 0.24434589 0.24418758 0.24403002 0.2438732  0.24371711 1.\n",
      " 1.         1.         1.         1.         1.         1.\n",
      " 1.         1.         1.         1.         1.         1.\n",
      " 1.         1.         1.         1.         1.         1.\n",
      " 1.         1.         1.         1.         1.         1.\n",
      " 1.         1.         1.         1.         1.         1.        ]\n"
     ]
    },
    {
     "name": "stderr",
     "output_type": "stream",
     "text": [
      "\n",
      " 80%|████████  | 120/150 [04:46<01:09,  2.32s/it]\u001b[A"
     ]
    },
    {
     "name": "stdout",
     "output_type": "stream",
     "text": [
      "[0.94088217 0.71910878 0.5953771  0.51834059 0.46553218 0.4266931\n",
      " 0.3968121  0.37320173 0.35425665 0.33891547 0.32641899 0.31619501\n",
      " 0.30779861 0.30087769 0.29515094 0.29039244 0.2864202  0.28308739\n",
      " 0.28027541 0.27788837 0.27584869 0.27409354 0.27257201 0.2712428\n",
      " 0.27007237 0.26903347 0.2681039  0.26726558 0.26650374 0.26580629\n",
      " 0.26516333 0.26456673 0.26400977 0.26348692 0.2629936  0.26252597\n",
      " 0.26208087 0.26165561 0.26124795 0.26085599 0.26047811 0.26011294\n",
      " 0.25975929 0.25941614 0.25908261 0.25875791 0.25844137 0.2581324\n",
      " 0.25783046 0.25753508 0.25724583 0.25696234 0.25668426 0.25641127\n",
      " 0.2561431  0.25587948 0.25562018 0.25536497 0.25511366 0.25486605\n",
      " 0.25462197 0.25438127 0.25414379 0.25390939 0.25367794 0.25344933\n",
      " 0.25322342 0.25300013 0.25277935 0.25256097 0.25234492 0.25213111\n",
      " 0.25191946 0.2517099  0.25150235 0.25129675 0.25109303 0.25089114\n",
      " 0.25069101 0.2504926  0.25029585 0.25010071 0.24990714 0.24971509\n",
      " 0.24952452 0.2493354  0.24914767 0.24896131 0.24877628 0.24859255\n",
      " 0.24841008 0.24822884 0.24804881 0.24786996 0.24769226 0.24751568\n",
      " 0.2473402  0.24716579 0.24699243 0.24682011 0.24664879 0.24647846\n",
      " 0.2463091  0.24614069 0.2459732  0.24580663 0.24564096 0.24547616\n",
      " 0.24531223 0.24514914 0.24498688 0.24482544 0.24466481 0.24450496\n",
      " 0.24434589 0.24418758 0.24403002 0.2438732  0.24371711 0.24356173\n",
      " 1.         1.         1.         1.         1.         1.\n",
      " 1.         1.         1.         1.         1.         1.\n",
      " 1.         1.         1.         1.         1.         1.\n",
      " 1.         1.         1.         1.         1.         1.\n",
      " 1.         1.         1.         1.         1.         1.        ]\n"
     ]
    },
    {
     "name": "stderr",
     "output_type": "stream",
     "text": [
      "\n",
      " 81%|████████  | 121/150 [04:48<01:07,  2.32s/it]\u001b[A"
     ]
    },
    {
     "name": "stdout",
     "output_type": "stream",
     "text": [
      "[0.94088217 0.71910878 0.5953771  0.51834059 0.46553218 0.4266931\n",
      " 0.3968121  0.37320173 0.35425665 0.33891547 0.32641899 0.31619501\n",
      " 0.30779861 0.30087769 0.29515094 0.29039244 0.2864202  0.28308739\n",
      " 0.28027541 0.27788837 0.27584869 0.27409354 0.27257201 0.2712428\n",
      " 0.27007237 0.26903347 0.2681039  0.26726558 0.26650374 0.26580629\n",
      " 0.26516333 0.26456673 0.26400977 0.26348692 0.2629936  0.26252597\n",
      " 0.26208087 0.26165561 0.26124795 0.26085599 0.26047811 0.26011294\n",
      " 0.25975929 0.25941614 0.25908261 0.25875791 0.25844137 0.2581324\n",
      " 0.25783046 0.25753508 0.25724583 0.25696234 0.25668426 0.25641127\n",
      " 0.2561431  0.25587948 0.25562018 0.25536497 0.25511366 0.25486605\n",
      " 0.25462197 0.25438127 0.25414379 0.25390939 0.25367794 0.25344933\n",
      " 0.25322342 0.25300013 0.25277935 0.25256097 0.25234492 0.25213111\n",
      " 0.25191946 0.2517099  0.25150235 0.25129675 0.25109303 0.25089114\n",
      " 0.25069101 0.2504926  0.25029585 0.25010071 0.24990714 0.24971509\n",
      " 0.24952452 0.2493354  0.24914767 0.24896131 0.24877628 0.24859255\n",
      " 0.24841008 0.24822884 0.24804881 0.24786996 0.24769226 0.24751568\n",
      " 0.2473402  0.24716579 0.24699243 0.24682011 0.24664879 0.24647846\n",
      " 0.2463091  0.24614069 0.2459732  0.24580663 0.24564096 0.24547616\n",
      " 0.24531223 0.24514914 0.24498688 0.24482544 0.24466481 0.24450496\n",
      " 0.24434589 0.24418758 0.24403002 0.2438732  0.24371711 0.24356173\n",
      " 0.24340706 1.         1.         1.         1.         1.\n",
      " 1.         1.         1.         1.         1.         1.\n",
      " 1.         1.         1.         1.         1.         1.\n",
      " 1.         1.         1.         1.         1.         1.\n",
      " 1.         1.         1.         1.         1.         1.        ]\n"
     ]
    },
    {
     "name": "stderr",
     "output_type": "stream",
     "text": [
      "\n",
      " 81%|████████▏ | 122/150 [04:51<01:04,  2.31s/it]\u001b[A"
     ]
    },
    {
     "name": "stdout",
     "output_type": "stream",
     "text": [
      "[0.94088217 0.71910878 0.5953771  0.51834059 0.46553218 0.4266931\n",
      " 0.3968121  0.37320173 0.35425665 0.33891547 0.32641899 0.31619501\n",
      " 0.30779861 0.30087769 0.29515094 0.29039244 0.2864202  0.28308739\n",
      " 0.28027541 0.27788837 0.27584869 0.27409354 0.27257201 0.2712428\n",
      " 0.27007237 0.26903347 0.2681039  0.26726558 0.26650374 0.26580629\n",
      " 0.26516333 0.26456673 0.26400977 0.26348692 0.2629936  0.26252597\n",
      " 0.26208087 0.26165561 0.26124795 0.26085599 0.26047811 0.26011294\n",
      " 0.25975929 0.25941614 0.25908261 0.25875791 0.25844137 0.2581324\n",
      " 0.25783046 0.25753508 0.25724583 0.25696234 0.25668426 0.25641127\n",
      " 0.2561431  0.25587948 0.25562018 0.25536497 0.25511366 0.25486605\n",
      " 0.25462197 0.25438127 0.25414379 0.25390939 0.25367794 0.25344933\n",
      " 0.25322342 0.25300013 0.25277935 0.25256097 0.25234492 0.25213111\n",
      " 0.25191946 0.2517099  0.25150235 0.25129675 0.25109303 0.25089114\n",
      " 0.25069101 0.2504926  0.25029585 0.25010071 0.24990714 0.24971509\n",
      " 0.24952452 0.2493354  0.24914767 0.24896131 0.24877628 0.24859255\n",
      " 0.24841008 0.24822884 0.24804881 0.24786996 0.24769226 0.24751568\n",
      " 0.2473402  0.24716579 0.24699243 0.24682011 0.24664879 0.24647846\n",
      " 0.2463091  0.24614069 0.2459732  0.24580663 0.24564096 0.24547616\n",
      " 0.24531223 0.24514914 0.24498688 0.24482544 0.24466481 0.24450496\n",
      " 0.24434589 0.24418758 0.24403002 0.2438732  0.24371711 0.24356173\n",
      " 0.24340706 0.24325308 1.         1.         1.         1.\n",
      " 1.         1.         1.         1.         1.         1.\n",
      " 1.         1.         1.         1.         1.         1.\n",
      " 1.         1.         1.         1.         1.         1.\n",
      " 1.         1.         1.         1.         1.         1.        ]\n"
     ]
    },
    {
     "name": "stderr",
     "output_type": "stream",
     "text": [
      "\n",
      " 82%|████████▏ | 123/150 [04:53<01:02,  2.31s/it]\u001b[A"
     ]
    },
    {
     "name": "stdout",
     "output_type": "stream",
     "text": [
      "[0.94088217 0.71910878 0.5953771  0.51834059 0.46553218 0.4266931\n",
      " 0.3968121  0.37320173 0.35425665 0.33891547 0.32641899 0.31619501\n",
      " 0.30779861 0.30087769 0.29515094 0.29039244 0.2864202  0.28308739\n",
      " 0.28027541 0.27788837 0.27584869 0.27409354 0.27257201 0.2712428\n",
      " 0.27007237 0.26903347 0.2681039  0.26726558 0.26650374 0.26580629\n",
      " 0.26516333 0.26456673 0.26400977 0.26348692 0.2629936  0.26252597\n",
      " 0.26208087 0.26165561 0.26124795 0.26085599 0.26047811 0.26011294\n",
      " 0.25975929 0.25941614 0.25908261 0.25875791 0.25844137 0.2581324\n",
      " 0.25783046 0.25753508 0.25724583 0.25696234 0.25668426 0.25641127\n",
      " 0.2561431  0.25587948 0.25562018 0.25536497 0.25511366 0.25486605\n",
      " 0.25462197 0.25438127 0.25414379 0.25390939 0.25367794 0.25344933\n",
      " 0.25322342 0.25300013 0.25277935 0.25256097 0.25234492 0.25213111\n",
      " 0.25191946 0.2517099  0.25150235 0.25129675 0.25109303 0.25089114\n",
      " 0.25069101 0.2504926  0.25029585 0.25010071 0.24990714 0.24971509\n",
      " 0.24952452 0.2493354  0.24914767 0.24896131 0.24877628 0.24859255\n",
      " 0.24841008 0.24822884 0.24804881 0.24786996 0.24769226 0.24751568\n",
      " 0.2473402  0.24716579 0.24699243 0.24682011 0.24664879 0.24647846\n",
      " 0.2463091  0.24614069 0.2459732  0.24580663 0.24564096 0.24547616\n",
      " 0.24531223 0.24514914 0.24498688 0.24482544 0.24466481 0.24450496\n",
      " 0.24434589 0.24418758 0.24403002 0.2438732  0.24371711 0.24356173\n",
      " 0.24340706 0.24325308 0.24309978 1.         1.         1.\n",
      " 1.         1.         1.         1.         1.         1.\n",
      " 1.         1.         1.         1.         1.         1.\n",
      " 1.         1.         1.         1.         1.         1.\n",
      " 1.         1.         1.         1.         1.         1.        ]\n"
     ]
    },
    {
     "name": "stderr",
     "output_type": "stream",
     "text": [
      "\n",
      " 83%|████████▎ | 124/150 [04:55<01:00,  2.31s/it]\u001b[A"
     ]
    },
    {
     "name": "stdout",
     "output_type": "stream",
     "text": [
      "[0.94088217 0.71910878 0.5953771  0.51834059 0.46553218 0.4266931\n",
      " 0.3968121  0.37320173 0.35425665 0.33891547 0.32641899 0.31619501\n",
      " 0.30779861 0.30087769 0.29515094 0.29039244 0.2864202  0.28308739\n",
      " 0.28027541 0.27788837 0.27584869 0.27409354 0.27257201 0.2712428\n",
      " 0.27007237 0.26903347 0.2681039  0.26726558 0.26650374 0.26580629\n",
      " 0.26516333 0.26456673 0.26400977 0.26348692 0.2629936  0.26252597\n",
      " 0.26208087 0.26165561 0.26124795 0.26085599 0.26047811 0.26011294\n",
      " 0.25975929 0.25941614 0.25908261 0.25875791 0.25844137 0.2581324\n",
      " 0.25783046 0.25753508 0.25724583 0.25696234 0.25668426 0.25641127\n",
      " 0.2561431  0.25587948 0.25562018 0.25536497 0.25511366 0.25486605\n",
      " 0.25462197 0.25438127 0.25414379 0.25390939 0.25367794 0.25344933\n",
      " 0.25322342 0.25300013 0.25277935 0.25256097 0.25234492 0.25213111\n",
      " 0.25191946 0.2517099  0.25150235 0.25129675 0.25109303 0.25089114\n",
      " 0.25069101 0.2504926  0.25029585 0.25010071 0.24990714 0.24971509\n",
      " 0.24952452 0.2493354  0.24914767 0.24896131 0.24877628 0.24859255\n",
      " 0.24841008 0.24822884 0.24804881 0.24786996 0.24769226 0.24751568\n",
      " 0.2473402  0.24716579 0.24699243 0.24682011 0.24664879 0.24647846\n",
      " 0.2463091  0.24614069 0.2459732  0.24580663 0.24564096 0.24547616\n",
      " 0.24531223 0.24514914 0.24498688 0.24482544 0.24466481 0.24450496\n",
      " 0.24434589 0.24418758 0.24403002 0.2438732  0.24371711 0.24356173\n",
      " 0.24340706 0.24325308 0.24309978 0.24294716 1.         1.\n",
      " 1.         1.         1.         1.         1.         1.\n",
      " 1.         1.         1.         1.         1.         1.\n",
      " 1.         1.         1.         1.         1.         1.\n",
      " 1.         1.         1.         1.         1.         1.        ]\n"
     ]
    },
    {
     "name": "stderr",
     "output_type": "stream",
     "text": [
      "\n",
      " 83%|████████▎ | 125/150 [04:58<00:57,  2.31s/it]\u001b[A"
     ]
    },
    {
     "name": "stdout",
     "output_type": "stream",
     "text": [
      "[0.94088217 0.71910878 0.5953771  0.51834059 0.46553218 0.4266931\n",
      " 0.3968121  0.37320173 0.35425665 0.33891547 0.32641899 0.31619501\n",
      " 0.30779861 0.30087769 0.29515094 0.29039244 0.2864202  0.28308739\n",
      " 0.28027541 0.27788837 0.27584869 0.27409354 0.27257201 0.2712428\n",
      " 0.27007237 0.26903347 0.2681039  0.26726558 0.26650374 0.26580629\n",
      " 0.26516333 0.26456673 0.26400977 0.26348692 0.2629936  0.26252597\n",
      " 0.26208087 0.26165561 0.26124795 0.26085599 0.26047811 0.26011294\n",
      " 0.25975929 0.25941614 0.25908261 0.25875791 0.25844137 0.2581324\n",
      " 0.25783046 0.25753508 0.25724583 0.25696234 0.25668426 0.25641127\n",
      " 0.2561431  0.25587948 0.25562018 0.25536497 0.25511366 0.25486605\n",
      " 0.25462197 0.25438127 0.25414379 0.25390939 0.25367794 0.25344933\n",
      " 0.25322342 0.25300013 0.25277935 0.25256097 0.25234492 0.25213111\n",
      " 0.25191946 0.2517099  0.25150235 0.25129675 0.25109303 0.25089114\n",
      " 0.25069101 0.2504926  0.25029585 0.25010071 0.24990714 0.24971509\n",
      " 0.24952452 0.2493354  0.24914767 0.24896131 0.24877628 0.24859255\n",
      " 0.24841008 0.24822884 0.24804881 0.24786996 0.24769226 0.24751568\n",
      " 0.2473402  0.24716579 0.24699243 0.24682011 0.24664879 0.24647846\n",
      " 0.2463091  0.24614069 0.2459732  0.24580663 0.24564096 0.24547616\n",
      " 0.24531223 0.24514914 0.24498688 0.24482544 0.24466481 0.24450496\n",
      " 0.24434589 0.24418758 0.24403002 0.2438732  0.24371711 0.24356173\n",
      " 0.24340706 0.24325308 0.24309978 0.24294716 0.24279519 1.\n",
      " 1.         1.         1.         1.         1.         1.\n",
      " 1.         1.         1.         1.         1.         1.\n",
      " 1.         1.         1.         1.         1.         1.\n",
      " 1.         1.         1.         1.         1.         1.        ]\n"
     ]
    },
    {
     "name": "stderr",
     "output_type": "stream",
     "text": [
      "\n",
      " 84%|████████▍ | 126/150 [05:00<00:55,  2.33s/it]\u001b[A"
     ]
    },
    {
     "name": "stdout",
     "output_type": "stream",
     "text": [
      "[0.94088217 0.71910878 0.5953771  0.51834059 0.46553218 0.4266931\n",
      " 0.3968121  0.37320173 0.35425665 0.33891547 0.32641899 0.31619501\n",
      " 0.30779861 0.30087769 0.29515094 0.29039244 0.2864202  0.28308739\n",
      " 0.28027541 0.27788837 0.27584869 0.27409354 0.27257201 0.2712428\n",
      " 0.27007237 0.26903347 0.2681039  0.26726558 0.26650374 0.26580629\n",
      " 0.26516333 0.26456673 0.26400977 0.26348692 0.2629936  0.26252597\n",
      " 0.26208087 0.26165561 0.26124795 0.26085599 0.26047811 0.26011294\n",
      " 0.25975929 0.25941614 0.25908261 0.25875791 0.25844137 0.2581324\n",
      " 0.25783046 0.25753508 0.25724583 0.25696234 0.25668426 0.25641127\n",
      " 0.2561431  0.25587948 0.25562018 0.25536497 0.25511366 0.25486605\n",
      " 0.25462197 0.25438127 0.25414379 0.25390939 0.25367794 0.25344933\n",
      " 0.25322342 0.25300013 0.25277935 0.25256097 0.25234492 0.25213111\n",
      " 0.25191946 0.2517099  0.25150235 0.25129675 0.25109303 0.25089114\n",
      " 0.25069101 0.2504926  0.25029585 0.25010071 0.24990714 0.24971509\n",
      " 0.24952452 0.2493354  0.24914767 0.24896131 0.24877628 0.24859255\n",
      " 0.24841008 0.24822884 0.24804881 0.24786996 0.24769226 0.24751568\n",
      " 0.2473402  0.24716579 0.24699243 0.24682011 0.24664879 0.24647846\n",
      " 0.2463091  0.24614069 0.2459732  0.24580663 0.24564096 0.24547616\n",
      " 0.24531223 0.24514914 0.24498688 0.24482544 0.24466481 0.24450496\n",
      " 0.24434589 0.24418758 0.24403002 0.2438732  0.24371711 0.24356173\n",
      " 0.24340706 0.24325308 0.24309978 0.24294716 0.24279519 0.24264388\n",
      " 1.         1.         1.         1.         1.         1.\n",
      " 1.         1.         1.         1.         1.         1.\n",
      " 1.         1.         1.         1.         1.         1.\n",
      " 1.         1.         1.         1.         1.         1.        ]\n"
     ]
    },
    {
     "name": "stderr",
     "output_type": "stream",
     "text": [
      "\n",
      " 85%|████████▍ | 127/150 [05:02<00:53,  2.32s/it]\u001b[A"
     ]
    },
    {
     "name": "stdout",
     "output_type": "stream",
     "text": [
      "[0.94088217 0.71910878 0.5953771  0.51834059 0.46553218 0.4266931\n",
      " 0.3968121  0.37320173 0.35425665 0.33891547 0.32641899 0.31619501\n",
      " 0.30779861 0.30087769 0.29515094 0.29039244 0.2864202  0.28308739\n",
      " 0.28027541 0.27788837 0.27584869 0.27409354 0.27257201 0.2712428\n",
      " 0.27007237 0.26903347 0.2681039  0.26726558 0.26650374 0.26580629\n",
      " 0.26516333 0.26456673 0.26400977 0.26348692 0.2629936  0.26252597\n",
      " 0.26208087 0.26165561 0.26124795 0.26085599 0.26047811 0.26011294\n",
      " 0.25975929 0.25941614 0.25908261 0.25875791 0.25844137 0.2581324\n",
      " 0.25783046 0.25753508 0.25724583 0.25696234 0.25668426 0.25641127\n",
      " 0.2561431  0.25587948 0.25562018 0.25536497 0.25511366 0.25486605\n",
      " 0.25462197 0.25438127 0.25414379 0.25390939 0.25367794 0.25344933\n",
      " 0.25322342 0.25300013 0.25277935 0.25256097 0.25234492 0.25213111\n",
      " 0.25191946 0.2517099  0.25150235 0.25129675 0.25109303 0.25089114\n",
      " 0.25069101 0.2504926  0.25029585 0.25010071 0.24990714 0.24971509\n",
      " 0.24952452 0.2493354  0.24914767 0.24896131 0.24877628 0.24859255\n",
      " 0.24841008 0.24822884 0.24804881 0.24786996 0.24769226 0.24751568\n",
      " 0.2473402  0.24716579 0.24699243 0.24682011 0.24664879 0.24647846\n",
      " 0.2463091  0.24614069 0.2459732  0.24580663 0.24564096 0.24547616\n",
      " 0.24531223 0.24514914 0.24498688 0.24482544 0.24466481 0.24450496\n",
      " 0.24434589 0.24418758 0.24403002 0.2438732  0.24371711 0.24356173\n",
      " 0.24340706 0.24325308 0.24309978 0.24294716 0.24279519 0.24264388\n",
      " 0.24249321 1.         1.         1.         1.         1.\n",
      " 1.         1.         1.         1.         1.         1.\n",
      " 1.         1.         1.         1.         1.         1.\n",
      " 1.         1.         1.         1.         1.         1.        ]\n"
     ]
    },
    {
     "name": "stderr",
     "output_type": "stream",
     "text": [
      "\n",
      " 85%|████████▌ | 128/150 [05:05<00:51,  2.33s/it]\u001b[A"
     ]
    },
    {
     "name": "stdout",
     "output_type": "stream",
     "text": [
      "[0.94088217 0.71910878 0.5953771  0.51834059 0.46553218 0.4266931\n",
      " 0.3968121  0.37320173 0.35425665 0.33891547 0.32641899 0.31619501\n",
      " 0.30779861 0.30087769 0.29515094 0.29039244 0.2864202  0.28308739\n",
      " 0.28027541 0.27788837 0.27584869 0.27409354 0.27257201 0.2712428\n",
      " 0.27007237 0.26903347 0.2681039  0.26726558 0.26650374 0.26580629\n",
      " 0.26516333 0.26456673 0.26400977 0.26348692 0.2629936  0.26252597\n",
      " 0.26208087 0.26165561 0.26124795 0.26085599 0.26047811 0.26011294\n",
      " 0.25975929 0.25941614 0.25908261 0.25875791 0.25844137 0.2581324\n",
      " 0.25783046 0.25753508 0.25724583 0.25696234 0.25668426 0.25641127\n",
      " 0.2561431  0.25587948 0.25562018 0.25536497 0.25511366 0.25486605\n",
      " 0.25462197 0.25438127 0.25414379 0.25390939 0.25367794 0.25344933\n",
      " 0.25322342 0.25300013 0.25277935 0.25256097 0.25234492 0.25213111\n",
      " 0.25191946 0.2517099  0.25150235 0.25129675 0.25109303 0.25089114\n",
      " 0.25069101 0.2504926  0.25029585 0.25010071 0.24990714 0.24971509\n",
      " 0.24952452 0.2493354  0.24914767 0.24896131 0.24877628 0.24859255\n",
      " 0.24841008 0.24822884 0.24804881 0.24786996 0.24769226 0.24751568\n",
      " 0.2473402  0.24716579 0.24699243 0.24682011 0.24664879 0.24647846\n",
      " 0.2463091  0.24614069 0.2459732  0.24580663 0.24564096 0.24547616\n",
      " 0.24531223 0.24514914 0.24498688 0.24482544 0.24466481 0.24450496\n",
      " 0.24434589 0.24418758 0.24403002 0.2438732  0.24371711 0.24356173\n",
      " 0.24340706 0.24325308 0.24309978 0.24294716 0.24279519 0.24264388\n",
      " 0.24249321 0.24234318 1.         1.         1.         1.\n",
      " 1.         1.         1.         1.         1.         1.\n",
      " 1.         1.         1.         1.         1.         1.\n",
      " 1.         1.         1.         1.         1.         1.        ]\n"
     ]
    },
    {
     "name": "stderr",
     "output_type": "stream",
     "text": [
      "\n",
      " 86%|████████▌ | 129/150 [05:07<00:48,  2.32s/it]\u001b[A"
     ]
    },
    {
     "name": "stdout",
     "output_type": "stream",
     "text": [
      "[0.94088217 0.71910878 0.5953771  0.51834059 0.46553218 0.4266931\n",
      " 0.3968121  0.37320173 0.35425665 0.33891547 0.32641899 0.31619501\n",
      " 0.30779861 0.30087769 0.29515094 0.29039244 0.2864202  0.28308739\n",
      " 0.28027541 0.27788837 0.27584869 0.27409354 0.27257201 0.2712428\n",
      " 0.27007237 0.26903347 0.2681039  0.26726558 0.26650374 0.26580629\n",
      " 0.26516333 0.26456673 0.26400977 0.26348692 0.2629936  0.26252597\n",
      " 0.26208087 0.26165561 0.26124795 0.26085599 0.26047811 0.26011294\n",
      " 0.25975929 0.25941614 0.25908261 0.25875791 0.25844137 0.2581324\n",
      " 0.25783046 0.25753508 0.25724583 0.25696234 0.25668426 0.25641127\n",
      " 0.2561431  0.25587948 0.25562018 0.25536497 0.25511366 0.25486605\n",
      " 0.25462197 0.25438127 0.25414379 0.25390939 0.25367794 0.25344933\n",
      " 0.25322342 0.25300013 0.25277935 0.25256097 0.25234492 0.25213111\n",
      " 0.25191946 0.2517099  0.25150235 0.25129675 0.25109303 0.25089114\n",
      " 0.25069101 0.2504926  0.25029585 0.25010071 0.24990714 0.24971509\n",
      " 0.24952452 0.2493354  0.24914767 0.24896131 0.24877628 0.24859255\n",
      " 0.24841008 0.24822884 0.24804881 0.24786996 0.24769226 0.24751568\n",
      " 0.2473402  0.24716579 0.24699243 0.24682011 0.24664879 0.24647846\n",
      " 0.2463091  0.24614069 0.2459732  0.24580663 0.24564096 0.24547616\n",
      " 0.24531223 0.24514914 0.24498688 0.24482544 0.24466481 0.24450496\n",
      " 0.24434589 0.24418758 0.24403002 0.2438732  0.24371711 0.24356173\n",
      " 0.24340706 0.24325308 0.24309978 0.24294716 0.24279519 0.24264388\n",
      " 0.24249321 0.24234318 0.24219377 1.         1.         1.\n",
      " 1.         1.         1.         1.         1.         1.\n",
      " 1.         1.         1.         1.         1.         1.\n",
      " 1.         1.         1.         1.         1.         1.        ]\n"
     ]
    },
    {
     "name": "stderr",
     "output_type": "stream",
     "text": [
      "\n",
      " 87%|████████▋ | 130/150 [05:09<00:46,  2.31s/it]\u001b[A"
     ]
    },
    {
     "name": "stdout",
     "output_type": "stream",
     "text": [
      "[0.94088217 0.71910878 0.5953771  0.51834059 0.46553218 0.4266931\n",
      " 0.3968121  0.37320173 0.35425665 0.33891547 0.32641899 0.31619501\n",
      " 0.30779861 0.30087769 0.29515094 0.29039244 0.2864202  0.28308739\n",
      " 0.28027541 0.27788837 0.27584869 0.27409354 0.27257201 0.2712428\n",
      " 0.27007237 0.26903347 0.2681039  0.26726558 0.26650374 0.26580629\n",
      " 0.26516333 0.26456673 0.26400977 0.26348692 0.2629936  0.26252597\n",
      " 0.26208087 0.26165561 0.26124795 0.26085599 0.26047811 0.26011294\n",
      " 0.25975929 0.25941614 0.25908261 0.25875791 0.25844137 0.2581324\n",
      " 0.25783046 0.25753508 0.25724583 0.25696234 0.25668426 0.25641127\n",
      " 0.2561431  0.25587948 0.25562018 0.25536497 0.25511366 0.25486605\n",
      " 0.25462197 0.25438127 0.25414379 0.25390939 0.25367794 0.25344933\n",
      " 0.25322342 0.25300013 0.25277935 0.25256097 0.25234492 0.25213111\n",
      " 0.25191946 0.2517099  0.25150235 0.25129675 0.25109303 0.25089114\n",
      " 0.25069101 0.2504926  0.25029585 0.25010071 0.24990714 0.24971509\n",
      " 0.24952452 0.2493354  0.24914767 0.24896131 0.24877628 0.24859255\n",
      " 0.24841008 0.24822884 0.24804881 0.24786996 0.24769226 0.24751568\n",
      " 0.2473402  0.24716579 0.24699243 0.24682011 0.24664879 0.24647846\n",
      " 0.2463091  0.24614069 0.2459732  0.24580663 0.24564096 0.24547616\n",
      " 0.24531223 0.24514914 0.24498688 0.24482544 0.24466481 0.24450496\n",
      " 0.24434589 0.24418758 0.24403002 0.2438732  0.24371711 0.24356173\n",
      " 0.24340706 0.24325308 0.24309978 0.24294716 0.24279519 0.24264388\n",
      " 0.24249321 0.24234318 0.24219377 0.24204498 1.         1.\n",
      " 1.         1.         1.         1.         1.         1.\n",
      " 1.         1.         1.         1.         1.         1.\n",
      " 1.         1.         1.         1.         1.         1.        ]\n"
     ]
    },
    {
     "name": "stderr",
     "output_type": "stream",
     "text": [
      "\n",
      " 87%|████████▋ | 131/150 [05:12<00:43,  2.30s/it]\u001b[A"
     ]
    },
    {
     "name": "stdout",
     "output_type": "stream",
     "text": [
      "[0.94088217 0.71910878 0.5953771  0.51834059 0.46553218 0.4266931\n",
      " 0.3968121  0.37320173 0.35425665 0.33891547 0.32641899 0.31619501\n",
      " 0.30779861 0.30087769 0.29515094 0.29039244 0.2864202  0.28308739\n",
      " 0.28027541 0.27788837 0.27584869 0.27409354 0.27257201 0.2712428\n",
      " 0.27007237 0.26903347 0.2681039  0.26726558 0.26650374 0.26580629\n",
      " 0.26516333 0.26456673 0.26400977 0.26348692 0.2629936  0.26252597\n",
      " 0.26208087 0.26165561 0.26124795 0.26085599 0.26047811 0.26011294\n",
      " 0.25975929 0.25941614 0.25908261 0.25875791 0.25844137 0.2581324\n",
      " 0.25783046 0.25753508 0.25724583 0.25696234 0.25668426 0.25641127\n",
      " 0.2561431  0.25587948 0.25562018 0.25536497 0.25511366 0.25486605\n",
      " 0.25462197 0.25438127 0.25414379 0.25390939 0.25367794 0.25344933\n",
      " 0.25322342 0.25300013 0.25277935 0.25256097 0.25234492 0.25213111\n",
      " 0.25191946 0.2517099  0.25150235 0.25129675 0.25109303 0.25089114\n",
      " 0.25069101 0.2504926  0.25029585 0.25010071 0.24990714 0.24971509\n",
      " 0.24952452 0.2493354  0.24914767 0.24896131 0.24877628 0.24859255\n",
      " 0.24841008 0.24822884 0.24804881 0.24786996 0.24769226 0.24751568\n",
      " 0.2473402  0.24716579 0.24699243 0.24682011 0.24664879 0.24647846\n",
      " 0.2463091  0.24614069 0.2459732  0.24580663 0.24564096 0.24547616\n",
      " 0.24531223 0.24514914 0.24498688 0.24482544 0.24466481 0.24450496\n",
      " 0.24434589 0.24418758 0.24403002 0.2438732  0.24371711 0.24356173\n",
      " 0.24340706 0.24325308 0.24309978 0.24294716 0.24279519 0.24264388\n",
      " 0.24249321 0.24234318 0.24219377 0.24204498 0.24189679 1.\n",
      " 1.         1.         1.         1.         1.         1.\n",
      " 1.         1.         1.         1.         1.         1.\n",
      " 1.         1.         1.         1.         1.         1.        ]\n"
     ]
    },
    {
     "name": "stderr",
     "output_type": "stream",
     "text": [
      "\n",
      " 88%|████████▊ | 132/150 [05:14<00:41,  2.31s/it]\u001b[A"
     ]
    },
    {
     "name": "stdout",
     "output_type": "stream",
     "text": [
      "[0.94088217 0.71910878 0.5953771  0.51834059 0.46553218 0.4266931\n",
      " 0.3968121  0.37320173 0.35425665 0.33891547 0.32641899 0.31619501\n",
      " 0.30779861 0.30087769 0.29515094 0.29039244 0.2864202  0.28308739\n",
      " 0.28027541 0.27788837 0.27584869 0.27409354 0.27257201 0.2712428\n",
      " 0.27007237 0.26903347 0.2681039  0.26726558 0.26650374 0.26580629\n",
      " 0.26516333 0.26456673 0.26400977 0.26348692 0.2629936  0.26252597\n",
      " 0.26208087 0.26165561 0.26124795 0.26085599 0.26047811 0.26011294\n",
      " 0.25975929 0.25941614 0.25908261 0.25875791 0.25844137 0.2581324\n",
      " 0.25783046 0.25753508 0.25724583 0.25696234 0.25668426 0.25641127\n",
      " 0.2561431  0.25587948 0.25562018 0.25536497 0.25511366 0.25486605\n",
      " 0.25462197 0.25438127 0.25414379 0.25390939 0.25367794 0.25344933\n",
      " 0.25322342 0.25300013 0.25277935 0.25256097 0.25234492 0.25213111\n",
      " 0.25191946 0.2517099  0.25150235 0.25129675 0.25109303 0.25089114\n",
      " 0.25069101 0.2504926  0.25029585 0.25010071 0.24990714 0.24971509\n",
      " 0.24952452 0.2493354  0.24914767 0.24896131 0.24877628 0.24859255\n",
      " 0.24841008 0.24822884 0.24804881 0.24786996 0.24769226 0.24751568\n",
      " 0.2473402  0.24716579 0.24699243 0.24682011 0.24664879 0.24647846\n",
      " 0.2463091  0.24614069 0.2459732  0.24580663 0.24564096 0.24547616\n",
      " 0.24531223 0.24514914 0.24498688 0.24482544 0.24466481 0.24450496\n",
      " 0.24434589 0.24418758 0.24403002 0.2438732  0.24371711 0.24356173\n",
      " 0.24340706 0.24325308 0.24309978 0.24294716 0.24279519 0.24264388\n",
      " 0.24249321 0.24234318 0.24219377 0.24204498 0.24189679 0.2417492\n",
      " 1.         1.         1.         1.         1.         1.\n",
      " 1.         1.         1.         1.         1.         1.\n",
      " 1.         1.         1.         1.         1.         1.        ]\n"
     ]
    },
    {
     "name": "stderr",
     "output_type": "stream",
     "text": [
      "\n",
      " 89%|████████▊ | 133/150 [05:16<00:39,  2.31s/it]\u001b[A"
     ]
    },
    {
     "name": "stdout",
     "output_type": "stream",
     "text": [
      "[0.94088217 0.71910878 0.5953771  0.51834059 0.46553218 0.4266931\n",
      " 0.3968121  0.37320173 0.35425665 0.33891547 0.32641899 0.31619501\n",
      " 0.30779861 0.30087769 0.29515094 0.29039244 0.2864202  0.28308739\n",
      " 0.28027541 0.27788837 0.27584869 0.27409354 0.27257201 0.2712428\n",
      " 0.27007237 0.26903347 0.2681039  0.26726558 0.26650374 0.26580629\n",
      " 0.26516333 0.26456673 0.26400977 0.26348692 0.2629936  0.26252597\n",
      " 0.26208087 0.26165561 0.26124795 0.26085599 0.26047811 0.26011294\n",
      " 0.25975929 0.25941614 0.25908261 0.25875791 0.25844137 0.2581324\n",
      " 0.25783046 0.25753508 0.25724583 0.25696234 0.25668426 0.25641127\n",
      " 0.2561431  0.25587948 0.25562018 0.25536497 0.25511366 0.25486605\n",
      " 0.25462197 0.25438127 0.25414379 0.25390939 0.25367794 0.25344933\n",
      " 0.25322342 0.25300013 0.25277935 0.25256097 0.25234492 0.25213111\n",
      " 0.25191946 0.2517099  0.25150235 0.25129675 0.25109303 0.25089114\n",
      " 0.25069101 0.2504926  0.25029585 0.25010071 0.24990714 0.24971509\n",
      " 0.24952452 0.2493354  0.24914767 0.24896131 0.24877628 0.24859255\n",
      " 0.24841008 0.24822884 0.24804881 0.24786996 0.24769226 0.24751568\n",
      " 0.2473402  0.24716579 0.24699243 0.24682011 0.24664879 0.24647846\n",
      " 0.2463091  0.24614069 0.2459732  0.24580663 0.24564096 0.24547616\n",
      " 0.24531223 0.24514914 0.24498688 0.24482544 0.24466481 0.24450496\n",
      " 0.24434589 0.24418758 0.24403002 0.2438732  0.24371711 0.24356173\n",
      " 0.24340706 0.24325308 0.24309978 0.24294716 0.24279519 0.24264388\n",
      " 0.24249321 0.24234318 0.24219377 0.24204498 0.24189679 0.2417492\n",
      " 0.24160221 1.         1.         1.         1.         1.\n",
      " 1.         1.         1.         1.         1.         1.\n",
      " 1.         1.         1.         1.         1.         1.        ]\n"
     ]
    },
    {
     "name": "stderr",
     "output_type": "stream",
     "text": [
      "\n",
      " 89%|████████▉ | 134/150 [05:19<00:37,  2.33s/it]\u001b[A"
     ]
    },
    {
     "name": "stdout",
     "output_type": "stream",
     "text": [
      "[0.94088217 0.71910878 0.5953771  0.51834059 0.46553218 0.4266931\n",
      " 0.3968121  0.37320173 0.35425665 0.33891547 0.32641899 0.31619501\n",
      " 0.30779861 0.30087769 0.29515094 0.29039244 0.2864202  0.28308739\n",
      " 0.28027541 0.27788837 0.27584869 0.27409354 0.27257201 0.2712428\n",
      " 0.27007237 0.26903347 0.2681039  0.26726558 0.26650374 0.26580629\n",
      " 0.26516333 0.26456673 0.26400977 0.26348692 0.2629936  0.26252597\n",
      " 0.26208087 0.26165561 0.26124795 0.26085599 0.26047811 0.26011294\n",
      " 0.25975929 0.25941614 0.25908261 0.25875791 0.25844137 0.2581324\n",
      " 0.25783046 0.25753508 0.25724583 0.25696234 0.25668426 0.25641127\n",
      " 0.2561431  0.25587948 0.25562018 0.25536497 0.25511366 0.25486605\n",
      " 0.25462197 0.25438127 0.25414379 0.25390939 0.25367794 0.25344933\n",
      " 0.25322342 0.25300013 0.25277935 0.25256097 0.25234492 0.25213111\n",
      " 0.25191946 0.2517099  0.25150235 0.25129675 0.25109303 0.25089114\n",
      " 0.25069101 0.2504926  0.25029585 0.25010071 0.24990714 0.24971509\n",
      " 0.24952452 0.2493354  0.24914767 0.24896131 0.24877628 0.24859255\n",
      " 0.24841008 0.24822884 0.24804881 0.24786996 0.24769226 0.24751568\n",
      " 0.2473402  0.24716579 0.24699243 0.24682011 0.24664879 0.24647846\n",
      " 0.2463091  0.24614069 0.2459732  0.24580663 0.24564096 0.24547616\n",
      " 0.24531223 0.24514914 0.24498688 0.24482544 0.24466481 0.24450496\n",
      " 0.24434589 0.24418758 0.24403002 0.2438732  0.24371711 0.24356173\n",
      " 0.24340706 0.24325308 0.24309978 0.24294716 0.24279519 0.24264388\n",
      " 0.24249321 0.24234318 0.24219377 0.24204498 0.24189679 0.2417492\n",
      " 0.24160221 0.2414558  1.         1.         1.         1.\n",
      " 1.         1.         1.         1.         1.         1.\n",
      " 1.         1.         1.         1.         1.         1.        ]\n"
     ]
    },
    {
     "name": "stderr",
     "output_type": "stream",
     "text": [
      "\n",
      " 90%|█████████ | 135/150 [05:21<00:34,  2.32s/it]\u001b[A"
     ]
    },
    {
     "name": "stdout",
     "output_type": "stream",
     "text": [
      "[0.94088217 0.71910878 0.5953771  0.51834059 0.46553218 0.4266931\n",
      " 0.3968121  0.37320173 0.35425665 0.33891547 0.32641899 0.31619501\n",
      " 0.30779861 0.30087769 0.29515094 0.29039244 0.2864202  0.28308739\n",
      " 0.28027541 0.27788837 0.27584869 0.27409354 0.27257201 0.2712428\n",
      " 0.27007237 0.26903347 0.2681039  0.26726558 0.26650374 0.26580629\n",
      " 0.26516333 0.26456673 0.26400977 0.26348692 0.2629936  0.26252597\n",
      " 0.26208087 0.26165561 0.26124795 0.26085599 0.26047811 0.26011294\n",
      " 0.25975929 0.25941614 0.25908261 0.25875791 0.25844137 0.2581324\n",
      " 0.25783046 0.25753508 0.25724583 0.25696234 0.25668426 0.25641127\n",
      " 0.2561431  0.25587948 0.25562018 0.25536497 0.25511366 0.25486605\n",
      " 0.25462197 0.25438127 0.25414379 0.25390939 0.25367794 0.25344933\n",
      " 0.25322342 0.25300013 0.25277935 0.25256097 0.25234492 0.25213111\n",
      " 0.25191946 0.2517099  0.25150235 0.25129675 0.25109303 0.25089114\n",
      " 0.25069101 0.2504926  0.25029585 0.25010071 0.24990714 0.24971509\n",
      " 0.24952452 0.2493354  0.24914767 0.24896131 0.24877628 0.24859255\n",
      " 0.24841008 0.24822884 0.24804881 0.24786996 0.24769226 0.24751568\n",
      " 0.2473402  0.24716579 0.24699243 0.24682011 0.24664879 0.24647846\n",
      " 0.2463091  0.24614069 0.2459732  0.24580663 0.24564096 0.24547616\n",
      " 0.24531223 0.24514914 0.24498688 0.24482544 0.24466481 0.24450496\n",
      " 0.24434589 0.24418758 0.24403002 0.2438732  0.24371711 0.24356173\n",
      " 0.24340706 0.24325308 0.24309978 0.24294716 0.24279519 0.24264388\n",
      " 0.24249321 0.24234318 0.24219377 0.24204498 0.24189679 0.2417492\n",
      " 0.24160221 0.2414558  0.24130996 1.         1.         1.\n",
      " 1.         1.         1.         1.         1.         1.\n",
      " 1.         1.         1.         1.         1.         1.        ]\n"
     ]
    },
    {
     "name": "stderr",
     "output_type": "stream",
     "text": [
      "\n",
      " 91%|█████████ | 136/150 [05:23<00:32,  2.32s/it]\u001b[A"
     ]
    },
    {
     "name": "stdout",
     "output_type": "stream",
     "text": [
      "[0.94088217 0.71910878 0.5953771  0.51834059 0.46553218 0.4266931\n",
      " 0.3968121  0.37320173 0.35425665 0.33891547 0.32641899 0.31619501\n",
      " 0.30779861 0.30087769 0.29515094 0.29039244 0.2864202  0.28308739\n",
      " 0.28027541 0.27788837 0.27584869 0.27409354 0.27257201 0.2712428\n",
      " 0.27007237 0.26903347 0.2681039  0.26726558 0.26650374 0.26580629\n",
      " 0.26516333 0.26456673 0.26400977 0.26348692 0.2629936  0.26252597\n",
      " 0.26208087 0.26165561 0.26124795 0.26085599 0.26047811 0.26011294\n",
      " 0.25975929 0.25941614 0.25908261 0.25875791 0.25844137 0.2581324\n",
      " 0.25783046 0.25753508 0.25724583 0.25696234 0.25668426 0.25641127\n",
      " 0.2561431  0.25587948 0.25562018 0.25536497 0.25511366 0.25486605\n",
      " 0.25462197 0.25438127 0.25414379 0.25390939 0.25367794 0.25344933\n",
      " 0.25322342 0.25300013 0.25277935 0.25256097 0.25234492 0.25213111\n",
      " 0.25191946 0.2517099  0.25150235 0.25129675 0.25109303 0.25089114\n",
      " 0.25069101 0.2504926  0.25029585 0.25010071 0.24990714 0.24971509\n",
      " 0.24952452 0.2493354  0.24914767 0.24896131 0.24877628 0.24859255\n",
      " 0.24841008 0.24822884 0.24804881 0.24786996 0.24769226 0.24751568\n",
      " 0.2473402  0.24716579 0.24699243 0.24682011 0.24664879 0.24647846\n",
      " 0.2463091  0.24614069 0.2459732  0.24580663 0.24564096 0.24547616\n",
      " 0.24531223 0.24514914 0.24498688 0.24482544 0.24466481 0.24450496\n",
      " 0.24434589 0.24418758 0.24403002 0.2438732  0.24371711 0.24356173\n",
      " 0.24340706 0.24325308 0.24309978 0.24294716 0.24279519 0.24264388\n",
      " 0.24249321 0.24234318 0.24219377 0.24204498 0.24189679 0.2417492\n",
      " 0.24160221 0.2414558  0.24130996 0.24116469 1.         1.\n",
      " 1.         1.         1.         1.         1.         1.\n",
      " 1.         1.         1.         1.         1.         1.        ]\n"
     ]
    },
    {
     "name": "stderr",
     "output_type": "stream",
     "text": [
      "\n",
      " 91%|█████████▏| 137/150 [05:26<00:31,  2.43s/it]\u001b[A"
     ]
    },
    {
     "name": "stdout",
     "output_type": "stream",
     "text": [
      "[0.94088217 0.71910878 0.5953771  0.51834059 0.46553218 0.4266931\n",
      " 0.3968121  0.37320173 0.35425665 0.33891547 0.32641899 0.31619501\n",
      " 0.30779861 0.30087769 0.29515094 0.29039244 0.2864202  0.28308739\n",
      " 0.28027541 0.27788837 0.27584869 0.27409354 0.27257201 0.2712428\n",
      " 0.27007237 0.26903347 0.2681039  0.26726558 0.26650374 0.26580629\n",
      " 0.26516333 0.26456673 0.26400977 0.26348692 0.2629936  0.26252597\n",
      " 0.26208087 0.26165561 0.26124795 0.26085599 0.26047811 0.26011294\n",
      " 0.25975929 0.25941614 0.25908261 0.25875791 0.25844137 0.2581324\n",
      " 0.25783046 0.25753508 0.25724583 0.25696234 0.25668426 0.25641127\n",
      " 0.2561431  0.25587948 0.25562018 0.25536497 0.25511366 0.25486605\n",
      " 0.25462197 0.25438127 0.25414379 0.25390939 0.25367794 0.25344933\n",
      " 0.25322342 0.25300013 0.25277935 0.25256097 0.25234492 0.25213111\n",
      " 0.25191946 0.2517099  0.25150235 0.25129675 0.25109303 0.25089114\n",
      " 0.25069101 0.2504926  0.25029585 0.25010071 0.24990714 0.24971509\n",
      " 0.24952452 0.2493354  0.24914767 0.24896131 0.24877628 0.24859255\n",
      " 0.24841008 0.24822884 0.24804881 0.24786996 0.24769226 0.24751568\n",
      " 0.2473402  0.24716579 0.24699243 0.24682011 0.24664879 0.24647846\n",
      " 0.2463091  0.24614069 0.2459732  0.24580663 0.24564096 0.24547616\n",
      " 0.24531223 0.24514914 0.24498688 0.24482544 0.24466481 0.24450496\n",
      " 0.24434589 0.24418758 0.24403002 0.2438732  0.24371711 0.24356173\n",
      " 0.24340706 0.24325308 0.24309978 0.24294716 0.24279519 0.24264388\n",
      " 0.24249321 0.24234318 0.24219377 0.24204498 0.24189679 0.2417492\n",
      " 0.24160221 0.2414558  0.24130996 0.24116469 0.24101998 1.\n",
      " 1.         1.         1.         1.         1.         1.\n",
      " 1.         1.         1.         1.         1.         1.        ]\n"
     ]
    },
    {
     "name": "stderr",
     "output_type": "stream",
     "text": [
      "\n",
      " 92%|█████████▏| 138/150 [05:28<00:29,  2.44s/it]\u001b[A"
     ]
    },
    {
     "name": "stdout",
     "output_type": "stream",
     "text": [
      "[0.94088217 0.71910878 0.5953771  0.51834059 0.46553218 0.4266931\n",
      " 0.3968121  0.37320173 0.35425665 0.33891547 0.32641899 0.31619501\n",
      " 0.30779861 0.30087769 0.29515094 0.29039244 0.2864202  0.28308739\n",
      " 0.28027541 0.27788837 0.27584869 0.27409354 0.27257201 0.2712428\n",
      " 0.27007237 0.26903347 0.2681039  0.26726558 0.26650374 0.26580629\n",
      " 0.26516333 0.26456673 0.26400977 0.26348692 0.2629936  0.26252597\n",
      " 0.26208087 0.26165561 0.26124795 0.26085599 0.26047811 0.26011294\n",
      " 0.25975929 0.25941614 0.25908261 0.25875791 0.25844137 0.2581324\n",
      " 0.25783046 0.25753508 0.25724583 0.25696234 0.25668426 0.25641127\n",
      " 0.2561431  0.25587948 0.25562018 0.25536497 0.25511366 0.25486605\n",
      " 0.25462197 0.25438127 0.25414379 0.25390939 0.25367794 0.25344933\n",
      " 0.25322342 0.25300013 0.25277935 0.25256097 0.25234492 0.25213111\n",
      " 0.25191946 0.2517099  0.25150235 0.25129675 0.25109303 0.25089114\n",
      " 0.25069101 0.2504926  0.25029585 0.25010071 0.24990714 0.24971509\n",
      " 0.24952452 0.2493354  0.24914767 0.24896131 0.24877628 0.24859255\n",
      " 0.24841008 0.24822884 0.24804881 0.24786996 0.24769226 0.24751568\n",
      " 0.2473402  0.24716579 0.24699243 0.24682011 0.24664879 0.24647846\n",
      " 0.2463091  0.24614069 0.2459732  0.24580663 0.24564096 0.24547616\n",
      " 0.24531223 0.24514914 0.24498688 0.24482544 0.24466481 0.24450496\n",
      " 0.24434589 0.24418758 0.24403002 0.2438732  0.24371711 0.24356173\n",
      " 0.24340706 0.24325308 0.24309978 0.24294716 0.24279519 0.24264388\n",
      " 0.24249321 0.24234318 0.24219377 0.24204498 0.24189679 0.2417492\n",
      " 0.24160221 0.2414558  0.24130996 0.24116469 0.24101998 0.24087583\n",
      " 1.         1.         1.         1.         1.         1.\n",
      " 1.         1.         1.         1.         1.         1.        ]\n"
     ]
    },
    {
     "name": "stderr",
     "output_type": "stream",
     "text": [
      "\n",
      " 93%|█████████▎| 139/150 [05:31<00:26,  2.41s/it]\u001b[A"
     ]
    },
    {
     "name": "stdout",
     "output_type": "stream",
     "text": [
      "[0.94088217 0.71910878 0.5953771  0.51834059 0.46553218 0.4266931\n",
      " 0.3968121  0.37320173 0.35425665 0.33891547 0.32641899 0.31619501\n",
      " 0.30779861 0.30087769 0.29515094 0.29039244 0.2864202  0.28308739\n",
      " 0.28027541 0.27788837 0.27584869 0.27409354 0.27257201 0.2712428\n",
      " 0.27007237 0.26903347 0.2681039  0.26726558 0.26650374 0.26580629\n",
      " 0.26516333 0.26456673 0.26400977 0.26348692 0.2629936  0.26252597\n",
      " 0.26208087 0.26165561 0.26124795 0.26085599 0.26047811 0.26011294\n",
      " 0.25975929 0.25941614 0.25908261 0.25875791 0.25844137 0.2581324\n",
      " 0.25783046 0.25753508 0.25724583 0.25696234 0.25668426 0.25641127\n",
      " 0.2561431  0.25587948 0.25562018 0.25536497 0.25511366 0.25486605\n",
      " 0.25462197 0.25438127 0.25414379 0.25390939 0.25367794 0.25344933\n",
      " 0.25322342 0.25300013 0.25277935 0.25256097 0.25234492 0.25213111\n",
      " 0.25191946 0.2517099  0.25150235 0.25129675 0.25109303 0.25089114\n",
      " 0.25069101 0.2504926  0.25029585 0.25010071 0.24990714 0.24971509\n",
      " 0.24952452 0.2493354  0.24914767 0.24896131 0.24877628 0.24859255\n",
      " 0.24841008 0.24822884 0.24804881 0.24786996 0.24769226 0.24751568\n",
      " 0.2473402  0.24716579 0.24699243 0.24682011 0.24664879 0.24647846\n",
      " 0.2463091  0.24614069 0.2459732  0.24580663 0.24564096 0.24547616\n",
      " 0.24531223 0.24514914 0.24498688 0.24482544 0.24466481 0.24450496\n",
      " 0.24434589 0.24418758 0.24403002 0.2438732  0.24371711 0.24356173\n",
      " 0.24340706 0.24325308 0.24309978 0.24294716 0.24279519 0.24264388\n",
      " 0.24249321 0.24234318 0.24219377 0.24204498 0.24189679 0.2417492\n",
      " 0.24160221 0.2414558  0.24130996 0.24116469 0.24101998 0.24087583\n",
      " 0.24073222 1.         1.         1.         1.         1.\n",
      " 1.         1.         1.         1.         1.         1.        ]\n"
     ]
    },
    {
     "name": "stderr",
     "output_type": "stream",
     "text": [
      "\n",
      " 93%|█████████▎| 140/150 [05:33<00:23,  2.39s/it]\u001b[A"
     ]
    },
    {
     "name": "stdout",
     "output_type": "stream",
     "text": [
      "[0.94088217 0.71910878 0.5953771  0.51834059 0.46553218 0.4266931\n",
      " 0.3968121  0.37320173 0.35425665 0.33891547 0.32641899 0.31619501\n",
      " 0.30779861 0.30087769 0.29515094 0.29039244 0.2864202  0.28308739\n",
      " 0.28027541 0.27788837 0.27584869 0.27409354 0.27257201 0.2712428\n",
      " 0.27007237 0.26903347 0.2681039  0.26726558 0.26650374 0.26580629\n",
      " 0.26516333 0.26456673 0.26400977 0.26348692 0.2629936  0.26252597\n",
      " 0.26208087 0.26165561 0.26124795 0.26085599 0.26047811 0.26011294\n",
      " 0.25975929 0.25941614 0.25908261 0.25875791 0.25844137 0.2581324\n",
      " 0.25783046 0.25753508 0.25724583 0.25696234 0.25668426 0.25641127\n",
      " 0.2561431  0.25587948 0.25562018 0.25536497 0.25511366 0.25486605\n",
      " 0.25462197 0.25438127 0.25414379 0.25390939 0.25367794 0.25344933\n",
      " 0.25322342 0.25300013 0.25277935 0.25256097 0.25234492 0.25213111\n",
      " 0.25191946 0.2517099  0.25150235 0.25129675 0.25109303 0.25089114\n",
      " 0.25069101 0.2504926  0.25029585 0.25010071 0.24990714 0.24971509\n",
      " 0.24952452 0.2493354  0.24914767 0.24896131 0.24877628 0.24859255\n",
      " 0.24841008 0.24822884 0.24804881 0.24786996 0.24769226 0.24751568\n",
      " 0.2473402  0.24716579 0.24699243 0.24682011 0.24664879 0.24647846\n",
      " 0.2463091  0.24614069 0.2459732  0.24580663 0.24564096 0.24547616\n",
      " 0.24531223 0.24514914 0.24498688 0.24482544 0.24466481 0.24450496\n",
      " 0.24434589 0.24418758 0.24403002 0.2438732  0.24371711 0.24356173\n",
      " 0.24340706 0.24325308 0.24309978 0.24294716 0.24279519 0.24264388\n",
      " 0.24249321 0.24234318 0.24219377 0.24204498 0.24189679 0.2417492\n",
      " 0.24160221 0.2414558  0.24130996 0.24116469 0.24101998 0.24087583\n",
      " 0.24073222 0.24058915 1.         1.         1.         1.\n",
      " 1.         1.         1.         1.         1.         1.        ]\n"
     ]
    },
    {
     "name": "stderr",
     "output_type": "stream",
     "text": [
      "\n",
      " 94%|█████████▍| 141/150 [05:35<00:21,  2.37s/it]\u001b[A"
     ]
    },
    {
     "name": "stdout",
     "output_type": "stream",
     "text": [
      "[0.94088217 0.71910878 0.5953771  0.51834059 0.46553218 0.4266931\n",
      " 0.3968121  0.37320173 0.35425665 0.33891547 0.32641899 0.31619501\n",
      " 0.30779861 0.30087769 0.29515094 0.29039244 0.2864202  0.28308739\n",
      " 0.28027541 0.27788837 0.27584869 0.27409354 0.27257201 0.2712428\n",
      " 0.27007237 0.26903347 0.2681039  0.26726558 0.26650374 0.26580629\n",
      " 0.26516333 0.26456673 0.26400977 0.26348692 0.2629936  0.26252597\n",
      " 0.26208087 0.26165561 0.26124795 0.26085599 0.26047811 0.26011294\n",
      " 0.25975929 0.25941614 0.25908261 0.25875791 0.25844137 0.2581324\n",
      " 0.25783046 0.25753508 0.25724583 0.25696234 0.25668426 0.25641127\n",
      " 0.2561431  0.25587948 0.25562018 0.25536497 0.25511366 0.25486605\n",
      " 0.25462197 0.25438127 0.25414379 0.25390939 0.25367794 0.25344933\n",
      " 0.25322342 0.25300013 0.25277935 0.25256097 0.25234492 0.25213111\n",
      " 0.25191946 0.2517099  0.25150235 0.25129675 0.25109303 0.25089114\n",
      " 0.25069101 0.2504926  0.25029585 0.25010071 0.24990714 0.24971509\n",
      " 0.24952452 0.2493354  0.24914767 0.24896131 0.24877628 0.24859255\n",
      " 0.24841008 0.24822884 0.24804881 0.24786996 0.24769226 0.24751568\n",
      " 0.2473402  0.24716579 0.24699243 0.24682011 0.24664879 0.24647846\n",
      " 0.2463091  0.24614069 0.2459732  0.24580663 0.24564096 0.24547616\n",
      " 0.24531223 0.24514914 0.24498688 0.24482544 0.24466481 0.24450496\n",
      " 0.24434589 0.24418758 0.24403002 0.2438732  0.24371711 0.24356173\n",
      " 0.24340706 0.24325308 0.24309978 0.24294716 0.24279519 0.24264388\n",
      " 0.24249321 0.24234318 0.24219377 0.24204498 0.24189679 0.2417492\n",
      " 0.24160221 0.2414558  0.24130996 0.24116469 0.24101998 0.24087583\n",
      " 0.24073222 0.24058915 0.24044661 1.         1.         1.\n",
      " 1.         1.         1.         1.         1.         1.        ]\n"
     ]
    },
    {
     "name": "stderr",
     "output_type": "stream",
     "text": [
      "\n",
      " 95%|█████████▍| 142/150 [05:38<00:18,  2.35s/it]\u001b[A"
     ]
    },
    {
     "name": "stdout",
     "output_type": "stream",
     "text": [
      "[0.94088217 0.71910878 0.5953771  0.51834059 0.46553218 0.4266931\n",
      " 0.3968121  0.37320173 0.35425665 0.33891547 0.32641899 0.31619501\n",
      " 0.30779861 0.30087769 0.29515094 0.29039244 0.2864202  0.28308739\n",
      " 0.28027541 0.27788837 0.27584869 0.27409354 0.27257201 0.2712428\n",
      " 0.27007237 0.26903347 0.2681039  0.26726558 0.26650374 0.26580629\n",
      " 0.26516333 0.26456673 0.26400977 0.26348692 0.2629936  0.26252597\n",
      " 0.26208087 0.26165561 0.26124795 0.26085599 0.26047811 0.26011294\n",
      " 0.25975929 0.25941614 0.25908261 0.25875791 0.25844137 0.2581324\n",
      " 0.25783046 0.25753508 0.25724583 0.25696234 0.25668426 0.25641127\n",
      " 0.2561431  0.25587948 0.25562018 0.25536497 0.25511366 0.25486605\n",
      " 0.25462197 0.25438127 0.25414379 0.25390939 0.25367794 0.25344933\n",
      " 0.25322342 0.25300013 0.25277935 0.25256097 0.25234492 0.25213111\n",
      " 0.25191946 0.2517099  0.25150235 0.25129675 0.25109303 0.25089114\n",
      " 0.25069101 0.2504926  0.25029585 0.25010071 0.24990714 0.24971509\n",
      " 0.24952452 0.2493354  0.24914767 0.24896131 0.24877628 0.24859255\n",
      " 0.24841008 0.24822884 0.24804881 0.24786996 0.24769226 0.24751568\n",
      " 0.2473402  0.24716579 0.24699243 0.24682011 0.24664879 0.24647846\n",
      " 0.2463091  0.24614069 0.2459732  0.24580663 0.24564096 0.24547616\n",
      " 0.24531223 0.24514914 0.24498688 0.24482544 0.24466481 0.24450496\n",
      " 0.24434589 0.24418758 0.24403002 0.2438732  0.24371711 0.24356173\n",
      " 0.24340706 0.24325308 0.24309978 0.24294716 0.24279519 0.24264388\n",
      " 0.24249321 0.24234318 0.24219377 0.24204498 0.24189679 0.2417492\n",
      " 0.24160221 0.2414558  0.24130996 0.24116469 0.24101998 0.24087583\n",
      " 0.24073222 0.24058915 0.24044661 0.2403046  1.         1.\n",
      " 1.         1.         1.         1.         1.         1.        ]\n"
     ]
    },
    {
     "name": "stderr",
     "output_type": "stream",
     "text": [
      "\n",
      " 95%|█████████▌| 143/150 [05:40<00:16,  2.34s/it]\u001b[A"
     ]
    },
    {
     "name": "stdout",
     "output_type": "stream",
     "text": [
      "[0.94088217 0.71910878 0.5953771  0.51834059 0.46553218 0.4266931\n",
      " 0.3968121  0.37320173 0.35425665 0.33891547 0.32641899 0.31619501\n",
      " 0.30779861 0.30087769 0.29515094 0.29039244 0.2864202  0.28308739\n",
      " 0.28027541 0.27788837 0.27584869 0.27409354 0.27257201 0.2712428\n",
      " 0.27007237 0.26903347 0.2681039  0.26726558 0.26650374 0.26580629\n",
      " 0.26516333 0.26456673 0.26400977 0.26348692 0.2629936  0.26252597\n",
      " 0.26208087 0.26165561 0.26124795 0.26085599 0.26047811 0.26011294\n",
      " 0.25975929 0.25941614 0.25908261 0.25875791 0.25844137 0.2581324\n",
      " 0.25783046 0.25753508 0.25724583 0.25696234 0.25668426 0.25641127\n",
      " 0.2561431  0.25587948 0.25562018 0.25536497 0.25511366 0.25486605\n",
      " 0.25462197 0.25438127 0.25414379 0.25390939 0.25367794 0.25344933\n",
      " 0.25322342 0.25300013 0.25277935 0.25256097 0.25234492 0.25213111\n",
      " 0.25191946 0.2517099  0.25150235 0.25129675 0.25109303 0.25089114\n",
      " 0.25069101 0.2504926  0.25029585 0.25010071 0.24990714 0.24971509\n",
      " 0.24952452 0.2493354  0.24914767 0.24896131 0.24877628 0.24859255\n",
      " 0.24841008 0.24822884 0.24804881 0.24786996 0.24769226 0.24751568\n",
      " 0.2473402  0.24716579 0.24699243 0.24682011 0.24664879 0.24647846\n",
      " 0.2463091  0.24614069 0.2459732  0.24580663 0.24564096 0.24547616\n",
      " 0.24531223 0.24514914 0.24498688 0.24482544 0.24466481 0.24450496\n",
      " 0.24434589 0.24418758 0.24403002 0.2438732  0.24371711 0.24356173\n",
      " 0.24340706 0.24325308 0.24309978 0.24294716 0.24279519 0.24264388\n",
      " 0.24249321 0.24234318 0.24219377 0.24204498 0.24189679 0.2417492\n",
      " 0.24160221 0.2414558  0.24130996 0.24116469 0.24101998 0.24087583\n",
      " 0.24073222 0.24058915 0.24044661 0.2403046  0.2401631  1.\n",
      " 1.         1.         1.         1.         1.         1.        ]\n"
     ]
    },
    {
     "name": "stderr",
     "output_type": "stream",
     "text": [
      "\n",
      " 96%|█████████▌| 144/150 [05:42<00:13,  2.33s/it]\u001b[A"
     ]
    },
    {
     "name": "stdout",
     "output_type": "stream",
     "text": [
      "[0.94088217 0.71910878 0.5953771  0.51834059 0.46553218 0.4266931\n",
      " 0.3968121  0.37320173 0.35425665 0.33891547 0.32641899 0.31619501\n",
      " 0.30779861 0.30087769 0.29515094 0.29039244 0.2864202  0.28308739\n",
      " 0.28027541 0.27788837 0.27584869 0.27409354 0.27257201 0.2712428\n",
      " 0.27007237 0.26903347 0.2681039  0.26726558 0.26650374 0.26580629\n",
      " 0.26516333 0.26456673 0.26400977 0.26348692 0.2629936  0.26252597\n",
      " 0.26208087 0.26165561 0.26124795 0.26085599 0.26047811 0.26011294\n",
      " 0.25975929 0.25941614 0.25908261 0.25875791 0.25844137 0.2581324\n",
      " 0.25783046 0.25753508 0.25724583 0.25696234 0.25668426 0.25641127\n",
      " 0.2561431  0.25587948 0.25562018 0.25536497 0.25511366 0.25486605\n",
      " 0.25462197 0.25438127 0.25414379 0.25390939 0.25367794 0.25344933\n",
      " 0.25322342 0.25300013 0.25277935 0.25256097 0.25234492 0.25213111\n",
      " 0.25191946 0.2517099  0.25150235 0.25129675 0.25109303 0.25089114\n",
      " 0.25069101 0.2504926  0.25029585 0.25010071 0.24990714 0.24971509\n",
      " 0.24952452 0.2493354  0.24914767 0.24896131 0.24877628 0.24859255\n",
      " 0.24841008 0.24822884 0.24804881 0.24786996 0.24769226 0.24751568\n",
      " 0.2473402  0.24716579 0.24699243 0.24682011 0.24664879 0.24647846\n",
      " 0.2463091  0.24614069 0.2459732  0.24580663 0.24564096 0.24547616\n",
      " 0.24531223 0.24514914 0.24498688 0.24482544 0.24466481 0.24450496\n",
      " 0.24434589 0.24418758 0.24403002 0.2438732  0.24371711 0.24356173\n",
      " 0.24340706 0.24325308 0.24309978 0.24294716 0.24279519 0.24264388\n",
      " 0.24249321 0.24234318 0.24219377 0.24204498 0.24189679 0.2417492\n",
      " 0.24160221 0.2414558  0.24130996 0.24116469 0.24101998 0.24087583\n",
      " 0.24073222 0.24058915 0.24044661 0.2403046  0.2401631  0.24002212\n",
      " 1.         1.         1.         1.         1.         1.        ]\n"
     ]
    },
    {
     "name": "stderr",
     "output_type": "stream",
     "text": [
      "\n",
      " 97%|█████████▋| 145/150 [05:45<00:11,  2.33s/it]\u001b[A"
     ]
    },
    {
     "name": "stdout",
     "output_type": "stream",
     "text": [
      "[0.94088217 0.71910878 0.5953771  0.51834059 0.46553218 0.4266931\n",
      " 0.3968121  0.37320173 0.35425665 0.33891547 0.32641899 0.31619501\n",
      " 0.30779861 0.30087769 0.29515094 0.29039244 0.2864202  0.28308739\n",
      " 0.28027541 0.27788837 0.27584869 0.27409354 0.27257201 0.2712428\n",
      " 0.27007237 0.26903347 0.2681039  0.26726558 0.26650374 0.26580629\n",
      " 0.26516333 0.26456673 0.26400977 0.26348692 0.2629936  0.26252597\n",
      " 0.26208087 0.26165561 0.26124795 0.26085599 0.26047811 0.26011294\n",
      " 0.25975929 0.25941614 0.25908261 0.25875791 0.25844137 0.2581324\n",
      " 0.25783046 0.25753508 0.25724583 0.25696234 0.25668426 0.25641127\n",
      " 0.2561431  0.25587948 0.25562018 0.25536497 0.25511366 0.25486605\n",
      " 0.25462197 0.25438127 0.25414379 0.25390939 0.25367794 0.25344933\n",
      " 0.25322342 0.25300013 0.25277935 0.25256097 0.25234492 0.25213111\n",
      " 0.25191946 0.2517099  0.25150235 0.25129675 0.25109303 0.25089114\n",
      " 0.25069101 0.2504926  0.25029585 0.25010071 0.24990714 0.24971509\n",
      " 0.24952452 0.2493354  0.24914767 0.24896131 0.24877628 0.24859255\n",
      " 0.24841008 0.24822884 0.24804881 0.24786996 0.24769226 0.24751568\n",
      " 0.2473402  0.24716579 0.24699243 0.24682011 0.24664879 0.24647846\n",
      " 0.2463091  0.24614069 0.2459732  0.24580663 0.24564096 0.24547616\n",
      " 0.24531223 0.24514914 0.24498688 0.24482544 0.24466481 0.24450496\n",
      " 0.24434589 0.24418758 0.24403002 0.2438732  0.24371711 0.24356173\n",
      " 0.24340706 0.24325308 0.24309978 0.24294716 0.24279519 0.24264388\n",
      " 0.24249321 0.24234318 0.24219377 0.24204498 0.24189679 0.2417492\n",
      " 0.24160221 0.2414558  0.24130996 0.24116469 0.24101998 0.24087583\n",
      " 0.24073222 0.24058915 0.24044661 0.2403046  0.2401631  0.24002212\n",
      " 0.23988165 1.         1.         1.         1.         1.        ]\n"
     ]
    },
    {
     "name": "stderr",
     "output_type": "stream",
     "text": [
      "\n",
      " 97%|█████████▋| 146/150 [05:47<00:09,  2.32s/it]\u001b[A"
     ]
    },
    {
     "name": "stdout",
     "output_type": "stream",
     "text": [
      "[0.94088217 0.71910878 0.5953771  0.51834059 0.46553218 0.4266931\n",
      " 0.3968121  0.37320173 0.35425665 0.33891547 0.32641899 0.31619501\n",
      " 0.30779861 0.30087769 0.29515094 0.29039244 0.2864202  0.28308739\n",
      " 0.28027541 0.27788837 0.27584869 0.27409354 0.27257201 0.2712428\n",
      " 0.27007237 0.26903347 0.2681039  0.26726558 0.26650374 0.26580629\n",
      " 0.26516333 0.26456673 0.26400977 0.26348692 0.2629936  0.26252597\n",
      " 0.26208087 0.26165561 0.26124795 0.26085599 0.26047811 0.26011294\n",
      " 0.25975929 0.25941614 0.25908261 0.25875791 0.25844137 0.2581324\n",
      " 0.25783046 0.25753508 0.25724583 0.25696234 0.25668426 0.25641127\n",
      " 0.2561431  0.25587948 0.25562018 0.25536497 0.25511366 0.25486605\n",
      " 0.25462197 0.25438127 0.25414379 0.25390939 0.25367794 0.25344933\n",
      " 0.25322342 0.25300013 0.25277935 0.25256097 0.25234492 0.25213111\n",
      " 0.25191946 0.2517099  0.25150235 0.25129675 0.25109303 0.25089114\n",
      " 0.25069101 0.2504926  0.25029585 0.25010071 0.24990714 0.24971509\n",
      " 0.24952452 0.2493354  0.24914767 0.24896131 0.24877628 0.24859255\n",
      " 0.24841008 0.24822884 0.24804881 0.24786996 0.24769226 0.24751568\n",
      " 0.2473402  0.24716579 0.24699243 0.24682011 0.24664879 0.24647846\n",
      " 0.2463091  0.24614069 0.2459732  0.24580663 0.24564096 0.24547616\n",
      " 0.24531223 0.24514914 0.24498688 0.24482544 0.24466481 0.24450496\n",
      " 0.24434589 0.24418758 0.24403002 0.2438732  0.24371711 0.24356173\n",
      " 0.24340706 0.24325308 0.24309978 0.24294716 0.24279519 0.24264388\n",
      " 0.24249321 0.24234318 0.24219377 0.24204498 0.24189679 0.2417492\n",
      " 0.24160221 0.2414558  0.24130996 0.24116469 0.24101998 0.24087583\n",
      " 0.24073222 0.24058915 0.24044661 0.2403046  0.2401631  0.24002212\n",
      " 0.23988165 0.23974168 1.         1.         1.         1.        ]\n"
     ]
    },
    {
     "name": "stderr",
     "output_type": "stream",
     "text": [
      "\n",
      " 98%|█████████▊| 147/150 [05:49<00:06,  2.32s/it]\u001b[A"
     ]
    },
    {
     "name": "stdout",
     "output_type": "stream",
     "text": [
      "[0.94088217 0.71910878 0.5953771  0.51834059 0.46553218 0.4266931\n",
      " 0.3968121  0.37320173 0.35425665 0.33891547 0.32641899 0.31619501\n",
      " 0.30779861 0.30087769 0.29515094 0.29039244 0.2864202  0.28308739\n",
      " 0.28027541 0.27788837 0.27584869 0.27409354 0.27257201 0.2712428\n",
      " 0.27007237 0.26903347 0.2681039  0.26726558 0.26650374 0.26580629\n",
      " 0.26516333 0.26456673 0.26400977 0.26348692 0.2629936  0.26252597\n",
      " 0.26208087 0.26165561 0.26124795 0.26085599 0.26047811 0.26011294\n",
      " 0.25975929 0.25941614 0.25908261 0.25875791 0.25844137 0.2581324\n",
      " 0.25783046 0.25753508 0.25724583 0.25696234 0.25668426 0.25641127\n",
      " 0.2561431  0.25587948 0.25562018 0.25536497 0.25511366 0.25486605\n",
      " 0.25462197 0.25438127 0.25414379 0.25390939 0.25367794 0.25344933\n",
      " 0.25322342 0.25300013 0.25277935 0.25256097 0.25234492 0.25213111\n",
      " 0.25191946 0.2517099  0.25150235 0.25129675 0.25109303 0.25089114\n",
      " 0.25069101 0.2504926  0.25029585 0.25010071 0.24990714 0.24971509\n",
      " 0.24952452 0.2493354  0.24914767 0.24896131 0.24877628 0.24859255\n",
      " 0.24841008 0.24822884 0.24804881 0.24786996 0.24769226 0.24751568\n",
      " 0.2473402  0.24716579 0.24699243 0.24682011 0.24664879 0.24647846\n",
      " 0.2463091  0.24614069 0.2459732  0.24580663 0.24564096 0.24547616\n",
      " 0.24531223 0.24514914 0.24498688 0.24482544 0.24466481 0.24450496\n",
      " 0.24434589 0.24418758 0.24403002 0.2438732  0.24371711 0.24356173\n",
      " 0.24340706 0.24325308 0.24309978 0.24294716 0.24279519 0.24264388\n",
      " 0.24249321 0.24234318 0.24219377 0.24204498 0.24189679 0.2417492\n",
      " 0.24160221 0.2414558  0.24130996 0.24116469 0.24101998 0.24087583\n",
      " 0.24073222 0.24058915 0.24044661 0.2403046  0.2401631  0.24002212\n",
      " 0.23988165 0.23974168 0.2396022  1.         1.         1.        ]\n"
     ]
    },
    {
     "name": "stderr",
     "output_type": "stream",
     "text": [
      "\n",
      " 99%|█████████▊| 148/150 [05:52<00:04,  2.31s/it]\u001b[A"
     ]
    },
    {
     "name": "stdout",
     "output_type": "stream",
     "text": [
      "[0.94088217 0.71910878 0.5953771  0.51834059 0.46553218 0.4266931\n",
      " 0.3968121  0.37320173 0.35425665 0.33891547 0.32641899 0.31619501\n",
      " 0.30779861 0.30087769 0.29515094 0.29039244 0.2864202  0.28308739\n",
      " 0.28027541 0.27788837 0.27584869 0.27409354 0.27257201 0.2712428\n",
      " 0.27007237 0.26903347 0.2681039  0.26726558 0.26650374 0.26580629\n",
      " 0.26516333 0.26456673 0.26400977 0.26348692 0.2629936  0.26252597\n",
      " 0.26208087 0.26165561 0.26124795 0.26085599 0.26047811 0.26011294\n",
      " 0.25975929 0.25941614 0.25908261 0.25875791 0.25844137 0.2581324\n",
      " 0.25783046 0.25753508 0.25724583 0.25696234 0.25668426 0.25641127\n",
      " 0.2561431  0.25587948 0.25562018 0.25536497 0.25511366 0.25486605\n",
      " 0.25462197 0.25438127 0.25414379 0.25390939 0.25367794 0.25344933\n",
      " 0.25322342 0.25300013 0.25277935 0.25256097 0.25234492 0.25213111\n",
      " 0.25191946 0.2517099  0.25150235 0.25129675 0.25109303 0.25089114\n",
      " 0.25069101 0.2504926  0.25029585 0.25010071 0.24990714 0.24971509\n",
      " 0.24952452 0.2493354  0.24914767 0.24896131 0.24877628 0.24859255\n",
      " 0.24841008 0.24822884 0.24804881 0.24786996 0.24769226 0.24751568\n",
      " 0.2473402  0.24716579 0.24699243 0.24682011 0.24664879 0.24647846\n",
      " 0.2463091  0.24614069 0.2459732  0.24580663 0.24564096 0.24547616\n",
      " 0.24531223 0.24514914 0.24498688 0.24482544 0.24466481 0.24450496\n",
      " 0.24434589 0.24418758 0.24403002 0.2438732  0.24371711 0.24356173\n",
      " 0.24340706 0.24325308 0.24309978 0.24294716 0.24279519 0.24264388\n",
      " 0.24249321 0.24234318 0.24219377 0.24204498 0.24189679 0.2417492\n",
      " 0.24160221 0.2414558  0.24130996 0.24116469 0.24101998 0.24087583\n",
      " 0.24073222 0.24058915 0.24044661 0.2403046  0.2401631  0.24002212\n",
      " 0.23988165 0.23974168 0.2396022  0.23946321 1.         1.        ]\n"
     ]
    },
    {
     "name": "stderr",
     "output_type": "stream",
     "text": [
      "\n",
      " 99%|█████████▉| 149/150 [05:54<00:02,  2.31s/it]\u001b[A"
     ]
    },
    {
     "name": "stdout",
     "output_type": "stream",
     "text": [
      "[0.94088217 0.71910878 0.5953771  0.51834059 0.46553218 0.4266931\n",
      " 0.3968121  0.37320173 0.35425665 0.33891547 0.32641899 0.31619501\n",
      " 0.30779861 0.30087769 0.29515094 0.29039244 0.2864202  0.28308739\n",
      " 0.28027541 0.27788837 0.27584869 0.27409354 0.27257201 0.2712428\n",
      " 0.27007237 0.26903347 0.2681039  0.26726558 0.26650374 0.26580629\n",
      " 0.26516333 0.26456673 0.26400977 0.26348692 0.2629936  0.26252597\n",
      " 0.26208087 0.26165561 0.26124795 0.26085599 0.26047811 0.26011294\n",
      " 0.25975929 0.25941614 0.25908261 0.25875791 0.25844137 0.2581324\n",
      " 0.25783046 0.25753508 0.25724583 0.25696234 0.25668426 0.25641127\n",
      " 0.2561431  0.25587948 0.25562018 0.25536497 0.25511366 0.25486605\n",
      " 0.25462197 0.25438127 0.25414379 0.25390939 0.25367794 0.25344933\n",
      " 0.25322342 0.25300013 0.25277935 0.25256097 0.25234492 0.25213111\n",
      " 0.25191946 0.2517099  0.25150235 0.25129675 0.25109303 0.25089114\n",
      " 0.25069101 0.2504926  0.25029585 0.25010071 0.24990714 0.24971509\n",
      " 0.24952452 0.2493354  0.24914767 0.24896131 0.24877628 0.24859255\n",
      " 0.24841008 0.24822884 0.24804881 0.24786996 0.24769226 0.24751568\n",
      " 0.2473402  0.24716579 0.24699243 0.24682011 0.24664879 0.24647846\n",
      " 0.2463091  0.24614069 0.2459732  0.24580663 0.24564096 0.24547616\n",
      " 0.24531223 0.24514914 0.24498688 0.24482544 0.24466481 0.24450496\n",
      " 0.24434589 0.24418758 0.24403002 0.2438732  0.24371711 0.24356173\n",
      " 0.24340706 0.24325308 0.24309978 0.24294716 0.24279519 0.24264388\n",
      " 0.24249321 0.24234318 0.24219377 0.24204498 0.24189679 0.2417492\n",
      " 0.24160221 0.2414558  0.24130996 0.24116469 0.24101998 0.24087583\n",
      " 0.24073222 0.24058915 0.24044661 0.2403046  0.2401631  0.24002212\n",
      " 0.23988165 0.23974168 0.2396022  0.23946321 0.23932471 1.        ]\n"
     ]
    },
    {
     "name": "stderr",
     "output_type": "stream",
     "text": [
      "\n",
      "100%|██████████| 150/150 [05:56<00:00,  2.32s/it]\u001b[A"
     ]
    },
    {
     "name": "stdout",
     "output_type": "stream",
     "text": [
      "[0.94088217 0.71910878 0.5953771  0.51834059 0.46553218 0.4266931\n",
      " 0.3968121  0.37320173 0.35425665 0.33891547 0.32641899 0.31619501\n",
      " 0.30779861 0.30087769 0.29515094 0.29039244 0.2864202  0.28308739\n",
      " 0.28027541 0.27788837 0.27584869 0.27409354 0.27257201 0.2712428\n",
      " 0.27007237 0.26903347 0.2681039  0.26726558 0.26650374 0.26580629\n",
      " 0.26516333 0.26456673 0.26400977 0.26348692 0.2629936  0.26252597\n",
      " 0.26208087 0.26165561 0.26124795 0.26085599 0.26047811 0.26011294\n",
      " 0.25975929 0.25941614 0.25908261 0.25875791 0.25844137 0.2581324\n",
      " 0.25783046 0.25753508 0.25724583 0.25696234 0.25668426 0.25641127\n",
      " 0.2561431  0.25587948 0.25562018 0.25536497 0.25511366 0.25486605\n",
      " 0.25462197 0.25438127 0.25414379 0.25390939 0.25367794 0.25344933\n",
      " 0.25322342 0.25300013 0.25277935 0.25256097 0.25234492 0.25213111\n",
      " 0.25191946 0.2517099  0.25150235 0.25129675 0.25109303 0.25089114\n",
      " 0.25069101 0.2504926  0.25029585 0.25010071 0.24990714 0.24971509\n",
      " 0.24952452 0.2493354  0.24914767 0.24896131 0.24877628 0.24859255\n",
      " 0.24841008 0.24822884 0.24804881 0.24786996 0.24769226 0.24751568\n",
      " 0.2473402  0.24716579 0.24699243 0.24682011 0.24664879 0.24647846\n",
      " 0.2463091  0.24614069 0.2459732  0.24580663 0.24564096 0.24547616\n",
      " 0.24531223 0.24514914 0.24498688 0.24482544 0.24466481 0.24450496\n",
      " 0.24434589 0.24418758 0.24403002 0.2438732  0.24371711 0.24356173\n",
      " 0.24340706 0.24325308 0.24309978 0.24294716 0.24279519 0.24264388\n",
      " 0.24249321 0.24234318 0.24219377 0.24204498 0.24189679 0.2417492\n",
      " 0.24160221 0.2414558  0.24130996 0.24116469 0.24101998 0.24087583\n",
      " 0.24073222 0.24058915 0.24044661 0.2403046  0.2401631  0.24002212\n",
      " 0.23988165 0.23974168 0.2396022  0.23946321 0.23932471 0.23918669]\n"
     ]
    }
   ],
   "source": [
    "theta, cost = linear_regression(X, y[:, 29], alpha, iterations)"
   ]
  },
  {
   "cell_type": "code",
   "execution_count": 156,
   "metadata": {},
   "outputs": [],
   "source": [
    "X_1 = np.concatenate((np.ones((X.shape[0], 1)), X), axis = 1)\n",
    "y_res = np.dot(theta, X_1.T) * y_train.std() + y_train.mean()"
   ]
  },
  {
   "cell_type": "code",
   "execution_count": 157,
   "metadata": {},
   "outputs": [
    {
     "data": {
      "text/plain": [
       "-4.782592395806351"
      ]
     },
     "execution_count": 157,
     "metadata": {},
     "output_type": "execute_result"
    }
   ],
   "source": [
    "r2_score(y_train[:,29].flatten(), y_res.flatten())"
   ]
  },
  {
   "cell_type": "code",
   "execution_count": 158,
   "metadata": {},
   "outputs": [
    {
     "data": {
      "text/plain": [
       "array([84.48577444, 85.48017021, 78.65936842, ..., 78.11712   ,\n",
       "       79.58644706, 82.7730963 ])"
      ]
     },
     "execution_count": 158,
     "metadata": {},
     "output_type": "execute_result"
    }
   ],
   "source": [
    "y_train[:, 29]"
   ]
  },
  {
   "cell_type": "code",
   "execution_count": 159,
   "metadata": {
    "scrolled": true
   },
   "outputs": [
    {
     "data": {
      "text/plain": [
       "array([[74.09543501, 78.96920414, 57.1474011 , ..., 72.35464975,\n",
       "        59.26800186, 80.06538454]])"
      ]
     },
     "execution_count": 159,
     "metadata": {},
     "output_type": "execute_result"
    }
   ],
   "source": [
    "y_res"
   ]
  },
  {
   "cell_type": "code",
   "execution_count": 160,
   "metadata": {},
   "outputs": [
    {
     "data": {
      "text/plain": [
       "array([[1191352.72646937]])"
      ]
     },
     "execution_count": 160,
     "metadata": {},
     "output_type": "execute_result"
    }
   ],
   "source": [
    "l = y_res - y_train[:,29]\n",
    "np.dot(l,l.T)"
   ]
  },
  {
   "cell_type": "code",
   "execution_count": null,
   "metadata": {},
   "outputs": [],
   "source": []
  }
 ],
 "metadata": {
  "kernelspec": {
   "display_name": "Python 3",
   "language": "python",
   "name": "python3"
  },
  "language_info": {
   "codemirror_mode": {
    "name": "ipython",
    "version": 3
   },
   "file_extension": ".py",
   "mimetype": "text/x-python",
   "name": "python",
   "nbconvert_exporter": "python",
   "pygments_lexer": "ipython3",
   "version": "3.7.3"
  }
 },
 "nbformat": 4,
 "nbformat_minor": 2
}
