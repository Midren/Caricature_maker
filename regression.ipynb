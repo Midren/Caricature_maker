{
 "cells": [
  {
   "cell_type": "code",
<<<<<<< HEAD
   "execution_count": 31,
=======
   "execution_count": 9,
>>>>>>> 172323967bb7b552b0392311c5ed13bc505efa77
   "metadata": {},
   "outputs": [],
   "source": [
    "import numpy as np\n",
    "import matplotlib.pyplot as plt\n",
    "import pandas as pd\n",
<<<<<<< HEAD
    "from tqdm import trange"
=======
    "from tqdm import trange\n",
    "from scipy.stats.stats import pearsonr\n",
    "from sklearn.metrics import r2_score"
>>>>>>> 172323967bb7b552b0392311c5ed13bc505efa77
   ]
  },
  {
   "cell_type": "code",
<<<<<<< HEAD
   "execution_count": 7,
=======
   "execution_count": 10,
>>>>>>> 172323967bb7b552b0392311c5ed13bc505efa77
   "metadata": {},
   "outputs": [],
   "source": [
    "train_data = pd.read_csv(\"./data/training.csv\")\n",
    "test_data = pd.read_csv(\"./data/test.csv\")\n",
    "train_data.fillna(method='ffill', inplace=True)"
   ]
  },
  {
   "cell_type": "code",
<<<<<<< HEAD
   "execution_count": 8,
   "metadata": {
    "scrolled": true
   },
   "outputs": [
    {
     "data": {
      "text/plain": [
       "False    31\n",
       "dtype: int64"
      ]
     },
     "execution_count": 8,
     "metadata": {},
     "output_type": "execute_result"
    }
   ],
   "source": [
    "train_data.isnull().any().value_counts()"
   ]
  },
  {
   "cell_type": "code",
   "execution_count": 9,
   "metadata": {
    "scrolled": true
   },
   "outputs": [
    {
     "data": {
      "text/plain": [
       "(7049, 31)"
      ]
     },
     "execution_count": 9,
     "metadata": {},
     "output_type": "execute_result"
    }
   ],
   "source": [
    "train_data.shape"
   ]
  },
  {
   "cell_type": "code",
   "execution_count": 10,
   "metadata": {},
   "outputs": [
    {
     "data": {
      "text/html": [
       "<div>\n",
       "<style scoped>\n",
       "    .dataframe tbody tr th:only-of-type {\n",
       "        vertical-align: middle;\n",
       "    }\n",
       "\n",
       "    .dataframe tbody tr th {\n",
       "        vertical-align: top;\n",
       "    }\n",
       "\n",
       "    .dataframe thead th {\n",
       "        text-align: right;\n",
       "    }\n",
       "</style>\n",
       "<table border=\"1\" class=\"dataframe\">\n",
       "  <thead>\n",
       "    <tr style=\"text-align: right;\">\n",
       "      <th></th>\n",
       "      <th>left_eye_center_x</th>\n",
       "      <th>left_eye_center_y</th>\n",
       "      <th>right_eye_center_x</th>\n",
       "      <th>right_eye_center_y</th>\n",
       "      <th>left_eye_inner_corner_x</th>\n",
       "      <th>left_eye_inner_corner_y</th>\n",
       "      <th>left_eye_outer_corner_x</th>\n",
       "      <th>left_eye_outer_corner_y</th>\n",
       "      <th>right_eye_inner_corner_x</th>\n",
       "      <th>right_eye_inner_corner_y</th>\n",
       "      <th>...</th>\n",
       "      <th>nose_tip_y</th>\n",
       "      <th>mouth_left_corner_x</th>\n",
       "      <th>mouth_left_corner_y</th>\n",
       "      <th>mouth_right_corner_x</th>\n",
       "      <th>mouth_right_corner_y</th>\n",
       "      <th>mouth_center_top_lip_x</th>\n",
       "      <th>mouth_center_top_lip_y</th>\n",
       "      <th>mouth_center_bottom_lip_x</th>\n",
       "      <th>mouth_center_bottom_lip_y</th>\n",
       "      <th>Image</th>\n",
       "    </tr>\n",
       "  </thead>\n",
       "  <tbody>\n",
       "    <tr>\n",
       "      <th>7048</th>\n",
       "      <td>66.938311</td>\n",
       "      <td>43.42451</td>\n",
       "      <td>31.096059</td>\n",
       "      <td>39.528604</td>\n",
       "      <td>59.255347</td>\n",
       "      <td>36.065143</td>\n",
       "      <td>73.942694</td>\n",
       "      <td>34.624653</td>\n",
       "      <td>37.478531</td>\n",
       "      <td>39.398041</td>\n",
       "      <td>...</td>\n",
       "      <td>73.033339</td>\n",
       "      <td>72.600433</td>\n",
       "      <td>71.862041</td>\n",
       "      <td>34.232759</td>\n",
       "      <td>77.339429</td>\n",
       "      <td>51.599453</td>\n",
       "      <td>75.963592</td>\n",
       "      <td>45.90048</td>\n",
       "      <td>82.773096</td>\n",
       "      <td>53 62 67 76 86 91 97 105 105 106 107 108 112 1...</td>\n",
       "    </tr>\n",
       "  </tbody>\n",
       "</table>\n",
       "<p>1 rows × 31 columns</p>\n",
       "</div>"
      ],
      "text/plain": [
       "      left_eye_center_x  left_eye_center_y  right_eye_center_x  \\\n",
       "7048          66.938311           43.42451           31.096059   \n",
       "\n",
       "      right_eye_center_y  left_eye_inner_corner_x  left_eye_inner_corner_y  \\\n",
       "7048           39.528604                59.255347                36.065143   \n",
       "\n",
       "      left_eye_outer_corner_x  left_eye_outer_corner_y  \\\n",
       "7048                73.942694                34.624653   \n",
       "\n",
       "      right_eye_inner_corner_x  right_eye_inner_corner_y  ...  nose_tip_y  \\\n",
       "7048                 37.478531                 39.398041  ...   73.033339   \n",
       "\n",
       "      mouth_left_corner_x  mouth_left_corner_y  mouth_right_corner_x  \\\n",
       "7048            72.600433            71.862041             34.232759   \n",
       "\n",
       "      mouth_right_corner_y  mouth_center_top_lip_x  mouth_center_top_lip_y  \\\n",
       "7048             77.339429               51.599453               75.963592   \n",
       "\n",
       "      mouth_center_bottom_lip_x  mouth_center_bottom_lip_y  \\\n",
       "7048                   45.90048                  82.773096   \n",
       "\n",
       "                                                  Image  \n",
       "7048  53 62 67 76 86 91 97 105 105 106 107 108 112 1...  \n",
       "\n",
       "[1 rows x 31 columns]"
      ]
     },
     "execution_count": 10,
     "metadata": {},
     "output_type": "execute_result"
    }
   ],
   "source": [
    "train_data.tail(1)"
   ]
  },
  {
   "cell_type": "code",
   "execution_count": 11,
   "metadata": {},
   "outputs": [
    {
     "data": {
      "text/plain": [
       "(7049, 1783)"
      ]
     },
     "execution_count": 11,
     "metadata": {},
     "output_type": "execute_result"
    }
   ],
   "source": [
    "len(train_data), len(test_data)"
   ]
  },
  {
   "cell_type": "code",
   "execution_count": 12,
   "metadata": {},
   "outputs": [
    {
     "data": {
      "text/plain": [
       "9216"
      ]
     },
     "execution_count": 12,
     "metadata": {},
     "output_type": "execute_result"
    }
   ],
   "source": [
    "len(test_data.Image[0].split(' '))"
   ]
  },
  {
   "cell_type": "code",
   "execution_count": 13,
=======
   "execution_count": 11,
>>>>>>> 172323967bb7b552b0392311c5ed13bc505efa77
   "metadata": {},
   "outputs": [],
   "source": [
    "def append_X(X):\n",
    "    return [np.asarray(image.split(' '), dtype= 'float').reshape(96, 96) for image in X.Image]"
   ]
  },
  {
   "cell_type": "code",
<<<<<<< HEAD
   "execution_count": 14,
=======
   "execution_count": 12,
>>>>>>> 172323967bb7b552b0392311c5ed13bc505efa77
   "metadata": {},
   "outputs": [
    {
     "data": {
      "image/png": "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\n",
      "text/plain": [
       "<Figure size 432x288 with 1 Axes>"
      ]
     },
     "metadata": {
      "needs_background": "light"
     },
     "output_type": "display_data"
    }
   ],
   "source": [
    "X_train = append_X(train_data) \n",
    "plt.imshow(X_train[1],cmap='gray')\n",
    "plt.show()"
   ]
  },
  {
   "cell_type": "code",
<<<<<<< HEAD
   "execution_count": 15,
=======
   "execution_count": 13,
>>>>>>> 172323967bb7b552b0392311c5ed13bc505efa77
   "metadata": {},
   "outputs": [
    {
     "data": {
      "image/png": "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\n",
      "text/plain": [
       "<Figure size 432x288 with 1 Axes>"
      ]
     },
     "metadata": {
      "needs_background": "light"
     },
     "output_type": "display_data"
    }
   ],
   "source": [
    "X_test = append_X(test_data) \n",
    "plt.imshow(X_test[0],cmap='gray')\n",
    "plt.show()"
   ]
  },
  {
   "cell_type": "code",
<<<<<<< HEAD
   "execution_count": 16,
   "metadata": {},
   "outputs": [],
   "source": [
    "# taking keypoints data from csv, except full Image\n",
    "y = train_data.iloc[:, :-1].values"
   ]
  },
  {
   "cell_type": "code",
   "execution_count": 17,
   "metadata": {},
   "outputs": [
    {
     "name": "stdout",
     "output_type": "stream",
     "text": [
      "7049\n"
     ]
    }
   ],
   "source": [
    "print(len(X_train))\n",
    "\n",
    "\n",
    "def keypoints_show(x, y=None):\n",
    "    plt.imshow(x, 'gray')\n",
    "    if y is not None:\n",
    "        points = np.vstack(np.split(y, 15)).T\n",
    "        plt.plot(points[0], points[1], 'o', color='red')\n",
    "    plt.axis('off')   \n"
   ]
  },
  {
   "cell_type": "code",
   "execution_count": 18,
   "metadata": {},
   "outputs": [
    {
     "data": {
      "image/png": "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\n",
      "text/plain": [
       "<Figure size 432x288 with 1 Axes>"
      ]
     },
     "metadata": {
      "needs_background": "light"
     },
     "output_type": "display_data"
    }
   ],
=======
   "execution_count": 14,
   "metadata": {},
   "outputs": [],
>>>>>>> 172323967bb7b552b0392311c5ed13bc505efa77
   "source": [
    "y_train = train_data.iloc[:, :-1].values"
   ]
  },
  {
   "cell_type": "code",
<<<<<<< HEAD
   "execution_count": 45,
   "metadata": {},
   "outputs": [],
   "source": [
    "def computecost(X,y, theta):\n",
    "    \n",
    "    \"\"\" return : Cost function \"\"\"\n",
    "        \n",
    "    #hypothesis\n",
    "    h = np.dot(X ,theta)\n",
    "    error = h-y\n",
    "    loss = np.power(error,2)\n",
    "    J = np.sum(loss)/(2*m)\n",
    "   \n",
    "    return J"
=======
   "execution_count": 15,
   "metadata": {},
   "outputs": [],
   "source": [
    "X_train = np.array(X_train).reshape(len(X_train), -1)"
>>>>>>> 172323967bb7b552b0392311c5ed13bc505efa77
   ]
  },
  {
   "cell_type": "code",
   "execution_count": 32,
   "metadata": {},
   "outputs": [],
   "source": [
    "def computecost(X,y, theta):\n",
    "    \n",
    "    \"\"\" return : Cost function \"\"\"\n",
    "        \n",
    "    #hypothesis\n",
    "    h = np.matmul(X ,theta)\n",
    "    error = h-y\n",
    "    loss = np.power(error,2)\n",
    "    J = np.sum(loss)/(2*X.shape[0])\n",
    "   \n",
    "    return J"
   ]
  },
  {
   "cell_type": "code",
   "execution_count": 53,
   "metadata": {},
   "outputs": [],
   "source": [
<<<<<<< HEAD
    "def BGD(theta, alpha, num_iters, h, X, y, n):\n",
    "    cost = np.ones(num_iters)\n",
    "    for i in trange(0,num_iters):\n",
    "        theta[0] = theta[0] - (alpha/X.shape[0]) * sum(h - y)\n",
    "        for j in range(1,n+1):\n",
    "            theta[j] = theta[j] - (alpha/X.shape[0]) * sum((h-y) * X.transpose()[j])\n",
    "        h = hypothesis(theta, X, n)\n",
    "        cost[i] = (1/X.shape[0]) * 0.5 * sum(np.square(h - y))\n",
    "    theta = theta.reshape(1,n+1)\n",
    "    return theta, cost"
=======
    "def gradientDescent(X,y,theta,iters,alpha):\n",
    "    cost = np.zeros(iters)\n",
    "    for i in trange(iters):\n",
    "        gradient = np.matmul(X,theta) - y\n",
    "        theta = theta - (alpha/len(X)) * np.sum(X * gradient, axis=0)\n",
    "        cost[i] = computecost(X, y, theta)\n",
    "        print(cost)\n",
    "    return theta,cost"
>>>>>>> 172323967bb7b552b0392311c5ed13bc505efa77
   ]
  },
  {
   "cell_type": "code",
   "execution_count": 65,
   "metadata": {},
   "outputs": [],
   "source": [
    "def gradientDescent(X,y,theta,iters,alpha):\n",
    "    cost = np.zeros(iters)\n",
    "    for i in range(iters):\n",
    "        theta = theta - (alpha/len(X)) * np.sum(X * (theta.T @ X - y), axis=0)\n",
    "        cost[i] = computeCost(X, y, theta)\n",
    "    return theta,cost"
   ]
  },
  {
   "cell_type": "code",
   "execution_count": 66,
   "metadata": {},
   "outputs": [],
   "source": [
    "X = (X_train - X_train.mean()) / X_train.std()\n",
    "y = (y_train - y_train.mean()) / y_train.std()"
   ]
  },
  {
   "cell_type": "code",
<<<<<<< HEAD
   "execution_count": 74,
=======
   "execution_count": 21,
>>>>>>> 172323967bb7b552b0392311c5ed13bc505efa77
   "metadata": {},
   "outputs": [
    {
     "name": "stdout",
     "output_type": "stream",
     "text": [
      "(9216, 1)\n"
     ]
    }
   ],
   "source": [
<<<<<<< HEAD
    "X = np.array([image.flatten() for image in X_train])\n",
    "theta  = (np.zeros((X.shape[1],1)))\n",
    "one_column = np.ones((X.shape[0],1))\n",
    "X = np.concatenate((one_column, X), axis=1)\n",
    "print(theta.shape)\n",
    "g, cost = gradient_descent(X, y, theta, alpha, iterations)"
   ]
  },
  {
   "cell_type": "code",
   "execution_count": 59,
   "metadata": {},
   "outputs": [
    {
     "data": {
      "text/plain": [
       "array([0.68784962, 0.67013475, 0.67767763, ..., 0.69469512, 0.73921961,\n",
       "       0.69727407])"
      ]
     },
     "execution_count": 59,
     "metadata": {},
     "output_type": "execute_result"
    }
   ],
   "source": [
    "y[:,0] / 96"
=======
    "info = {\"id\": [], \"correlation\": []}\n",
    "for i in range(X.shape[1]):\n",
    "    info[\"id\"].append(i)\n",
    "    info[\"correlation\"].append(pearsonr(X[:,i], y[:,0])[0])"
>>>>>>> 172323967bb7b552b0392311c5ed13bc505efa77
   ]
  },
  {
   "cell_type": "code",
<<<<<<< HEAD
   "execution_count": 47,
   "metadata": {},
   "outputs": [
    {
     "name": "stdout",
     "output_type": "stream",
     "text": [
      "(7049,) (1, 9217)\n"
     ]
    }
   ],
   "source": [
    "# reg = linear_model.LinearRegression()\n",
    "# reg.fit(X, y[...,0])\n",
    "print(y[..., 0].shape, theta.shape)"
=======
   "execution_count": 22,
   "metadata": {},
   "outputs": [],
   "source": [
    "info = pd.DataFrame(info).sort_values(by=[\"correlation\"], ascending=False) "
>>>>>>> 172323967bb7b552b0392311c5ed13bc505efa77
   ]
  },
  {
   "cell_type": "code",
   "execution_count": 23,
   "metadata": {},
   "outputs": [],
   "source": [
    "mask = info[(info[\"correlation\"] > 0.05)][\"id\"].values"
   ]
  },
  {
   "cell_type": "code",
   "execution_count": 21,
   "metadata": {},
   "outputs": [],
   "source": [
    "alpha = 0.001\n",
    "iterations = 30\n",
    "# theta  = np.zeros((X_new.shape[1] + 1,1))\n",
    "# one = np.ones((X_new.shape[0], 1))\n",
    "# X_new = np.concatenate((one, X_new), axis=1)\n",
    "# # g, cost = gradientDescent(X_new, y[:, :1], theta, iterations, alpha)"
   ]
  },
  {
   "cell_type": "code",
<<<<<<< HEAD
   "execution_count": 1,
   "metadata": {},
   "outputs": [],
   "source": [
    "def least_square_predictor(X, y):\n",
    "    A = np.concatenate((np.ones((X.shape[0],1)), X), axis = 1)\n",
    "    beta = np.dot(np.linalg.inv(np.dot(A.T, A)),np.dot(A.T, y))\n",
    "    return beta "
=======
   "execution_count": 22,
   "metadata": {},
   "outputs": [],
   "source": [
    "def linear_regression(X, y, alpha, num_iters):\n",
    "    n = X.shape[1]\n",
    "    one_column = np.ones((X.shape[0],1))\n",
    "    X = np.concatenate((one_column, X), axis = 1)\n",
    "    print(X.shape, one_column.shape)\n",
    "    # initializing the parameter vector...\n",
    "    theta = np.zeros(n+1)\n",
    "    # hypothesis calculation....\n",
    "    h = hypothesis(theta, X, n)\n",
    "    # returning the optimized parameters by Gradient Descent...\n",
    "    theta, cost = BGD(theta,alpha,num_iters,h,X,y,n)\n",
    "    return theta, cost"
>>>>>>> 172323967bb7b552b0392311c5ed13bc505efa77
   ]
  },
  {
   "cell_type": "code",
<<<<<<< HEAD
   "execution_count": 39,
   "metadata": {},
   "outputs": [],
   "source": [
    "predictor = least_square_predictor(X / 255 , y[..., 0] / 96)"
   ]
  },
  {
   "cell_type": "code",
   "execution_count": 45,
   "metadata": {
    "scrolled": true
   },
   "outputs": [
    {
     "data": {
      "text/plain": [
       "237.23498868766953"
      ]
     },
     "execution_count": 45,
     "metadata": {},
     "output_type": "execute_result"
    }
   ],
   "source": [
    "A = np.concatenate((np.ones((X.shape[0], 1)), X/255), axis = 1)\n",
    "np.dot(A[0], predictor)\n"
=======
   "execution_count": 23,
   "metadata": {},
   "outputs": [],
   "source": [
    "def BGD(theta, alpha, num_iters, h, X, y, n):\n",
    "    cost = np.ones(num_iters)\n",
    "    for i in trange(0,num_iters):\n",
    "        theta[0] = theta[0] - (alpha/X.shape[0]) * sum(h - y)\n",
    "        for j in range(1,n+1):\n",
    "            theta[j] = theta[j] - (alpha/X.shape[0]) * sum((h-y) * X.transpose()[j])\n",
    "        h = hypothesis(theta, X, n)\n",
    "        cost[i] = (1/X.shape[0]) * 0.5 * sum(np.square(h - y))\n",
    "        print(cost)\n",
    "    theta = theta.reshape(1,n+1)\n",
    "    return theta, cost"
>>>>>>> 172323967bb7b552b0392311c5ed13bc505efa77
   ]
  },
  {
   "cell_type": "code",
<<<<<<< HEAD
   "execution_count": 49,
=======
   "execution_count": 24,
   "metadata": {},
   "outputs": [],
   "source": [
    "def hypothesis(theta, X, n):\n",
    "    h = np.ones((X.shape[0],1))\n",
    "    theta = theta.reshape(1,n+1)\n",
    "    for i in range(0,X.shape[0]):\n",
    "        h[i] = float(np.matmul(theta, X[i]))\n",
    "    h = h.reshape(X.shape[0])\n",
    "    return h"
   ]
  },
  {
   "cell_type": "code",
   "execution_count": 28,
>>>>>>> 172323967bb7b552b0392311c5ed13bc505efa77
   "metadata": {
    "collapsed": true
   },
   "outputs": [
    {
<<<<<<< HEAD
     "data": {
      "text/plain": [
       "49180704743.440155"
      ]
     },
     "execution_count": 49,
     "metadata": {},
     "output_type": "execute_result"
    }
   ],
   "source": [
    "l = np.dot(A, predictor) - y[..., 0]\n",
    "np.dot(l, l)"
=======
     "name": "stdout",
     "output_type": "stream",
     "text": [
      "(7049, 3207)\n",
      "(7049, 3208) (7049, 1)\n"
     ]
    },
    {
     "name": "stderr",
     "output_type": "stream",
     "text": [
      "\n",
      "  0%|          | 0/100 [00:00<?, ?it/s]\u001b[A\n",
      "  1%|          | 1/100 [00:05<08:37,  5.22s/it]\u001b[A"
     ]
    },
    {
     "name": "stdout",
     "output_type": "stream",
     "text": [
      "[0.2496382 1.        1.        1.        1.        1.        1.\n",
      " 1.        1.        1.        1.        1.        1.        1.\n",
      " 1.        1.        1.        1.        1.        1.        1.\n",
      " 1.        1.        1.        1.        1.        1.        1.\n",
      " 1.        1.        1.        1.        1.        1.        1.\n",
      " 1.        1.        1.        1.        1.        1.        1.\n",
      " 1.        1.        1.        1.        1.        1.        1.\n",
      " 1.        1.        1.        1.        1.        1.        1.\n",
      " 1.        1.        1.        1.        1.        1.        1.\n",
      " 1.        1.        1.        1.        1.        1.        1.\n",
      " 1.        1.        1.        1.        1.        1.        1.\n",
      " 1.        1.        1.        1.        1.        1.        1.\n",
      " 1.        1.        1.        1.        1.        1.        1.\n",
      " 1.        1.        1.        1.        1.        1.        1.\n",
      " 1.        1.       ]\n"
     ]
    },
    {
     "name": "stderr",
     "output_type": "stream",
     "text": [
      "\n",
      "  2%|▏         | 2/100 [00:10<08:44,  5.35s/it]\u001b[A"
     ]
    },
    {
     "name": "stdout",
     "output_type": "stream",
     "text": [
      "[0.2496382  0.17377254 1.         1.         1.         1.\n",
      " 1.         1.         1.         1.         1.         1.\n",
      " 1.         1.         1.         1.         1.         1.\n",
      " 1.         1.         1.         1.         1.         1.\n",
      " 1.         1.         1.         1.         1.         1.\n",
      " 1.         1.         1.         1.         1.         1.\n",
      " 1.         1.         1.         1.         1.         1.\n",
      " 1.         1.         1.         1.         1.         1.\n",
      " 1.         1.         1.         1.         1.         1.\n",
      " 1.         1.         1.         1.         1.         1.\n",
      " 1.         1.         1.         1.         1.         1.\n",
      " 1.         1.         1.         1.         1.         1.\n",
      " 1.         1.         1.         1.         1.         1.\n",
      " 1.         1.         1.         1.         1.         1.\n",
      " 1.         1.         1.         1.         1.         1.\n",
      " 1.         1.         1.         1.         1.         1.\n",
      " 1.         1.         1.         1.        ]\n"
     ]
    },
    {
     "name": "stderr",
     "output_type": "stream",
     "text": [
      "\n",
      "  3%|▎         | 3/100 [00:16<08:40,  5.36s/it]\u001b[A"
     ]
    },
    {
     "name": "stdout",
     "output_type": "stream",
     "text": [
      "[0.2496382  0.17377254 0.14315291 1.         1.         1.\n",
      " 1.         1.         1.         1.         1.         1.\n",
      " 1.         1.         1.         1.         1.         1.\n",
      " 1.         1.         1.         1.         1.         1.\n",
      " 1.         1.         1.         1.         1.         1.\n",
      " 1.         1.         1.         1.         1.         1.\n",
      " 1.         1.         1.         1.         1.         1.\n",
      " 1.         1.         1.         1.         1.         1.\n",
      " 1.         1.         1.         1.         1.         1.\n",
      " 1.         1.         1.         1.         1.         1.\n",
      " 1.         1.         1.         1.         1.         1.\n",
      " 1.         1.         1.         1.         1.         1.\n",
      " 1.         1.         1.         1.         1.         1.\n",
      " 1.         1.         1.         1.         1.         1.\n",
      " 1.         1.         1.         1.         1.         1.\n",
      " 1.         1.         1.         1.         1.         1.\n",
      " 1.         1.         1.         1.        ]\n"
     ]
    },
    {
     "name": "stderr",
     "output_type": "stream",
     "text": [
      "\n",
      "  4%|▍         | 4/100 [00:21<08:42,  5.44s/it]\u001b[A"
     ]
    },
    {
     "name": "stdout",
     "output_type": "stream",
     "text": [
      "[0.2496382  0.17377254 0.14315291 0.12869371 1.         1.\n",
      " 1.         1.         1.         1.         1.         1.\n",
      " 1.         1.         1.         1.         1.         1.\n",
      " 1.         1.         1.         1.         1.         1.\n",
      " 1.         1.         1.         1.         1.         1.\n",
      " 1.         1.         1.         1.         1.         1.\n",
      " 1.         1.         1.         1.         1.         1.\n",
      " 1.         1.         1.         1.         1.         1.\n",
      " 1.         1.         1.         1.         1.         1.\n",
      " 1.         1.         1.         1.         1.         1.\n",
      " 1.         1.         1.         1.         1.         1.\n",
      " 1.         1.         1.         1.         1.         1.\n",
      " 1.         1.         1.         1.         1.         1.\n",
      " 1.         1.         1.         1.         1.         1.\n",
      " 1.         1.         1.         1.         1.         1.\n",
      " 1.         1.         1.         1.         1.         1.\n",
      " 1.         1.         1.         1.        ]\n"
     ]
    },
    {
     "name": "stderr",
     "output_type": "stream",
     "text": [
      "\n",
      "  5%|▌         | 5/100 [00:27<08:51,  5.60s/it]\u001b[A"
     ]
    },
    {
     "name": "stdout",
     "output_type": "stream",
     "text": [
      "[0.2496382  0.17377254 0.14315291 0.12869371 0.12086142 1.\n",
      " 1.         1.         1.         1.         1.         1.\n",
      " 1.         1.         1.         1.         1.         1.\n",
      " 1.         1.         1.         1.         1.         1.\n",
      " 1.         1.         1.         1.         1.         1.\n",
      " 1.         1.         1.         1.         1.         1.\n",
      " 1.         1.         1.         1.         1.         1.\n",
      " 1.         1.         1.         1.         1.         1.\n",
      " 1.         1.         1.         1.         1.         1.\n",
      " 1.         1.         1.         1.         1.         1.\n",
      " 1.         1.         1.         1.         1.         1.\n",
      " 1.         1.         1.         1.         1.         1.\n",
      " 1.         1.         1.         1.         1.         1.\n",
      " 1.         1.         1.         1.         1.         1.\n",
      " 1.         1.         1.         1.         1.         1.\n",
      " 1.         1.         1.         1.         1.         1.\n",
      " 1.         1.         1.         1.        ]\n"
     ]
    },
    {
     "name": "stderr",
     "output_type": "stream",
     "text": [
      "\n",
      "  6%|▌         | 6/100 [00:33<08:48,  5.62s/it]\u001b[A"
     ]
    },
    {
     "name": "stdout",
     "output_type": "stream",
     "text": [
      "[0.2496382  0.17377254 0.14315291 0.12869371 0.12086142 0.11599234\n",
      " 1.         1.         1.         1.         1.         1.\n",
      " 1.         1.         1.         1.         1.         1.\n",
      " 1.         1.         1.         1.         1.         1.\n",
      " 1.         1.         1.         1.         1.         1.\n",
      " 1.         1.         1.         1.         1.         1.\n",
      " 1.         1.         1.         1.         1.         1.\n",
      " 1.         1.         1.         1.         1.         1.\n",
      " 1.         1.         1.         1.         1.         1.\n",
      " 1.         1.         1.         1.         1.         1.\n",
      " 1.         1.         1.         1.         1.         1.\n",
      " 1.         1.         1.         1.         1.         1.\n",
      " 1.         1.         1.         1.         1.         1.\n",
      " 1.         1.         1.         1.         1.         1.\n",
      " 1.         1.         1.         1.         1.         1.\n",
      " 1.         1.         1.         1.         1.         1.\n",
      " 1.         1.         1.         1.        ]\n"
     ]
    },
    {
     "name": "stderr",
     "output_type": "stream",
     "text": [
      "\n",
      "  7%|▋         | 7/100 [00:39<08:40,  5.60s/it]\u001b[A"
     ]
    },
    {
     "name": "stdout",
     "output_type": "stream",
     "text": [
      "[0.2496382  0.17377254 0.14315291 0.12869371 0.12086142 0.11599234\n",
      " 0.1125531  1.         1.         1.         1.         1.\n",
      " 1.         1.         1.         1.         1.         1.\n",
      " 1.         1.         1.         1.         1.         1.\n",
      " 1.         1.         1.         1.         1.         1.\n",
      " 1.         1.         1.         1.         1.         1.\n",
      " 1.         1.         1.         1.         1.         1.\n",
      " 1.         1.         1.         1.         1.         1.\n",
      " 1.         1.         1.         1.         1.         1.\n",
      " 1.         1.         1.         1.         1.         1.\n",
      " 1.         1.         1.         1.         1.         1.\n",
      " 1.         1.         1.         1.         1.         1.\n",
      " 1.         1.         1.         1.         1.         1.\n",
      " 1.         1.         1.         1.         1.         1.\n",
      " 1.         1.         1.         1.         1.         1.\n",
      " 1.         1.         1.         1.         1.         1.\n",
      " 1.         1.         1.         1.        ]\n"
     ]
    },
    {
     "name": "stderr",
     "output_type": "stream",
     "text": [
      "\n",
      "  8%|▊         | 8/100 [00:44<08:31,  5.56s/it]\u001b[A"
     ]
    },
    {
     "name": "stdout",
     "output_type": "stream",
     "text": [
      "[0.2496382  0.17377254 0.14315291 0.12869371 0.12086142 0.11599234\n",
      " 0.1125531  0.10987001 1.         1.         1.         1.\n",
      " 1.         1.         1.         1.         1.         1.\n",
      " 1.         1.         1.         1.         1.         1.\n",
      " 1.         1.         1.         1.         1.         1.\n",
      " 1.         1.         1.         1.         1.         1.\n",
      " 1.         1.         1.         1.         1.         1.\n",
      " 1.         1.         1.         1.         1.         1.\n",
      " 1.         1.         1.         1.         1.         1.\n",
      " 1.         1.         1.         1.         1.         1.\n",
      " 1.         1.         1.         1.         1.         1.\n",
      " 1.         1.         1.         1.         1.         1.\n",
      " 1.         1.         1.         1.         1.         1.\n",
      " 1.         1.         1.         1.         1.         1.\n",
      " 1.         1.         1.         1.         1.         1.\n",
      " 1.         1.         1.         1.         1.         1.\n",
      " 1.         1.         1.         1.        ]\n"
     ]
    },
    {
     "name": "stderr",
     "output_type": "stream",
     "text": [
      "\n",
      "  9%|▉         | 9/100 [00:50<08:30,  5.61s/it]\u001b[A"
     ]
    },
    {
     "name": "stdout",
     "output_type": "stream",
     "text": [
      "[0.2496382  0.17377254 0.14315291 0.12869371 0.12086142 0.11599234\n",
      " 0.1125531  0.10987001 0.10763439 1.         1.         1.\n",
      " 1.         1.         1.         1.         1.         1.\n",
      " 1.         1.         1.         1.         1.         1.\n",
      " 1.         1.         1.         1.         1.         1.\n",
      " 1.         1.         1.         1.         1.         1.\n",
      " 1.         1.         1.         1.         1.         1.\n",
      " 1.         1.         1.         1.         1.         1.\n",
      " 1.         1.         1.         1.         1.         1.\n",
      " 1.         1.         1.         1.         1.         1.\n",
      " 1.         1.         1.         1.         1.         1.\n",
      " 1.         1.         1.         1.         1.         1.\n",
      " 1.         1.         1.         1.         1.         1.\n",
      " 1.         1.         1.         1.         1.         1.\n",
      " 1.         1.         1.         1.         1.         1.\n",
      " 1.         1.         1.         1.         1.         1.\n",
      " 1.         1.         1.         1.        ]\n"
     ]
    },
    {
     "name": "stderr",
     "output_type": "stream",
     "text": [
      "\n",
      " 10%|█         | 10/100 [00:56<08:49,  5.88s/it]\u001b[A"
     ]
    },
    {
     "name": "stdout",
     "output_type": "stream",
     "text": [
      "[0.2496382  0.17377254 0.14315291 0.12869371 0.12086142 0.11599234\n",
      " 0.1125531  0.10987001 0.10763439 0.10569693 1.         1.\n",
      " 1.         1.         1.         1.         1.         1.\n",
      " 1.         1.         1.         1.         1.         1.\n",
      " 1.         1.         1.         1.         1.         1.\n",
      " 1.         1.         1.         1.         1.         1.\n",
      " 1.         1.         1.         1.         1.         1.\n",
      " 1.         1.         1.         1.         1.         1.\n",
      " 1.         1.         1.         1.         1.         1.\n",
      " 1.         1.         1.         1.         1.         1.\n",
      " 1.         1.         1.         1.         1.         1.\n",
      " 1.         1.         1.         1.         1.         1.\n",
      " 1.         1.         1.         1.         1.         1.\n",
      " 1.         1.         1.         1.         1.         1.\n",
      " 1.         1.         1.         1.         1.         1.\n",
      " 1.         1.         1.         1.         1.         1.\n",
      " 1.         1.         1.         1.        ]\n"
     ]
    },
    {
     "name": "stderr",
     "output_type": "stream",
     "text": [
      "\n",
      " 11%|█         | 11/100 [01:03<09:00,  6.07s/it]\u001b[A"
     ]
    },
    {
     "name": "stdout",
     "output_type": "stream",
     "text": [
      "[0.2496382  0.17377254 0.14315291 0.12869371 0.12086142 0.11599234\n",
      " 0.1125531  0.10987001 0.10763439 0.10569693 0.10397958 1.\n",
      " 1.         1.         1.         1.         1.         1.\n",
      " 1.         1.         1.         1.         1.         1.\n",
      " 1.         1.         1.         1.         1.         1.\n",
      " 1.         1.         1.         1.         1.         1.\n",
      " 1.         1.         1.         1.         1.         1.\n",
      " 1.         1.         1.         1.         1.         1.\n",
      " 1.         1.         1.         1.         1.         1.\n",
      " 1.         1.         1.         1.         1.         1.\n",
      " 1.         1.         1.         1.         1.         1.\n",
      " 1.         1.         1.         1.         1.         1.\n",
      " 1.         1.         1.         1.         1.         1.\n",
      " 1.         1.         1.         1.         1.         1.\n",
      " 1.         1.         1.         1.         1.         1.\n",
      " 1.         1.         1.         1.         1.         1.\n",
      " 1.         1.         1.         1.        ]\n"
     ]
    },
    {
     "name": "stderr",
     "output_type": "stream",
     "text": [
      "\n",
      " 12%|█▏        | 12/100 [01:09<09:04,  6.19s/it]\u001b[A"
     ]
    },
    {
     "name": "stdout",
     "output_type": "stream",
     "text": [
      "[0.2496382  0.17377254 0.14315291 0.12869371 0.12086142 0.11599234\n",
      " 0.1125531  0.10987001 0.10763439 0.10569693 0.10397958 0.10243713\n",
      " 1.         1.         1.         1.         1.         1.\n",
      " 1.         1.         1.         1.         1.         1.\n",
      " 1.         1.         1.         1.         1.         1.\n",
      " 1.         1.         1.         1.         1.         1.\n",
      " 1.         1.         1.         1.         1.         1.\n",
      " 1.         1.         1.         1.         1.         1.\n",
      " 1.         1.         1.         1.         1.         1.\n",
      " 1.         1.         1.         1.         1.         1.\n",
      " 1.         1.         1.         1.         1.         1.\n",
      " 1.         1.         1.         1.         1.         1.\n",
      " 1.         1.         1.         1.         1.         1.\n",
      " 1.         1.         1.         1.         1.         1.\n",
      " 1.         1.         1.         1.         1.         1.\n",
      " 1.         1.         1.         1.         1.         1.\n",
      " 1.         1.         1.         1.        ]\n"
     ]
    },
    {
     "name": "stderr",
     "output_type": "stream",
     "text": [
      "\n",
      " 13%|█▎        | 13/100 [01:15<08:59,  6.20s/it]\u001b[A"
     ]
    },
    {
     "name": "stdout",
     "output_type": "stream",
     "text": [
      "[0.2496382  0.17377254 0.14315291 0.12869371 0.12086142 0.11599234\n",
      " 0.1125531  0.10987001 0.10763439 0.10569693 0.10397958 0.10243713\n",
      " 0.10104023 1.         1.         1.         1.         1.\n",
      " 1.         1.         1.         1.         1.         1.\n",
      " 1.         1.         1.         1.         1.         1.\n",
      " 1.         1.         1.         1.         1.         1.\n",
      " 1.         1.         1.         1.         1.         1.\n",
      " 1.         1.         1.         1.         1.         1.\n",
      " 1.         1.         1.         1.         1.         1.\n",
      " 1.         1.         1.         1.         1.         1.\n",
      " 1.         1.         1.         1.         1.         1.\n",
      " 1.         1.         1.         1.         1.         1.\n",
      " 1.         1.         1.         1.         1.         1.\n",
      " 1.         1.         1.         1.         1.         1.\n",
      " 1.         1.         1.         1.         1.         1.\n",
      " 1.         1.         1.         1.         1.         1.\n",
      " 1.         1.         1.         1.        ]\n"
     ]
    },
    {
     "name": "stderr",
     "output_type": "stream",
     "text": [
      "\n",
      " 14%|█▍        | 14/100 [01:21<08:42,  6.08s/it]\u001b[A"
     ]
    },
    {
     "name": "stdout",
     "output_type": "stream",
     "text": [
      "[0.2496382  0.17377254 0.14315291 0.12869371 0.12086142 0.11599234\n",
      " 0.1125531  0.10987001 0.10763439 0.10569693 0.10397958 0.10243713\n",
      " 0.10104023 0.09976779 1.         1.         1.         1.\n",
      " 1.         1.         1.         1.         1.         1.\n",
      " 1.         1.         1.         1.         1.         1.\n",
      " 1.         1.         1.         1.         1.         1.\n",
      " 1.         1.         1.         1.         1.         1.\n",
      " 1.         1.         1.         1.         1.         1.\n",
      " 1.         1.         1.         1.         1.         1.\n",
      " 1.         1.         1.         1.         1.         1.\n",
      " 1.         1.         1.         1.         1.         1.\n",
      " 1.         1.         1.         1.         1.         1.\n",
      " 1.         1.         1.         1.         1.         1.\n",
      " 1.         1.         1.         1.         1.         1.\n",
      " 1.         1.         1.         1.         1.         1.\n",
      " 1.         1.         1.         1.         1.         1.\n",
      " 1.         1.         1.         1.        ]\n"
     ]
    },
    {
     "name": "stderr",
     "output_type": "stream",
     "text": [
      "\n",
      " 15%|█▌        | 15/100 [01:28<08:51,  6.26s/it]\u001b[A"
     ]
    },
    {
     "name": "stdout",
     "output_type": "stream",
     "text": [
      "[0.2496382  0.17377254 0.14315291 0.12869371 0.12086142 0.11599234\n",
      " 0.1125531  0.10987001 0.10763439 0.10569693 0.10397958 0.10243713\n",
      " 0.10104023 0.09976779 0.09860344 1.         1.         1.\n",
      " 1.         1.         1.         1.         1.         1.\n",
      " 1.         1.         1.         1.         1.         1.\n",
      " 1.         1.         1.         1.         1.         1.\n",
      " 1.         1.         1.         1.         1.         1.\n",
      " 1.         1.         1.         1.         1.         1.\n",
      " 1.         1.         1.         1.         1.         1.\n",
      " 1.         1.         1.         1.         1.         1.\n",
      " 1.         1.         1.         1.         1.         1.\n",
      " 1.         1.         1.         1.         1.         1.\n",
      " 1.         1.         1.         1.         1.         1.\n",
      " 1.         1.         1.         1.         1.         1.\n",
      " 1.         1.         1.         1.         1.         1.\n",
      " 1.         1.         1.         1.         1.         1.\n",
      " 1.         1.         1.         1.        ]\n"
     ]
    },
    {
     "name": "stderr",
     "output_type": "stream",
     "text": [
      "\n",
      " 16%|█▌        | 16/100 [01:33<08:24,  6.01s/it]\u001b[A"
     ]
    },
    {
     "name": "stdout",
     "output_type": "stream",
     "text": [
      "[0.2496382  0.17377254 0.14315291 0.12869371 0.12086142 0.11599234\n",
      " 0.1125531  0.10987001 0.10763439 0.10569693 0.10397958 0.10243713\n",
      " 0.10104023 0.09976779 0.09860344 0.09753382 1.         1.\n",
      " 1.         1.         1.         1.         1.         1.\n",
      " 1.         1.         1.         1.         1.         1.\n",
      " 1.         1.         1.         1.         1.         1.\n",
      " 1.         1.         1.         1.         1.         1.\n",
      " 1.         1.         1.         1.         1.         1.\n",
      " 1.         1.         1.         1.         1.         1.\n",
      " 1.         1.         1.         1.         1.         1.\n",
      " 1.         1.         1.         1.         1.         1.\n",
      " 1.         1.         1.         1.         1.         1.\n",
      " 1.         1.         1.         1.         1.         1.\n",
      " 1.         1.         1.         1.         1.         1.\n",
      " 1.         1.         1.         1.         1.         1.\n",
      " 1.         1.         1.         1.         1.         1.\n",
      " 1.         1.         1.         1.        ]\n"
     ]
    },
    {
     "name": "stderr",
     "output_type": "stream",
     "text": [
      "\n",
      " 17%|█▋        | 17/100 [01:39<08:08,  5.89s/it]\u001b[A"
     ]
    },
    {
     "name": "stdout",
     "output_type": "stream",
     "text": [
      "[0.2496382  0.17377254 0.14315291 0.12869371 0.12086142 0.11599234\n",
      " 0.1125531  0.10987001 0.10763439 0.10569693 0.10397958 0.10243713\n",
      " 0.10104023 0.09976779 0.09860344 0.09753382 0.09654771 1.\n",
      " 1.         1.         1.         1.         1.         1.\n",
      " 1.         1.         1.         1.         1.         1.\n",
      " 1.         1.         1.         1.         1.         1.\n",
      " 1.         1.         1.         1.         1.         1.\n",
      " 1.         1.         1.         1.         1.         1.\n",
      " 1.         1.         1.         1.         1.         1.\n",
      " 1.         1.         1.         1.         1.         1.\n",
      " 1.         1.         1.         1.         1.         1.\n",
      " 1.         1.         1.         1.         1.         1.\n",
      " 1.         1.         1.         1.         1.         1.\n",
      " 1.         1.         1.         1.         1.         1.\n",
      " 1.         1.         1.         1.         1.         1.\n",
      " 1.         1.         1.         1.         1.         1.\n",
      " 1.         1.         1.         1.        ]\n"
     ]
    },
    {
     "name": "stderr",
     "output_type": "stream",
     "text": [
      "\n",
      " 18%|█▊        | 18/100 [01:45<07:53,  5.78s/it]\u001b[A"
     ]
    },
    {
     "name": "stdout",
     "output_type": "stream",
     "text": [
      "[0.2496382  0.17377254 0.14315291 0.12869371 0.12086142 0.11599234\n",
      " 0.1125531  0.10987001 0.10763439 0.10569693 0.10397958 0.10243713\n",
      " 0.10104023 0.09976779 0.09860344 0.09753382 0.09654771 0.09563552\n",
      " 1.         1.         1.         1.         1.         1.\n",
      " 1.         1.         1.         1.         1.         1.\n",
      " 1.         1.         1.         1.         1.         1.\n",
      " 1.         1.         1.         1.         1.         1.\n",
      " 1.         1.         1.         1.         1.         1.\n",
      " 1.         1.         1.         1.         1.         1.\n",
      " 1.         1.         1.         1.         1.         1.\n",
      " 1.         1.         1.         1.         1.         1.\n",
      " 1.         1.         1.         1.         1.         1.\n",
      " 1.         1.         1.         1.         1.         1.\n",
      " 1.         1.         1.         1.         1.         1.\n",
      " 1.         1.         1.         1.         1.         1.\n",
      " 1.         1.         1.         1.         1.         1.\n",
      " 1.         1.         1.         1.        ]\n"
     ]
    },
    {
     "name": "stderr",
     "output_type": "stream",
     "text": [
      "\n",
      " 19%|█▉        | 19/100 [01:51<08:00,  5.93s/it]\u001b[A"
     ]
    },
    {
     "name": "stdout",
     "output_type": "stream",
     "text": [
      "[0.2496382  0.17377254 0.14315291 0.12869371 0.12086142 0.11599234\n",
      " 0.1125531  0.10987001 0.10763439 0.10569693 0.10397958 0.10243713\n",
      " 0.10104023 0.09976779 0.09860344 0.09753382 0.09654771 0.09563552\n",
      " 0.09478898 1.         1.         1.         1.         1.\n",
      " 1.         1.         1.         1.         1.         1.\n",
      " 1.         1.         1.         1.         1.         1.\n",
      " 1.         1.         1.         1.         1.         1.\n",
      " 1.         1.         1.         1.         1.         1.\n",
      " 1.         1.         1.         1.         1.         1.\n",
      " 1.         1.         1.         1.         1.         1.\n",
      " 1.         1.         1.         1.         1.         1.\n",
      " 1.         1.         1.         1.         1.         1.\n",
      " 1.         1.         1.         1.         1.         1.\n",
      " 1.         1.         1.         1.         1.         1.\n",
      " 1.         1.         1.         1.         1.         1.\n",
      " 1.         1.         1.         1.         1.         1.\n",
      " 1.         1.         1.         1.        ]\n"
     ]
    },
    {
     "name": "stderr",
     "output_type": "stream",
     "text": [
      "\n",
      " 20%|██        | 20/100 [01:57<08:05,  6.07s/it]\u001b[A"
     ]
    },
    {
     "name": "stdout",
     "output_type": "stream",
     "text": [
      "[0.2496382  0.17377254 0.14315291 0.12869371 0.12086142 0.11599234\n",
      " 0.1125531  0.10987001 0.10763439 0.10569693 0.10397958 0.10243713\n",
      " 0.10104023 0.09976779 0.09860344 0.09753382 0.09654771 0.09563552\n",
      " 0.09478898 0.09400092 1.         1.         1.         1.\n",
      " 1.         1.         1.         1.         1.         1.\n",
      " 1.         1.         1.         1.         1.         1.\n",
      " 1.         1.         1.         1.         1.         1.\n",
      " 1.         1.         1.         1.         1.         1.\n",
      " 1.         1.         1.         1.         1.         1.\n",
      " 1.         1.         1.         1.         1.         1.\n",
      " 1.         1.         1.         1.         1.         1.\n",
      " 1.         1.         1.         1.         1.         1.\n",
      " 1.         1.         1.         1.         1.         1.\n",
      " 1.         1.         1.         1.         1.         1.\n",
      " 1.         1.         1.         1.         1.         1.\n",
      " 1.         1.         1.         1.         1.         1.\n",
      " 1.         1.         1.         1.        ]\n"
     ]
    },
    {
     "name": "stderr",
     "output_type": "stream",
     "text": [
      "\n",
      " 21%|██        | 21/100 [02:03<07:56,  6.03s/it]\u001b[A"
     ]
    },
    {
     "name": "stdout",
     "output_type": "stream",
     "text": [
      "[0.2496382  0.17377254 0.14315291 0.12869371 0.12086142 0.11599234\n",
      " 0.1125531  0.10987001 0.10763439 0.10569693 0.10397958 0.10243713\n",
      " 0.10104023 0.09976779 0.09860344 0.09753382 0.09654771 0.09563552\n",
      " 0.09478898 0.09400092 0.09326509 1.         1.         1.\n",
      " 1.         1.         1.         1.         1.         1.\n",
      " 1.         1.         1.         1.         1.         1.\n",
      " 1.         1.         1.         1.         1.         1.\n",
      " 1.         1.         1.         1.         1.         1.\n",
      " 1.         1.         1.         1.         1.         1.\n",
      " 1.         1.         1.         1.         1.         1.\n",
      " 1.         1.         1.         1.         1.         1.\n",
      " 1.         1.         1.         1.         1.         1.\n",
      " 1.         1.         1.         1.         1.         1.\n",
      " 1.         1.         1.         1.         1.         1.\n",
      " 1.         1.         1.         1.         1.         1.\n",
      " 1.         1.         1.         1.         1.         1.\n",
      " 1.         1.         1.         1.        ]\n"
     ]
    },
    {
     "name": "stderr",
     "output_type": "stream",
     "text": [
      "\n",
      " 22%|██▏       | 22/100 [02:09<07:51,  6.05s/it]\u001b[A"
     ]
    },
    {
     "name": "stdout",
     "output_type": "stream",
     "text": [
      "[0.2496382  0.17377254 0.14315291 0.12869371 0.12086142 0.11599234\n",
      " 0.1125531  0.10987001 0.10763439 0.10569693 0.10397958 0.10243713\n",
      " 0.10104023 0.09976779 0.09860344 0.09753382 0.09654771 0.09563552\n",
      " 0.09478898 0.09400092 0.09326509 0.09257605 1.         1.\n",
      " 1.         1.         1.         1.         1.         1.\n",
      " 1.         1.         1.         1.         1.         1.\n",
      " 1.         1.         1.         1.         1.         1.\n",
      " 1.         1.         1.         1.         1.         1.\n",
      " 1.         1.         1.         1.         1.         1.\n",
      " 1.         1.         1.         1.         1.         1.\n",
      " 1.         1.         1.         1.         1.         1.\n",
      " 1.         1.         1.         1.         1.         1.\n",
      " 1.         1.         1.         1.         1.         1.\n",
      " 1.         1.         1.         1.         1.         1.\n",
      " 1.         1.         1.         1.         1.         1.\n",
      " 1.         1.         1.         1.         1.         1.\n",
      " 1.         1.         1.         1.        ]\n"
     ]
    },
    {
     "name": "stderr",
     "output_type": "stream",
     "text": [
      "\n",
      " 23%|██▎       | 23/100 [02:15<07:38,  5.95s/it]\u001b[A"
     ]
    },
    {
     "name": "stdout",
     "output_type": "stream",
     "text": [
      "[0.2496382  0.17377254 0.14315291 0.12869371 0.12086142 0.11599234\n",
      " 0.1125531  0.10987001 0.10763439 0.10569693 0.10397958 0.10243713\n",
      " 0.10104023 0.09976779 0.09860344 0.09753382 0.09654771 0.09563552\n",
      " 0.09478898 0.09400092 0.09326509 0.09257605 0.09192903 1.\n",
      " 1.         1.         1.         1.         1.         1.\n",
      " 1.         1.         1.         1.         1.         1.\n",
      " 1.         1.         1.         1.         1.         1.\n",
      " 1.         1.         1.         1.         1.         1.\n",
      " 1.         1.         1.         1.         1.         1.\n",
      " 1.         1.         1.         1.         1.         1.\n",
      " 1.         1.         1.         1.         1.         1.\n",
      " 1.         1.         1.         1.         1.         1.\n",
      " 1.         1.         1.         1.         1.         1.\n",
      " 1.         1.         1.         1.         1.         1.\n",
      " 1.         1.         1.         1.         1.         1.\n",
      " 1.         1.         1.         1.         1.         1.\n",
      " 1.         1.         1.         1.        ]\n"
     ]
    },
    {
     "name": "stderr",
     "output_type": "stream",
     "text": [
      "\n",
      " 24%|██▍       | 24/100 [02:21<07:28,  5.90s/it]\u001b[A"
     ]
    },
    {
     "name": "stdout",
     "output_type": "stream",
     "text": [
      "[0.2496382  0.17377254 0.14315291 0.12869371 0.12086142 0.11599234\n",
      " 0.1125531  0.10987001 0.10763439 0.10569693 0.10397958 0.10243713\n",
      " 0.10104023 0.09976779 0.09860344 0.09753382 0.09654771 0.09563552\n",
      " 0.09478898 0.09400092 0.09326509 0.09257605 0.09192903 0.09131984\n",
      " 1.         1.         1.         1.         1.         1.\n",
      " 1.         1.         1.         1.         1.         1.\n",
      " 1.         1.         1.         1.         1.         1.\n",
      " 1.         1.         1.         1.         1.         1.\n",
      " 1.         1.         1.         1.         1.         1.\n",
      " 1.         1.         1.         1.         1.         1.\n",
      " 1.         1.         1.         1.         1.         1.\n",
      " 1.         1.         1.         1.         1.         1.\n",
      " 1.         1.         1.         1.         1.         1.\n",
      " 1.         1.         1.         1.         1.         1.\n",
      " 1.         1.         1.         1.         1.         1.\n",
      " 1.         1.         1.         1.         1.         1.\n",
      " 1.         1.         1.         1.        ]\n"
     ]
    },
    {
     "name": "stderr",
     "output_type": "stream",
     "text": [
      "\n",
      " 25%|██▌       | 25/100 [02:26<07:17,  5.84s/it]\u001b[A"
     ]
    },
    {
     "name": "stdout",
     "output_type": "stream",
     "text": [
      "[0.2496382  0.17377254 0.14315291 0.12869371 0.12086142 0.11599234\n",
      " 0.1125531  0.10987001 0.10763439 0.10569693 0.10397958 0.10243713\n",
      " 0.10104023 0.09976779 0.09860344 0.09753382 0.09654771 0.09563552\n",
      " 0.09478898 0.09400092 0.09326509 0.09257605 0.09192903 0.09131984\n",
      " 0.09074484 1.         1.         1.         1.         1.\n",
      " 1.         1.         1.         1.         1.         1.\n",
      " 1.         1.         1.         1.         1.         1.\n",
      " 1.         1.         1.         1.         1.         1.\n",
      " 1.         1.         1.         1.         1.         1.\n",
      " 1.         1.         1.         1.         1.         1.\n",
      " 1.         1.         1.         1.         1.         1.\n",
      " 1.         1.         1.         1.         1.         1.\n",
      " 1.         1.         1.         1.         1.         1.\n",
      " 1.         1.         1.         1.         1.         1.\n",
      " 1.         1.         1.         1.         1.         1.\n",
      " 1.         1.         1.         1.         1.         1.\n",
      " 1.         1.         1.         1.        ]\n"
     ]
    },
    {
     "name": "stderr",
     "output_type": "stream",
     "text": [
      "\n",
      " 26%|██▌       | 26/100 [02:32<07:04,  5.74s/it]\u001b[A"
     ]
    },
    {
     "name": "stdout",
     "output_type": "stream",
     "text": [
      "[0.2496382  0.17377254 0.14315291 0.12869371 0.12086142 0.11599234\n",
      " 0.1125531  0.10987001 0.10763439 0.10569693 0.10397958 0.10243713\n",
      " 0.10104023 0.09976779 0.09860344 0.09753382 0.09654771 0.09563552\n",
      " 0.09478898 0.09400092 0.09326509 0.09257605 0.09192903 0.09131984\n",
      " 0.09074484 0.09020078 1.         1.         1.         1.\n",
      " 1.         1.         1.         1.         1.         1.\n",
      " 1.         1.         1.         1.         1.         1.\n",
      " 1.         1.         1.         1.         1.         1.\n",
      " 1.         1.         1.         1.         1.         1.\n",
      " 1.         1.         1.         1.         1.         1.\n",
      " 1.         1.         1.         1.         1.         1.\n",
      " 1.         1.         1.         1.         1.         1.\n",
      " 1.         1.         1.         1.         1.         1.\n",
      " 1.         1.         1.         1.         1.         1.\n",
      " 1.         1.         1.         1.         1.         1.\n",
      " 1.         1.         1.         1.         1.         1.\n",
      " 1.         1.         1.         1.        ]\n"
     ]
    },
    {
     "name": "stderr",
     "output_type": "stream",
     "text": [
      "\n",
      " 27%|██▋       | 27/100 [02:38<07:00,  5.77s/it]\u001b[A"
     ]
    },
    {
     "name": "stdout",
     "output_type": "stream",
     "text": [
      "[0.2496382  0.17377254 0.14315291 0.12869371 0.12086142 0.11599234\n",
      " 0.1125531  0.10987001 0.10763439 0.10569693 0.10397958 0.10243713\n",
      " 0.10104023 0.09976779 0.09860344 0.09753382 0.09654771 0.09563552\n",
      " 0.09478898 0.09400092 0.09326509 0.09257605 0.09192903 0.09131984\n",
      " 0.09074484 0.09020078 0.08968484 1.         1.         1.\n",
      " 1.         1.         1.         1.         1.         1.\n",
      " 1.         1.         1.         1.         1.         1.\n",
      " 1.         1.         1.         1.         1.         1.\n",
      " 1.         1.         1.         1.         1.         1.\n",
      " 1.         1.         1.         1.         1.         1.\n",
      " 1.         1.         1.         1.         1.         1.\n",
      " 1.         1.         1.         1.         1.         1.\n",
      " 1.         1.         1.         1.         1.         1.\n",
      " 1.         1.         1.         1.         1.         1.\n",
      " 1.         1.         1.         1.         1.         1.\n",
      " 1.         1.         1.         1.         1.         1.\n",
      " 1.         1.         1.         1.        ]\n"
     ]
    },
    {
     "name": "stderr",
     "output_type": "stream",
     "text": [
      "\n",
      " 28%|██▊       | 28/100 [02:44<07:01,  5.85s/it]\u001b[A"
     ]
    },
    {
     "name": "stdout",
     "output_type": "stream",
     "text": [
      "[0.2496382  0.17377254 0.14315291 0.12869371 0.12086142 0.11599234\n",
      " 0.1125531  0.10987001 0.10763439 0.10569693 0.10397958 0.10243713\n",
      " 0.10104023 0.09976779 0.09860344 0.09753382 0.09654771 0.09563552\n",
      " 0.09478898 0.09400092 0.09326509 0.09257605 0.09192903 0.09131984\n",
      " 0.09074484 0.09020078 0.08968484 0.08919451 1.         1.\n",
      " 1.         1.         1.         1.         1.         1.\n",
      " 1.         1.         1.         1.         1.         1.\n",
      " 1.         1.         1.         1.         1.         1.\n",
      " 1.         1.         1.         1.         1.         1.\n",
      " 1.         1.         1.         1.         1.         1.\n",
      " 1.         1.         1.         1.         1.         1.\n",
      " 1.         1.         1.         1.         1.         1.\n",
      " 1.         1.         1.         1.         1.         1.\n",
      " 1.         1.         1.         1.         1.         1.\n",
      " 1.         1.         1.         1.         1.         1.\n",
      " 1.         1.         1.         1.         1.         1.\n",
      " 1.         1.         1.         1.        ]\n"
     ]
    },
    {
     "name": "stderr",
     "output_type": "stream",
     "text": [
      "\n",
      " 29%|██▉       | 29/100 [02:50<06:54,  5.83s/it]\u001b[A"
     ]
    },
    {
     "name": "stdout",
     "output_type": "stream",
     "text": [
      "[0.2496382  0.17377254 0.14315291 0.12869371 0.12086142 0.11599234\n",
      " 0.1125531  0.10987001 0.10763439 0.10569693 0.10397958 0.10243713\n",
      " 0.10104023 0.09976779 0.09860344 0.09753382 0.09654771 0.09563552\n",
      " 0.09478898 0.09400092 0.09326509 0.09257605 0.09192903 0.09131984\n",
      " 0.09074484 0.09020078 0.08968484 0.08919451 0.08872756 1.\n",
      " 1.         1.         1.         1.         1.         1.\n",
      " 1.         1.         1.         1.         1.         1.\n",
      " 1.         1.         1.         1.         1.         1.\n",
      " 1.         1.         1.         1.         1.         1.\n",
      " 1.         1.         1.         1.         1.         1.\n",
      " 1.         1.         1.         1.         1.         1.\n",
      " 1.         1.         1.         1.         1.         1.\n",
      " 1.         1.         1.         1.         1.         1.\n",
      " 1.         1.         1.         1.         1.         1.\n",
      " 1.         1.         1.         1.         1.         1.\n",
      " 1.         1.         1.         1.         1.         1.\n",
      " 1.         1.         1.         1.        ]\n"
     ]
    },
    {
     "name": "stderr",
     "output_type": "stream",
     "text": [
      "\n",
      " 30%|███       | 30/100 [02:56<06:55,  5.94s/it]\u001b[A"
     ]
    },
    {
     "name": "stdout",
     "output_type": "stream",
     "text": [
      "[0.2496382  0.17377254 0.14315291 0.12869371 0.12086142 0.11599234\n",
      " 0.1125531  0.10987001 0.10763439 0.10569693 0.10397958 0.10243713\n",
      " 0.10104023 0.09976779 0.09860344 0.09753382 0.09654771 0.09563552\n",
      " 0.09478898 0.09400092 0.09326509 0.09257605 0.09192903 0.09131984\n",
      " 0.09074484 0.09020078 0.08968484 0.08919451 0.08872756 0.08828203\n",
      " 1.         1.         1.         1.         1.         1.\n",
      " 1.         1.         1.         1.         1.         1.\n",
      " 1.         1.         1.         1.         1.         1.\n",
      " 1.         1.         1.         1.         1.         1.\n",
      " 1.         1.         1.         1.         1.         1.\n",
      " 1.         1.         1.         1.         1.         1.\n",
      " 1.         1.         1.         1.         1.         1.\n",
      " 1.         1.         1.         1.         1.         1.\n",
      " 1.         1.         1.         1.         1.         1.\n",
      " 1.         1.         1.         1.         1.         1.\n",
      " 1.         1.         1.         1.         1.         1.\n",
      " 1.         1.         1.         1.        ]\n"
     ]
    },
    {
     "name": "stderr",
     "output_type": "stream",
     "text": [
      "\n",
      " 31%|███       | 31/100 [03:02<06:49,  5.93s/it]\u001b[A"
     ]
    },
    {
     "name": "stdout",
     "output_type": "stream",
     "text": [
      "[0.2496382  0.17377254 0.14315291 0.12869371 0.12086142 0.11599234\n",
      " 0.1125531  0.10987001 0.10763439 0.10569693 0.10397958 0.10243713\n",
      " 0.10104023 0.09976779 0.09860344 0.09753382 0.09654771 0.09563552\n",
      " 0.09478898 0.09400092 0.09326509 0.09257605 0.09192903 0.09131984\n",
      " 0.09074484 0.09020078 0.08968484 0.08919451 0.08872756 0.08828203\n",
      " 0.08785619 1.         1.         1.         1.         1.\n",
      " 1.         1.         1.         1.         1.         1.\n",
      " 1.         1.         1.         1.         1.         1.\n",
      " 1.         1.         1.         1.         1.         1.\n",
      " 1.         1.         1.         1.         1.         1.\n",
      " 1.         1.         1.         1.         1.         1.\n",
      " 1.         1.         1.         1.         1.         1.\n",
      " 1.         1.         1.         1.         1.         1.\n",
      " 1.         1.         1.         1.         1.         1.\n",
      " 1.         1.         1.         1.         1.         1.\n",
      " 1.         1.         1.         1.         1.         1.\n",
      " 1.         1.         1.         1.        ]\n"
     ]
    },
    {
     "name": "stderr",
     "output_type": "stream",
     "text": [
      "\n",
      " 32%|███▏      | 32/100 [03:07<06:35,  5.81s/it]\u001b[A"
     ]
    },
    {
     "name": "stdout",
     "output_type": "stream",
     "text": [
      "[0.2496382  0.17377254 0.14315291 0.12869371 0.12086142 0.11599234\n",
      " 0.1125531  0.10987001 0.10763439 0.10569693 0.10397958 0.10243713\n",
      " 0.10104023 0.09976779 0.09860344 0.09753382 0.09654771 0.09563552\n",
      " 0.09478898 0.09400092 0.09326509 0.09257605 0.09192903 0.09131984\n",
      " 0.09074484 0.09020078 0.08968484 0.08919451 0.08872756 0.08828203\n",
      " 0.08785619 0.08744847 1.         1.         1.         1.\n",
      " 1.         1.         1.         1.         1.         1.\n",
      " 1.         1.         1.         1.         1.         1.\n",
      " 1.         1.         1.         1.         1.         1.\n",
      " 1.         1.         1.         1.         1.         1.\n",
      " 1.         1.         1.         1.         1.         1.\n",
      " 1.         1.         1.         1.         1.         1.\n",
      " 1.         1.         1.         1.         1.         1.\n",
      " 1.         1.         1.         1.         1.         1.\n",
      " 1.         1.         1.         1.         1.         1.\n",
      " 1.         1.         1.         1.         1.         1.\n",
      " 1.         1.         1.         1.        ]\n"
     ]
    },
    {
     "name": "stderr",
     "output_type": "stream",
     "text": [
      "\n",
      " 33%|███▎      | 33/100 [03:13<06:23,  5.72s/it]\u001b[A"
     ]
    },
    {
     "name": "stdout",
     "output_type": "stream",
     "text": [
      "[0.2496382  0.17377254 0.14315291 0.12869371 0.12086142 0.11599234\n",
      " 0.1125531  0.10987001 0.10763439 0.10569693 0.10397958 0.10243713\n",
      " 0.10104023 0.09976779 0.09860344 0.09753382 0.09654771 0.09563552\n",
      " 0.09478898 0.09400092 0.09326509 0.09257605 0.09192903 0.09131984\n",
      " 0.09074484 0.09020078 0.08968484 0.08919451 0.08872756 0.08828203\n",
      " 0.08785619 0.08744847 0.08705749 1.         1.         1.\n",
      " 1.         1.         1.         1.         1.         1.\n",
      " 1.         1.         1.         1.         1.         1.\n",
      " 1.         1.         1.         1.         1.         1.\n",
      " 1.         1.         1.         1.         1.         1.\n",
      " 1.         1.         1.         1.         1.         1.\n",
      " 1.         1.         1.         1.         1.         1.\n",
      " 1.         1.         1.         1.         1.         1.\n",
      " 1.         1.         1.         1.         1.         1.\n",
      " 1.         1.         1.         1.         1.         1.\n",
      " 1.         1.         1.         1.         1.         1.\n",
      " 1.         1.         1.         1.        ]\n"
     ]
    },
    {
     "name": "stderr",
     "output_type": "stream",
     "text": [
      "\n",
      " 34%|███▍      | 34/100 [03:19<06:26,  5.85s/it]\u001b[A"
     ]
    },
    {
     "name": "stdout",
     "output_type": "stream",
     "text": [
      "[0.2496382  0.17377254 0.14315291 0.12869371 0.12086142 0.11599234\n",
      " 0.1125531  0.10987001 0.10763439 0.10569693 0.10397958 0.10243713\n",
      " 0.10104023 0.09976779 0.09860344 0.09753382 0.09654771 0.09563552\n",
      " 0.09478898 0.09400092 0.09326509 0.09257605 0.09192903 0.09131984\n",
      " 0.09074484 0.09020078 0.08968484 0.08919451 0.08872756 0.08828203\n",
      " 0.08785619 0.08744847 0.08705749 0.08668201 1.         1.\n",
      " 1.         1.         1.         1.         1.         1.\n",
      " 1.         1.         1.         1.         1.         1.\n",
      " 1.         1.         1.         1.         1.         1.\n",
      " 1.         1.         1.         1.         1.         1.\n",
      " 1.         1.         1.         1.         1.         1.\n",
      " 1.         1.         1.         1.         1.         1.\n",
      " 1.         1.         1.         1.         1.         1.\n",
      " 1.         1.         1.         1.         1.         1.\n",
      " 1.         1.         1.         1.         1.         1.\n",
      " 1.         1.         1.         1.         1.         1.\n",
      " 1.         1.         1.         1.        ]\n"
     ]
    },
    {
     "name": "stderr",
     "output_type": "stream",
     "text": [
      "\n",
      " 35%|███▌      | 35/100 [03:25<06:26,  5.95s/it]\u001b[A"
     ]
    },
    {
     "name": "stdout",
     "output_type": "stream",
     "text": [
      "[0.2496382  0.17377254 0.14315291 0.12869371 0.12086142 0.11599234\n",
      " 0.1125531  0.10987001 0.10763439 0.10569693 0.10397958 0.10243713\n",
      " 0.10104023 0.09976779 0.09860344 0.09753382 0.09654771 0.09563552\n",
      " 0.09478898 0.09400092 0.09326509 0.09257605 0.09192903 0.09131984\n",
      " 0.09074484 0.09020078 0.08968484 0.08919451 0.08872756 0.08828203\n",
      " 0.08785619 0.08744847 0.08705749 0.08668201 0.08632092 1.\n",
      " 1.         1.         1.         1.         1.         1.\n",
      " 1.         1.         1.         1.         1.         1.\n",
      " 1.         1.         1.         1.         1.         1.\n",
      " 1.         1.         1.         1.         1.         1.\n",
      " 1.         1.         1.         1.         1.         1.\n",
      " 1.         1.         1.         1.         1.         1.\n",
      " 1.         1.         1.         1.         1.         1.\n",
      " 1.         1.         1.         1.         1.         1.\n",
      " 1.         1.         1.         1.         1.         1.\n",
      " 1.         1.         1.         1.         1.         1.\n",
      " 1.         1.         1.         1.        ]\n"
     ]
    },
    {
     "name": "stderr",
     "output_type": "stream",
     "text": [
      "\n",
      " 36%|███▌      | 36/100 [03:31<06:18,  5.92s/it]\u001b[A"
     ]
    },
    {
     "name": "stdout",
     "output_type": "stream",
     "text": [
      "[0.2496382  0.17377254 0.14315291 0.12869371 0.12086142 0.11599234\n",
      " 0.1125531  0.10987001 0.10763439 0.10569693 0.10397958 0.10243713\n",
      " 0.10104023 0.09976779 0.09860344 0.09753382 0.09654771 0.09563552\n",
      " 0.09478898 0.09400092 0.09326509 0.09257605 0.09192903 0.09131984\n",
      " 0.09074484 0.09020078 0.08968484 0.08919451 0.08872756 0.08828203\n",
      " 0.08785619 0.08744847 0.08705749 0.08668201 0.08632092 0.08597323\n",
      " 1.         1.         1.         1.         1.         1.\n",
      " 1.         1.         1.         1.         1.         1.\n",
      " 1.         1.         1.         1.         1.         1.\n",
      " 1.         1.         1.         1.         1.         1.\n",
      " 1.         1.         1.         1.         1.         1.\n",
      " 1.         1.         1.         1.         1.         1.\n",
      " 1.         1.         1.         1.         1.         1.\n",
      " 1.         1.         1.         1.         1.         1.\n",
      " 1.         1.         1.         1.         1.         1.\n",
      " 1.         1.         1.         1.         1.         1.\n",
      " 1.         1.         1.         1.        ]\n"
     ]
    },
    {
     "name": "stderr",
     "output_type": "stream",
     "text": [
      "\n",
      " 37%|███▋      | 37/100 [03:41<07:23,  7.05s/it]\u001b[A"
     ]
    },
    {
     "name": "stdout",
     "output_type": "stream",
     "text": [
      "[0.2496382  0.17377254 0.14315291 0.12869371 0.12086142 0.11599234\n",
      " 0.1125531  0.10987001 0.10763439 0.10569693 0.10397958 0.10243713\n",
      " 0.10104023 0.09976779 0.09860344 0.09753382 0.09654771 0.09563552\n",
      " 0.09478898 0.09400092 0.09326509 0.09257605 0.09192903 0.09131984\n",
      " 0.09074484 0.09020078 0.08968484 0.08919451 0.08872756 0.08828203\n",
      " 0.08785619 0.08744847 0.08705749 0.08668201 0.08632092 0.08597323\n",
      " 0.08563804 1.         1.         1.         1.         1.\n",
      " 1.         1.         1.         1.         1.         1.\n",
      " 1.         1.         1.         1.         1.         1.\n",
      " 1.         1.         1.         1.         1.         1.\n",
      " 1.         1.         1.         1.         1.         1.\n",
      " 1.         1.         1.         1.         1.         1.\n",
      " 1.         1.         1.         1.         1.         1.\n",
      " 1.         1.         1.         1.         1.         1.\n",
      " 1.         1.         1.         1.         1.         1.\n",
      " 1.         1.         1.         1.         1.         1.\n",
      " 1.         1.         1.         1.        ]\n"
     ]
    },
    {
     "name": "stderr",
     "output_type": "stream",
     "text": [
      "\n",
      " 38%|███▊      | 38/100 [03:49<07:42,  7.45s/it]\u001b[A"
     ]
    },
    {
     "name": "stdout",
     "output_type": "stream",
     "text": [
      "[0.2496382  0.17377254 0.14315291 0.12869371 0.12086142 0.11599234\n",
      " 0.1125531  0.10987001 0.10763439 0.10569693 0.10397958 0.10243713\n",
      " 0.10104023 0.09976779 0.09860344 0.09753382 0.09654771 0.09563552\n",
      " 0.09478898 0.09400092 0.09326509 0.09257605 0.09192903 0.09131984\n",
      " 0.09074484 0.09020078 0.08968484 0.08919451 0.08872756 0.08828203\n",
      " 0.08785619 0.08744847 0.08705749 0.08668201 0.08632092 0.08597323\n",
      " 0.08563804 0.08531452 1.         1.         1.         1.\n",
      " 1.         1.         1.         1.         1.         1.\n",
      " 1.         1.         1.         1.         1.         1.\n",
      " 1.         1.         1.         1.         1.         1.\n",
      " 1.         1.         1.         1.         1.         1.\n",
      " 1.         1.         1.         1.         1.         1.\n",
      " 1.         1.         1.         1.         1.         1.\n",
      " 1.         1.         1.         1.         1.         1.\n",
      " 1.         1.         1.         1.         1.         1.\n",
      " 1.         1.         1.         1.         1.         1.\n",
      " 1.         1.         1.         1.        ]\n"
     ]
    },
    {
     "name": "stderr",
     "output_type": "stream",
     "text": [
      "\n",
      " 39%|███▉      | 39/100 [04:01<09:00,  8.85s/it]\u001b[A"
     ]
    },
    {
     "name": "stdout",
     "output_type": "stream",
     "text": [
      "[0.2496382  0.17377254 0.14315291 0.12869371 0.12086142 0.11599234\n",
      " 0.1125531  0.10987001 0.10763439 0.10569693 0.10397958 0.10243713\n",
      " 0.10104023 0.09976779 0.09860344 0.09753382 0.09654771 0.09563552\n",
      " 0.09478898 0.09400092 0.09326509 0.09257605 0.09192903 0.09131984\n",
      " 0.09074484 0.09020078 0.08968484 0.08919451 0.08872756 0.08828203\n",
      " 0.08785619 0.08744847 0.08705749 0.08668201 0.08632092 0.08597323\n",
      " 0.08563804 0.08531452 0.08500196 1.         1.         1.\n",
      " 1.         1.         1.         1.         1.         1.\n",
      " 1.         1.         1.         1.         1.         1.\n",
      " 1.         1.         1.         1.         1.         1.\n",
      " 1.         1.         1.         1.         1.         1.\n",
      " 1.         1.         1.         1.         1.         1.\n",
      " 1.         1.         1.         1.         1.         1.\n",
      " 1.         1.         1.         1.         1.         1.\n",
      " 1.         1.         1.         1.         1.         1.\n",
      " 1.         1.         1.         1.         1.         1.\n",
      " 1.         1.         1.         1.        ]\n"
     ]
    },
    {
     "name": "stderr",
     "output_type": "stream",
     "text": [
      "\n",
      " 40%|████      | 40/100 [04:21<12:05, 12.08s/it]\u001b[A"
     ]
    },
    {
     "name": "stdout",
     "output_type": "stream",
     "text": [
      "[0.2496382  0.17377254 0.14315291 0.12869371 0.12086142 0.11599234\n",
      " 0.1125531  0.10987001 0.10763439 0.10569693 0.10397958 0.10243713\n",
      " 0.10104023 0.09976779 0.09860344 0.09753382 0.09654771 0.09563552\n",
      " 0.09478898 0.09400092 0.09326509 0.09257605 0.09192903 0.09131984\n",
      " 0.09074484 0.09020078 0.08968484 0.08919451 0.08872756 0.08828203\n",
      " 0.08785619 0.08744847 0.08705749 0.08668201 0.08632092 0.08597323\n",
      " 0.08563804 0.08531452 0.08500196 0.08469967 1.         1.\n",
      " 1.         1.         1.         1.         1.         1.\n",
      " 1.         1.         1.         1.         1.         1.\n",
      " 1.         1.         1.         1.         1.         1.\n",
      " 1.         1.         1.         1.         1.         1.\n",
      " 1.         1.         1.         1.         1.         1.\n",
      " 1.         1.         1.         1.         1.         1.\n",
      " 1.         1.         1.         1.         1.         1.\n",
      " 1.         1.         1.         1.         1.         1.\n",
      " 1.         1.         1.         1.         1.         1.\n",
      " 1.         1.         1.         1.        ]\n"
     ]
    },
    {
     "name": "stderr",
     "output_type": "stream",
     "text": [
      "\n",
      " 41%|████      | 41/100 [04:48<16:16, 16.55s/it]\u001b[A"
     ]
    },
    {
     "name": "stdout",
     "output_type": "stream",
     "text": [
      "[0.2496382  0.17377254 0.14315291 0.12869371 0.12086142 0.11599234\n",
      " 0.1125531  0.10987001 0.10763439 0.10569693 0.10397958 0.10243713\n",
      " 0.10104023 0.09976779 0.09860344 0.09753382 0.09654771 0.09563552\n",
      " 0.09478898 0.09400092 0.09326509 0.09257605 0.09192903 0.09131984\n",
      " 0.09074484 0.09020078 0.08968484 0.08919451 0.08872756 0.08828203\n",
      " 0.08785619 0.08744847 0.08705749 0.08668201 0.08632092 0.08597323\n",
      " 0.08563804 0.08531452 0.08500196 0.08469967 0.08440707 1.\n",
      " 1.         1.         1.         1.         1.         1.\n",
      " 1.         1.         1.         1.         1.         1.\n",
      " 1.         1.         1.         1.         1.         1.\n",
      " 1.         1.         1.         1.         1.         1.\n",
      " 1.         1.         1.         1.         1.         1.\n",
      " 1.         1.         1.         1.         1.         1.\n",
      " 1.         1.         1.         1.         1.         1.\n",
      " 1.         1.         1.         1.         1.         1.\n",
      " 1.         1.         1.         1.         1.         1.\n",
      " 1.         1.         1.         1.        ]\n"
     ]
    },
    {
     "name": "stderr",
     "output_type": "stream",
     "text": [
      "\n",
      " 42%|████▏     | 42/100 [05:11<18:00, 18.63s/it]\u001b[A"
     ]
    },
    {
     "name": "stdout",
     "output_type": "stream",
     "text": [
      "[0.2496382  0.17377254 0.14315291 0.12869371 0.12086142 0.11599234\n",
      " 0.1125531  0.10987001 0.10763439 0.10569693 0.10397958 0.10243713\n",
      " 0.10104023 0.09976779 0.09860344 0.09753382 0.09654771 0.09563552\n",
      " 0.09478898 0.09400092 0.09326509 0.09257605 0.09192903 0.09131984\n",
      " 0.09074484 0.09020078 0.08968484 0.08919451 0.08872756 0.08828203\n",
      " 0.08785619 0.08744847 0.08705749 0.08668201 0.08632092 0.08597323\n",
      " 0.08563804 0.08531452 0.08500196 0.08469967 0.08440707 0.08412358\n",
      " 1.         1.         1.         1.         1.         1.\n",
      " 1.         1.         1.         1.         1.         1.\n",
      " 1.         1.         1.         1.         1.         1.\n",
      " 1.         1.         1.         1.         1.         1.\n",
      " 1.         1.         1.         1.         1.         1.\n",
      " 1.         1.         1.         1.         1.         1.\n",
      " 1.         1.         1.         1.         1.         1.\n",
      " 1.         1.         1.         1.         1.         1.\n",
      " 1.         1.         1.         1.         1.         1.\n",
      " 1.         1.         1.         1.        ]\n"
     ]
    },
    {
     "name": "stderr",
     "output_type": "stream",
     "text": [
      "\n",
      " 43%|████▎     | 43/100 [05:34<19:00, 20.01s/it]\u001b[A"
     ]
    },
    {
     "name": "stdout",
     "output_type": "stream",
     "text": [
      "[0.2496382  0.17377254 0.14315291 0.12869371 0.12086142 0.11599234\n",
      " 0.1125531  0.10987001 0.10763439 0.10569693 0.10397958 0.10243713\n",
      " 0.10104023 0.09976779 0.09860344 0.09753382 0.09654771 0.09563552\n",
      " 0.09478898 0.09400092 0.09326509 0.09257605 0.09192903 0.09131984\n",
      " 0.09074484 0.09020078 0.08968484 0.08919451 0.08872756 0.08828203\n",
      " 0.08785619 0.08744847 0.08705749 0.08668201 0.08632092 0.08597323\n",
      " 0.08563804 0.08531452 0.08500196 0.08469967 0.08440707 0.08412358\n",
      " 0.08384871 1.         1.         1.         1.         1.\n",
      " 1.         1.         1.         1.         1.         1.\n",
      " 1.         1.         1.         1.         1.         1.\n",
      " 1.         1.         1.         1.         1.         1.\n",
      " 1.         1.         1.         1.         1.         1.\n",
      " 1.         1.         1.         1.         1.         1.\n",
      " 1.         1.         1.         1.         1.         1.\n",
      " 1.         1.         1.         1.         1.         1.\n",
      " 1.         1.         1.         1.         1.         1.\n",
      " 1.         1.         1.         1.        ]\n"
     ]
    },
    {
     "name": "stderr",
     "output_type": "stream",
     "text": [
      "\n",
      " 44%|████▍     | 44/100 [05:45<16:08, 17.30s/it]\u001b[A"
     ]
    },
    {
     "name": "stdout",
     "output_type": "stream",
     "text": [
      "[0.2496382  0.17377254 0.14315291 0.12869371 0.12086142 0.11599234\n",
      " 0.1125531  0.10987001 0.10763439 0.10569693 0.10397958 0.10243713\n",
      " 0.10104023 0.09976779 0.09860344 0.09753382 0.09654771 0.09563552\n",
      " 0.09478898 0.09400092 0.09326509 0.09257605 0.09192903 0.09131984\n",
      " 0.09074484 0.09020078 0.08968484 0.08919451 0.08872756 0.08828203\n",
      " 0.08785619 0.08744847 0.08705749 0.08668201 0.08632092 0.08597323\n",
      " 0.08563804 0.08531452 0.08500196 0.08469967 0.08440707 0.08412358\n",
      " 0.08384871 0.08358198 1.         1.         1.         1.\n",
      " 1.         1.         1.         1.         1.         1.\n",
      " 1.         1.         1.         1.         1.         1.\n",
      " 1.         1.         1.         1.         1.         1.\n",
      " 1.         1.         1.         1.         1.         1.\n",
      " 1.         1.         1.         1.         1.         1.\n",
      " 1.         1.         1.         1.         1.         1.\n",
      " 1.         1.         1.         1.         1.         1.\n",
      " 1.         1.         1.         1.         1.         1.\n",
      " 1.         1.         1.         1.        ]\n"
     ]
    },
    {
     "name": "stderr",
     "output_type": "stream",
     "text": [
      "\n",
      " 45%|████▌     | 45/100 [05:56<13:57, 15.22s/it]\u001b[A"
     ]
    },
    {
     "name": "stdout",
     "output_type": "stream",
     "text": [
      "[0.2496382  0.17377254 0.14315291 0.12869371 0.12086142 0.11599234\n",
      " 0.1125531  0.10987001 0.10763439 0.10569693 0.10397958 0.10243713\n",
      " 0.10104023 0.09976779 0.09860344 0.09753382 0.09654771 0.09563552\n",
      " 0.09478898 0.09400092 0.09326509 0.09257605 0.09192903 0.09131984\n",
      " 0.09074484 0.09020078 0.08968484 0.08919451 0.08872756 0.08828203\n",
      " 0.08785619 0.08744847 0.08705749 0.08668201 0.08632092 0.08597323\n",
      " 0.08563804 0.08531452 0.08500196 0.08469967 0.08440707 0.08412358\n",
      " 0.08384871 0.08358198 0.08332299 1.         1.         1.\n",
      " 1.         1.         1.         1.         1.         1.\n",
      " 1.         1.         1.         1.         1.         1.\n",
      " 1.         1.         1.         1.         1.         1.\n",
      " 1.         1.         1.         1.         1.         1.\n",
      " 1.         1.         1.         1.         1.         1.\n",
      " 1.         1.         1.         1.         1.         1.\n",
      " 1.         1.         1.         1.         1.         1.\n",
      " 1.         1.         1.         1.         1.         1.\n",
      " 1.         1.         1.         1.        ]\n"
     ]
    },
    {
     "name": "stderr",
     "output_type": "stream",
     "text": [
      "\n",
      " 46%|████▌     | 46/100 [06:05<12:01, 13.37s/it]\u001b[A"
     ]
    },
    {
     "name": "stdout",
     "output_type": "stream",
     "text": [
      "[0.2496382  0.17377254 0.14315291 0.12869371 0.12086142 0.11599234\n",
      " 0.1125531  0.10987001 0.10763439 0.10569693 0.10397958 0.10243713\n",
      " 0.10104023 0.09976779 0.09860344 0.09753382 0.09654771 0.09563552\n",
      " 0.09478898 0.09400092 0.09326509 0.09257605 0.09192903 0.09131984\n",
      " 0.09074484 0.09020078 0.08968484 0.08919451 0.08872756 0.08828203\n",
      " 0.08785619 0.08744847 0.08705749 0.08668201 0.08632092 0.08597323\n",
      " 0.08563804 0.08531452 0.08500196 0.08469967 0.08440707 0.08412358\n",
      " 0.08384871 0.08358198 0.08332299 0.08307132 1.         1.\n",
      " 1.         1.         1.         1.         1.         1.\n",
      " 1.         1.         1.         1.         1.         1.\n",
      " 1.         1.         1.         1.         1.         1.\n",
      " 1.         1.         1.         1.         1.         1.\n",
      " 1.         1.         1.         1.         1.         1.\n",
      " 1.         1.         1.         1.         1.         1.\n",
      " 1.         1.         1.         1.         1.         1.\n",
      " 1.         1.         1.         1.         1.         1.\n",
      " 1.         1.         1.         1.        ]\n"
     ]
    },
    {
     "name": "stderr",
     "output_type": "stream",
     "text": [
      "\n",
      " 47%|████▋     | 47/100 [06:15<11:04, 12.53s/it]\u001b[A"
     ]
    },
    {
     "name": "stdout",
     "output_type": "stream",
     "text": [
      "[0.2496382  0.17377254 0.14315291 0.12869371 0.12086142 0.11599234\n",
      " 0.1125531  0.10987001 0.10763439 0.10569693 0.10397958 0.10243713\n",
      " 0.10104023 0.09976779 0.09860344 0.09753382 0.09654771 0.09563552\n",
      " 0.09478898 0.09400092 0.09326509 0.09257605 0.09192903 0.09131984\n",
      " 0.09074484 0.09020078 0.08968484 0.08919451 0.08872756 0.08828203\n",
      " 0.08785619 0.08744847 0.08705749 0.08668201 0.08632092 0.08597323\n",
      " 0.08563804 0.08531452 0.08500196 0.08469967 0.08440707 0.08412358\n",
      " 0.08384871 0.08358198 0.08332299 0.08307132 0.08282662 1.\n",
      " 1.         1.         1.         1.         1.         1.\n",
      " 1.         1.         1.         1.         1.         1.\n",
      " 1.         1.         1.         1.         1.         1.\n",
      " 1.         1.         1.         1.         1.         1.\n",
      " 1.         1.         1.         1.         1.         1.\n",
      " 1.         1.         1.         1.         1.         1.\n",
      " 1.         1.         1.         1.         1.         1.\n",
      " 1.         1.         1.         1.         1.         1.\n",
      " 1.         1.         1.         1.        ]\n"
     ]
    },
    {
     "name": "stderr",
     "output_type": "stream",
     "text": [
      "\n",
      " 48%|████▊     | 48/100 [06:24<09:44, 11.24s/it]\u001b[A"
     ]
    },
    {
     "name": "stdout",
     "output_type": "stream",
     "text": [
      "[0.2496382  0.17377254 0.14315291 0.12869371 0.12086142 0.11599234\n",
      " 0.1125531  0.10987001 0.10763439 0.10569693 0.10397958 0.10243713\n",
      " 0.10104023 0.09976779 0.09860344 0.09753382 0.09654771 0.09563552\n",
      " 0.09478898 0.09400092 0.09326509 0.09257605 0.09192903 0.09131984\n",
      " 0.09074484 0.09020078 0.08968484 0.08919451 0.08872756 0.08828203\n",
      " 0.08785619 0.08744847 0.08705749 0.08668201 0.08632092 0.08597323\n",
      " 0.08563804 0.08531452 0.08500196 0.08469967 0.08440707 0.08412358\n",
      " 0.08384871 0.08358198 0.08332299 0.08307132 0.08282662 0.08258854\n",
      " 1.         1.         1.         1.         1.         1.\n",
      " 1.         1.         1.         1.         1.         1.\n",
      " 1.         1.         1.         1.         1.         1.\n",
      " 1.         1.         1.         1.         1.         1.\n",
      " 1.         1.         1.         1.         1.         1.\n",
      " 1.         1.         1.         1.         1.         1.\n",
      " 1.         1.         1.         1.         1.         1.\n",
      " 1.         1.         1.         1.         1.         1.\n",
      " 1.         1.         1.         1.        ]\n"
     ]
    },
    {
     "name": "stderr",
     "output_type": "stream",
     "text": [
      "\n",
      " 49%|████▉     | 49/100 [06:34<09:22, 11.04s/it]\u001b[A"
     ]
    },
    {
     "name": "stdout",
     "output_type": "stream",
     "text": [
      "[0.2496382  0.17377254 0.14315291 0.12869371 0.12086142 0.11599234\n",
      " 0.1125531  0.10987001 0.10763439 0.10569693 0.10397958 0.10243713\n",
      " 0.10104023 0.09976779 0.09860344 0.09753382 0.09654771 0.09563552\n",
      " 0.09478898 0.09400092 0.09326509 0.09257605 0.09192903 0.09131984\n",
      " 0.09074484 0.09020078 0.08968484 0.08919451 0.08872756 0.08828203\n",
      " 0.08785619 0.08744847 0.08705749 0.08668201 0.08632092 0.08597323\n",
      " 0.08563804 0.08531452 0.08500196 0.08469967 0.08440707 0.08412358\n",
      " 0.08384871 0.08358198 0.08332299 0.08307132 0.08282662 0.08258854\n",
      " 0.08235679 1.         1.         1.         1.         1.\n",
      " 1.         1.         1.         1.         1.         1.\n",
      " 1.         1.         1.         1.         1.         1.\n",
      " 1.         1.         1.         1.         1.         1.\n",
      " 1.         1.         1.         1.         1.         1.\n",
      " 1.         1.         1.         1.         1.         1.\n",
      " 1.         1.         1.         1.         1.         1.\n",
      " 1.         1.         1.         1.         1.         1.\n",
      " 1.         1.         1.         1.        ]\n"
     ]
    },
    {
     "name": "stderr",
     "output_type": "stream",
     "text": [
      "\n",
      " 50%|█████     | 50/100 [06:42<08:20, 10.02s/it]\u001b[A"
     ]
    },
    {
     "name": "stdout",
     "output_type": "stream",
     "text": [
      "[0.2496382  0.17377254 0.14315291 0.12869371 0.12086142 0.11599234\n",
      " 0.1125531  0.10987001 0.10763439 0.10569693 0.10397958 0.10243713\n",
      " 0.10104023 0.09976779 0.09860344 0.09753382 0.09654771 0.09563552\n",
      " 0.09478898 0.09400092 0.09326509 0.09257605 0.09192903 0.09131984\n",
      " 0.09074484 0.09020078 0.08968484 0.08919451 0.08872756 0.08828203\n",
      " 0.08785619 0.08744847 0.08705749 0.08668201 0.08632092 0.08597323\n",
      " 0.08563804 0.08531452 0.08500196 0.08469967 0.08440707 0.08412358\n",
      " 0.08384871 0.08358198 0.08332299 0.08307132 0.08282662 0.08258854\n",
      " 0.08235679 0.08213107 1.         1.         1.         1.\n",
      " 1.         1.         1.         1.         1.         1.\n",
      " 1.         1.         1.         1.         1.         1.\n",
      " 1.         1.         1.         1.         1.         1.\n",
      " 1.         1.         1.         1.         1.         1.\n",
      " 1.         1.         1.         1.         1.         1.\n",
      " 1.         1.         1.         1.         1.         1.\n",
      " 1.         1.         1.         1.         1.         1.\n",
      " 1.         1.         1.         1.        ]\n"
     ]
    },
    {
     "name": "stderr",
     "output_type": "stream",
     "text": [
      "\n",
      " 51%|█████     | 51/100 [06:49<07:32,  9.23s/it]\u001b[A"
     ]
    },
    {
     "name": "stdout",
     "output_type": "stream",
     "text": [
      "[0.2496382  0.17377254 0.14315291 0.12869371 0.12086142 0.11599234\n",
      " 0.1125531  0.10987001 0.10763439 0.10569693 0.10397958 0.10243713\n",
      " 0.10104023 0.09976779 0.09860344 0.09753382 0.09654771 0.09563552\n",
      " 0.09478898 0.09400092 0.09326509 0.09257605 0.09192903 0.09131984\n",
      " 0.09074484 0.09020078 0.08968484 0.08919451 0.08872756 0.08828203\n",
      " 0.08785619 0.08744847 0.08705749 0.08668201 0.08632092 0.08597323\n",
      " 0.08563804 0.08531452 0.08500196 0.08469967 0.08440707 0.08412358\n",
      " 0.08384871 0.08358198 0.08332299 0.08307132 0.08282662 0.08258854\n",
      " 0.08235679 0.08213107 0.0819111  1.         1.         1.\n",
      " 1.         1.         1.         1.         1.         1.\n",
      " 1.         1.         1.         1.         1.         1.\n",
      " 1.         1.         1.         1.         1.         1.\n",
      " 1.         1.         1.         1.         1.         1.\n",
      " 1.         1.         1.         1.         1.         1.\n",
      " 1.         1.         1.         1.         1.         1.\n",
      " 1.         1.         1.         1.         1.         1.\n",
      " 1.         1.         1.         1.        ]\n"
     ]
    },
    {
     "name": "stderr",
     "output_type": "stream",
     "text": [
      "\n",
      " 52%|█████▏    | 52/100 [06:59<07:37,  9.53s/it]\u001b[A"
     ]
    },
    {
     "name": "stdout",
     "output_type": "stream",
     "text": [
      "[0.2496382  0.17377254 0.14315291 0.12869371 0.12086142 0.11599234\n",
      " 0.1125531  0.10987001 0.10763439 0.10569693 0.10397958 0.10243713\n",
      " 0.10104023 0.09976779 0.09860344 0.09753382 0.09654771 0.09563552\n",
      " 0.09478898 0.09400092 0.09326509 0.09257605 0.09192903 0.09131984\n",
      " 0.09074484 0.09020078 0.08968484 0.08919451 0.08872756 0.08828203\n",
      " 0.08785619 0.08744847 0.08705749 0.08668201 0.08632092 0.08597323\n",
      " 0.08563804 0.08531452 0.08500196 0.08469967 0.08440707 0.08412358\n",
      " 0.08384871 0.08358198 0.08332299 0.08307132 0.08282662 0.08258854\n",
      " 0.08235679 0.08213107 0.0819111  0.08169664 1.         1.\n",
      " 1.         1.         1.         1.         1.         1.\n",
      " 1.         1.         1.         1.         1.         1.\n",
      " 1.         1.         1.         1.         1.         1.\n",
      " 1.         1.         1.         1.         1.         1.\n",
      " 1.         1.         1.         1.         1.         1.\n",
      " 1.         1.         1.         1.         1.         1.\n",
      " 1.         1.         1.         1.         1.         1.\n",
      " 1.         1.         1.         1.        ]\n"
     ]
    },
    {
     "name": "stderr",
     "output_type": "stream",
     "text": [
      "\n",
      " 53%|█████▎    | 53/100 [07:09<07:30,  9.57s/it]\u001b[A"
     ]
    },
    {
     "name": "stdout",
     "output_type": "stream",
     "text": [
      "[0.2496382  0.17377254 0.14315291 0.12869371 0.12086142 0.11599234\n",
      " 0.1125531  0.10987001 0.10763439 0.10569693 0.10397958 0.10243713\n",
      " 0.10104023 0.09976779 0.09860344 0.09753382 0.09654771 0.09563552\n",
      " 0.09478898 0.09400092 0.09326509 0.09257605 0.09192903 0.09131984\n",
      " 0.09074484 0.09020078 0.08968484 0.08919451 0.08872756 0.08828203\n",
      " 0.08785619 0.08744847 0.08705749 0.08668201 0.08632092 0.08597323\n",
      " 0.08563804 0.08531452 0.08500196 0.08469967 0.08440707 0.08412358\n",
      " 0.08384871 0.08358198 0.08332299 0.08307132 0.08282662 0.08258854\n",
      " 0.08235679 0.08213107 0.0819111  0.08169664 0.08148746 1.\n",
      " 1.         1.         1.         1.         1.         1.\n",
      " 1.         1.         1.         1.         1.         1.\n",
      " 1.         1.         1.         1.         1.         1.\n",
      " 1.         1.         1.         1.         1.         1.\n",
      " 1.         1.         1.         1.         1.         1.\n",
      " 1.         1.         1.         1.         1.         1.\n",
      " 1.         1.         1.         1.         1.         1.\n",
      " 1.         1.         1.         1.        ]\n"
     ]
    },
    {
     "name": "stderr",
     "output_type": "stream",
     "text": [
      "\n",
      " 54%|█████▍    | 54/100 [07:16<06:36,  8.63s/it]\u001b[A"
     ]
    },
    {
     "name": "stdout",
     "output_type": "stream",
     "text": [
      "[0.2496382  0.17377254 0.14315291 0.12869371 0.12086142 0.11599234\n",
      " 0.1125531  0.10987001 0.10763439 0.10569693 0.10397958 0.10243713\n",
      " 0.10104023 0.09976779 0.09860344 0.09753382 0.09654771 0.09563552\n",
      " 0.09478898 0.09400092 0.09326509 0.09257605 0.09192903 0.09131984\n",
      " 0.09074484 0.09020078 0.08968484 0.08919451 0.08872756 0.08828203\n",
      " 0.08785619 0.08744847 0.08705749 0.08668201 0.08632092 0.08597323\n",
      " 0.08563804 0.08531452 0.08500196 0.08469967 0.08440707 0.08412358\n",
      " 0.08384871 0.08358198 0.08332299 0.08307132 0.08282662 0.08258854\n",
      " 0.08235679 0.08213107 0.0819111  0.08169664 0.08148746 0.08128332\n",
      " 1.         1.         1.         1.         1.         1.\n",
      " 1.         1.         1.         1.         1.         1.\n",
      " 1.         1.         1.         1.         1.         1.\n",
      " 1.         1.         1.         1.         1.         1.\n",
      " 1.         1.         1.         1.         1.         1.\n",
      " 1.         1.         1.         1.         1.         1.\n",
      " 1.         1.         1.         1.         1.         1.\n",
      " 1.         1.         1.         1.        ]\n"
     ]
    },
    {
     "name": "stderr",
     "output_type": "stream",
     "text": [
      "\n",
      " 55%|█████▌    | 55/100 [07:22<05:52,  7.83s/it]\u001b[A"
     ]
    },
    {
     "name": "stdout",
     "output_type": "stream",
     "text": [
      "[0.2496382  0.17377254 0.14315291 0.12869371 0.12086142 0.11599234\n",
      " 0.1125531  0.10987001 0.10763439 0.10569693 0.10397958 0.10243713\n",
      " 0.10104023 0.09976779 0.09860344 0.09753382 0.09654771 0.09563552\n",
      " 0.09478898 0.09400092 0.09326509 0.09257605 0.09192903 0.09131984\n",
      " 0.09074484 0.09020078 0.08968484 0.08919451 0.08872756 0.08828203\n",
      " 0.08785619 0.08744847 0.08705749 0.08668201 0.08632092 0.08597323\n",
      " 0.08563804 0.08531452 0.08500196 0.08469967 0.08440707 0.08412358\n",
      " 0.08384871 0.08358198 0.08332299 0.08307132 0.08282662 0.08258854\n",
      " 0.08235679 0.08213107 0.0819111  0.08169664 0.08148746 0.08128332\n",
      " 0.08108402 1.         1.         1.         1.         1.\n",
      " 1.         1.         1.         1.         1.         1.\n",
      " 1.         1.         1.         1.         1.         1.\n",
      " 1.         1.         1.         1.         1.         1.\n",
      " 1.         1.         1.         1.         1.         1.\n",
      " 1.         1.         1.         1.         1.         1.\n",
      " 1.         1.         1.         1.         1.         1.\n",
      " 1.         1.         1.         1.        ]\n"
     ]
    },
    {
     "name": "stderr",
     "output_type": "stream",
     "text": [
      "\n",
      " 56%|█████▌    | 56/100 [07:28<05:28,  7.46s/it]\u001b[A"
     ]
    },
    {
     "name": "stdout",
     "output_type": "stream",
     "text": [
      "[0.2496382  0.17377254 0.14315291 0.12869371 0.12086142 0.11599234\n",
      " 0.1125531  0.10987001 0.10763439 0.10569693 0.10397958 0.10243713\n",
      " 0.10104023 0.09976779 0.09860344 0.09753382 0.09654771 0.09563552\n",
      " 0.09478898 0.09400092 0.09326509 0.09257605 0.09192903 0.09131984\n",
      " 0.09074484 0.09020078 0.08968484 0.08919451 0.08872756 0.08828203\n",
      " 0.08785619 0.08744847 0.08705749 0.08668201 0.08632092 0.08597323\n",
      " 0.08563804 0.08531452 0.08500196 0.08469967 0.08440707 0.08412358\n",
      " 0.08384871 0.08358198 0.08332299 0.08307132 0.08282662 0.08258854\n",
      " 0.08235679 0.08213107 0.0819111  0.08169664 0.08148746 0.08128332\n",
      " 0.08108402 0.08088937 1.         1.         1.         1.\n",
      " 1.         1.         1.         1.         1.         1.\n",
      " 1.         1.         1.         1.         1.         1.\n",
      " 1.         1.         1.         1.         1.         1.\n",
      " 1.         1.         1.         1.         1.         1.\n",
      " 1.         1.         1.         1.         1.         1.\n",
      " 1.         1.         1.         1.         1.         1.\n",
      " 1.         1.         1.         1.        ]\n"
     ]
    },
    {
     "name": "stderr",
     "output_type": "stream",
     "text": [
      "\n",
      " 57%|█████▋    | 57/100 [07:36<05:32,  7.74s/it]\u001b[A"
     ]
    },
    {
     "name": "stdout",
     "output_type": "stream",
     "text": [
      "[0.2496382  0.17377254 0.14315291 0.12869371 0.12086142 0.11599234\n",
      " 0.1125531  0.10987001 0.10763439 0.10569693 0.10397958 0.10243713\n",
      " 0.10104023 0.09976779 0.09860344 0.09753382 0.09654771 0.09563552\n",
      " 0.09478898 0.09400092 0.09326509 0.09257605 0.09192903 0.09131984\n",
      " 0.09074484 0.09020078 0.08968484 0.08919451 0.08872756 0.08828203\n",
      " 0.08785619 0.08744847 0.08705749 0.08668201 0.08632092 0.08597323\n",
      " 0.08563804 0.08531452 0.08500196 0.08469967 0.08440707 0.08412358\n",
      " 0.08384871 0.08358198 0.08332299 0.08307132 0.08282662 0.08258854\n",
      " 0.08235679 0.08213107 0.0819111  0.08169664 0.08148746 0.08128332\n",
      " 0.08108402 0.08088937 0.08069918 1.         1.         1.\n",
      " 1.         1.         1.         1.         1.         1.\n",
      " 1.         1.         1.         1.         1.         1.\n",
      " 1.         1.         1.         1.         1.         1.\n",
      " 1.         1.         1.         1.         1.         1.\n",
      " 1.         1.         1.         1.         1.         1.\n",
      " 1.         1.         1.         1.         1.         1.\n",
      " 1.         1.         1.         1.        ]\n"
     ]
    },
    {
     "name": "stderr",
     "output_type": "stream",
     "text": [
      "\n",
      " 58%|█████▊    | 58/100 [07:42<04:59,  7.14s/it]\u001b[A"
     ]
    },
    {
     "name": "stdout",
     "output_type": "stream",
     "text": [
      "[0.2496382  0.17377254 0.14315291 0.12869371 0.12086142 0.11599234\n",
      " 0.1125531  0.10987001 0.10763439 0.10569693 0.10397958 0.10243713\n",
      " 0.10104023 0.09976779 0.09860344 0.09753382 0.09654771 0.09563552\n",
      " 0.09478898 0.09400092 0.09326509 0.09257605 0.09192903 0.09131984\n",
      " 0.09074484 0.09020078 0.08968484 0.08919451 0.08872756 0.08828203\n",
      " 0.08785619 0.08744847 0.08705749 0.08668201 0.08632092 0.08597323\n",
      " 0.08563804 0.08531452 0.08500196 0.08469967 0.08440707 0.08412358\n",
      " 0.08384871 0.08358198 0.08332299 0.08307132 0.08282662 0.08258854\n",
      " 0.08235679 0.08213107 0.0819111  0.08169664 0.08148746 0.08128332\n",
      " 0.08108402 0.08088937 0.08069918 0.08051329 1.         1.\n",
      " 1.         1.         1.         1.         1.         1.\n",
      " 1.         1.         1.         1.         1.         1.\n",
      " 1.         1.         1.         1.         1.         1.\n",
      " 1.         1.         1.         1.         1.         1.\n",
      " 1.         1.         1.         1.         1.         1.\n",
      " 1.         1.         1.         1.         1.         1.\n",
      " 1.         1.         1.         1.        ]\n"
     ]
    },
    {
     "name": "stderr",
     "output_type": "stream",
     "text": [
      "\n",
      " 59%|█████▉    | 59/100 [07:48<04:35,  6.72s/it]\u001b[A"
     ]
    },
    {
     "name": "stdout",
     "output_type": "stream",
     "text": [
      "[0.2496382  0.17377254 0.14315291 0.12869371 0.12086142 0.11599234\n",
      " 0.1125531  0.10987001 0.10763439 0.10569693 0.10397958 0.10243713\n",
      " 0.10104023 0.09976779 0.09860344 0.09753382 0.09654771 0.09563552\n",
      " 0.09478898 0.09400092 0.09326509 0.09257605 0.09192903 0.09131984\n",
      " 0.09074484 0.09020078 0.08968484 0.08919451 0.08872756 0.08828203\n",
      " 0.08785619 0.08744847 0.08705749 0.08668201 0.08632092 0.08597323\n",
      " 0.08563804 0.08531452 0.08500196 0.08469967 0.08440707 0.08412358\n",
      " 0.08384871 0.08358198 0.08332299 0.08307132 0.08282662 0.08258854\n",
      " 0.08235679 0.08213107 0.0819111  0.08169664 0.08148746 0.08128332\n",
      " 0.08108402 0.08088937 0.08069918 0.08051329 0.08033152 1.\n",
      " 1.         1.         1.         1.         1.         1.\n",
      " 1.         1.         1.         1.         1.         1.\n",
      " 1.         1.         1.         1.         1.         1.\n",
      " 1.         1.         1.         1.         1.         1.\n",
      " 1.         1.         1.         1.         1.         1.\n",
      " 1.         1.         1.         1.         1.         1.\n",
      " 1.         1.         1.         1.        ]\n"
     ]
    },
    {
     "name": "stderr",
     "output_type": "stream",
     "text": [
      "\n",
      " 60%|██████    | 60/100 [07:57<04:51,  7.28s/it]\u001b[A"
     ]
    },
    {
     "name": "stdout",
     "output_type": "stream",
     "text": [
      "[0.2496382  0.17377254 0.14315291 0.12869371 0.12086142 0.11599234\n",
      " 0.1125531  0.10987001 0.10763439 0.10569693 0.10397958 0.10243713\n",
      " 0.10104023 0.09976779 0.09860344 0.09753382 0.09654771 0.09563552\n",
      " 0.09478898 0.09400092 0.09326509 0.09257605 0.09192903 0.09131984\n",
      " 0.09074484 0.09020078 0.08968484 0.08919451 0.08872756 0.08828203\n",
      " 0.08785619 0.08744847 0.08705749 0.08668201 0.08632092 0.08597323\n",
      " 0.08563804 0.08531452 0.08500196 0.08469967 0.08440707 0.08412358\n",
      " 0.08384871 0.08358198 0.08332299 0.08307132 0.08282662 0.08258854\n",
      " 0.08235679 0.08213107 0.0819111  0.08169664 0.08148746 0.08128332\n",
      " 0.08108402 0.08088937 0.08069918 0.08051329 0.08033152 0.08015372\n",
      " 1.         1.         1.         1.         1.         1.\n",
      " 1.         1.         1.         1.         1.         1.\n",
      " 1.         1.         1.         1.         1.         1.\n",
      " 1.         1.         1.         1.         1.         1.\n",
      " 1.         1.         1.         1.         1.         1.\n",
      " 1.         1.         1.         1.         1.         1.\n",
      " 1.         1.         1.         1.        ]\n"
     ]
    },
    {
     "name": "stderr",
     "output_type": "stream",
     "text": [
      "\n",
      " 61%|██████    | 61/100 [08:06<05:04,  7.81s/it]\u001b[A"
     ]
    },
    {
     "name": "stdout",
     "output_type": "stream",
     "text": [
      "[0.2496382  0.17377254 0.14315291 0.12869371 0.12086142 0.11599234\n",
      " 0.1125531  0.10987001 0.10763439 0.10569693 0.10397958 0.10243713\n",
      " 0.10104023 0.09976779 0.09860344 0.09753382 0.09654771 0.09563552\n",
      " 0.09478898 0.09400092 0.09326509 0.09257605 0.09192903 0.09131984\n",
      " 0.09074484 0.09020078 0.08968484 0.08919451 0.08872756 0.08828203\n",
      " 0.08785619 0.08744847 0.08705749 0.08668201 0.08632092 0.08597323\n",
      " 0.08563804 0.08531452 0.08500196 0.08469967 0.08440707 0.08412358\n",
      " 0.08384871 0.08358198 0.08332299 0.08307132 0.08282662 0.08258854\n",
      " 0.08235679 0.08213107 0.0819111  0.08169664 0.08148746 0.08128332\n",
      " 0.08108402 0.08088937 0.08069918 0.08051329 0.08033152 0.08015372\n",
      " 0.07997975 1.         1.         1.         1.         1.\n",
      " 1.         1.         1.         1.         1.         1.\n",
      " 1.         1.         1.         1.         1.         1.\n",
      " 1.         1.         1.         1.         1.         1.\n",
      " 1.         1.         1.         1.         1.         1.\n",
      " 1.         1.         1.         1.         1.         1.\n",
      " 1.         1.         1.         1.        ]\n"
     ]
    },
    {
     "name": "stderr",
     "output_type": "stream",
     "text": [
      "\n",
      " 62%|██████▏   | 62/100 [08:12<04:45,  7.50s/it]\u001b[A"
     ]
    },
    {
     "name": "stdout",
     "output_type": "stream",
     "text": [
      "[0.2496382  0.17377254 0.14315291 0.12869371 0.12086142 0.11599234\n",
      " 0.1125531  0.10987001 0.10763439 0.10569693 0.10397958 0.10243713\n",
      " 0.10104023 0.09976779 0.09860344 0.09753382 0.09654771 0.09563552\n",
      " 0.09478898 0.09400092 0.09326509 0.09257605 0.09192903 0.09131984\n",
      " 0.09074484 0.09020078 0.08968484 0.08919451 0.08872756 0.08828203\n",
      " 0.08785619 0.08744847 0.08705749 0.08668201 0.08632092 0.08597323\n",
      " 0.08563804 0.08531452 0.08500196 0.08469967 0.08440707 0.08412358\n",
      " 0.08384871 0.08358198 0.08332299 0.08307132 0.08282662 0.08258854\n",
      " 0.08235679 0.08213107 0.0819111  0.08169664 0.08148746 0.08128332\n",
      " 0.08108402 0.08088937 0.08069918 0.08051329 0.08033152 0.08015372\n",
      " 0.07997975 0.07980946 1.         1.         1.         1.\n",
      " 1.         1.         1.         1.         1.         1.\n",
      " 1.         1.         1.         1.         1.         1.\n",
      " 1.         1.         1.         1.         1.         1.\n",
      " 1.         1.         1.         1.         1.         1.\n",
      " 1.         1.         1.         1.         1.         1.\n",
      " 1.         1.         1.         1.        ]\n"
     ]
    },
    {
     "name": "stderr",
     "output_type": "stream",
     "text": [
      "\n",
      " 63%|██████▎   | 63/100 [08:20<04:37,  7.50s/it]\u001b[A"
     ]
    },
    {
     "name": "stdout",
     "output_type": "stream",
     "text": [
      "[0.2496382  0.17377254 0.14315291 0.12869371 0.12086142 0.11599234\n",
      " 0.1125531  0.10987001 0.10763439 0.10569693 0.10397958 0.10243713\n",
      " 0.10104023 0.09976779 0.09860344 0.09753382 0.09654771 0.09563552\n",
      " 0.09478898 0.09400092 0.09326509 0.09257605 0.09192903 0.09131984\n",
      " 0.09074484 0.09020078 0.08968484 0.08919451 0.08872756 0.08828203\n",
      " 0.08785619 0.08744847 0.08705749 0.08668201 0.08632092 0.08597323\n",
      " 0.08563804 0.08531452 0.08500196 0.08469967 0.08440707 0.08412358\n",
      " 0.08384871 0.08358198 0.08332299 0.08307132 0.08282662 0.08258854\n",
      " 0.08235679 0.08213107 0.0819111  0.08169664 0.08148746 0.08128332\n",
      " 0.08108402 0.08088937 0.08069918 0.08051329 0.08033152 0.08015372\n",
      " 0.07997975 0.07980946 0.07964273 1.         1.         1.\n",
      " 1.         1.         1.         1.         1.         1.\n",
      " 1.         1.         1.         1.         1.         1.\n",
      " 1.         1.         1.         1.         1.         1.\n",
      " 1.         1.         1.         1.         1.         1.\n",
      " 1.         1.         1.         1.         1.         1.\n",
      " 1.         1.         1.         1.        ]\n"
     ]
    },
    {
     "name": "stderr",
     "output_type": "stream",
     "text": [
      "\n",
      " 64%|██████▍   | 64/100 [08:29<04:46,  7.96s/it]\u001b[A"
     ]
    },
    {
     "name": "stdout",
     "output_type": "stream",
     "text": [
      "[0.2496382  0.17377254 0.14315291 0.12869371 0.12086142 0.11599234\n",
      " 0.1125531  0.10987001 0.10763439 0.10569693 0.10397958 0.10243713\n",
      " 0.10104023 0.09976779 0.09860344 0.09753382 0.09654771 0.09563552\n",
      " 0.09478898 0.09400092 0.09326509 0.09257605 0.09192903 0.09131984\n",
      " 0.09074484 0.09020078 0.08968484 0.08919451 0.08872756 0.08828203\n",
      " 0.08785619 0.08744847 0.08705749 0.08668201 0.08632092 0.08597323\n",
      " 0.08563804 0.08531452 0.08500196 0.08469967 0.08440707 0.08412358\n",
      " 0.08384871 0.08358198 0.08332299 0.08307132 0.08282662 0.08258854\n",
      " 0.08235679 0.08213107 0.0819111  0.08169664 0.08148746 0.08128332\n",
      " 0.08108402 0.08088937 0.08069918 0.08051329 0.08033152 0.08015372\n",
      " 0.07997975 0.07980946 0.07964273 0.07947943 1.         1.\n",
      " 1.         1.         1.         1.         1.         1.\n",
      " 1.         1.         1.         1.         1.         1.\n",
      " 1.         1.         1.         1.         1.         1.\n",
      " 1.         1.         1.         1.         1.         1.\n",
      " 1.         1.         1.         1.         1.         1.\n",
      " 1.         1.         1.         1.        ]\n"
     ]
    },
    {
     "name": "stderr",
     "output_type": "stream",
     "text": [
      "\n",
      " 65%|██████▌   | 65/100 [08:37<04:37,  7.94s/it]\u001b[A"
     ]
    },
    {
     "name": "stdout",
     "output_type": "stream",
     "text": [
      "[0.2496382  0.17377254 0.14315291 0.12869371 0.12086142 0.11599234\n",
      " 0.1125531  0.10987001 0.10763439 0.10569693 0.10397958 0.10243713\n",
      " 0.10104023 0.09976779 0.09860344 0.09753382 0.09654771 0.09563552\n",
      " 0.09478898 0.09400092 0.09326509 0.09257605 0.09192903 0.09131984\n",
      " 0.09074484 0.09020078 0.08968484 0.08919451 0.08872756 0.08828203\n",
      " 0.08785619 0.08744847 0.08705749 0.08668201 0.08632092 0.08597323\n",
      " 0.08563804 0.08531452 0.08500196 0.08469967 0.08440707 0.08412358\n",
      " 0.08384871 0.08358198 0.08332299 0.08307132 0.08282662 0.08258854\n",
      " 0.08235679 0.08213107 0.0819111  0.08169664 0.08148746 0.08128332\n",
      " 0.08108402 0.08088937 0.08069918 0.08051329 0.08033152 0.08015372\n",
      " 0.07997975 0.07980946 0.07964273 0.07947943 0.07931944 1.\n",
      " 1.         1.         1.         1.         1.         1.\n",
      " 1.         1.         1.         1.         1.         1.\n",
      " 1.         1.         1.         1.         1.         1.\n",
      " 1.         1.         1.         1.         1.         1.\n",
      " 1.         1.         1.         1.         1.         1.\n",
      " 1.         1.         1.         1.        ]\n"
     ]
    },
    {
     "name": "stderr",
     "output_type": "stream",
     "text": [
      "\n",
      " 66%|██████▌   | 66/100 [08:44<04:26,  7.85s/it]\u001b[A"
     ]
    },
    {
     "name": "stdout",
     "output_type": "stream",
     "text": [
      "[0.2496382  0.17377254 0.14315291 0.12869371 0.12086142 0.11599234\n",
      " 0.1125531  0.10987001 0.10763439 0.10569693 0.10397958 0.10243713\n",
      " 0.10104023 0.09976779 0.09860344 0.09753382 0.09654771 0.09563552\n",
      " 0.09478898 0.09400092 0.09326509 0.09257605 0.09192903 0.09131984\n",
      " 0.09074484 0.09020078 0.08968484 0.08919451 0.08872756 0.08828203\n",
      " 0.08785619 0.08744847 0.08705749 0.08668201 0.08632092 0.08597323\n",
      " 0.08563804 0.08531452 0.08500196 0.08469967 0.08440707 0.08412358\n",
      " 0.08384871 0.08358198 0.08332299 0.08307132 0.08282662 0.08258854\n",
      " 0.08235679 0.08213107 0.0819111  0.08169664 0.08148746 0.08128332\n",
      " 0.08108402 0.08088937 0.08069918 0.08051329 0.08033152 0.08015372\n",
      " 0.07997975 0.07980946 0.07964273 0.07947943 0.07931944 0.07916265\n",
      " 1.         1.         1.         1.         1.         1.\n",
      " 1.         1.         1.         1.         1.         1.\n",
      " 1.         1.         1.         1.         1.         1.\n",
      " 1.         1.         1.         1.         1.         1.\n",
      " 1.         1.         1.         1.         1.         1.\n",
      " 1.         1.         1.         1.        ]\n"
     ]
    },
    {
     "name": "stderr",
     "output_type": "stream",
     "text": [
      "\n",
      " 67%|██████▋   | 67/100 [08:58<05:12,  9.46s/it]\u001b[A"
     ]
    },
    {
     "name": "stdout",
     "output_type": "stream",
     "text": [
      "[0.2496382  0.17377254 0.14315291 0.12869371 0.12086142 0.11599234\n",
      " 0.1125531  0.10987001 0.10763439 0.10569693 0.10397958 0.10243713\n",
      " 0.10104023 0.09976779 0.09860344 0.09753382 0.09654771 0.09563552\n",
      " 0.09478898 0.09400092 0.09326509 0.09257605 0.09192903 0.09131984\n",
      " 0.09074484 0.09020078 0.08968484 0.08919451 0.08872756 0.08828203\n",
      " 0.08785619 0.08744847 0.08705749 0.08668201 0.08632092 0.08597323\n",
      " 0.08563804 0.08531452 0.08500196 0.08469967 0.08440707 0.08412358\n",
      " 0.08384871 0.08358198 0.08332299 0.08307132 0.08282662 0.08258854\n",
      " 0.08235679 0.08213107 0.0819111  0.08169664 0.08148746 0.08128332\n",
      " 0.08108402 0.08088937 0.08069918 0.08051329 0.08033152 0.08015372\n",
      " 0.07997975 0.07980946 0.07964273 0.07947943 0.07931944 0.07916265\n",
      " 0.07900895 1.         1.         1.         1.         1.\n",
      " 1.         1.         1.         1.         1.         1.\n",
      " 1.         1.         1.         1.         1.         1.\n",
      " 1.         1.         1.         1.         1.         1.\n",
      " 1.         1.         1.         1.         1.         1.\n",
      " 1.         1.         1.         1.        ]\n"
     ]
    },
    {
     "name": "stderr",
     "output_type": "stream",
     "text": [
      "\n",
      " 68%|██████▊   | 68/100 [09:06<04:53,  9.16s/it]\u001b[A"
     ]
    },
    {
     "name": "stdout",
     "output_type": "stream",
     "text": [
      "[0.2496382  0.17377254 0.14315291 0.12869371 0.12086142 0.11599234\n",
      " 0.1125531  0.10987001 0.10763439 0.10569693 0.10397958 0.10243713\n",
      " 0.10104023 0.09976779 0.09860344 0.09753382 0.09654771 0.09563552\n",
      " 0.09478898 0.09400092 0.09326509 0.09257605 0.09192903 0.09131984\n",
      " 0.09074484 0.09020078 0.08968484 0.08919451 0.08872756 0.08828203\n",
      " 0.08785619 0.08744847 0.08705749 0.08668201 0.08632092 0.08597323\n",
      " 0.08563804 0.08531452 0.08500196 0.08469967 0.08440707 0.08412358\n",
      " 0.08384871 0.08358198 0.08332299 0.08307132 0.08282662 0.08258854\n",
      " 0.08235679 0.08213107 0.0819111  0.08169664 0.08148746 0.08128332\n",
      " 0.08108402 0.08088937 0.08069918 0.08051329 0.08033152 0.08015372\n",
      " 0.07997975 0.07980946 0.07964273 0.07947943 0.07931944 0.07916265\n",
      " 0.07900895 0.07885824 1.         1.         1.         1.\n",
      " 1.         1.         1.         1.         1.         1.\n",
      " 1.         1.         1.         1.         1.         1.\n",
      " 1.         1.         1.         1.         1.         1.\n",
      " 1.         1.         1.         1.         1.         1.\n",
      " 1.         1.         1.         1.        ]\n"
     ]
    },
    {
     "name": "stderr",
     "output_type": "stream",
     "text": [
      "\n",
      " 69%|██████▉   | 69/100 [09:13<04:24,  8.53s/it]\u001b[A"
     ]
    },
    {
     "name": "stdout",
     "output_type": "stream",
     "text": [
      "[0.2496382  0.17377254 0.14315291 0.12869371 0.12086142 0.11599234\n",
      " 0.1125531  0.10987001 0.10763439 0.10569693 0.10397958 0.10243713\n",
      " 0.10104023 0.09976779 0.09860344 0.09753382 0.09654771 0.09563552\n",
      " 0.09478898 0.09400092 0.09326509 0.09257605 0.09192903 0.09131984\n",
      " 0.09074484 0.09020078 0.08968484 0.08919451 0.08872756 0.08828203\n",
      " 0.08785619 0.08744847 0.08705749 0.08668201 0.08632092 0.08597323\n",
      " 0.08563804 0.08531452 0.08500196 0.08469967 0.08440707 0.08412358\n",
      " 0.08384871 0.08358198 0.08332299 0.08307132 0.08282662 0.08258854\n",
      " 0.08235679 0.08213107 0.0819111  0.08169664 0.08148746 0.08128332\n",
      " 0.08108402 0.08088937 0.08069918 0.08051329 0.08033152 0.08015372\n",
      " 0.07997975 0.07980946 0.07964273 0.07947943 0.07931944 0.07916265\n",
      " 0.07900895 0.07885824 0.07871041 1.         1.         1.\n",
      " 1.         1.         1.         1.         1.         1.\n",
      " 1.         1.         1.         1.         1.         1.\n",
      " 1.         1.         1.         1.         1.         1.\n",
      " 1.         1.         1.         1.         1.         1.\n",
      " 1.         1.         1.         1.        ]\n"
     ]
    },
    {
     "name": "stderr",
     "output_type": "stream",
     "text": [
      "\n",
      " 70%|███████   | 70/100 [09:22<04:17,  8.59s/it]\u001b[A"
     ]
    },
    {
     "name": "stdout",
     "output_type": "stream",
     "text": [
      "[0.2496382  0.17377254 0.14315291 0.12869371 0.12086142 0.11599234\n",
      " 0.1125531  0.10987001 0.10763439 0.10569693 0.10397958 0.10243713\n",
      " 0.10104023 0.09976779 0.09860344 0.09753382 0.09654771 0.09563552\n",
      " 0.09478898 0.09400092 0.09326509 0.09257605 0.09192903 0.09131984\n",
      " 0.09074484 0.09020078 0.08968484 0.08919451 0.08872756 0.08828203\n",
      " 0.08785619 0.08744847 0.08705749 0.08668201 0.08632092 0.08597323\n",
      " 0.08563804 0.08531452 0.08500196 0.08469967 0.08440707 0.08412358\n",
      " 0.08384871 0.08358198 0.08332299 0.08307132 0.08282662 0.08258854\n",
      " 0.08235679 0.08213107 0.0819111  0.08169664 0.08148746 0.08128332\n",
      " 0.08108402 0.08088937 0.08069918 0.08051329 0.08033152 0.08015372\n",
      " 0.07997975 0.07980946 0.07964273 0.07947943 0.07931944 0.07916265\n",
      " 0.07900895 0.07885824 0.07871041 0.07856538 1.         1.\n",
      " 1.         1.         1.         1.         1.         1.\n",
      " 1.         1.         1.         1.         1.         1.\n",
      " 1.         1.         1.         1.         1.         1.\n",
      " 1.         1.         1.         1.         1.         1.\n",
      " 1.         1.         1.         1.        ]\n"
     ]
    },
    {
     "name": "stderr",
     "output_type": "stream",
     "text": [
      "\n",
      " 71%|███████   | 71/100 [09:29<03:59,  8.25s/it]\u001b[A"
     ]
    },
    {
     "name": "stdout",
     "output_type": "stream",
     "text": [
      "[0.2496382  0.17377254 0.14315291 0.12869371 0.12086142 0.11599234\n",
      " 0.1125531  0.10987001 0.10763439 0.10569693 0.10397958 0.10243713\n",
      " 0.10104023 0.09976779 0.09860344 0.09753382 0.09654771 0.09563552\n",
      " 0.09478898 0.09400092 0.09326509 0.09257605 0.09192903 0.09131984\n",
      " 0.09074484 0.09020078 0.08968484 0.08919451 0.08872756 0.08828203\n",
      " 0.08785619 0.08744847 0.08705749 0.08668201 0.08632092 0.08597323\n",
      " 0.08563804 0.08531452 0.08500196 0.08469967 0.08440707 0.08412358\n",
      " 0.08384871 0.08358198 0.08332299 0.08307132 0.08282662 0.08258854\n",
      " 0.08235679 0.08213107 0.0819111  0.08169664 0.08148746 0.08128332\n",
      " 0.08108402 0.08088937 0.08069918 0.08051329 0.08033152 0.08015372\n",
      " 0.07997975 0.07980946 0.07964273 0.07947943 0.07931944 0.07916265\n",
      " 0.07900895 0.07885824 0.07871041 0.07856538 0.07842306 1.\n",
      " 1.         1.         1.         1.         1.         1.\n",
      " 1.         1.         1.         1.         1.         1.\n",
      " 1.         1.         1.         1.         1.         1.\n",
      " 1.         1.         1.         1.         1.         1.\n",
      " 1.         1.         1.         1.        ]\n"
     ]
    },
    {
     "name": "stderr",
     "output_type": "stream",
     "text": [
      "\n",
      " 72%|███████▏  | 72/100 [09:36<03:36,  7.72s/it]\u001b[A"
     ]
    },
    {
     "name": "stdout",
     "output_type": "stream",
     "text": [
      "[0.2496382  0.17377254 0.14315291 0.12869371 0.12086142 0.11599234\n",
      " 0.1125531  0.10987001 0.10763439 0.10569693 0.10397958 0.10243713\n",
      " 0.10104023 0.09976779 0.09860344 0.09753382 0.09654771 0.09563552\n",
      " 0.09478898 0.09400092 0.09326509 0.09257605 0.09192903 0.09131984\n",
      " 0.09074484 0.09020078 0.08968484 0.08919451 0.08872756 0.08828203\n",
      " 0.08785619 0.08744847 0.08705749 0.08668201 0.08632092 0.08597323\n",
      " 0.08563804 0.08531452 0.08500196 0.08469967 0.08440707 0.08412358\n",
      " 0.08384871 0.08358198 0.08332299 0.08307132 0.08282662 0.08258854\n",
      " 0.08235679 0.08213107 0.0819111  0.08169664 0.08148746 0.08128332\n",
      " 0.08108402 0.08088937 0.08069918 0.08051329 0.08033152 0.08015372\n",
      " 0.07997975 0.07980946 0.07964273 0.07947943 0.07931944 0.07916265\n",
      " 0.07900895 0.07885824 0.07871041 0.07856538 0.07842306 0.07828336\n",
      " 1.         1.         1.         1.         1.         1.\n",
      " 1.         1.         1.         1.         1.         1.\n",
      " 1.         1.         1.         1.         1.         1.\n",
      " 1.         1.         1.         1.         1.         1.\n",
      " 1.         1.         1.         1.        ]\n"
     ]
    },
    {
     "name": "stderr",
     "output_type": "stream",
     "text": [
      "\n",
      " 73%|███████▎  | 73/100 [09:42<03:14,  7.22s/it]\u001b[A"
     ]
    },
    {
     "name": "stdout",
     "output_type": "stream",
     "text": [
      "[0.2496382  0.17377254 0.14315291 0.12869371 0.12086142 0.11599234\n",
      " 0.1125531  0.10987001 0.10763439 0.10569693 0.10397958 0.10243713\n",
      " 0.10104023 0.09976779 0.09860344 0.09753382 0.09654771 0.09563552\n",
      " 0.09478898 0.09400092 0.09326509 0.09257605 0.09192903 0.09131984\n",
      " 0.09074484 0.09020078 0.08968484 0.08919451 0.08872756 0.08828203\n",
      " 0.08785619 0.08744847 0.08705749 0.08668201 0.08632092 0.08597323\n",
      " 0.08563804 0.08531452 0.08500196 0.08469967 0.08440707 0.08412358\n",
      " 0.08384871 0.08358198 0.08332299 0.08307132 0.08282662 0.08258854\n",
      " 0.08235679 0.08213107 0.0819111  0.08169664 0.08148746 0.08128332\n",
      " 0.08108402 0.08088937 0.08069918 0.08051329 0.08033152 0.08015372\n",
      " 0.07997975 0.07980946 0.07964273 0.07947943 0.07931944 0.07916265\n",
      " 0.07900895 0.07885824 0.07871041 0.07856538 0.07842306 0.07828336\n",
      " 0.07814619 1.         1.         1.         1.         1.\n",
      " 1.         1.         1.         1.         1.         1.\n",
      " 1.         1.         1.         1.         1.         1.\n",
      " 1.         1.         1.         1.         1.         1.\n",
      " 1.         1.         1.         1.        ]\n"
     ]
    },
    {
     "name": "stderr",
     "output_type": "stream",
     "text": [
      "\n",
      " 74%|███████▍  | 74/100 [09:48<02:55,  6.74s/it]\u001b[A"
     ]
    },
    {
     "name": "stdout",
     "output_type": "stream",
     "text": [
      "[0.2496382  0.17377254 0.14315291 0.12869371 0.12086142 0.11599234\n",
      " 0.1125531  0.10987001 0.10763439 0.10569693 0.10397958 0.10243713\n",
      " 0.10104023 0.09976779 0.09860344 0.09753382 0.09654771 0.09563552\n",
      " 0.09478898 0.09400092 0.09326509 0.09257605 0.09192903 0.09131984\n",
      " 0.09074484 0.09020078 0.08968484 0.08919451 0.08872756 0.08828203\n",
      " 0.08785619 0.08744847 0.08705749 0.08668201 0.08632092 0.08597323\n",
      " 0.08563804 0.08531452 0.08500196 0.08469967 0.08440707 0.08412358\n",
      " 0.08384871 0.08358198 0.08332299 0.08307132 0.08282662 0.08258854\n",
      " 0.08235679 0.08213107 0.0819111  0.08169664 0.08148746 0.08128332\n",
      " 0.08108402 0.08088937 0.08069918 0.08051329 0.08033152 0.08015372\n",
      " 0.07997975 0.07980946 0.07964273 0.07947943 0.07931944 0.07916265\n",
      " 0.07900895 0.07885824 0.07871041 0.07856538 0.07842306 0.07828336\n",
      " 0.07814619 0.07801148 1.         1.         1.         1.\n",
      " 1.         1.         1.         1.         1.         1.\n",
      " 1.         1.         1.         1.         1.         1.\n",
      " 1.         1.         1.         1.         1.         1.\n",
      " 1.         1.         1.         1.        ]\n"
     ]
    },
    {
     "name": "stderr",
     "output_type": "stream",
     "text": [
      "\n",
      " 75%|███████▌  | 75/100 [09:53<02:39,  6.40s/it]\u001b[A"
     ]
    },
    {
     "name": "stdout",
     "output_type": "stream",
     "text": [
      "[0.2496382  0.17377254 0.14315291 0.12869371 0.12086142 0.11599234\n",
      " 0.1125531  0.10987001 0.10763439 0.10569693 0.10397958 0.10243713\n",
      " 0.10104023 0.09976779 0.09860344 0.09753382 0.09654771 0.09563552\n",
      " 0.09478898 0.09400092 0.09326509 0.09257605 0.09192903 0.09131984\n",
      " 0.09074484 0.09020078 0.08968484 0.08919451 0.08872756 0.08828203\n",
      " 0.08785619 0.08744847 0.08705749 0.08668201 0.08632092 0.08597323\n",
      " 0.08563804 0.08531452 0.08500196 0.08469967 0.08440707 0.08412358\n",
      " 0.08384871 0.08358198 0.08332299 0.08307132 0.08282662 0.08258854\n",
      " 0.08235679 0.08213107 0.0819111  0.08169664 0.08148746 0.08128332\n",
      " 0.08108402 0.08088937 0.08069918 0.08051329 0.08033152 0.08015372\n",
      " 0.07997975 0.07980946 0.07964273 0.07947943 0.07931944 0.07916265\n",
      " 0.07900895 0.07885824 0.07871041 0.07856538 0.07842306 0.07828336\n",
      " 0.07814619 0.07801148 0.07787916 1.         1.         1.\n",
      " 1.         1.         1.         1.         1.         1.\n",
      " 1.         1.         1.         1.         1.         1.\n",
      " 1.         1.         1.         1.         1.         1.\n",
      " 1.         1.         1.         1.        ]\n"
     ]
    },
    {
     "name": "stderr",
     "output_type": "stream",
     "text": [
      "\n",
      " 76%|███████▌  | 76/100 [09:59<02:28,  6.19s/it]\u001b[A"
     ]
    },
    {
     "name": "stdout",
     "output_type": "stream",
     "text": [
      "[0.2496382  0.17377254 0.14315291 0.12869371 0.12086142 0.11599234\n",
      " 0.1125531  0.10987001 0.10763439 0.10569693 0.10397958 0.10243713\n",
      " 0.10104023 0.09976779 0.09860344 0.09753382 0.09654771 0.09563552\n",
      " 0.09478898 0.09400092 0.09326509 0.09257605 0.09192903 0.09131984\n",
      " 0.09074484 0.09020078 0.08968484 0.08919451 0.08872756 0.08828203\n",
      " 0.08785619 0.08744847 0.08705749 0.08668201 0.08632092 0.08597323\n",
      " 0.08563804 0.08531452 0.08500196 0.08469967 0.08440707 0.08412358\n",
      " 0.08384871 0.08358198 0.08332299 0.08307132 0.08282662 0.08258854\n",
      " 0.08235679 0.08213107 0.0819111  0.08169664 0.08148746 0.08128332\n",
      " 0.08108402 0.08088937 0.08069918 0.08051329 0.08033152 0.08015372\n",
      " 0.07997975 0.07980946 0.07964273 0.07947943 0.07931944 0.07916265\n",
      " 0.07900895 0.07885824 0.07871041 0.07856538 0.07842306 0.07828336\n",
      " 0.07814619 0.07801148 0.07787916 0.07774915 1.         1.\n",
      " 1.         1.         1.         1.         1.         1.\n",
      " 1.         1.         1.         1.         1.         1.\n",
      " 1.         1.         1.         1.         1.         1.\n",
      " 1.         1.         1.         1.        ]\n"
     ]
    },
    {
     "name": "stderr",
     "output_type": "stream",
     "text": [
      "\n",
      " 77%|███████▋  | 77/100 [10:05<02:19,  6.05s/it]\u001b[A"
     ]
    },
    {
     "name": "stdout",
     "output_type": "stream",
     "text": [
      "[0.2496382  0.17377254 0.14315291 0.12869371 0.12086142 0.11599234\n",
      " 0.1125531  0.10987001 0.10763439 0.10569693 0.10397958 0.10243713\n",
      " 0.10104023 0.09976779 0.09860344 0.09753382 0.09654771 0.09563552\n",
      " 0.09478898 0.09400092 0.09326509 0.09257605 0.09192903 0.09131984\n",
      " 0.09074484 0.09020078 0.08968484 0.08919451 0.08872756 0.08828203\n",
      " 0.08785619 0.08744847 0.08705749 0.08668201 0.08632092 0.08597323\n",
      " 0.08563804 0.08531452 0.08500196 0.08469967 0.08440707 0.08412358\n",
      " 0.08384871 0.08358198 0.08332299 0.08307132 0.08282662 0.08258854\n",
      " 0.08235679 0.08213107 0.0819111  0.08169664 0.08148746 0.08128332\n",
      " 0.08108402 0.08088937 0.08069918 0.08051329 0.08033152 0.08015372\n",
      " 0.07997975 0.07980946 0.07964273 0.07947943 0.07931944 0.07916265\n",
      " 0.07900895 0.07885824 0.07871041 0.07856538 0.07842306 0.07828336\n",
      " 0.07814619 0.07801148 0.07787916 0.07774915 0.07762139 1.\n",
      " 1.         1.         1.         1.         1.         1.\n",
      " 1.         1.         1.         1.         1.         1.\n",
      " 1.         1.         1.         1.         1.         1.\n",
      " 1.         1.         1.         1.        ]\n"
     ]
    },
    {
     "name": "stderr",
     "output_type": "stream",
     "text": [
      "\n",
      " 78%|███████▊  | 78/100 [10:10<02:10,  5.94s/it]\u001b[A"
     ]
    },
    {
     "name": "stdout",
     "output_type": "stream",
     "text": [
      "[0.2496382  0.17377254 0.14315291 0.12869371 0.12086142 0.11599234\n",
      " 0.1125531  0.10987001 0.10763439 0.10569693 0.10397958 0.10243713\n",
      " 0.10104023 0.09976779 0.09860344 0.09753382 0.09654771 0.09563552\n",
      " 0.09478898 0.09400092 0.09326509 0.09257605 0.09192903 0.09131984\n",
      " 0.09074484 0.09020078 0.08968484 0.08919451 0.08872756 0.08828203\n",
      " 0.08785619 0.08744847 0.08705749 0.08668201 0.08632092 0.08597323\n",
      " 0.08563804 0.08531452 0.08500196 0.08469967 0.08440707 0.08412358\n",
      " 0.08384871 0.08358198 0.08332299 0.08307132 0.08282662 0.08258854\n",
      " 0.08235679 0.08213107 0.0819111  0.08169664 0.08148746 0.08128332\n",
      " 0.08108402 0.08088937 0.08069918 0.08051329 0.08033152 0.08015372\n",
      " 0.07997975 0.07980946 0.07964273 0.07947943 0.07931944 0.07916265\n",
      " 0.07900895 0.07885824 0.07871041 0.07856538 0.07842306 0.07828336\n",
      " 0.07814619 0.07801148 0.07787916 0.07774915 0.07762139 0.0774958\n",
      " 1.         1.         1.         1.         1.         1.\n",
      " 1.         1.         1.         1.         1.         1.\n",
      " 1.         1.         1.         1.         1.         1.\n",
      " 1.         1.         1.         1.        ]\n"
     ]
    },
    {
     "name": "stderr",
     "output_type": "stream",
     "text": [
      "\n",
      " 79%|███████▉  | 79/100 [10:16<02:03,  5.89s/it]\u001b[A"
     ]
    },
    {
     "name": "stdout",
     "output_type": "stream",
     "text": [
      "[0.2496382  0.17377254 0.14315291 0.12869371 0.12086142 0.11599234\n",
      " 0.1125531  0.10987001 0.10763439 0.10569693 0.10397958 0.10243713\n",
      " 0.10104023 0.09976779 0.09860344 0.09753382 0.09654771 0.09563552\n",
      " 0.09478898 0.09400092 0.09326509 0.09257605 0.09192903 0.09131984\n",
      " 0.09074484 0.09020078 0.08968484 0.08919451 0.08872756 0.08828203\n",
      " 0.08785619 0.08744847 0.08705749 0.08668201 0.08632092 0.08597323\n",
      " 0.08563804 0.08531452 0.08500196 0.08469967 0.08440707 0.08412358\n",
      " 0.08384871 0.08358198 0.08332299 0.08307132 0.08282662 0.08258854\n",
      " 0.08235679 0.08213107 0.0819111  0.08169664 0.08148746 0.08128332\n",
      " 0.08108402 0.08088937 0.08069918 0.08051329 0.08033152 0.08015372\n",
      " 0.07997975 0.07980946 0.07964273 0.07947943 0.07931944 0.07916265\n",
      " 0.07900895 0.07885824 0.07871041 0.07856538 0.07842306 0.07828336\n",
      " 0.07814619 0.07801148 0.07787916 0.07774915 0.07762139 0.0774958\n",
      " 0.07737233 1.         1.         1.         1.         1.\n",
      " 1.         1.         1.         1.         1.         1.\n",
      " 1.         1.         1.         1.         1.         1.\n",
      " 1.         1.         1.         1.        ]\n"
     ]
    },
    {
     "name": "stderr",
     "output_type": "stream",
     "text": [
      "\n",
      " 80%|████████  | 80/100 [10:22<01:56,  5.80s/it]\u001b[A"
     ]
    },
    {
     "name": "stdout",
     "output_type": "stream",
     "text": [
      "[0.2496382  0.17377254 0.14315291 0.12869371 0.12086142 0.11599234\n",
      " 0.1125531  0.10987001 0.10763439 0.10569693 0.10397958 0.10243713\n",
      " 0.10104023 0.09976779 0.09860344 0.09753382 0.09654771 0.09563552\n",
      " 0.09478898 0.09400092 0.09326509 0.09257605 0.09192903 0.09131984\n",
      " 0.09074484 0.09020078 0.08968484 0.08919451 0.08872756 0.08828203\n",
      " 0.08785619 0.08744847 0.08705749 0.08668201 0.08632092 0.08597323\n",
      " 0.08563804 0.08531452 0.08500196 0.08469967 0.08440707 0.08412358\n",
      " 0.08384871 0.08358198 0.08332299 0.08307132 0.08282662 0.08258854\n",
      " 0.08235679 0.08213107 0.0819111  0.08169664 0.08148746 0.08128332\n",
      " 0.08108402 0.08088937 0.08069918 0.08051329 0.08033152 0.08015372\n",
      " 0.07997975 0.07980946 0.07964273 0.07947943 0.07931944 0.07916265\n",
      " 0.07900895 0.07885824 0.07871041 0.07856538 0.07842306 0.07828336\n",
      " 0.07814619 0.07801148 0.07787916 0.07774915 0.07762139 0.0774958\n",
      " 0.07737233 0.0772509  1.         1.         1.         1.\n",
      " 1.         1.         1.         1.         1.         1.\n",
      " 1.         1.         1.         1.         1.         1.\n",
      " 1.         1.         1.         1.        ]\n"
     ]
    },
    {
     "name": "stderr",
     "output_type": "stream",
     "text": [
      "\n",
      " 81%|████████  | 81/100 [10:28<01:54,  6.02s/it]\u001b[A"
     ]
    },
    {
     "name": "stdout",
     "output_type": "stream",
     "text": [
      "[0.2496382  0.17377254 0.14315291 0.12869371 0.12086142 0.11599234\n",
      " 0.1125531  0.10987001 0.10763439 0.10569693 0.10397958 0.10243713\n",
      " 0.10104023 0.09976779 0.09860344 0.09753382 0.09654771 0.09563552\n",
      " 0.09478898 0.09400092 0.09326509 0.09257605 0.09192903 0.09131984\n",
      " 0.09074484 0.09020078 0.08968484 0.08919451 0.08872756 0.08828203\n",
      " 0.08785619 0.08744847 0.08705749 0.08668201 0.08632092 0.08597323\n",
      " 0.08563804 0.08531452 0.08500196 0.08469967 0.08440707 0.08412358\n",
      " 0.08384871 0.08358198 0.08332299 0.08307132 0.08282662 0.08258854\n",
      " 0.08235679 0.08213107 0.0819111  0.08169664 0.08148746 0.08128332\n",
      " 0.08108402 0.08088937 0.08069918 0.08051329 0.08033152 0.08015372\n",
      " 0.07997975 0.07980946 0.07964273 0.07947943 0.07931944 0.07916265\n",
      " 0.07900895 0.07885824 0.07871041 0.07856538 0.07842306 0.07828336\n",
      " 0.07814619 0.07801148 0.07787916 0.07774915 0.07762139 0.0774958\n",
      " 0.07737233 0.0772509  0.07713147 1.         1.         1.\n",
      " 1.         1.         1.         1.         1.         1.\n",
      " 1.         1.         1.         1.         1.         1.\n",
      " 1.         1.         1.         1.        ]\n"
     ]
    },
    {
     "name": "stderr",
     "output_type": "stream",
     "text": [
      "\n",
      " 82%|████████▏ | 82/100 [10:34<01:47,  5.99s/it]\u001b[A"
     ]
    },
    {
     "name": "stdout",
     "output_type": "stream",
     "text": [
      "[0.2496382  0.17377254 0.14315291 0.12869371 0.12086142 0.11599234\n",
      " 0.1125531  0.10987001 0.10763439 0.10569693 0.10397958 0.10243713\n",
      " 0.10104023 0.09976779 0.09860344 0.09753382 0.09654771 0.09563552\n",
      " 0.09478898 0.09400092 0.09326509 0.09257605 0.09192903 0.09131984\n",
      " 0.09074484 0.09020078 0.08968484 0.08919451 0.08872756 0.08828203\n",
      " 0.08785619 0.08744847 0.08705749 0.08668201 0.08632092 0.08597323\n",
      " 0.08563804 0.08531452 0.08500196 0.08469967 0.08440707 0.08412358\n",
      " 0.08384871 0.08358198 0.08332299 0.08307132 0.08282662 0.08258854\n",
      " 0.08235679 0.08213107 0.0819111  0.08169664 0.08148746 0.08128332\n",
      " 0.08108402 0.08088937 0.08069918 0.08051329 0.08033152 0.08015372\n",
      " 0.07997975 0.07980946 0.07964273 0.07947943 0.07931944 0.07916265\n",
      " 0.07900895 0.07885824 0.07871041 0.07856538 0.07842306 0.07828336\n",
      " 0.07814619 0.07801148 0.07787916 0.07774915 0.07762139 0.0774958\n",
      " 0.07737233 0.0772509  0.07713147 0.07701398 1.         1.\n",
      " 1.         1.         1.         1.         1.         1.\n",
      " 1.         1.         1.         1.         1.         1.\n",
      " 1.         1.         1.         1.        ]\n"
     ]
    },
    {
     "name": "stderr",
     "output_type": "stream",
     "text": [
      "\n",
      " 83%|████████▎ | 83/100 [10:40<01:42,  6.01s/it]\u001b[A"
     ]
    },
    {
     "name": "stdout",
     "output_type": "stream",
     "text": [
      "[0.2496382  0.17377254 0.14315291 0.12869371 0.12086142 0.11599234\n",
      " 0.1125531  0.10987001 0.10763439 0.10569693 0.10397958 0.10243713\n",
      " 0.10104023 0.09976779 0.09860344 0.09753382 0.09654771 0.09563552\n",
      " 0.09478898 0.09400092 0.09326509 0.09257605 0.09192903 0.09131984\n",
      " 0.09074484 0.09020078 0.08968484 0.08919451 0.08872756 0.08828203\n",
      " 0.08785619 0.08744847 0.08705749 0.08668201 0.08632092 0.08597323\n",
      " 0.08563804 0.08531452 0.08500196 0.08469967 0.08440707 0.08412358\n",
      " 0.08384871 0.08358198 0.08332299 0.08307132 0.08282662 0.08258854\n",
      " 0.08235679 0.08213107 0.0819111  0.08169664 0.08148746 0.08128332\n",
      " 0.08108402 0.08088937 0.08069918 0.08051329 0.08033152 0.08015372\n",
      " 0.07997975 0.07980946 0.07964273 0.07947943 0.07931944 0.07916265\n",
      " 0.07900895 0.07885824 0.07871041 0.07856538 0.07842306 0.07828336\n",
      " 0.07814619 0.07801148 0.07787916 0.07774915 0.07762139 0.0774958\n",
      " 0.07737233 0.0772509  0.07713147 0.07701398 0.07689837 1.\n",
      " 1.         1.         1.         1.         1.         1.\n",
      " 1.         1.         1.         1.         1.         1.\n",
      " 1.         1.         1.         1.        ]\n"
     ]
    },
    {
     "name": "stderr",
     "output_type": "stream",
     "text": [
      "\n",
      " 84%|████████▍ | 84/100 [10:47<01:41,  6.35s/it]\u001b[A"
     ]
    },
    {
     "name": "stdout",
     "output_type": "stream",
     "text": [
      "[0.2496382  0.17377254 0.14315291 0.12869371 0.12086142 0.11599234\n",
      " 0.1125531  0.10987001 0.10763439 0.10569693 0.10397958 0.10243713\n",
      " 0.10104023 0.09976779 0.09860344 0.09753382 0.09654771 0.09563552\n",
      " 0.09478898 0.09400092 0.09326509 0.09257605 0.09192903 0.09131984\n",
      " 0.09074484 0.09020078 0.08968484 0.08919451 0.08872756 0.08828203\n",
      " 0.08785619 0.08744847 0.08705749 0.08668201 0.08632092 0.08597323\n",
      " 0.08563804 0.08531452 0.08500196 0.08469967 0.08440707 0.08412358\n",
      " 0.08384871 0.08358198 0.08332299 0.08307132 0.08282662 0.08258854\n",
      " 0.08235679 0.08213107 0.0819111  0.08169664 0.08148746 0.08128332\n",
      " 0.08108402 0.08088937 0.08069918 0.08051329 0.08033152 0.08015372\n",
      " 0.07997975 0.07980946 0.07964273 0.07947943 0.07931944 0.07916265\n",
      " 0.07900895 0.07885824 0.07871041 0.07856538 0.07842306 0.07828336\n",
      " 0.07814619 0.07801148 0.07787916 0.07774915 0.07762139 0.0774958\n",
      " 0.07737233 0.0772509  0.07713147 0.07701398 0.07689837 0.07678459\n",
      " 1.         1.         1.         1.         1.         1.\n",
      " 1.         1.         1.         1.         1.         1.\n",
      " 1.         1.         1.         1.        ]\n"
     ]
    },
    {
     "name": "stderr",
     "output_type": "stream",
     "text": [
      "\n",
      " 85%|████████▌ | 85/100 [10:55<01:43,  6.88s/it]\u001b[A"
     ]
    },
    {
     "name": "stdout",
     "output_type": "stream",
     "text": [
      "[0.2496382  0.17377254 0.14315291 0.12869371 0.12086142 0.11599234\n",
      " 0.1125531  0.10987001 0.10763439 0.10569693 0.10397958 0.10243713\n",
      " 0.10104023 0.09976779 0.09860344 0.09753382 0.09654771 0.09563552\n",
      " 0.09478898 0.09400092 0.09326509 0.09257605 0.09192903 0.09131984\n",
      " 0.09074484 0.09020078 0.08968484 0.08919451 0.08872756 0.08828203\n",
      " 0.08785619 0.08744847 0.08705749 0.08668201 0.08632092 0.08597323\n",
      " 0.08563804 0.08531452 0.08500196 0.08469967 0.08440707 0.08412358\n",
      " 0.08384871 0.08358198 0.08332299 0.08307132 0.08282662 0.08258854\n",
      " 0.08235679 0.08213107 0.0819111  0.08169664 0.08148746 0.08128332\n",
      " 0.08108402 0.08088937 0.08069918 0.08051329 0.08033152 0.08015372\n",
      " 0.07997975 0.07980946 0.07964273 0.07947943 0.07931944 0.07916265\n",
      " 0.07900895 0.07885824 0.07871041 0.07856538 0.07842306 0.07828336\n",
      " 0.07814619 0.07801148 0.07787916 0.07774915 0.07762139 0.0774958\n",
      " 0.07737233 0.0772509  0.07713147 0.07701398 0.07689837 0.07678459\n",
      " 0.07667258 1.         1.         1.         1.         1.\n",
      " 1.         1.         1.         1.         1.         1.\n",
      " 1.         1.         1.         1.        ]\n"
     ]
    },
    {
     "name": "stderr",
     "output_type": "stream",
     "text": [
      "\n",
      " 86%|████████▌ | 86/100 [11:01<01:30,  6.47s/it]\u001b[A"
     ]
    },
    {
     "name": "stdout",
     "output_type": "stream",
     "text": [
      "[0.2496382  0.17377254 0.14315291 0.12869371 0.12086142 0.11599234\n",
      " 0.1125531  0.10987001 0.10763439 0.10569693 0.10397958 0.10243713\n",
      " 0.10104023 0.09976779 0.09860344 0.09753382 0.09654771 0.09563552\n",
      " 0.09478898 0.09400092 0.09326509 0.09257605 0.09192903 0.09131984\n",
      " 0.09074484 0.09020078 0.08968484 0.08919451 0.08872756 0.08828203\n",
      " 0.08785619 0.08744847 0.08705749 0.08668201 0.08632092 0.08597323\n",
      " 0.08563804 0.08531452 0.08500196 0.08469967 0.08440707 0.08412358\n",
      " 0.08384871 0.08358198 0.08332299 0.08307132 0.08282662 0.08258854\n",
      " 0.08235679 0.08213107 0.0819111  0.08169664 0.08148746 0.08128332\n",
      " 0.08108402 0.08088937 0.08069918 0.08051329 0.08033152 0.08015372\n",
      " 0.07997975 0.07980946 0.07964273 0.07947943 0.07931944 0.07916265\n",
      " 0.07900895 0.07885824 0.07871041 0.07856538 0.07842306 0.07828336\n",
      " 0.07814619 0.07801148 0.07787916 0.07774915 0.07762139 0.0774958\n",
      " 0.07737233 0.0772509  0.07713147 0.07701398 0.07689837 0.07678459\n",
      " 0.07667258 0.07656231 1.         1.         1.         1.\n",
      " 1.         1.         1.         1.         1.         1.\n",
      " 1.         1.         1.         1.        ]\n"
     ]
    },
    {
     "name": "stderr",
     "output_type": "stream",
     "text": [
      "\n",
      " 87%|████████▋ | 87/100 [11:08<01:25,  6.60s/it]\u001b[A"
     ]
    },
    {
     "name": "stdout",
     "output_type": "stream",
     "text": [
      "[0.2496382  0.17377254 0.14315291 0.12869371 0.12086142 0.11599234\n",
      " 0.1125531  0.10987001 0.10763439 0.10569693 0.10397958 0.10243713\n",
      " 0.10104023 0.09976779 0.09860344 0.09753382 0.09654771 0.09563552\n",
      " 0.09478898 0.09400092 0.09326509 0.09257605 0.09192903 0.09131984\n",
      " 0.09074484 0.09020078 0.08968484 0.08919451 0.08872756 0.08828203\n",
      " 0.08785619 0.08744847 0.08705749 0.08668201 0.08632092 0.08597323\n",
      " 0.08563804 0.08531452 0.08500196 0.08469967 0.08440707 0.08412358\n",
      " 0.08384871 0.08358198 0.08332299 0.08307132 0.08282662 0.08258854\n",
      " 0.08235679 0.08213107 0.0819111  0.08169664 0.08148746 0.08128332\n",
      " 0.08108402 0.08088937 0.08069918 0.08051329 0.08033152 0.08015372\n",
      " 0.07997975 0.07980946 0.07964273 0.07947943 0.07931944 0.07916265\n",
      " 0.07900895 0.07885824 0.07871041 0.07856538 0.07842306 0.07828336\n",
      " 0.07814619 0.07801148 0.07787916 0.07774915 0.07762139 0.0774958\n",
      " 0.07737233 0.0772509  0.07713147 0.07701398 0.07689837 0.07678459\n",
      " 0.07667258 0.07656231 0.07645373 1.         1.         1.\n",
      " 1.         1.         1.         1.         1.         1.\n",
      " 1.         1.         1.         1.        ]\n"
     ]
    },
    {
     "name": "stderr",
     "output_type": "stream",
     "text": [
      "\n",
      " 88%|████████▊ | 88/100 [11:13<01:14,  6.18s/it]\u001b[A"
     ]
    },
    {
     "name": "stdout",
     "output_type": "stream",
     "text": [
      "[0.2496382  0.17377254 0.14315291 0.12869371 0.12086142 0.11599234\n",
      " 0.1125531  0.10987001 0.10763439 0.10569693 0.10397958 0.10243713\n",
      " 0.10104023 0.09976779 0.09860344 0.09753382 0.09654771 0.09563552\n",
      " 0.09478898 0.09400092 0.09326509 0.09257605 0.09192903 0.09131984\n",
      " 0.09074484 0.09020078 0.08968484 0.08919451 0.08872756 0.08828203\n",
      " 0.08785619 0.08744847 0.08705749 0.08668201 0.08632092 0.08597323\n",
      " 0.08563804 0.08531452 0.08500196 0.08469967 0.08440707 0.08412358\n",
      " 0.08384871 0.08358198 0.08332299 0.08307132 0.08282662 0.08258854\n",
      " 0.08235679 0.08213107 0.0819111  0.08169664 0.08148746 0.08128332\n",
      " 0.08108402 0.08088937 0.08069918 0.08051329 0.08033152 0.08015372\n",
      " 0.07997975 0.07980946 0.07964273 0.07947943 0.07931944 0.07916265\n",
      " 0.07900895 0.07885824 0.07871041 0.07856538 0.07842306 0.07828336\n",
      " 0.07814619 0.07801148 0.07787916 0.07774915 0.07762139 0.0774958\n",
      " 0.07737233 0.0772509  0.07713147 0.07701398 0.07689837 0.07678459\n",
      " 0.07667258 0.07656231 0.07645373 0.07634678 1.         1.\n",
      " 1.         1.         1.         1.         1.         1.\n",
      " 1.         1.         1.         1.        ]\n"
     ]
    },
    {
     "name": "stderr",
     "output_type": "stream",
     "text": [
      "\n",
      " 89%|████████▉ | 89/100 [11:18<01:04,  5.90s/it]\u001b[A"
     ]
    },
    {
     "name": "stdout",
     "output_type": "stream",
     "text": [
      "[0.2496382  0.17377254 0.14315291 0.12869371 0.12086142 0.11599234\n",
      " 0.1125531  0.10987001 0.10763439 0.10569693 0.10397958 0.10243713\n",
      " 0.10104023 0.09976779 0.09860344 0.09753382 0.09654771 0.09563552\n",
      " 0.09478898 0.09400092 0.09326509 0.09257605 0.09192903 0.09131984\n",
      " 0.09074484 0.09020078 0.08968484 0.08919451 0.08872756 0.08828203\n",
      " 0.08785619 0.08744847 0.08705749 0.08668201 0.08632092 0.08597323\n",
      " 0.08563804 0.08531452 0.08500196 0.08469967 0.08440707 0.08412358\n",
      " 0.08384871 0.08358198 0.08332299 0.08307132 0.08282662 0.08258854\n",
      " 0.08235679 0.08213107 0.0819111  0.08169664 0.08148746 0.08128332\n",
      " 0.08108402 0.08088937 0.08069918 0.08051329 0.08033152 0.08015372\n",
      " 0.07997975 0.07980946 0.07964273 0.07947943 0.07931944 0.07916265\n",
      " 0.07900895 0.07885824 0.07871041 0.07856538 0.07842306 0.07828336\n",
      " 0.07814619 0.07801148 0.07787916 0.07774915 0.07762139 0.0774958\n",
      " 0.07737233 0.0772509  0.07713147 0.07701398 0.07689837 0.07678459\n",
      " 0.07667258 0.07656231 0.07645373 0.07634678 0.07624143 1.\n",
      " 1.         1.         1.         1.         1.         1.\n",
      " 1.         1.         1.         1.        ]\n"
     ]
    },
    {
     "name": "stderr",
     "output_type": "stream",
     "text": [
      "\n",
      " 90%|█████████ | 90/100 [11:25<01:00,  6.02s/it]\u001b[A"
     ]
    },
    {
     "name": "stdout",
     "output_type": "stream",
     "text": [
      "[0.2496382  0.17377254 0.14315291 0.12869371 0.12086142 0.11599234\n",
      " 0.1125531  0.10987001 0.10763439 0.10569693 0.10397958 0.10243713\n",
      " 0.10104023 0.09976779 0.09860344 0.09753382 0.09654771 0.09563552\n",
      " 0.09478898 0.09400092 0.09326509 0.09257605 0.09192903 0.09131984\n",
      " 0.09074484 0.09020078 0.08968484 0.08919451 0.08872756 0.08828203\n",
      " 0.08785619 0.08744847 0.08705749 0.08668201 0.08632092 0.08597323\n",
      " 0.08563804 0.08531452 0.08500196 0.08469967 0.08440707 0.08412358\n",
      " 0.08384871 0.08358198 0.08332299 0.08307132 0.08282662 0.08258854\n",
      " 0.08235679 0.08213107 0.0819111  0.08169664 0.08148746 0.08128332\n",
      " 0.08108402 0.08088937 0.08069918 0.08051329 0.08033152 0.08015372\n",
      " 0.07997975 0.07980946 0.07964273 0.07947943 0.07931944 0.07916265\n",
      " 0.07900895 0.07885824 0.07871041 0.07856538 0.07842306 0.07828336\n",
      " 0.07814619 0.07801148 0.07787916 0.07774915 0.07762139 0.0774958\n",
      " 0.07737233 0.0772509  0.07713147 0.07701398 0.07689837 0.07678459\n",
      " 0.07667258 0.07656231 0.07645373 0.07634678 0.07624143 0.07613763\n",
      " 1.         1.         1.         1.         1.         1.\n",
      " 1.         1.         1.         1.        ]\n"
     ]
    },
    {
     "name": "stderr",
     "output_type": "stream",
     "text": [
      "\n",
      " 91%|█████████ | 91/100 [11:30<00:53,  5.97s/it]\u001b[A"
     ]
    },
    {
     "name": "stdout",
     "output_type": "stream",
     "text": [
      "[0.2496382  0.17377254 0.14315291 0.12869371 0.12086142 0.11599234\n",
      " 0.1125531  0.10987001 0.10763439 0.10569693 0.10397958 0.10243713\n",
      " 0.10104023 0.09976779 0.09860344 0.09753382 0.09654771 0.09563552\n",
      " 0.09478898 0.09400092 0.09326509 0.09257605 0.09192903 0.09131984\n",
      " 0.09074484 0.09020078 0.08968484 0.08919451 0.08872756 0.08828203\n",
      " 0.08785619 0.08744847 0.08705749 0.08668201 0.08632092 0.08597323\n",
      " 0.08563804 0.08531452 0.08500196 0.08469967 0.08440707 0.08412358\n",
      " 0.08384871 0.08358198 0.08332299 0.08307132 0.08282662 0.08258854\n",
      " 0.08235679 0.08213107 0.0819111  0.08169664 0.08148746 0.08128332\n",
      " 0.08108402 0.08088937 0.08069918 0.08051329 0.08033152 0.08015372\n",
      " 0.07997975 0.07980946 0.07964273 0.07947943 0.07931944 0.07916265\n",
      " 0.07900895 0.07885824 0.07871041 0.07856538 0.07842306 0.07828336\n",
      " 0.07814619 0.07801148 0.07787916 0.07774915 0.07762139 0.0774958\n",
      " 0.07737233 0.0772509  0.07713147 0.07701398 0.07689837 0.07678459\n",
      " 0.07667258 0.07656231 0.07645373 0.07634678 0.07624143 0.07613763\n",
      " 0.07603534 1.         1.         1.         1.         1.\n",
      " 1.         1.         1.         1.        ]\n"
     ]
    },
    {
     "name": "stderr",
     "output_type": "stream",
     "text": [
      "\n",
      " 92%|█████████▏| 92/100 [11:37<00:48,  6.04s/it]\u001b[A"
     ]
    },
    {
     "name": "stdout",
     "output_type": "stream",
     "text": [
      "[0.2496382  0.17377254 0.14315291 0.12869371 0.12086142 0.11599234\n",
      " 0.1125531  0.10987001 0.10763439 0.10569693 0.10397958 0.10243713\n",
      " 0.10104023 0.09976779 0.09860344 0.09753382 0.09654771 0.09563552\n",
      " 0.09478898 0.09400092 0.09326509 0.09257605 0.09192903 0.09131984\n",
      " 0.09074484 0.09020078 0.08968484 0.08919451 0.08872756 0.08828203\n",
      " 0.08785619 0.08744847 0.08705749 0.08668201 0.08632092 0.08597323\n",
      " 0.08563804 0.08531452 0.08500196 0.08469967 0.08440707 0.08412358\n",
      " 0.08384871 0.08358198 0.08332299 0.08307132 0.08282662 0.08258854\n",
      " 0.08235679 0.08213107 0.0819111  0.08169664 0.08148746 0.08128332\n",
      " 0.08108402 0.08088937 0.08069918 0.08051329 0.08033152 0.08015372\n",
      " 0.07997975 0.07980946 0.07964273 0.07947943 0.07931944 0.07916265\n",
      " 0.07900895 0.07885824 0.07871041 0.07856538 0.07842306 0.07828336\n",
      " 0.07814619 0.07801148 0.07787916 0.07774915 0.07762139 0.0774958\n",
      " 0.07737233 0.0772509  0.07713147 0.07701398 0.07689837 0.07678459\n",
      " 0.07667258 0.07656231 0.07645373 0.07634678 0.07624143 0.07613763\n",
      " 0.07603534 0.07593453 1.         1.         1.         1.\n",
      " 1.         1.         1.         1.        ]\n"
     ]
    },
    {
     "name": "stderr",
     "output_type": "stream",
     "text": [
      "\n",
      " 93%|█████████▎| 93/100 [11:44<00:44,  6.42s/it]\u001b[A"
     ]
    },
    {
     "name": "stdout",
     "output_type": "stream",
     "text": [
      "[0.2496382  0.17377254 0.14315291 0.12869371 0.12086142 0.11599234\n",
      " 0.1125531  0.10987001 0.10763439 0.10569693 0.10397958 0.10243713\n",
      " 0.10104023 0.09976779 0.09860344 0.09753382 0.09654771 0.09563552\n",
      " 0.09478898 0.09400092 0.09326509 0.09257605 0.09192903 0.09131984\n",
      " 0.09074484 0.09020078 0.08968484 0.08919451 0.08872756 0.08828203\n",
      " 0.08785619 0.08744847 0.08705749 0.08668201 0.08632092 0.08597323\n",
      " 0.08563804 0.08531452 0.08500196 0.08469967 0.08440707 0.08412358\n",
      " 0.08384871 0.08358198 0.08332299 0.08307132 0.08282662 0.08258854\n",
      " 0.08235679 0.08213107 0.0819111  0.08169664 0.08148746 0.08128332\n",
      " 0.08108402 0.08088937 0.08069918 0.08051329 0.08033152 0.08015372\n",
      " 0.07997975 0.07980946 0.07964273 0.07947943 0.07931944 0.07916265\n",
      " 0.07900895 0.07885824 0.07871041 0.07856538 0.07842306 0.07828336\n",
      " 0.07814619 0.07801148 0.07787916 0.07774915 0.07762139 0.0774958\n",
      " 0.07737233 0.0772509  0.07713147 0.07701398 0.07689837 0.07678459\n",
      " 0.07667258 0.07656231 0.07645373 0.07634678 0.07624143 0.07613763\n",
      " 0.07603534 0.07593453 0.07583516 1.         1.         1.\n",
      " 1.         1.         1.         1.        ]\n"
     ]
    },
    {
     "name": "stderr",
     "output_type": "stream",
     "text": [
      "\n",
      " 94%|█████████▍| 94/100 [11:50<00:37,  6.21s/it]\u001b[A"
     ]
    },
    {
     "name": "stdout",
     "output_type": "stream",
     "text": [
      "[0.2496382  0.17377254 0.14315291 0.12869371 0.12086142 0.11599234\n",
      " 0.1125531  0.10987001 0.10763439 0.10569693 0.10397958 0.10243713\n",
      " 0.10104023 0.09976779 0.09860344 0.09753382 0.09654771 0.09563552\n",
      " 0.09478898 0.09400092 0.09326509 0.09257605 0.09192903 0.09131984\n",
      " 0.09074484 0.09020078 0.08968484 0.08919451 0.08872756 0.08828203\n",
      " 0.08785619 0.08744847 0.08705749 0.08668201 0.08632092 0.08597323\n",
      " 0.08563804 0.08531452 0.08500196 0.08469967 0.08440707 0.08412358\n",
      " 0.08384871 0.08358198 0.08332299 0.08307132 0.08282662 0.08258854\n",
      " 0.08235679 0.08213107 0.0819111  0.08169664 0.08148746 0.08128332\n",
      " 0.08108402 0.08088937 0.08069918 0.08051329 0.08033152 0.08015372\n",
      " 0.07997975 0.07980946 0.07964273 0.07947943 0.07931944 0.07916265\n",
      " 0.07900895 0.07885824 0.07871041 0.07856538 0.07842306 0.07828336\n",
      " 0.07814619 0.07801148 0.07787916 0.07774915 0.07762139 0.0774958\n",
      " 0.07737233 0.0772509  0.07713147 0.07701398 0.07689837 0.07678459\n",
      " 0.07667258 0.07656231 0.07645373 0.07634678 0.07624143 0.07613763\n",
      " 0.07603534 0.07593453 0.07583516 0.07573719 1.         1.\n",
      " 1.         1.         1.         1.        ]\n"
     ]
    },
    {
     "name": "stderr",
     "output_type": "stream",
     "text": [
      "\n",
      " 95%|█████████▌| 95/100 [11:55<00:30,  6.01s/it]\u001b[A"
     ]
    },
    {
     "name": "stdout",
     "output_type": "stream",
     "text": [
      "[0.2496382  0.17377254 0.14315291 0.12869371 0.12086142 0.11599234\n",
      " 0.1125531  0.10987001 0.10763439 0.10569693 0.10397958 0.10243713\n",
      " 0.10104023 0.09976779 0.09860344 0.09753382 0.09654771 0.09563552\n",
      " 0.09478898 0.09400092 0.09326509 0.09257605 0.09192903 0.09131984\n",
      " 0.09074484 0.09020078 0.08968484 0.08919451 0.08872756 0.08828203\n",
      " 0.08785619 0.08744847 0.08705749 0.08668201 0.08632092 0.08597323\n",
      " 0.08563804 0.08531452 0.08500196 0.08469967 0.08440707 0.08412358\n",
      " 0.08384871 0.08358198 0.08332299 0.08307132 0.08282662 0.08258854\n",
      " 0.08235679 0.08213107 0.0819111  0.08169664 0.08148746 0.08128332\n",
      " 0.08108402 0.08088937 0.08069918 0.08051329 0.08033152 0.08015372\n",
      " 0.07997975 0.07980946 0.07964273 0.07947943 0.07931944 0.07916265\n",
      " 0.07900895 0.07885824 0.07871041 0.07856538 0.07842306 0.07828336\n",
      " 0.07814619 0.07801148 0.07787916 0.07774915 0.07762139 0.0774958\n",
      " 0.07737233 0.0772509  0.07713147 0.07701398 0.07689837 0.07678459\n",
      " 0.07667258 0.07656231 0.07645373 0.07634678 0.07624143 0.07613763\n",
      " 0.07603534 0.07593453 0.07583516 0.07573719 0.07564058 1.\n",
      " 1.         1.         1.         1.        ]\n"
     ]
    },
    {
     "name": "stderr",
     "output_type": "stream",
     "text": [
      "\n",
      " 96%|█████████▌| 96/100 [12:01<00:23,  5.90s/it]\u001b[A"
     ]
    },
    {
     "name": "stdout",
     "output_type": "stream",
     "text": [
      "[0.2496382  0.17377254 0.14315291 0.12869371 0.12086142 0.11599234\n",
      " 0.1125531  0.10987001 0.10763439 0.10569693 0.10397958 0.10243713\n",
      " 0.10104023 0.09976779 0.09860344 0.09753382 0.09654771 0.09563552\n",
      " 0.09478898 0.09400092 0.09326509 0.09257605 0.09192903 0.09131984\n",
      " 0.09074484 0.09020078 0.08968484 0.08919451 0.08872756 0.08828203\n",
      " 0.08785619 0.08744847 0.08705749 0.08668201 0.08632092 0.08597323\n",
      " 0.08563804 0.08531452 0.08500196 0.08469967 0.08440707 0.08412358\n",
      " 0.08384871 0.08358198 0.08332299 0.08307132 0.08282662 0.08258854\n",
      " 0.08235679 0.08213107 0.0819111  0.08169664 0.08148746 0.08128332\n",
      " 0.08108402 0.08088937 0.08069918 0.08051329 0.08033152 0.08015372\n",
      " 0.07997975 0.07980946 0.07964273 0.07947943 0.07931944 0.07916265\n",
      " 0.07900895 0.07885824 0.07871041 0.07856538 0.07842306 0.07828336\n",
      " 0.07814619 0.07801148 0.07787916 0.07774915 0.07762139 0.0774958\n",
      " 0.07737233 0.0772509  0.07713147 0.07701398 0.07689837 0.07678459\n",
      " 0.07667258 0.07656231 0.07645373 0.07634678 0.07624143 0.07613763\n",
      " 0.07603534 0.07593453 0.07583516 0.07573719 0.07564058 0.0755453\n",
      " 1.         1.         1.         1.        ]\n"
     ]
    },
    {
     "name": "stderr",
     "output_type": "stream",
     "text": [
      "\n",
      " 97%|█████████▋| 97/100 [12:07<00:17,  5.84s/it]\u001b[A"
     ]
    },
    {
     "name": "stdout",
     "output_type": "stream",
     "text": [
      "[0.2496382  0.17377254 0.14315291 0.12869371 0.12086142 0.11599234\n",
      " 0.1125531  0.10987001 0.10763439 0.10569693 0.10397958 0.10243713\n",
      " 0.10104023 0.09976779 0.09860344 0.09753382 0.09654771 0.09563552\n",
      " 0.09478898 0.09400092 0.09326509 0.09257605 0.09192903 0.09131984\n",
      " 0.09074484 0.09020078 0.08968484 0.08919451 0.08872756 0.08828203\n",
      " 0.08785619 0.08744847 0.08705749 0.08668201 0.08632092 0.08597323\n",
      " 0.08563804 0.08531452 0.08500196 0.08469967 0.08440707 0.08412358\n",
      " 0.08384871 0.08358198 0.08332299 0.08307132 0.08282662 0.08258854\n",
      " 0.08235679 0.08213107 0.0819111  0.08169664 0.08148746 0.08128332\n",
      " 0.08108402 0.08088937 0.08069918 0.08051329 0.08033152 0.08015372\n",
      " 0.07997975 0.07980946 0.07964273 0.07947943 0.07931944 0.07916265\n",
      " 0.07900895 0.07885824 0.07871041 0.07856538 0.07842306 0.07828336\n",
      " 0.07814619 0.07801148 0.07787916 0.07774915 0.07762139 0.0774958\n",
      " 0.07737233 0.0772509  0.07713147 0.07701398 0.07689837 0.07678459\n",
      " 0.07667258 0.07656231 0.07645373 0.07634678 0.07624143 0.07613763\n",
      " 0.07603534 0.07593453 0.07583516 0.07573719 0.07564058 0.0755453\n",
      " 0.07545133 1.         1.         1.        ]\n"
     ]
    },
    {
     "name": "stderr",
     "output_type": "stream",
     "text": [
      "\n",
      " 98%|█████████▊| 98/100 [12:12<00:11,  5.80s/it]\u001b[A"
     ]
    },
    {
     "name": "stdout",
     "output_type": "stream",
     "text": [
      "[0.2496382  0.17377254 0.14315291 0.12869371 0.12086142 0.11599234\n",
      " 0.1125531  0.10987001 0.10763439 0.10569693 0.10397958 0.10243713\n",
      " 0.10104023 0.09976779 0.09860344 0.09753382 0.09654771 0.09563552\n",
      " 0.09478898 0.09400092 0.09326509 0.09257605 0.09192903 0.09131984\n",
      " 0.09074484 0.09020078 0.08968484 0.08919451 0.08872756 0.08828203\n",
      " 0.08785619 0.08744847 0.08705749 0.08668201 0.08632092 0.08597323\n",
      " 0.08563804 0.08531452 0.08500196 0.08469967 0.08440707 0.08412358\n",
      " 0.08384871 0.08358198 0.08332299 0.08307132 0.08282662 0.08258854\n",
      " 0.08235679 0.08213107 0.0819111  0.08169664 0.08148746 0.08128332\n",
      " 0.08108402 0.08088937 0.08069918 0.08051329 0.08033152 0.08015372\n",
      " 0.07997975 0.07980946 0.07964273 0.07947943 0.07931944 0.07916265\n",
      " 0.07900895 0.07885824 0.07871041 0.07856538 0.07842306 0.07828336\n",
      " 0.07814619 0.07801148 0.07787916 0.07774915 0.07762139 0.0774958\n",
      " 0.07737233 0.0772509  0.07713147 0.07701398 0.07689837 0.07678459\n",
      " 0.07667258 0.07656231 0.07645373 0.07634678 0.07624143 0.07613763\n",
      " 0.07603534 0.07593453 0.07583516 0.07573719 0.07564058 0.0755453\n",
      " 0.07545133 0.07535861 1.         1.        ]\n"
     ]
    },
    {
     "name": "stderr",
     "output_type": "stream",
     "text": [
      "\n",
      " 99%|█████████▉| 99/100 [12:19<00:06,  6.13s/it]\u001b[A"
     ]
    },
    {
     "name": "stdout",
     "output_type": "stream",
     "text": [
      "[0.2496382  0.17377254 0.14315291 0.12869371 0.12086142 0.11599234\n",
      " 0.1125531  0.10987001 0.10763439 0.10569693 0.10397958 0.10243713\n",
      " 0.10104023 0.09976779 0.09860344 0.09753382 0.09654771 0.09563552\n",
      " 0.09478898 0.09400092 0.09326509 0.09257605 0.09192903 0.09131984\n",
      " 0.09074484 0.09020078 0.08968484 0.08919451 0.08872756 0.08828203\n",
      " 0.08785619 0.08744847 0.08705749 0.08668201 0.08632092 0.08597323\n",
      " 0.08563804 0.08531452 0.08500196 0.08469967 0.08440707 0.08412358\n",
      " 0.08384871 0.08358198 0.08332299 0.08307132 0.08282662 0.08258854\n",
      " 0.08235679 0.08213107 0.0819111  0.08169664 0.08148746 0.08128332\n",
      " 0.08108402 0.08088937 0.08069918 0.08051329 0.08033152 0.08015372\n",
      " 0.07997975 0.07980946 0.07964273 0.07947943 0.07931944 0.07916265\n",
      " 0.07900895 0.07885824 0.07871041 0.07856538 0.07842306 0.07828336\n",
      " 0.07814619 0.07801148 0.07787916 0.07774915 0.07762139 0.0774958\n",
      " 0.07737233 0.0772509  0.07713147 0.07701398 0.07689837 0.07678459\n",
      " 0.07667258 0.07656231 0.07645373 0.07634678 0.07624143 0.07613763\n",
      " 0.07603534 0.07593453 0.07583516 0.07573719 0.07564058 0.0755453\n",
      " 0.07545133 0.07535861 0.07526714 1.        ]\n"
     ]
    },
    {
     "name": "stderr",
     "output_type": "stream",
     "text": [
      "\n",
      "100%|██████████| 100/100 [12:25<00:00,  6.07s/it]\u001b[A"
     ]
    },
    {
     "name": "stdout",
     "output_type": "stream",
     "text": [
      "[0.2496382  0.17377254 0.14315291 0.12869371 0.12086142 0.11599234\n",
      " 0.1125531  0.10987001 0.10763439 0.10569693 0.10397958 0.10243713\n",
      " 0.10104023 0.09976779 0.09860344 0.09753382 0.09654771 0.09563552\n",
      " 0.09478898 0.09400092 0.09326509 0.09257605 0.09192903 0.09131984\n",
      " 0.09074484 0.09020078 0.08968484 0.08919451 0.08872756 0.08828203\n",
      " 0.08785619 0.08744847 0.08705749 0.08668201 0.08632092 0.08597323\n",
      " 0.08563804 0.08531452 0.08500196 0.08469967 0.08440707 0.08412358\n",
      " 0.08384871 0.08358198 0.08332299 0.08307132 0.08282662 0.08258854\n",
      " 0.08235679 0.08213107 0.0819111  0.08169664 0.08148746 0.08128332\n",
      " 0.08108402 0.08088937 0.08069918 0.08051329 0.08033152 0.08015372\n",
      " 0.07997975 0.07980946 0.07964273 0.07947943 0.07931944 0.07916265\n",
      " 0.07900895 0.07885824 0.07871041 0.07856538 0.07842306 0.07828336\n",
      " 0.07814619 0.07801148 0.07787916 0.07774915 0.07762139 0.0774958\n",
      " 0.07737233 0.0772509  0.07713147 0.07701398 0.07689837 0.07678459\n",
      " 0.07667258 0.07656231 0.07645373 0.07634678 0.07624143 0.07613763\n",
      " 0.07603534 0.07593453 0.07583516 0.07573719 0.07564058 0.0755453\n",
      " 0.07545133 0.07535861 0.07526714 0.07517687]\n"
     ]
    }
   ],
   "source": [
    "X_new = X[:,mask]\n",
    "print(X_new.shape)\n",
    "theta, cost = linear_regression(X_new, y[:, 0], alpha, iterations)"
   ]
  },
  {
   "cell_type": "code",
   "execution_count": 29,
   "metadata": {
    "scrolled": true
   },
   "outputs": [],
   "source": [
    "X_1 = np.concatenate((np.ones((X_new.shape[0], 1)), X_new), axis = 1)\n",
    "y_res = np.dot(theta, X_1.T) * y_train.std() + y_train.mean()"
   ]
  },
  {
   "cell_type": "code",
   "execution_count": 30,
   "metadata": {
    "scrolled": true
   },
   "outputs": [
    {
     "data": {
      "text/plain": [
       "-3.4711003279049812"
      ]
     },
     "execution_count": 30,
     "metadata": {},
     "output_type": "execute_result"
    }
   ],
   "source": [
    "r2_score(y_train[:,0].flatten(), y_res.flatten())"
   ]
  },
  {
   "cell_type": "code",
   "execution_count": 31,
   "metadata": {},
   "outputs": [
    {
     "data": {
      "text/plain": [
       "array([66.03356391, 64.33293617, 65.05705263, ..., 66.69073171,\n",
       "       70.96508235, 66.93831111])"
      ]
     },
     "execution_count": 31,
     "metadata": {},
     "output_type": "execute_result"
    }
   ],
   "source": [
    "y_train[:, 0]"
   ]
  },
  {
   "cell_type": "code",
   "execution_count": 32,
   "metadata": {},
   "outputs": [
    {
     "data": {
      "text/plain": [
       "array([[66.18736117, 59.10328165, 57.13540076, ..., 64.46899946,\n",
       "        57.03745335, 65.93660771]])"
      ]
     },
     "execution_count": 32,
     "metadata": {},
     "output_type": "execute_result"
    }
   ],
   "source": [
    "y_res"
   ]
  },
  {
   "cell_type": "code",
   "execution_count": 36,
   "metadata": {},
   "outputs": [
    {
     "data": {
      "text/plain": [
       "array([[374444.63350178]])"
      ]
     },
     "execution_count": 36,
     "metadata": {},
     "output_type": "execute_result"
    }
   ],
   "source": [
    "l = y_res - y_train[:,0]\n",
    "np.dot(l,l.T)"
   ]
  },
  {
   "cell_type": "code",
   "execution_count": 129,
   "metadata": {},
   "outputs": [],
   "source": [
    "def get_predictor(X, y, iterations,feature):\n",
    "    alpha = 0.001\n",
    "    info = {\"id\": [], \"correlation\": []}\n",
    "    for i in range(X.shape[1]):\n",
    "        info[\"id\"].append(i)\n",
    "        info[\"correlation\"].append(pearsonr(X[:,i], y[:,feature])[0])\n",
    "    info = pd.DataFrame(info).sort_values(by=[\"correlation\"], ascending=False) \n",
    "    mask = info[(info[\"correlation\"] > 0.05)][\"id\"].values\n",
    "    X_new = X[:,mask]\n",
    "    \n",
    "    theta, cost = linear_regression(X_new, y[:, feature], alpha, iterations)\n",
    "    return mask, theta\n",
    "#     def f(X):\n",
    "#         X_1 = np.concatenate((np.ones((X[:,m].shape[0], 1)), X[:,m]), axis = 1)\n",
    "#         y_res = np.dot(theta, X_1.T) * y_train.std() + y_train.mean()\n",
    "#         return y_res\n",
    "#     return f\n",
    "        "
   ]
  },
  {
   "cell_type": "code",
   "execution_count": 130,
   "metadata": {
    "scrolled": true
   },
   "outputs": [
    {
     "name": "stderr",
     "output_type": "stream",
     "text": [
      "\r",
      "  0%|          | 0/100 [00:00<?, ?it/s]"
     ]
    },
    {
     "name": "stdout",
     "output_type": "stream",
     "text": [
      "(7049, 2020) (7049, 1)\n"
     ]
    },
    {
     "name": "stderr",
     "output_type": "stream",
     "text": [
      "\r",
      "  1%|          | 1/100 [00:02<04:00,  2.43s/it]"
     ]
    },
    {
     "name": "stdout",
     "output_type": "stream",
     "text": [
      "[1.05951471 1.         1.         1.         1.         1.\n",
      " 1.         1.         1.         1.         1.         1.\n",
      " 1.         1.         1.         1.         1.         1.\n",
      " 1.         1.         1.         1.         1.         1.\n",
      " 1.         1.         1.         1.         1.         1.\n",
      " 1.         1.         1.         1.         1.         1.\n",
      " 1.         1.         1.         1.         1.         1.\n",
      " 1.         1.         1.         1.         1.         1.\n",
      " 1.         1.         1.         1.         1.         1.\n",
      " 1.         1.         1.         1.         1.         1.\n",
      " 1.         1.         1.         1.         1.         1.\n",
      " 1.         1.         1.         1.         1.         1.\n",
      " 1.         1.         1.         1.         1.         1.\n",
      " 1.         1.         1.         1.         1.         1.\n",
      " 1.         1.         1.         1.         1.         1.\n",
      " 1.         1.         1.         1.         1.         1.\n",
      " 1.         1.         1.         1.        ]\n"
     ]
    },
    {
     "name": "stderr",
     "output_type": "stream",
     "text": [
      "\r",
      "  2%|▏         | 2/100 [00:04<03:50,  2.36s/it]"
     ]
    },
    {
     "name": "stdout",
     "output_type": "stream",
     "text": [
      "[1.05951471 0.92956733 1.         1.         1.         1.\n",
      " 1.         1.         1.         1.         1.         1.\n",
      " 1.         1.         1.         1.         1.         1.\n",
      " 1.         1.         1.         1.         1.         1.\n",
      " 1.         1.         1.         1.         1.         1.\n",
      " 1.         1.         1.         1.         1.         1.\n",
      " 1.         1.         1.         1.         1.         1.\n",
      " 1.         1.         1.         1.         1.         1.\n",
      " 1.         1.         1.         1.         1.         1.\n",
      " 1.         1.         1.         1.         1.         1.\n",
      " 1.         1.         1.         1.         1.         1.\n",
      " 1.         1.         1.         1.         1.         1.\n",
      " 1.         1.         1.         1.         1.         1.\n",
      " 1.         1.         1.         1.         1.         1.\n",
      " 1.         1.         1.         1.         1.         1.\n",
      " 1.         1.         1.         1.         1.         1.\n",
      " 1.         1.         1.         1.        ]\n"
     ]
    },
    {
     "name": "stderr",
     "output_type": "stream",
     "text": [
      "\r",
      "  3%|▎         | 3/100 [00:06<03:45,  2.33s/it]"
     ]
    },
    {
     "name": "stdout",
     "output_type": "stream",
     "text": [
      "[1.05951471 0.92956733 0.84043005 1.         1.         1.\n",
      " 1.         1.         1.         1.         1.         1.\n",
      " 1.         1.         1.         1.         1.         1.\n",
      " 1.         1.         1.         1.         1.         1.\n",
      " 1.         1.         1.         1.         1.         1.\n",
      " 1.         1.         1.         1.         1.         1.\n",
      " 1.         1.         1.         1.         1.         1.\n",
      " 1.         1.         1.         1.         1.         1.\n",
      " 1.         1.         1.         1.         1.         1.\n",
      " 1.         1.         1.         1.         1.         1.\n",
      " 1.         1.         1.         1.         1.         1.\n",
      " 1.         1.         1.         1.         1.         1.\n",
      " 1.         1.         1.         1.         1.         1.\n",
      " 1.         1.         1.         1.         1.         1.\n",
      " 1.         1.         1.         1.         1.         1.\n",
      " 1.         1.         1.         1.         1.         1.\n",
      " 1.         1.         1.         1.        ]\n"
     ]
    },
    {
     "name": "stderr",
     "output_type": "stream",
     "text": [
      "\r",
      "  4%|▍         | 4/100 [00:09<03:41,  2.31s/it]"
     ]
    },
    {
     "name": "stdout",
     "output_type": "stream",
     "text": [
      "[1.05951471 0.92956733 0.84043005 0.77645218 1.         1.\n",
      " 1.         1.         1.         1.         1.         1.\n",
      " 1.         1.         1.         1.         1.         1.\n",
      " 1.         1.         1.         1.         1.         1.\n",
      " 1.         1.         1.         1.         1.         1.\n",
      " 1.         1.         1.         1.         1.         1.\n",
      " 1.         1.         1.         1.         1.         1.\n",
      " 1.         1.         1.         1.         1.         1.\n",
      " 1.         1.         1.         1.         1.         1.\n",
      " 1.         1.         1.         1.         1.         1.\n",
      " 1.         1.         1.         1.         1.         1.\n",
      " 1.         1.         1.         1.         1.         1.\n",
      " 1.         1.         1.         1.         1.         1.\n",
      " 1.         1.         1.         1.         1.         1.\n",
      " 1.         1.         1.         1.         1.         1.\n",
      " 1.         1.         1.         1.         1.         1.\n",
      " 1.         1.         1.         1.        ]\n"
     ]
    },
    {
     "name": "stderr",
     "output_type": "stream",
     "text": [
      "\r",
      "  5%|▌         | 5/100 [00:11<03:40,  2.32s/it]"
     ]
    },
    {
     "name": "stdout",
     "output_type": "stream",
     "text": [
      "[1.05951471 0.92956733 0.84043005 0.77645218 0.72867509 1.\n",
      " 1.         1.         1.         1.         1.         1.\n",
      " 1.         1.         1.         1.         1.         1.\n",
      " 1.         1.         1.         1.         1.         1.\n",
      " 1.         1.         1.         1.         1.         1.\n",
      " 1.         1.         1.         1.         1.         1.\n",
      " 1.         1.         1.         1.         1.         1.\n",
      " 1.         1.         1.         1.         1.         1.\n",
      " 1.         1.         1.         1.         1.         1.\n",
      " 1.         1.         1.         1.         1.         1.\n",
      " 1.         1.         1.         1.         1.         1.\n",
      " 1.         1.         1.         1.         1.         1.\n",
      " 1.         1.         1.         1.         1.         1.\n",
      " 1.         1.         1.         1.         1.         1.\n",
      " 1.         1.         1.         1.         1.         1.\n",
      " 1.         1.         1.         1.         1.         1.\n",
      " 1.         1.         1.         1.        ]\n"
     ]
    },
    {
     "name": "stderr",
     "output_type": "stream",
     "text": [
      "\r",
      "  6%|▌         | 6/100 [00:13<03:36,  2.31s/it]"
     ]
    },
    {
     "name": "stdout",
     "output_type": "stream",
     "text": [
      "[1.05951471 0.92956733 0.84043005 0.77645218 0.72867509 0.69177059\n",
      " 1.         1.         1.         1.         1.         1.\n",
      " 1.         1.         1.         1.         1.         1.\n",
      " 1.         1.         1.         1.         1.         1.\n",
      " 1.         1.         1.         1.         1.         1.\n",
      " 1.         1.         1.         1.         1.         1.\n",
      " 1.         1.         1.         1.         1.         1.\n",
      " 1.         1.         1.         1.         1.         1.\n",
      " 1.         1.         1.         1.         1.         1.\n",
      " 1.         1.         1.         1.         1.         1.\n",
      " 1.         1.         1.         1.         1.         1.\n",
      " 1.         1.         1.         1.         1.         1.\n",
      " 1.         1.         1.         1.         1.         1.\n",
      " 1.         1.         1.         1.         1.         1.\n",
      " 1.         1.         1.         1.         1.         1.\n",
      " 1.         1.         1.         1.         1.         1.\n",
      " 1.         1.         1.         1.        ]\n"
     ]
    },
    {
     "name": "stderr",
     "output_type": "stream",
     "text": [
      "\r",
      "  7%|▋         | 7/100 [00:16<03:33,  2.29s/it]"
     ]
    },
    {
     "name": "stdout",
     "output_type": "stream",
     "text": [
      "[1.05951471 0.92956733 0.84043005 0.77645218 0.72867509 0.69177059\n",
      " 0.6624513  1.         1.         1.         1.         1.\n",
      " 1.         1.         1.         1.         1.         1.\n",
      " 1.         1.         1.         1.         1.         1.\n",
      " 1.         1.         1.         1.         1.         1.\n",
      " 1.         1.         1.         1.         1.         1.\n",
      " 1.         1.         1.         1.         1.         1.\n",
      " 1.         1.         1.         1.         1.         1.\n",
      " 1.         1.         1.         1.         1.         1.\n",
      " 1.         1.         1.         1.         1.         1.\n",
      " 1.         1.         1.         1.         1.         1.\n",
      " 1.         1.         1.         1.         1.         1.\n",
      " 1.         1.         1.         1.         1.         1.\n",
      " 1.         1.         1.         1.         1.         1.\n",
      " 1.         1.         1.         1.         1.         1.\n",
      " 1.         1.         1.         1.         1.         1.\n",
      " 1.         1.         1.         1.        ]\n"
     ]
    },
    {
     "name": "stderr",
     "output_type": "stream",
     "text": [
      "\r",
      "  8%|▊         | 8/100 [00:18<03:28,  2.27s/it]"
     ]
    },
    {
     "name": "stdout",
     "output_type": "stream",
     "text": [
      "[1.05951471 0.92956733 0.84043005 0.77645218 0.72867509 0.69177059\n",
      " 0.6624513  0.6386149  1.         1.         1.         1.\n",
      " 1.         1.         1.         1.         1.         1.\n",
      " 1.         1.         1.         1.         1.         1.\n",
      " 1.         1.         1.         1.         1.         1.\n",
      " 1.         1.         1.         1.         1.         1.\n",
      " 1.         1.         1.         1.         1.         1.\n",
      " 1.         1.         1.         1.         1.         1.\n",
      " 1.         1.         1.         1.         1.         1.\n",
      " 1.         1.         1.         1.         1.         1.\n",
      " 1.         1.         1.         1.         1.         1.\n",
      " 1.         1.         1.         1.         1.         1.\n",
      " 1.         1.         1.         1.         1.         1.\n",
      " 1.         1.         1.         1.         1.         1.\n",
      " 1.         1.         1.         1.         1.         1.\n",
      " 1.         1.         1.         1.         1.         1.\n",
      " 1.         1.         1.         1.        ]\n"
     ]
    },
    {
     "name": "stderr",
     "output_type": "stream",
     "text": [
      "\r",
      "  9%|▉         | 9/100 [00:20<03:26,  2.27s/it]"
     ]
    },
    {
     "name": "stdout",
     "output_type": "stream",
     "text": [
      "[1.05951471 0.92956733 0.84043005 0.77645218 0.72867509 0.69177059\n",
      " 0.6624513  0.6386149  0.61886892 1.         1.         1.\n",
      " 1.         1.         1.         1.         1.         1.\n",
      " 1.         1.         1.         1.         1.         1.\n",
      " 1.         1.         1.         1.         1.         1.\n",
      " 1.         1.         1.         1.         1.         1.\n",
      " 1.         1.         1.         1.         1.         1.\n",
      " 1.         1.         1.         1.         1.         1.\n",
      " 1.         1.         1.         1.         1.         1.\n",
      " 1.         1.         1.         1.         1.         1.\n",
      " 1.         1.         1.         1.         1.         1.\n",
      " 1.         1.         1.         1.         1.         1.\n",
      " 1.         1.         1.         1.         1.         1.\n",
      " 1.         1.         1.         1.         1.         1.\n",
      " 1.         1.         1.         1.         1.         1.\n",
      " 1.         1.         1.         1.         1.         1.\n",
      " 1.         1.         1.         1.        ]\n"
     ]
    },
    {
     "name": "stderr",
     "output_type": "stream",
     "text": [
      "\r",
      " 10%|█         | 10/100 [00:22<03:23,  2.26s/it]"
     ]
    },
    {
     "name": "stdout",
     "output_type": "stream",
     "text": [
      "[1.05951471 0.92956733 0.84043005 0.77645218 0.72867509 0.69177059\n",
      " 0.6624513  0.6386149  0.61886892 0.60225911 1.         1.\n",
      " 1.         1.         1.         1.         1.         1.\n",
      " 1.         1.         1.         1.         1.         1.\n",
      " 1.         1.         1.         1.         1.         1.\n",
      " 1.         1.         1.         1.         1.         1.\n",
      " 1.         1.         1.         1.         1.         1.\n",
      " 1.         1.         1.         1.         1.         1.\n",
      " 1.         1.         1.         1.         1.         1.\n",
      " 1.         1.         1.         1.         1.         1.\n",
      " 1.         1.         1.         1.         1.         1.\n",
      " 1.         1.         1.         1.         1.         1.\n",
      " 1.         1.         1.         1.         1.         1.\n",
      " 1.         1.         1.         1.         1.         1.\n",
      " 1.         1.         1.         1.         1.         1.\n",
      " 1.         1.         1.         1.         1.         1.\n",
      " 1.         1.         1.         1.        ]\n"
     ]
    },
    {
     "name": "stderr",
     "output_type": "stream",
     "text": [
      "\r",
      " 11%|█         | 11/100 [00:24<03:19,  2.24s/it]"
     ]
    },
    {
     "name": "stdout",
     "output_type": "stream",
     "text": [
      "[1.05951471 0.92956733 0.84043005 0.77645218 0.72867509 0.69177059\n",
      " 0.6624513  0.6386149  0.61886892 0.60225911 0.58810988 1.\n",
      " 1.         1.         1.         1.         1.         1.\n",
      " 1.         1.         1.         1.         1.         1.\n",
      " 1.         1.         1.         1.         1.         1.\n",
      " 1.         1.         1.         1.         1.         1.\n",
      " 1.         1.         1.         1.         1.         1.\n",
      " 1.         1.         1.         1.         1.         1.\n",
      " 1.         1.         1.         1.         1.         1.\n",
      " 1.         1.         1.         1.         1.         1.\n",
      " 1.         1.         1.         1.         1.         1.\n",
      " 1.         1.         1.         1.         1.         1.\n",
      " 1.         1.         1.         1.         1.         1.\n",
      " 1.         1.         1.         1.         1.         1.\n",
      " 1.         1.         1.         1.         1.         1.\n",
      " 1.         1.         1.         1.         1.         1.\n",
      " 1.         1.         1.         1.        ]\n"
     ]
    },
    {
     "name": "stderr",
     "output_type": "stream",
     "text": [
      "\r",
      " 12%|█▏        | 12/100 [00:27<03:17,  2.25s/it]"
     ]
    },
    {
     "name": "stdout",
     "output_type": "stream",
     "text": [
      "[1.05951471 0.92956733 0.84043005 0.77645218 0.72867509 0.69177059\n",
      " 0.6624513  0.6386149  0.61886892 0.60225911 0.58810988 0.57592823\n",
      " 1.         1.         1.         1.         1.         1.\n",
      " 1.         1.         1.         1.         1.         1.\n",
      " 1.         1.         1.         1.         1.         1.\n",
      " 1.         1.         1.         1.         1.         1.\n",
      " 1.         1.         1.         1.         1.         1.\n",
      " 1.         1.         1.         1.         1.         1.\n",
      " 1.         1.         1.         1.         1.         1.\n",
      " 1.         1.         1.         1.         1.         1.\n",
      " 1.         1.         1.         1.         1.         1.\n",
      " 1.         1.         1.         1.         1.         1.\n",
      " 1.         1.         1.         1.         1.         1.\n",
      " 1.         1.         1.         1.         1.         1.\n",
      " 1.         1.         1.         1.         1.         1.\n",
      " 1.         1.         1.         1.         1.         1.\n",
      " 1.         1.         1.         1.        ]\n"
     ]
    },
    {
     "name": "stderr",
     "output_type": "stream",
     "text": [
      "\r",
      " 13%|█▎        | 13/100 [00:29<03:15,  2.25s/it]"
     ]
    },
    {
     "name": "stdout",
     "output_type": "stream",
     "text": [
      "[1.05951471 0.92956733 0.84043005 0.77645218 0.72867509 0.69177059\n",
      " 0.6624513  0.6386149  0.61886892 0.60225911 0.58810988 0.57592823\n",
      " 0.56534438 1.         1.         1.         1.         1.\n",
      " 1.         1.         1.         1.         1.         1.\n",
      " 1.         1.         1.         1.         1.         1.\n",
      " 1.         1.         1.         1.         1.         1.\n",
      " 1.         1.         1.         1.         1.         1.\n",
      " 1.         1.         1.         1.         1.         1.\n",
      " 1.         1.         1.         1.         1.         1.\n",
      " 1.         1.         1.         1.         1.         1.\n",
      " 1.         1.         1.         1.         1.         1.\n",
      " 1.         1.         1.         1.         1.         1.\n",
      " 1.         1.         1.         1.         1.         1.\n",
      " 1.         1.         1.         1.         1.         1.\n",
      " 1.         1.         1.         1.         1.         1.\n",
      " 1.         1.         1.         1.         1.         1.\n",
      " 1.         1.         1.         1.        ]\n"
     ]
    },
    {
     "name": "stderr",
     "output_type": "stream",
     "text": [
      "\r",
      " 14%|█▍        | 14/100 [00:31<03:12,  2.24s/it]"
     ]
    },
    {
     "name": "stdout",
     "output_type": "stream",
     "text": [
      "[1.05951471 0.92956733 0.84043005 0.77645218 0.72867509 0.69177059\n",
      " 0.6624513  0.6386149  0.61886892 0.60225911 0.58810988 0.57592823\n",
      " 0.56534438 0.55607425 1.         1.         1.         1.\n",
      " 1.         1.         1.         1.         1.         1.\n",
      " 1.         1.         1.         1.         1.         1.\n",
      " 1.         1.         1.         1.         1.         1.\n",
      " 1.         1.         1.         1.         1.         1.\n",
      " 1.         1.         1.         1.         1.         1.\n",
      " 1.         1.         1.         1.         1.         1.\n",
      " 1.         1.         1.         1.         1.         1.\n",
      " 1.         1.         1.         1.         1.         1.\n",
      " 1.         1.         1.         1.         1.         1.\n",
      " 1.         1.         1.         1.         1.         1.\n",
      " 1.         1.         1.         1.         1.         1.\n",
      " 1.         1.         1.         1.         1.         1.\n",
      " 1.         1.         1.         1.         1.         1.\n",
      " 1.         1.         1.         1.        ]\n"
     ]
    },
    {
     "name": "stderr",
     "output_type": "stream",
     "text": [
      "\r",
      " 15%|█▌        | 15/100 [00:34<03:17,  2.32s/it]"
     ]
    },
    {
     "name": "stdout",
     "output_type": "stream",
     "text": [
      "[1.05951471 0.92956733 0.84043005 0.77645218 0.72867509 0.69177059\n",
      " 0.6624513  0.6386149  0.61886892 0.60225911 0.58810988 0.57592823\n",
      " 0.56534438 0.55607425 0.54789513 1.         1.         1.\n",
      " 1.         1.         1.         1.         1.         1.\n",
      " 1.         1.         1.         1.         1.         1.\n",
      " 1.         1.         1.         1.         1.         1.\n",
      " 1.         1.         1.         1.         1.         1.\n",
      " 1.         1.         1.         1.         1.         1.\n",
      " 1.         1.         1.         1.         1.         1.\n",
      " 1.         1.         1.         1.         1.         1.\n",
      " 1.         1.         1.         1.         1.         1.\n",
      " 1.         1.         1.         1.         1.         1.\n",
      " 1.         1.         1.         1.         1.         1.\n",
      " 1.         1.         1.         1.         1.         1.\n",
      " 1.         1.         1.         1.         1.         1.\n",
      " 1.         1.         1.         1.         1.         1.\n",
      " 1.         1.         1.         1.        ]\n"
     ]
    },
    {
     "name": "stderr",
     "output_type": "stream",
     "text": [
      "\r",
      " 16%|█▌        | 16/100 [00:36<03:16,  2.34s/it]"
     ]
    },
    {
     "name": "stdout",
     "output_type": "stream",
     "text": [
      "[1.05951471 0.92956733 0.84043005 0.77645218 0.72867509 0.69177059\n",
      " 0.6624513  0.6386149  0.61886892 0.60225911 0.58810988 0.57592823\n",
      " 0.56534438 0.55607425 0.54789513 0.54062941 1.         1.\n",
      " 1.         1.         1.         1.         1.         1.\n",
      " 1.         1.         1.         1.         1.         1.\n",
      " 1.         1.         1.         1.         1.         1.\n",
      " 1.         1.         1.         1.         1.         1.\n",
      " 1.         1.         1.         1.         1.         1.\n",
      " 1.         1.         1.         1.         1.         1.\n",
      " 1.         1.         1.         1.         1.         1.\n",
      " 1.         1.         1.         1.         1.         1.\n",
      " 1.         1.         1.         1.         1.         1.\n",
      " 1.         1.         1.         1.         1.         1.\n",
      " 1.         1.         1.         1.         1.         1.\n",
      " 1.         1.         1.         1.         1.         1.\n",
      " 1.         1.         1.         1.         1.         1.\n",
      " 1.         1.         1.         1.        ]\n"
     ]
    },
    {
     "name": "stderr",
     "output_type": "stream",
     "text": [
      "\r",
      " 17%|█▋        | 17/100 [00:38<03:12,  2.32s/it]"
     ]
    },
    {
     "name": "stdout",
     "output_type": "stream",
     "text": [
      "[1.05951471 0.92956733 0.84043005 0.77645218 0.72867509 0.69177059\n",
      " 0.6624513  0.6386149  0.61886892 0.60225911 0.58810988 0.57592823\n",
      " 0.56534438 0.55607425 0.54789513 0.54062941 0.53413355 1.\n",
      " 1.         1.         1.         1.         1.         1.\n",
      " 1.         1.         1.         1.         1.         1.\n",
      " 1.         1.         1.         1.         1.         1.\n",
      " 1.         1.         1.         1.         1.         1.\n",
      " 1.         1.         1.         1.         1.         1.\n",
      " 1.         1.         1.         1.         1.         1.\n",
      " 1.         1.         1.         1.         1.         1.\n",
      " 1.         1.         1.         1.         1.         1.\n",
      " 1.         1.         1.         1.         1.         1.\n",
      " 1.         1.         1.         1.         1.         1.\n",
      " 1.         1.         1.         1.         1.         1.\n",
      " 1.         1.         1.         1.         1.         1.\n",
      " 1.         1.         1.         1.         1.         1.\n",
      " 1.         1.         1.         1.        ]\n"
     ]
    },
    {
     "name": "stderr",
     "output_type": "stream",
     "text": [
      "\r",
      " 18%|█▊        | 18/100 [00:41<03:13,  2.36s/it]"
     ]
    },
    {
     "name": "stdout",
     "output_type": "stream",
     "text": [
      "[1.05951471 0.92956733 0.84043005 0.77645218 0.72867509 0.69177059\n",
      " 0.6624513  0.6386149  0.61886892 0.60225911 0.58810988 0.57592823\n",
      " 0.56534438 0.55607425 0.54789513 0.54062941 0.53413355 0.52829023\n",
      " 1.         1.         1.         1.         1.         1.\n",
      " 1.         1.         1.         1.         1.         1.\n",
      " 1.         1.         1.         1.         1.         1.\n",
      " 1.         1.         1.         1.         1.         1.\n",
      " 1.         1.         1.         1.         1.         1.\n",
      " 1.         1.         1.         1.         1.         1.\n",
      " 1.         1.         1.         1.         1.         1.\n",
      " 1.         1.         1.         1.         1.         1.\n",
      " 1.         1.         1.         1.         1.         1.\n",
      " 1.         1.         1.         1.         1.         1.\n",
      " 1.         1.         1.         1.         1.         1.\n",
      " 1.         1.         1.         1.         1.         1.\n",
      " 1.         1.         1.         1.         1.         1.\n",
      " 1.         1.         1.         1.        ]\n"
     ]
    },
    {
     "name": "stderr",
     "output_type": "stream",
     "text": [
      "\r",
      " 19%|█▉        | 19/100 [00:43<03:14,  2.40s/it]"
     ]
    },
    {
     "name": "stdout",
     "output_type": "stream",
     "text": [
      "[1.05951471 0.92956733 0.84043005 0.77645218 0.72867509 0.69177059\n",
      " 0.6624513  0.6386149  0.61886892 0.60225911 0.58810988 0.57592823\n",
      " 0.56534438 0.55607425 0.54789513 0.54062941 0.53413355 0.52829023\n",
      " 0.52300275 1.         1.         1.         1.         1.\n",
      " 1.         1.         1.         1.         1.         1.\n",
      " 1.         1.         1.         1.         1.         1.\n",
      " 1.         1.         1.         1.         1.         1.\n",
      " 1.         1.         1.         1.         1.         1.\n",
      " 1.         1.         1.         1.         1.         1.\n",
      " 1.         1.         1.         1.         1.         1.\n",
      " 1.         1.         1.         1.         1.         1.\n",
      " 1.         1.         1.         1.         1.         1.\n",
      " 1.         1.         1.         1.         1.         1.\n",
      " 1.         1.         1.         1.         1.         1.\n",
      " 1.         1.         1.         1.         1.         1.\n",
      " 1.         1.         1.         1.         1.         1.\n",
      " 1.         1.         1.         1.        ]\n"
     ]
    },
    {
     "name": "stderr",
     "output_type": "stream",
     "text": [
      "\r",
      " 20%|██        | 20/100 [00:46<03:10,  2.38s/it]"
     ]
    },
    {
     "name": "stdout",
     "output_type": "stream",
     "text": [
      "[1.05951471 0.92956733 0.84043005 0.77645218 0.72867509 0.69177059\n",
      " 0.6624513  0.6386149  0.61886892 0.60225911 0.58810988 0.57592823\n",
      " 0.56534438 0.55607425 0.54789513 0.54062941 0.53413355 0.52829023\n",
      " 0.52300275 0.51819081 1.         1.         1.         1.\n",
      " 1.         1.         1.         1.         1.         1.\n",
      " 1.         1.         1.         1.         1.         1.\n",
      " 1.         1.         1.         1.         1.         1.\n",
      " 1.         1.         1.         1.         1.         1.\n",
      " 1.         1.         1.         1.         1.         1.\n",
      " 1.         1.         1.         1.         1.         1.\n",
      " 1.         1.         1.         1.         1.         1.\n",
      " 1.         1.         1.         1.         1.         1.\n",
      " 1.         1.         1.         1.         1.         1.\n",
      " 1.         1.         1.         1.         1.         1.\n",
      " 1.         1.         1.         1.         1.         1.\n",
      " 1.         1.         1.         1.         1.         1.\n",
      " 1.         1.         1.         1.        ]\n"
     ]
    },
    {
     "name": "stderr",
     "output_type": "stream",
     "text": [
      "\r",
      " 21%|██        | 21/100 [00:48<03:06,  2.36s/it]"
     ]
    },
    {
     "name": "stdout",
     "output_type": "stream",
     "text": [
      "[1.05951471 0.92956733 0.84043005 0.77645218 0.72867509 0.69177059\n",
      " 0.6624513  0.6386149  0.61886892 0.60225911 0.58810988 0.57592823\n",
      " 0.56534438 0.55607425 0.54789513 0.54062941 0.53413355 0.52829023\n",
      " 0.52300275 0.51819081 0.51378743 1.         1.         1.\n",
      " 1.         1.         1.         1.         1.         1.\n",
      " 1.         1.         1.         1.         1.         1.\n",
      " 1.         1.         1.         1.         1.         1.\n",
      " 1.         1.         1.         1.         1.         1.\n",
      " 1.         1.         1.         1.         1.         1.\n",
      " 1.         1.         1.         1.         1.         1.\n",
      " 1.         1.         1.         1.         1.         1.\n",
      " 1.         1.         1.         1.         1.         1.\n",
      " 1.         1.         1.         1.         1.         1.\n",
      " 1.         1.         1.         1.         1.         1.\n",
      " 1.         1.         1.         1.         1.         1.\n",
      " 1.         1.         1.         1.         1.         1.\n",
      " 1.         1.         1.         1.        ]\n"
     ]
    },
    {
     "name": "stderr",
     "output_type": "stream",
     "text": [
      "\r",
      " 22%|██▏       | 22/100 [00:50<03:03,  2.35s/it]"
     ]
    },
    {
     "name": "stdout",
     "output_type": "stream",
     "text": [
      "[1.05951471 0.92956733 0.84043005 0.77645218 0.72867509 0.69177059\n",
      " 0.6624513  0.6386149  0.61886892 0.60225911 0.58810988 0.57592823\n",
      " 0.56534438 0.55607425 0.54789513 0.54062941 0.53413355 0.52829023\n",
      " 0.52300275 0.51819081 0.51378743 0.50973639 1.         1.\n",
      " 1.         1.         1.         1.         1.         1.\n",
      " 1.         1.         1.         1.         1.         1.\n",
      " 1.         1.         1.         1.         1.         1.\n",
      " 1.         1.         1.         1.         1.         1.\n",
      " 1.         1.         1.         1.         1.         1.\n",
      " 1.         1.         1.         1.         1.         1.\n",
      " 1.         1.         1.         1.         1.         1.\n",
      " 1.         1.         1.         1.         1.         1.\n",
      " 1.         1.         1.         1.         1.         1.\n",
      " 1.         1.         1.         1.         1.         1.\n",
      " 1.         1.         1.         1.         1.         1.\n",
      " 1.         1.         1.         1.         1.         1.\n",
      " 1.         1.         1.         1.        ]\n"
     ]
    },
    {
     "name": "stderr",
     "output_type": "stream",
     "text": [
      "\r",
      " 23%|██▎       | 23/100 [00:53<03:02,  2.37s/it]"
     ]
    },
    {
     "name": "stdout",
     "output_type": "stream",
     "text": [
      "[1.05951471 0.92956733 0.84043005 0.77645218 0.72867509 0.69177059\n",
      " 0.6624513  0.6386149  0.61886892 0.60225911 0.58810988 0.57592823\n",
      " 0.56534438 0.55607425 0.54789513 0.54062941 0.53413355 0.52829023\n",
      " 0.52300275 0.51819081 0.51378743 0.50973639 0.50599043 1.\n",
      " 1.         1.         1.         1.         1.         1.\n",
      " 1.         1.         1.         1.         1.         1.\n",
      " 1.         1.         1.         1.         1.         1.\n",
      " 1.         1.         1.         1.         1.         1.\n",
      " 1.         1.         1.         1.         1.         1.\n",
      " 1.         1.         1.         1.         1.         1.\n",
      " 1.         1.         1.         1.         1.         1.\n",
      " 1.         1.         1.         1.         1.         1.\n",
      " 1.         1.         1.         1.         1.         1.\n",
      " 1.         1.         1.         1.         1.         1.\n",
      " 1.         1.         1.         1.         1.         1.\n",
      " 1.         1.         1.         1.         1.         1.\n",
      " 1.         1.         1.         1.        ]\n"
     ]
    },
    {
     "name": "stderr",
     "output_type": "stream",
     "text": [
      "\r",
      " 24%|██▍       | 24/100 [00:55<02:59,  2.37s/it]"
     ]
    },
    {
     "name": "stdout",
     "output_type": "stream",
     "text": [
      "[1.05951471 0.92956733 0.84043005 0.77645218 0.72867509 0.69177059\n",
      " 0.6624513  0.6386149  0.61886892 0.60225911 0.58810988 0.57592823\n",
      " 0.56534438 0.55607425 0.54789513 0.54062941 0.53413355 0.52829023\n",
      " 0.52300275 0.51819081 0.51378743 0.50973639 0.50599043 0.5025096\n",
      " 1.         1.         1.         1.         1.         1.\n",
      " 1.         1.         1.         1.         1.         1.\n",
      " 1.         1.         1.         1.         1.         1.\n",
      " 1.         1.         1.         1.         1.         1.\n",
      " 1.         1.         1.         1.         1.         1.\n",
      " 1.         1.         1.         1.         1.         1.\n",
      " 1.         1.         1.         1.         1.         1.\n",
      " 1.         1.         1.         1.         1.         1.\n",
      " 1.         1.         1.         1.         1.         1.\n",
      " 1.         1.         1.         1.         1.         1.\n",
      " 1.         1.         1.         1.         1.         1.\n",
      " 1.         1.         1.         1.         1.         1.\n",
      " 1.         1.         1.         1.        ]\n"
     ]
    },
    {
     "name": "stderr",
     "output_type": "stream",
     "text": [
      "\r",
      " 25%|██▌       | 25/100 [00:57<02:56,  2.35s/it]"
     ]
    },
    {
     "name": "stdout",
     "output_type": "stream",
     "text": [
      "[1.05951471 0.92956733 0.84043005 0.77645218 0.72867509 0.69177059\n",
      " 0.6624513  0.6386149  0.61886892 0.60225911 0.58810988 0.57592823\n",
      " 0.56534438 0.55607425 0.54789513 0.54062941 0.53413355 0.52829023\n",
      " 0.52300275 0.51819081 0.51378743 0.50973639 0.50599043 0.5025096\n",
      " 0.49926009 1.         1.         1.         1.         1.\n",
      " 1.         1.         1.         1.         1.         1.\n",
      " 1.         1.         1.         1.         1.         1.\n",
      " 1.         1.         1.         1.         1.         1.\n",
      " 1.         1.         1.         1.         1.         1.\n",
      " 1.         1.         1.         1.         1.         1.\n",
      " 1.         1.         1.         1.         1.         1.\n",
      " 1.         1.         1.         1.         1.         1.\n",
      " 1.         1.         1.         1.         1.         1.\n",
      " 1.         1.         1.         1.         1.         1.\n",
      " 1.         1.         1.         1.         1.         1.\n",
      " 1.         1.         1.         1.         1.         1.\n",
      " 1.         1.         1.         1.        ]\n"
     ]
    },
    {
     "name": "stderr",
     "output_type": "stream",
     "text": [
      "\r",
      " 26%|██▌       | 26/100 [01:00<02:52,  2.33s/it]"
     ]
    },
    {
     "name": "stdout",
     "output_type": "stream",
     "text": [
      "[1.05951471 0.92956733 0.84043005 0.77645218 0.72867509 0.69177059\n",
      " 0.6624513  0.6386149  0.61886892 0.60225911 0.58810988 0.57592823\n",
      " 0.56534438 0.55607425 0.54789513 0.54062941 0.53413355 0.52829023\n",
      " 0.52300275 0.51819081 0.51378743 0.50973639 0.50599043 0.5025096\n",
      " 0.49926009 0.4962132  1.         1.         1.         1.\n",
      " 1.         1.         1.         1.         1.         1.\n",
      " 1.         1.         1.         1.         1.         1.\n",
      " 1.         1.         1.         1.         1.         1.\n",
      " 1.         1.         1.         1.         1.         1.\n",
      " 1.         1.         1.         1.         1.         1.\n",
      " 1.         1.         1.         1.         1.         1.\n",
      " 1.         1.         1.         1.         1.         1.\n",
      " 1.         1.         1.         1.         1.         1.\n",
      " 1.         1.         1.         1.         1.         1.\n",
      " 1.         1.         1.         1.         1.         1.\n",
      " 1.         1.         1.         1.         1.         1.\n",
      " 1.         1.         1.         1.        ]\n"
     ]
    },
    {
     "name": "stderr",
     "output_type": "stream",
     "text": [
      "\r",
      " 27%|██▋       | 27/100 [01:02<02:51,  2.35s/it]"
     ]
    },
    {
     "name": "stdout",
     "output_type": "stream",
     "text": [
      "[1.05951471 0.92956733 0.84043005 0.77645218 0.72867509 0.69177059\n",
      " 0.6624513  0.6386149  0.61886892 0.60225911 0.58810988 0.57592823\n",
      " 0.56534438 0.55607425 0.54789513 0.54062941 0.53413355 0.52829023\n",
      " 0.52300275 0.51819081 0.51378743 0.50973639 0.50599043 0.5025096\n",
      " 0.49926009 0.4962132  0.49334448 1.         1.         1.\n",
      " 1.         1.         1.         1.         1.         1.\n",
      " 1.         1.         1.         1.         1.         1.\n",
      " 1.         1.         1.         1.         1.         1.\n",
      " 1.         1.         1.         1.         1.         1.\n",
      " 1.         1.         1.         1.         1.         1.\n",
      " 1.         1.         1.         1.         1.         1.\n",
      " 1.         1.         1.         1.         1.         1.\n",
      " 1.         1.         1.         1.         1.         1.\n",
      " 1.         1.         1.         1.         1.         1.\n",
      " 1.         1.         1.         1.         1.         1.\n",
      " 1.         1.         1.         1.         1.         1.\n",
      " 1.         1.         1.         1.        ]\n"
     ]
    },
    {
     "name": "stderr",
     "output_type": "stream",
     "text": [
      "\r",
      " 28%|██▊       | 28/100 [01:04<02:47,  2.32s/it]"
     ]
    },
    {
     "name": "stdout",
     "output_type": "stream",
     "text": [
      "[1.05951471 0.92956733 0.84043005 0.77645218 0.72867509 0.69177059\n",
      " 0.6624513  0.6386149  0.61886892 0.60225911 0.58810988 0.57592823\n",
      " 0.56534438 0.55607425 0.54789513 0.54062941 0.53413355 0.52829023\n",
      " 0.52300275 0.51819081 0.51378743 0.50973639 0.50599043 0.5025096\n",
      " 0.49926009 0.4962132  0.49334448 0.49063309 1.         1.\n",
      " 1.         1.         1.         1.         1.         1.\n",
      " 1.         1.         1.         1.         1.         1.\n",
      " 1.         1.         1.         1.         1.         1.\n",
      " 1.         1.         1.         1.         1.         1.\n",
      " 1.         1.         1.         1.         1.         1.\n",
      " 1.         1.         1.         1.         1.         1.\n",
      " 1.         1.         1.         1.         1.         1.\n",
      " 1.         1.         1.         1.         1.         1.\n",
      " 1.         1.         1.         1.         1.         1.\n",
      " 1.         1.         1.         1.         1.         1.\n",
      " 1.         1.         1.         1.         1.         1.\n",
      " 1.         1.         1.         1.        ]\n"
     ]
    },
    {
     "name": "stderr",
     "output_type": "stream",
     "text": [
      "\r",
      " 29%|██▉       | 29/100 [01:07<02:45,  2.33s/it]"
     ]
    },
    {
     "name": "stdout",
     "output_type": "stream",
     "text": [
      "[1.05951471 0.92956733 0.84043005 0.77645218 0.72867509 0.69177059\n",
      " 0.6624513  0.6386149  0.61886892 0.60225911 0.58810988 0.57592823\n",
      " 0.56534438 0.55607425 0.54789513 0.54062941 0.53413355 0.52829023\n",
      " 0.52300275 0.51819081 0.51378743 0.50973639 0.50599043 0.5025096\n",
      " 0.49926009 0.4962132  0.49334448 0.49063309 0.4880612  1.\n",
      " 1.         1.         1.         1.         1.         1.\n",
      " 1.         1.         1.         1.         1.         1.\n",
      " 1.         1.         1.         1.         1.         1.\n",
      " 1.         1.         1.         1.         1.         1.\n",
      " 1.         1.         1.         1.         1.         1.\n",
      " 1.         1.         1.         1.         1.         1.\n",
      " 1.         1.         1.         1.         1.         1.\n",
      " 1.         1.         1.         1.         1.         1.\n",
      " 1.         1.         1.         1.         1.         1.\n",
      " 1.         1.         1.         1.         1.         1.\n",
      " 1.         1.         1.         1.         1.         1.\n",
      " 1.         1.         1.         1.        ]\n"
     ]
    },
    {
     "name": "stderr",
     "output_type": "stream",
     "text": [
      "\r",
      " 30%|███       | 30/100 [01:09<02:46,  2.38s/it]"
     ]
    },
    {
     "name": "stdout",
     "output_type": "stream",
     "text": [
      "[1.05951471 0.92956733 0.84043005 0.77645218 0.72867509 0.69177059\n",
      " 0.6624513  0.6386149  0.61886892 0.60225911 0.58810988 0.57592823\n",
      " 0.56534438 0.55607425 0.54789513 0.54062941 0.53413355 0.52829023\n",
      " 0.52300275 0.51819081 0.51378743 0.50973639 0.50599043 0.5025096\n",
      " 0.49926009 0.4962132  0.49334448 0.49063309 0.4880612  0.48561353\n",
      " 1.         1.         1.         1.         1.         1.\n",
      " 1.         1.         1.         1.         1.         1.\n",
      " 1.         1.         1.         1.         1.         1.\n",
      " 1.         1.         1.         1.         1.         1.\n",
      " 1.         1.         1.         1.         1.         1.\n",
      " 1.         1.         1.         1.         1.         1.\n",
      " 1.         1.         1.         1.         1.         1.\n",
      " 1.         1.         1.         1.         1.         1.\n",
      " 1.         1.         1.         1.         1.         1.\n",
      " 1.         1.         1.         1.         1.         1.\n",
      " 1.         1.         1.         1.         1.         1.\n",
      " 1.         1.         1.         1.        ]\n"
     ]
    },
    {
     "name": "stderr",
     "output_type": "stream",
     "text": [
      "\r",
      " 31%|███       | 31/100 [01:12<02:45,  2.40s/it]"
     ]
    },
    {
     "name": "stdout",
     "output_type": "stream",
     "text": [
      "[1.05951471 0.92956733 0.84043005 0.77645218 0.72867509 0.69177059\n",
      " 0.6624513  0.6386149  0.61886892 0.60225911 0.58810988 0.57592823\n",
      " 0.56534438 0.55607425 0.54789513 0.54062941 0.53413355 0.52829023\n",
      " 0.52300275 0.51819081 0.51378743 0.50973639 0.50599043 0.5025096\n",
      " 0.49926009 0.4962132  0.49334448 0.49063309 0.4880612  0.48561353\n",
      " 0.48327692 1.         1.         1.         1.         1.\n",
      " 1.         1.         1.         1.         1.         1.\n",
      " 1.         1.         1.         1.         1.         1.\n",
      " 1.         1.         1.         1.         1.         1.\n",
      " 1.         1.         1.         1.         1.         1.\n",
      " 1.         1.         1.         1.         1.         1.\n",
      " 1.         1.         1.         1.         1.         1.\n",
      " 1.         1.         1.         1.         1.         1.\n",
      " 1.         1.         1.         1.         1.         1.\n",
      " 1.         1.         1.         1.         1.         1.\n",
      " 1.         1.         1.         1.         1.         1.\n",
      " 1.         1.         1.         1.        ]\n"
     ]
    },
    {
     "name": "stderr",
     "output_type": "stream",
     "text": [
      "\r",
      " 32%|███▏      | 32/100 [01:14<02:39,  2.34s/it]"
     ]
    },
    {
     "name": "stdout",
     "output_type": "stream",
     "text": [
      "[1.05951471 0.92956733 0.84043005 0.77645218 0.72867509 0.69177059\n",
      " 0.6624513  0.6386149  0.61886892 0.60225911 0.58810988 0.57592823\n",
      " 0.56534438 0.55607425 0.54789513 0.54062941 0.53413355 0.52829023\n",
      " 0.52300275 0.51819081 0.51378743 0.50973639 0.50599043 0.5025096\n",
      " 0.49926009 0.4962132  0.49334448 0.49063309 0.4880612  0.48561353\n",
      " 0.48327692 0.48104005 1.         1.         1.         1.\n",
      " 1.         1.         1.         1.         1.         1.\n",
      " 1.         1.         1.         1.         1.         1.\n",
      " 1.         1.         1.         1.         1.         1.\n",
      " 1.         1.         1.         1.         1.         1.\n",
      " 1.         1.         1.         1.         1.         1.\n",
      " 1.         1.         1.         1.         1.         1.\n",
      " 1.         1.         1.         1.         1.         1.\n",
      " 1.         1.         1.         1.         1.         1.\n",
      " 1.         1.         1.         1.         1.         1.\n",
      " 1.         1.         1.         1.         1.         1.\n",
      " 1.         1.         1.         1.        ]\n"
     ]
    },
    {
     "name": "stderr",
     "output_type": "stream",
     "text": [
      "\r",
      " 33%|███▎      | 33/100 [01:16<02:39,  2.38s/it]"
     ]
    },
    {
     "name": "stdout",
     "output_type": "stream",
     "text": [
      "[1.05951471 0.92956733 0.84043005 0.77645218 0.72867509 0.69177059\n",
      " 0.6624513  0.6386149  0.61886892 0.60225911 0.58810988 0.57592823\n",
      " 0.56534438 0.55607425 0.54789513 0.54062941 0.53413355 0.52829023\n",
      " 0.52300275 0.51819081 0.51378743 0.50973639 0.50599043 0.5025096\n",
      " 0.49926009 0.4962132  0.49334448 0.49063309 0.4880612  0.48561353\n",
      " 0.48327692 0.48104005 0.47889315 1.         1.         1.\n",
      " 1.         1.         1.         1.         1.         1.\n",
      " 1.         1.         1.         1.         1.         1.\n",
      " 1.         1.         1.         1.         1.         1.\n",
      " 1.         1.         1.         1.         1.         1.\n",
      " 1.         1.         1.         1.         1.         1.\n",
      " 1.         1.         1.         1.         1.         1.\n",
      " 1.         1.         1.         1.         1.         1.\n",
      " 1.         1.         1.         1.         1.         1.\n",
      " 1.         1.         1.         1.         1.         1.\n",
      " 1.         1.         1.         1.         1.         1.\n",
      " 1.         1.         1.         1.        ]\n"
     ]
    },
    {
     "name": "stderr",
     "output_type": "stream",
     "text": [
      "\r",
      " 34%|███▍      | 34/100 [01:19<02:37,  2.39s/it]"
     ]
    },
    {
     "name": "stdout",
     "output_type": "stream",
     "text": [
      "[1.05951471 0.92956733 0.84043005 0.77645218 0.72867509 0.69177059\n",
      " 0.6624513  0.6386149  0.61886892 0.60225911 0.58810988 0.57592823\n",
      " 0.56534438 0.55607425 0.54789513 0.54062941 0.53413355 0.52829023\n",
      " 0.52300275 0.51819081 0.51378743 0.50973639 0.50599043 0.5025096\n",
      " 0.49926009 0.4962132  0.49334448 0.49063309 0.4880612  0.48561353\n",
      " 0.48327692 0.48104005 0.47889315 0.47682774 1.         1.\n",
      " 1.         1.         1.         1.         1.         1.\n",
      " 1.         1.         1.         1.         1.         1.\n",
      " 1.         1.         1.         1.         1.         1.\n",
      " 1.         1.         1.         1.         1.         1.\n",
      " 1.         1.         1.         1.         1.         1.\n",
      " 1.         1.         1.         1.         1.         1.\n",
      " 1.         1.         1.         1.         1.         1.\n",
      " 1.         1.         1.         1.         1.         1.\n",
      " 1.         1.         1.         1.         1.         1.\n",
      " 1.         1.         1.         1.         1.         1.\n",
      " 1.         1.         1.         1.        ]\n"
     ]
    },
    {
     "name": "stderr",
     "output_type": "stream",
     "text": [
      "\r",
      " 35%|███▌      | 35/100 [01:21<02:36,  2.40s/it]"
     ]
    },
    {
     "name": "stdout",
     "output_type": "stream",
     "text": [
      "[1.05951471 0.92956733 0.84043005 0.77645218 0.72867509 0.69177059\n",
      " 0.6624513  0.6386149  0.61886892 0.60225911 0.58810988 0.57592823\n",
      " 0.56534438 0.55607425 0.54789513 0.54062941 0.53413355 0.52829023\n",
      " 0.52300275 0.51819081 0.51378743 0.50973639 0.50599043 0.5025096\n",
      " 0.49926009 0.4962132  0.49334448 0.49063309 0.4880612  0.48561353\n",
      " 0.48327692 0.48104005 0.47889315 0.47682774 0.47483644 1.\n",
      " 1.         1.         1.         1.         1.         1.\n",
      " 1.         1.         1.         1.         1.         1.\n",
      " 1.         1.         1.         1.         1.         1.\n",
      " 1.         1.         1.         1.         1.         1.\n",
      " 1.         1.         1.         1.         1.         1.\n",
      " 1.         1.         1.         1.         1.         1.\n",
      " 1.         1.         1.         1.         1.         1.\n",
      " 1.         1.         1.         1.         1.         1.\n",
      " 1.         1.         1.         1.         1.         1.\n",
      " 1.         1.         1.         1.         1.         1.\n",
      " 1.         1.         1.         1.        ]\n"
     ]
    },
    {
     "name": "stderr",
     "output_type": "stream",
     "text": [
      "\r",
      " 36%|███▌      | 36/100 [01:24<02:35,  2.43s/it]"
     ]
    },
    {
     "name": "stdout",
     "output_type": "stream",
     "text": [
      "[1.05951471 0.92956733 0.84043005 0.77645218 0.72867509 0.69177059\n",
      " 0.6624513  0.6386149  0.61886892 0.60225911 0.58810988 0.57592823\n",
      " 0.56534438 0.55607425 0.54789513 0.54062941 0.53413355 0.52829023\n",
      " 0.52300275 0.51819081 0.51378743 0.50973639 0.50599043 0.5025096\n",
      " 0.49926009 0.4962132  0.49334448 0.49063309 0.4880612  0.48561353\n",
      " 0.48327692 0.48104005 0.47889315 0.47682774 0.47483644 0.47291283\n",
      " 1.         1.         1.         1.         1.         1.\n",
      " 1.         1.         1.         1.         1.         1.\n",
      " 1.         1.         1.         1.         1.         1.\n",
      " 1.         1.         1.         1.         1.         1.\n",
      " 1.         1.         1.         1.         1.         1.\n",
      " 1.         1.         1.         1.         1.         1.\n",
      " 1.         1.         1.         1.         1.         1.\n",
      " 1.         1.         1.         1.         1.         1.\n",
      " 1.         1.         1.         1.         1.         1.\n",
      " 1.         1.         1.         1.         1.         1.\n",
      " 1.         1.         1.         1.        ]\n"
     ]
    },
    {
     "name": "stderr",
     "output_type": "stream",
     "text": [
      "\r",
      " 37%|███▋      | 37/100 [01:26<02:32,  2.42s/it]"
     ]
    },
    {
     "name": "stdout",
     "output_type": "stream",
     "text": [
      "[1.05951471 0.92956733 0.84043005 0.77645218 0.72867509 0.69177059\n",
      " 0.6624513  0.6386149  0.61886892 0.60225911 0.58810988 0.57592823\n",
      " 0.56534438 0.55607425 0.54789513 0.54062941 0.53413355 0.52829023\n",
      " 0.52300275 0.51819081 0.51378743 0.50973639 0.50599043 0.5025096\n",
      " 0.49926009 0.4962132  0.49334448 0.49063309 0.4880612  0.48561353\n",
      " 0.48327692 0.48104005 0.47889315 0.47682774 0.47483644 0.47291283\n",
      " 0.4710513  1.         1.         1.         1.         1.\n",
      " 1.         1.         1.         1.         1.         1.\n",
      " 1.         1.         1.         1.         1.         1.\n",
      " 1.         1.         1.         1.         1.         1.\n",
      " 1.         1.         1.         1.         1.         1.\n",
      " 1.         1.         1.         1.         1.         1.\n",
      " 1.         1.         1.         1.         1.         1.\n",
      " 1.         1.         1.         1.         1.         1.\n",
      " 1.         1.         1.         1.         1.         1.\n",
      " 1.         1.         1.         1.         1.         1.\n",
      " 1.         1.         1.         1.        ]\n"
     ]
    },
    {
     "name": "stderr",
     "output_type": "stream",
     "text": [
      "\r",
      " 38%|███▊      | 38/100 [01:28<02:27,  2.38s/it]"
     ]
    },
    {
     "name": "stdout",
     "output_type": "stream",
     "text": [
      "[1.05951471 0.92956733 0.84043005 0.77645218 0.72867509 0.69177059\n",
      " 0.6624513  0.6386149  0.61886892 0.60225911 0.58810988 0.57592823\n",
      " 0.56534438 0.55607425 0.54789513 0.54062941 0.53413355 0.52829023\n",
      " 0.52300275 0.51819081 0.51378743 0.50973639 0.50599043 0.5025096\n",
      " 0.49926009 0.4962132  0.49334448 0.49063309 0.4880612  0.48561353\n",
      " 0.48327692 0.48104005 0.47889315 0.47682774 0.47483644 0.47291283\n",
      " 0.4710513  0.46924691 1.         1.         1.         1.\n",
      " 1.         1.         1.         1.         1.         1.\n",
      " 1.         1.         1.         1.         1.         1.\n",
      " 1.         1.         1.         1.         1.         1.\n",
      " 1.         1.         1.         1.         1.         1.\n",
      " 1.         1.         1.         1.         1.         1.\n",
      " 1.         1.         1.         1.         1.         1.\n",
      " 1.         1.         1.         1.         1.         1.\n",
      " 1.         1.         1.         1.         1.         1.\n",
      " 1.         1.         1.         1.         1.         1.\n",
      " 1.         1.         1.         1.        ]\n"
     ]
    },
    {
     "name": "stderr",
     "output_type": "stream",
     "text": [
      "\r",
      " 39%|███▉      | 39/100 [01:31<02:22,  2.34s/it]"
     ]
    },
    {
     "name": "stdout",
     "output_type": "stream",
     "text": [
      "[1.05951471 0.92956733 0.84043005 0.77645218 0.72867509 0.69177059\n",
      " 0.6624513  0.6386149  0.61886892 0.60225911 0.58810988 0.57592823\n",
      " 0.56534438 0.55607425 0.54789513 0.54062941 0.53413355 0.52829023\n",
      " 0.52300275 0.51819081 0.51378743 0.50973639 0.50599043 0.5025096\n",
      " 0.49926009 0.4962132  0.49334448 0.49063309 0.4880612  0.48561353\n",
      " 0.48327692 0.48104005 0.47889315 0.47682774 0.47483644 0.47291283\n",
      " 0.4710513  0.46924691 0.46749532 1.         1.         1.\n",
      " 1.         1.         1.         1.         1.         1.\n",
      " 1.         1.         1.         1.         1.         1.\n",
      " 1.         1.         1.         1.         1.         1.\n",
      " 1.         1.         1.         1.         1.         1.\n",
      " 1.         1.         1.         1.         1.         1.\n",
      " 1.         1.         1.         1.         1.         1.\n",
      " 1.         1.         1.         1.         1.         1.\n",
      " 1.         1.         1.         1.         1.         1.\n",
      " 1.         1.         1.         1.         1.         1.\n",
      " 1.         1.         1.         1.        ]\n"
     ]
    },
    {
     "name": "stderr",
     "output_type": "stream",
     "text": [
      "\r",
      " 40%|████      | 40/100 [01:33<02:17,  2.30s/it]"
     ]
    },
    {
     "name": "stdout",
     "output_type": "stream",
     "text": [
      "[1.05951471 0.92956733 0.84043005 0.77645218 0.72867509 0.69177059\n",
      " 0.6624513  0.6386149  0.61886892 0.60225911 0.58810988 0.57592823\n",
      " 0.56534438 0.55607425 0.54789513 0.54062941 0.53413355 0.52829023\n",
      " 0.52300275 0.51819081 0.51378743 0.50973639 0.50599043 0.5025096\n",
      " 0.49926009 0.4962132  0.49334448 0.49063309 0.4880612  0.48561353\n",
      " 0.48327692 0.48104005 0.47889315 0.47682774 0.47483644 0.47291283\n",
      " 0.4710513  0.46924691 0.46749532 0.4657927  1.         1.\n",
      " 1.         1.         1.         1.         1.         1.\n",
      " 1.         1.         1.         1.         1.         1.\n",
      " 1.         1.         1.         1.         1.         1.\n",
      " 1.         1.         1.         1.         1.         1.\n",
      " 1.         1.         1.         1.         1.         1.\n",
      " 1.         1.         1.         1.         1.         1.\n",
      " 1.         1.         1.         1.         1.         1.\n",
      " 1.         1.         1.         1.         1.         1.\n",
      " 1.         1.         1.         1.         1.         1.\n",
      " 1.         1.         1.         1.        ]\n"
     ]
    },
    {
     "name": "stderr",
     "output_type": "stream",
     "text": [
      "\r",
      " 41%|████      | 41/100 [01:35<02:14,  2.28s/it]"
     ]
    },
    {
     "name": "stdout",
     "output_type": "stream",
     "text": [
      "[1.05951471 0.92956733 0.84043005 0.77645218 0.72867509 0.69177059\n",
      " 0.6624513  0.6386149  0.61886892 0.60225911 0.58810988 0.57592823\n",
      " 0.56534438 0.55607425 0.54789513 0.54062941 0.53413355 0.52829023\n",
      " 0.52300275 0.51819081 0.51378743 0.50973639 0.50599043 0.5025096\n",
      " 0.49926009 0.4962132  0.49334448 0.49063309 0.4880612  0.48561353\n",
      " 0.48327692 0.48104005 0.47889315 0.47682774 0.47483644 0.47291283\n",
      " 0.4710513  0.46924691 0.46749532 0.4657927  0.46413566 1.\n",
      " 1.         1.         1.         1.         1.         1.\n",
      " 1.         1.         1.         1.         1.         1.\n",
      " 1.         1.         1.         1.         1.         1.\n",
      " 1.         1.         1.         1.         1.         1.\n",
      " 1.         1.         1.         1.         1.         1.\n",
      " 1.         1.         1.         1.         1.         1.\n",
      " 1.         1.         1.         1.         1.         1.\n",
      " 1.         1.         1.         1.         1.         1.\n",
      " 1.         1.         1.         1.         1.         1.\n",
      " 1.         1.         1.         1.        ]\n"
     ]
    },
    {
     "name": "stderr",
     "output_type": "stream",
     "text": [
      "\r",
      " 42%|████▏     | 42/100 [01:37<02:13,  2.31s/it]"
     ]
    },
    {
     "name": "stdout",
     "output_type": "stream",
     "text": [
      "[1.05951471 0.92956733 0.84043005 0.77645218 0.72867509 0.69177059\n",
      " 0.6624513  0.6386149  0.61886892 0.60225911 0.58810988 0.57592823\n",
      " 0.56534438 0.55607425 0.54789513 0.54062941 0.53413355 0.52829023\n",
      " 0.52300275 0.51819081 0.51378743 0.50973639 0.50599043 0.5025096\n",
      " 0.49926009 0.4962132  0.49334448 0.49063309 0.4880612  0.48561353\n",
      " 0.48327692 0.48104005 0.47889315 0.47682774 0.47483644 0.47291283\n",
      " 0.4710513  0.46924691 0.46749532 0.4657927  0.46413566 0.46252115\n",
      " 1.         1.         1.         1.         1.         1.\n",
      " 1.         1.         1.         1.         1.         1.\n",
      " 1.         1.         1.         1.         1.         1.\n",
      " 1.         1.         1.         1.         1.         1.\n",
      " 1.         1.         1.         1.         1.         1.\n",
      " 1.         1.         1.         1.         1.         1.\n",
      " 1.         1.         1.         1.         1.         1.\n",
      " 1.         1.         1.         1.         1.         1.\n",
      " 1.         1.         1.         1.         1.         1.\n",
      " 1.         1.         1.         1.        ]\n"
     ]
    },
    {
     "name": "stderr",
     "output_type": "stream",
     "text": [
      "\r",
      " 43%|████▎     | 43/100 [01:40<02:13,  2.34s/it]"
     ]
    },
    {
     "name": "stdout",
     "output_type": "stream",
     "text": [
      "[1.05951471 0.92956733 0.84043005 0.77645218 0.72867509 0.69177059\n",
      " 0.6624513  0.6386149  0.61886892 0.60225911 0.58810988 0.57592823\n",
      " 0.56534438 0.55607425 0.54789513 0.54062941 0.53413355 0.52829023\n",
      " 0.52300275 0.51819081 0.51378743 0.50973639 0.50599043 0.5025096\n",
      " 0.49926009 0.4962132  0.49334448 0.49063309 0.4880612  0.48561353\n",
      " 0.48327692 0.48104005 0.47889315 0.47682774 0.47483644 0.47291283\n",
      " 0.4710513  0.46924691 0.46749532 0.4657927  0.46413566 0.46252115\n",
      " 0.46094648 1.         1.         1.         1.         1.\n",
      " 1.         1.         1.         1.         1.         1.\n",
      " 1.         1.         1.         1.         1.         1.\n",
      " 1.         1.         1.         1.         1.         1.\n",
      " 1.         1.         1.         1.         1.         1.\n",
      " 1.         1.         1.         1.         1.         1.\n",
      " 1.         1.         1.         1.         1.         1.\n",
      " 1.         1.         1.         1.         1.         1.\n",
      " 1.         1.         1.         1.         1.         1.\n",
      " 1.         1.         1.         1.        ]\n"
     ]
    },
    {
     "name": "stderr",
     "output_type": "stream",
     "text": [
      "\r",
      " 44%|████▍     | 44/100 [01:42<02:13,  2.38s/it]"
     ]
    },
    {
     "name": "stdout",
     "output_type": "stream",
     "text": [
      "[1.05951471 0.92956733 0.84043005 0.77645218 0.72867509 0.69177059\n",
      " 0.6624513  0.6386149  0.61886892 0.60225911 0.58810988 0.57592823\n",
      " 0.56534438 0.55607425 0.54789513 0.54062941 0.53413355 0.52829023\n",
      " 0.52300275 0.51819081 0.51378743 0.50973639 0.50599043 0.5025096\n",
      " 0.49926009 0.4962132  0.49334448 0.49063309 0.4880612  0.48561353\n",
      " 0.48327692 0.48104005 0.47889315 0.47682774 0.47483644 0.47291283\n",
      " 0.4710513  0.46924691 0.46749532 0.4657927  0.46413566 0.46252115\n",
      " 0.46094648 0.45940923 1.         1.         1.         1.\n",
      " 1.         1.         1.         1.         1.         1.\n",
      " 1.         1.         1.         1.         1.         1.\n",
      " 1.         1.         1.         1.         1.         1.\n",
      " 1.         1.         1.         1.         1.         1.\n",
      " 1.         1.         1.         1.         1.         1.\n",
      " 1.         1.         1.         1.         1.         1.\n",
      " 1.         1.         1.         1.         1.         1.\n",
      " 1.         1.         1.         1.         1.         1.\n",
      " 1.         1.         1.         1.        ]\n"
     ]
    },
    {
     "name": "stderr",
     "output_type": "stream",
     "text": [
      "\r",
      " 45%|████▌     | 45/100 [01:45<02:12,  2.42s/it]"
     ]
    },
    {
     "name": "stdout",
     "output_type": "stream",
     "text": [
      "[1.05951471 0.92956733 0.84043005 0.77645218 0.72867509 0.69177059\n",
      " 0.6624513  0.6386149  0.61886892 0.60225911 0.58810988 0.57592823\n",
      " 0.56534438 0.55607425 0.54789513 0.54062941 0.53413355 0.52829023\n",
      " 0.52300275 0.51819081 0.51378743 0.50973639 0.50599043 0.5025096\n",
      " 0.49926009 0.4962132  0.49334448 0.49063309 0.4880612  0.48561353\n",
      " 0.48327692 0.48104005 0.47889315 0.47682774 0.47483644 0.47291283\n",
      " 0.4710513  0.46924691 0.46749532 0.4657927  0.46413566 0.46252115\n",
      " 0.46094648 0.45940923 0.45790721 1.         1.         1.\n",
      " 1.         1.         1.         1.         1.         1.\n",
      " 1.         1.         1.         1.         1.         1.\n",
      " 1.         1.         1.         1.         1.         1.\n",
      " 1.         1.         1.         1.         1.         1.\n",
      " 1.         1.         1.         1.         1.         1.\n",
      " 1.         1.         1.         1.         1.         1.\n",
      " 1.         1.         1.         1.         1.         1.\n",
      " 1.         1.         1.         1.         1.         1.\n",
      " 1.         1.         1.         1.        ]\n"
     ]
    },
    {
     "name": "stderr",
     "output_type": "stream",
     "text": [
      "\r",
      " 46%|████▌     | 46/100 [01:47<02:10,  2.42s/it]"
     ]
    },
    {
     "name": "stdout",
     "output_type": "stream",
     "text": [
      "[1.05951471 0.92956733 0.84043005 0.77645218 0.72867509 0.69177059\n",
      " 0.6624513  0.6386149  0.61886892 0.60225911 0.58810988 0.57592823\n",
      " 0.56534438 0.55607425 0.54789513 0.54062941 0.53413355 0.52829023\n",
      " 0.52300275 0.51819081 0.51378743 0.50973639 0.50599043 0.5025096\n",
      " 0.49926009 0.4962132  0.49334448 0.49063309 0.4880612  0.48561353\n",
      " 0.48327692 0.48104005 0.47889315 0.47682774 0.47483644 0.47291283\n",
      " 0.4710513  0.46924691 0.46749532 0.4657927  0.46413566 0.46252115\n",
      " 0.46094648 0.45940923 0.45790721 0.45643846 1.         1.\n",
      " 1.         1.         1.         1.         1.         1.\n",
      " 1.         1.         1.         1.         1.         1.\n",
      " 1.         1.         1.         1.         1.         1.\n",
      " 1.         1.         1.         1.         1.         1.\n",
      " 1.         1.         1.         1.         1.         1.\n",
      " 1.         1.         1.         1.         1.         1.\n",
      " 1.         1.         1.         1.         1.         1.\n",
      " 1.         1.         1.         1.         1.         1.\n",
      " 1.         1.         1.         1.        ]\n"
     ]
    },
    {
     "name": "stderr",
     "output_type": "stream",
     "text": [
      "\r",
      " 47%|████▋     | 47/100 [01:50<02:08,  2.42s/it]"
     ]
    },
    {
     "name": "stdout",
     "output_type": "stream",
     "text": [
      "[1.05951471 0.92956733 0.84043005 0.77645218 0.72867509 0.69177059\n",
      " 0.6624513  0.6386149  0.61886892 0.60225911 0.58810988 0.57592823\n",
      " 0.56534438 0.55607425 0.54789513 0.54062941 0.53413355 0.52829023\n",
      " 0.52300275 0.51819081 0.51378743 0.50973639 0.50599043 0.5025096\n",
      " 0.49926009 0.4962132  0.49334448 0.49063309 0.4880612  0.48561353\n",
      " 0.48327692 0.48104005 0.47889315 0.47682774 0.47483644 0.47291283\n",
      " 0.4710513  0.46924691 0.46749532 0.4657927  0.46413566 0.46252115\n",
      " 0.46094648 0.45940923 0.45790721 0.45643846 0.45500119 1.\n",
      " 1.         1.         1.         1.         1.         1.\n",
      " 1.         1.         1.         1.         1.         1.\n",
      " 1.         1.         1.         1.         1.         1.\n",
      " 1.         1.         1.         1.         1.         1.\n",
      " 1.         1.         1.         1.         1.         1.\n",
      " 1.         1.         1.         1.         1.         1.\n",
      " 1.         1.         1.         1.         1.         1.\n",
      " 1.         1.         1.         1.         1.         1.\n",
      " 1.         1.         1.         1.        ]\n"
     ]
    },
    {
     "name": "stderr",
     "output_type": "stream",
     "text": [
      "\r",
      " 48%|████▊     | 48/100 [01:52<02:06,  2.44s/it]"
     ]
    },
    {
     "name": "stdout",
     "output_type": "stream",
     "text": [
      "[1.05951471 0.92956733 0.84043005 0.77645218 0.72867509 0.69177059\n",
      " 0.6624513  0.6386149  0.61886892 0.60225911 0.58810988 0.57592823\n",
      " 0.56534438 0.55607425 0.54789513 0.54062941 0.53413355 0.52829023\n",
      " 0.52300275 0.51819081 0.51378743 0.50973639 0.50599043 0.5025096\n",
      " 0.49926009 0.4962132  0.49334448 0.49063309 0.4880612  0.48561353\n",
      " 0.48327692 0.48104005 0.47889315 0.47682774 0.47483644 0.47291283\n",
      " 0.4710513  0.46924691 0.46749532 0.4657927  0.46413566 0.46252115\n",
      " 0.46094648 0.45940923 0.45790721 0.45643846 0.45500119 0.45359378\n",
      " 1.         1.         1.         1.         1.         1.\n",
      " 1.         1.         1.         1.         1.         1.\n",
      " 1.         1.         1.         1.         1.         1.\n",
      " 1.         1.         1.         1.         1.         1.\n",
      " 1.         1.         1.         1.         1.         1.\n",
      " 1.         1.         1.         1.         1.         1.\n",
      " 1.         1.         1.         1.         1.         1.\n",
      " 1.         1.         1.         1.         1.         1.\n",
      " 1.         1.         1.         1.        ]\n"
     ]
    },
    {
     "name": "stderr",
     "output_type": "stream",
     "text": [
      "\r",
      " 49%|████▉     | 49/100 [01:54<02:03,  2.43s/it]"
     ]
    },
    {
     "name": "stdout",
     "output_type": "stream",
     "text": [
      "[1.05951471 0.92956733 0.84043005 0.77645218 0.72867509 0.69177059\n",
      " 0.6624513  0.6386149  0.61886892 0.60225911 0.58810988 0.57592823\n",
      " 0.56534438 0.55607425 0.54789513 0.54062941 0.53413355 0.52829023\n",
      " 0.52300275 0.51819081 0.51378743 0.50973639 0.50599043 0.5025096\n",
      " 0.49926009 0.4962132  0.49334448 0.49063309 0.4880612  0.48561353\n",
      " 0.48327692 0.48104005 0.47889315 0.47682774 0.47483644 0.47291283\n",
      " 0.4710513  0.46924691 0.46749532 0.4657927  0.46413566 0.46252115\n",
      " 0.46094648 0.45940923 0.45790721 0.45643846 0.45500119 0.45359378\n",
      " 0.45221475 1.         1.         1.         1.         1.\n",
      " 1.         1.         1.         1.         1.         1.\n",
      " 1.         1.         1.         1.         1.         1.\n",
      " 1.         1.         1.         1.         1.         1.\n",
      " 1.         1.         1.         1.         1.         1.\n",
      " 1.         1.         1.         1.         1.         1.\n",
      " 1.         1.         1.         1.         1.         1.\n",
      " 1.         1.         1.         1.         1.         1.\n",
      " 1.         1.         1.         1.        ]\n"
     ]
    },
    {
     "name": "stderr",
     "output_type": "stream",
     "text": [
      "\r",
      " 50%|█████     | 50/100 [01:57<02:01,  2.43s/it]"
     ]
    },
    {
     "name": "stdout",
     "output_type": "stream",
     "text": [
      "[1.05951471 0.92956733 0.84043005 0.77645218 0.72867509 0.69177059\n",
      " 0.6624513  0.6386149  0.61886892 0.60225911 0.58810988 0.57592823\n",
      " 0.56534438 0.55607425 0.54789513 0.54062941 0.53413355 0.52829023\n",
      " 0.52300275 0.51819081 0.51378743 0.50973639 0.50599043 0.5025096\n",
      " 0.49926009 0.4962132  0.49334448 0.49063309 0.4880612  0.48561353\n",
      " 0.48327692 0.48104005 0.47889315 0.47682774 0.47483644 0.47291283\n",
      " 0.4710513  0.46924691 0.46749532 0.4657927  0.46413566 0.46252115\n",
      " 0.46094648 0.45940923 0.45790721 0.45643846 0.45500119 0.45359378\n",
      " 0.45221475 0.45086273 1.         1.         1.         1.\n",
      " 1.         1.         1.         1.         1.         1.\n",
      " 1.         1.         1.         1.         1.         1.\n",
      " 1.         1.         1.         1.         1.         1.\n",
      " 1.         1.         1.         1.         1.         1.\n",
      " 1.         1.         1.         1.         1.         1.\n",
      " 1.         1.         1.         1.         1.         1.\n",
      " 1.         1.         1.         1.         1.         1.\n",
      " 1.         1.         1.         1.        ]\n"
     ]
    },
    {
     "name": "stderr",
     "output_type": "stream",
     "text": [
      "\r",
      " 51%|█████     | 51/100 [01:59<01:59,  2.44s/it]"
     ]
    },
    {
     "name": "stdout",
     "output_type": "stream",
     "text": [
      "[1.05951471 0.92956733 0.84043005 0.77645218 0.72867509 0.69177059\n",
      " 0.6624513  0.6386149  0.61886892 0.60225911 0.58810988 0.57592823\n",
      " 0.56534438 0.55607425 0.54789513 0.54062941 0.53413355 0.52829023\n",
      " 0.52300275 0.51819081 0.51378743 0.50973639 0.50599043 0.5025096\n",
      " 0.49926009 0.4962132  0.49334448 0.49063309 0.4880612  0.48561353\n",
      " 0.48327692 0.48104005 0.47889315 0.47682774 0.47483644 0.47291283\n",
      " 0.4710513  0.46924691 0.46749532 0.4657927  0.46413566 0.46252115\n",
      " 0.46094648 0.45940923 0.45790721 0.45643846 0.45500119 0.45359378\n",
      " 0.45221475 0.45086273 0.44953649 1.         1.         1.\n",
      " 1.         1.         1.         1.         1.         1.\n",
      " 1.         1.         1.         1.         1.         1.\n",
      " 1.         1.         1.         1.         1.         1.\n",
      " 1.         1.         1.         1.         1.         1.\n",
      " 1.         1.         1.         1.         1.         1.\n",
      " 1.         1.         1.         1.         1.         1.\n",
      " 1.         1.         1.         1.         1.         1.\n",
      " 1.         1.         1.         1.        ]\n"
     ]
    },
    {
     "name": "stderr",
     "output_type": "stream",
     "text": [
      "\r",
      " 52%|█████▏    | 52/100 [02:02<01:56,  2.43s/it]"
     ]
    },
    {
     "name": "stdout",
     "output_type": "stream",
     "text": [
      "[1.05951471 0.92956733 0.84043005 0.77645218 0.72867509 0.69177059\n",
      " 0.6624513  0.6386149  0.61886892 0.60225911 0.58810988 0.57592823\n",
      " 0.56534438 0.55607425 0.54789513 0.54062941 0.53413355 0.52829023\n",
      " 0.52300275 0.51819081 0.51378743 0.50973639 0.50599043 0.5025096\n",
      " 0.49926009 0.4962132  0.49334448 0.49063309 0.4880612  0.48561353\n",
      " 0.48327692 0.48104005 0.47889315 0.47682774 0.47483644 0.47291283\n",
      " 0.4710513  0.46924691 0.46749532 0.4657927  0.46413566 0.46252115\n",
      " 0.46094648 0.45940923 0.45790721 0.45643846 0.45500119 0.45359378\n",
      " 0.45221475 0.45086273 0.44953649 0.44823487 1.         1.\n",
      " 1.         1.         1.         1.         1.         1.\n",
      " 1.         1.         1.         1.         1.         1.\n",
      " 1.         1.         1.         1.         1.         1.\n",
      " 1.         1.         1.         1.         1.         1.\n",
      " 1.         1.         1.         1.         1.         1.\n",
      " 1.         1.         1.         1.         1.         1.\n",
      " 1.         1.         1.         1.         1.         1.\n",
      " 1.         1.         1.         1.        ]\n"
     ]
    },
    {
     "name": "stderr",
     "output_type": "stream",
     "text": [
      "\r",
      " 53%|█████▎    | 53/100 [02:04<01:53,  2.42s/it]"
     ]
    },
    {
     "name": "stdout",
     "output_type": "stream",
     "text": [
      "[1.05951471 0.92956733 0.84043005 0.77645218 0.72867509 0.69177059\n",
      " 0.6624513  0.6386149  0.61886892 0.60225911 0.58810988 0.57592823\n",
      " 0.56534438 0.55607425 0.54789513 0.54062941 0.53413355 0.52829023\n",
      " 0.52300275 0.51819081 0.51378743 0.50973639 0.50599043 0.5025096\n",
      " 0.49926009 0.4962132  0.49334448 0.49063309 0.4880612  0.48561353\n",
      " 0.48327692 0.48104005 0.47889315 0.47682774 0.47483644 0.47291283\n",
      " 0.4710513  0.46924691 0.46749532 0.4657927  0.46413566 0.46252115\n",
      " 0.46094648 0.45940923 0.45790721 0.45643846 0.45500119 0.45359378\n",
      " 0.45221475 0.45086273 0.44953649 0.44823487 0.44695681 1.\n",
      " 1.         1.         1.         1.         1.         1.\n",
      " 1.         1.         1.         1.         1.         1.\n",
      " 1.         1.         1.         1.         1.         1.\n",
      " 1.         1.         1.         1.         1.         1.\n",
      " 1.         1.         1.         1.         1.         1.\n",
      " 1.         1.         1.         1.         1.         1.\n",
      " 1.         1.         1.         1.         1.         1.\n",
      " 1.         1.         1.         1.        ]\n"
     ]
    },
    {
     "name": "stderr",
     "output_type": "stream",
     "text": [
      "\r",
      " 54%|█████▍    | 54/100 [02:07<01:52,  2.45s/it]"
     ]
    },
    {
     "name": "stdout",
     "output_type": "stream",
     "text": [
      "[1.05951471 0.92956733 0.84043005 0.77645218 0.72867509 0.69177059\n",
      " 0.6624513  0.6386149  0.61886892 0.60225911 0.58810988 0.57592823\n",
      " 0.56534438 0.55607425 0.54789513 0.54062941 0.53413355 0.52829023\n",
      " 0.52300275 0.51819081 0.51378743 0.50973639 0.50599043 0.5025096\n",
      " 0.49926009 0.4962132  0.49334448 0.49063309 0.4880612  0.48561353\n",
      " 0.48327692 0.48104005 0.47889315 0.47682774 0.47483644 0.47291283\n",
      " 0.4710513  0.46924691 0.46749532 0.4657927  0.46413566 0.46252115\n",
      " 0.46094648 0.45940923 0.45790721 0.45643846 0.45500119 0.45359378\n",
      " 0.45221475 0.45086273 0.44953649 0.44823487 0.44695681 0.44570132\n",
      " 1.         1.         1.         1.         1.         1.\n",
      " 1.         1.         1.         1.         1.         1.\n",
      " 1.         1.         1.         1.         1.         1.\n",
      " 1.         1.         1.         1.         1.         1.\n",
      " 1.         1.         1.         1.         1.         1.\n",
      " 1.         1.         1.         1.         1.         1.\n",
      " 1.         1.         1.         1.         1.         1.\n",
      " 1.         1.         1.         1.        ]\n"
     ]
    },
    {
     "name": "stderr",
     "output_type": "stream",
     "text": [
      "\r",
      " 55%|█████▌    | 55/100 [02:09<01:49,  2.44s/it]"
     ]
    },
    {
     "name": "stdout",
     "output_type": "stream",
     "text": [
      "[1.05951471 0.92956733 0.84043005 0.77645218 0.72867509 0.69177059\n",
      " 0.6624513  0.6386149  0.61886892 0.60225911 0.58810988 0.57592823\n",
      " 0.56534438 0.55607425 0.54789513 0.54062941 0.53413355 0.52829023\n",
      " 0.52300275 0.51819081 0.51378743 0.50973639 0.50599043 0.5025096\n",
      " 0.49926009 0.4962132  0.49334448 0.49063309 0.4880612  0.48561353\n",
      " 0.48327692 0.48104005 0.47889315 0.47682774 0.47483644 0.47291283\n",
      " 0.4710513  0.46924691 0.46749532 0.4657927  0.46413566 0.46252115\n",
      " 0.46094648 0.45940923 0.45790721 0.45643846 0.45500119 0.45359378\n",
      " 0.45221475 0.45086273 0.44953649 0.44823487 0.44695681 0.44570132\n",
      " 0.4444675  1.         1.         1.         1.         1.\n",
      " 1.         1.         1.         1.         1.         1.\n",
      " 1.         1.         1.         1.         1.         1.\n",
      " 1.         1.         1.         1.         1.         1.\n",
      " 1.         1.         1.         1.         1.         1.\n",
      " 1.         1.         1.         1.         1.         1.\n",
      " 1.         1.         1.         1.         1.         1.\n",
      " 1.         1.         1.         1.        ]\n"
     ]
    },
    {
     "name": "stderr",
     "output_type": "stream",
     "text": [
      "\r",
      " 56%|█████▌    | 56/100 [02:12<01:46,  2.43s/it]"
     ]
    },
    {
     "name": "stdout",
     "output_type": "stream",
     "text": [
      "[1.05951471 0.92956733 0.84043005 0.77645218 0.72867509 0.69177059\n",
      " 0.6624513  0.6386149  0.61886892 0.60225911 0.58810988 0.57592823\n",
      " 0.56534438 0.55607425 0.54789513 0.54062941 0.53413355 0.52829023\n",
      " 0.52300275 0.51819081 0.51378743 0.50973639 0.50599043 0.5025096\n",
      " 0.49926009 0.4962132  0.49334448 0.49063309 0.4880612  0.48561353\n",
      " 0.48327692 0.48104005 0.47889315 0.47682774 0.47483644 0.47291283\n",
      " 0.4710513  0.46924691 0.46749532 0.4657927  0.46413566 0.46252115\n",
      " 0.46094648 0.45940923 0.45790721 0.45643846 0.45500119 0.45359378\n",
      " 0.45221475 0.45086273 0.44953649 0.44823487 0.44695681 0.44570132\n",
      " 0.4444675  0.44325449 1.         1.         1.         1.\n",
      " 1.         1.         1.         1.         1.         1.\n",
      " 1.         1.         1.         1.         1.         1.\n",
      " 1.         1.         1.         1.         1.         1.\n",
      " 1.         1.         1.         1.         1.         1.\n",
      " 1.         1.         1.         1.         1.         1.\n",
      " 1.         1.         1.         1.         1.         1.\n",
      " 1.         1.         1.         1.        ]\n"
     ]
    },
    {
     "name": "stderr",
     "output_type": "stream",
     "text": [
      "\r",
      " 57%|█████▋    | 57/100 [02:14<01:45,  2.44s/it]"
     ]
    },
    {
     "name": "stdout",
     "output_type": "stream",
     "text": [
      "[1.05951471 0.92956733 0.84043005 0.77645218 0.72867509 0.69177059\n",
      " 0.6624513  0.6386149  0.61886892 0.60225911 0.58810988 0.57592823\n",
      " 0.56534438 0.55607425 0.54789513 0.54062941 0.53413355 0.52829023\n",
      " 0.52300275 0.51819081 0.51378743 0.50973639 0.50599043 0.5025096\n",
      " 0.49926009 0.4962132  0.49334448 0.49063309 0.4880612  0.48561353\n",
      " 0.48327692 0.48104005 0.47889315 0.47682774 0.47483644 0.47291283\n",
      " 0.4710513  0.46924691 0.46749532 0.4657927  0.46413566 0.46252115\n",
      " 0.46094648 0.45940923 0.45790721 0.45643846 0.45500119 0.45359378\n",
      " 0.45221475 0.45086273 0.44953649 0.44823487 0.44695681 0.44570132\n",
      " 0.4444675  0.44325449 0.4420615  1.         1.         1.\n",
      " 1.         1.         1.         1.         1.         1.\n",
      " 1.         1.         1.         1.         1.         1.\n",
      " 1.         1.         1.         1.         1.         1.\n",
      " 1.         1.         1.         1.         1.         1.\n",
      " 1.         1.         1.         1.         1.         1.\n",
      " 1.         1.         1.         1.         1.         1.\n",
      " 1.         1.         1.         1.        ]\n"
     ]
    },
    {
     "name": "stderr",
     "output_type": "stream",
     "text": [
      "\r",
      " 58%|█████▊    | 58/100 [02:16<01:39,  2.37s/it]"
     ]
    },
    {
     "name": "stdout",
     "output_type": "stream",
     "text": [
      "[1.05951471 0.92956733 0.84043005 0.77645218 0.72867509 0.69177059\n",
      " 0.6624513  0.6386149  0.61886892 0.60225911 0.58810988 0.57592823\n",
      " 0.56534438 0.55607425 0.54789513 0.54062941 0.53413355 0.52829023\n",
      " 0.52300275 0.51819081 0.51378743 0.50973639 0.50599043 0.5025096\n",
      " 0.49926009 0.4962132  0.49334448 0.49063309 0.4880612  0.48561353\n",
      " 0.48327692 0.48104005 0.47889315 0.47682774 0.47483644 0.47291283\n",
      " 0.4710513  0.46924691 0.46749532 0.4657927  0.46413566 0.46252115\n",
      " 0.46094648 0.45940923 0.45790721 0.45643846 0.45500119 0.45359378\n",
      " 0.45221475 0.45086273 0.44953649 0.44823487 0.44695681 0.44570132\n",
      " 0.4444675  0.44325449 0.4420615  0.44088777 1.         1.\n",
      " 1.         1.         1.         1.         1.         1.\n",
      " 1.         1.         1.         1.         1.         1.\n",
      " 1.         1.         1.         1.         1.         1.\n",
      " 1.         1.         1.         1.         1.         1.\n",
      " 1.         1.         1.         1.         1.         1.\n",
      " 1.         1.         1.         1.         1.         1.\n",
      " 1.         1.         1.         1.        ]\n"
     ]
    },
    {
     "name": "stderr",
     "output_type": "stream",
     "text": [
      "\r",
      " 59%|█████▉    | 59/100 [02:19<01:38,  2.40s/it]"
     ]
    },
    {
     "name": "stdout",
     "output_type": "stream",
     "text": [
      "[1.05951471 0.92956733 0.84043005 0.77645218 0.72867509 0.69177059\n",
      " 0.6624513  0.6386149  0.61886892 0.60225911 0.58810988 0.57592823\n",
      " 0.56534438 0.55607425 0.54789513 0.54062941 0.53413355 0.52829023\n",
      " 0.52300275 0.51819081 0.51378743 0.50973639 0.50599043 0.5025096\n",
      " 0.49926009 0.4962132  0.49334448 0.49063309 0.4880612  0.48561353\n",
      " 0.48327692 0.48104005 0.47889315 0.47682774 0.47483644 0.47291283\n",
      " 0.4710513  0.46924691 0.46749532 0.4657927  0.46413566 0.46252115\n",
      " 0.46094648 0.45940923 0.45790721 0.45643846 0.45500119 0.45359378\n",
      " 0.45221475 0.45086273 0.44953649 0.44823487 0.44695681 0.44570132\n",
      " 0.4444675  0.44325449 0.4420615  0.44088777 0.43973261 1.\n",
      " 1.         1.         1.         1.         1.         1.\n",
      " 1.         1.         1.         1.         1.         1.\n",
      " 1.         1.         1.         1.         1.         1.\n",
      " 1.         1.         1.         1.         1.         1.\n",
      " 1.         1.         1.         1.         1.         1.\n",
      " 1.         1.         1.         1.         1.         1.\n",
      " 1.         1.         1.         1.        ]\n"
     ]
    },
    {
     "name": "stderr",
     "output_type": "stream",
     "text": [
      "\r",
      " 60%|██████    | 60/100 [02:21<01:38,  2.46s/it]"
     ]
    },
    {
     "name": "stdout",
     "output_type": "stream",
     "text": [
      "[1.05951471 0.92956733 0.84043005 0.77645218 0.72867509 0.69177059\n",
      " 0.6624513  0.6386149  0.61886892 0.60225911 0.58810988 0.57592823\n",
      " 0.56534438 0.55607425 0.54789513 0.54062941 0.53413355 0.52829023\n",
      " 0.52300275 0.51819081 0.51378743 0.50973639 0.50599043 0.5025096\n",
      " 0.49926009 0.4962132  0.49334448 0.49063309 0.4880612  0.48561353\n",
      " 0.48327692 0.48104005 0.47889315 0.47682774 0.47483644 0.47291283\n",
      " 0.4710513  0.46924691 0.46749532 0.4657927  0.46413566 0.46252115\n",
      " 0.46094648 0.45940923 0.45790721 0.45643846 0.45500119 0.45359378\n",
      " 0.45221475 0.45086273 0.44953649 0.44823487 0.44695681 0.44570132\n",
      " 0.4444675  0.44325449 0.4420615  0.44088777 0.43973261 0.43859536\n",
      " 1.         1.         1.         1.         1.         1.\n",
      " 1.         1.         1.         1.         1.         1.\n",
      " 1.         1.         1.         1.         1.         1.\n",
      " 1.         1.         1.         1.         1.         1.\n",
      " 1.         1.         1.         1.         1.         1.\n",
      " 1.         1.         1.         1.         1.         1.\n",
      " 1.         1.         1.         1.        ]\n"
     ]
    },
    {
     "name": "stderr",
     "output_type": "stream",
     "text": [
      "\r",
      " 61%|██████    | 61/100 [02:24<01:35,  2.46s/it]"
     ]
    },
    {
     "name": "stdout",
     "output_type": "stream",
     "text": [
      "[1.05951471 0.92956733 0.84043005 0.77645218 0.72867509 0.69177059\n",
      " 0.6624513  0.6386149  0.61886892 0.60225911 0.58810988 0.57592823\n",
      " 0.56534438 0.55607425 0.54789513 0.54062941 0.53413355 0.52829023\n",
      " 0.52300275 0.51819081 0.51378743 0.50973639 0.50599043 0.5025096\n",
      " 0.49926009 0.4962132  0.49334448 0.49063309 0.4880612  0.48561353\n",
      " 0.48327692 0.48104005 0.47889315 0.47682774 0.47483644 0.47291283\n",
      " 0.4710513  0.46924691 0.46749532 0.4657927  0.46413566 0.46252115\n",
      " 0.46094648 0.45940923 0.45790721 0.45643846 0.45500119 0.45359378\n",
      " 0.45221475 0.45086273 0.44953649 0.44823487 0.44695681 0.44570132\n",
      " 0.4444675  0.44325449 0.4420615  0.44088777 0.43973261 0.43859536\n",
      " 0.4374754  1.         1.         1.         1.         1.\n",
      " 1.         1.         1.         1.         1.         1.\n",
      " 1.         1.         1.         1.         1.         1.\n",
      " 1.         1.         1.         1.         1.         1.\n",
      " 1.         1.         1.         1.         1.         1.\n",
      " 1.         1.         1.         1.         1.         1.\n",
      " 1.         1.         1.         1.        ]\n"
     ]
    },
    {
     "name": "stderr",
     "output_type": "stream",
     "text": [
      "\r",
      " 62%|██████▏   | 62/100 [02:26<01:34,  2.47s/it]"
     ]
    },
    {
     "name": "stdout",
     "output_type": "stream",
     "text": [
      "[1.05951471 0.92956733 0.84043005 0.77645218 0.72867509 0.69177059\n",
      " 0.6624513  0.6386149  0.61886892 0.60225911 0.58810988 0.57592823\n",
      " 0.56534438 0.55607425 0.54789513 0.54062941 0.53413355 0.52829023\n",
      " 0.52300275 0.51819081 0.51378743 0.50973639 0.50599043 0.5025096\n",
      " 0.49926009 0.4962132  0.49334448 0.49063309 0.4880612  0.48561353\n",
      " 0.48327692 0.48104005 0.47889315 0.47682774 0.47483644 0.47291283\n",
      " 0.4710513  0.46924691 0.46749532 0.4657927  0.46413566 0.46252115\n",
      " 0.46094648 0.45940923 0.45790721 0.45643846 0.45500119 0.45359378\n",
      " 0.45221475 0.45086273 0.44953649 0.44823487 0.44695681 0.44570132\n",
      " 0.4444675  0.44325449 0.4420615  0.44088777 0.43973261 0.43859536\n",
      " 0.4374754  0.43637215 1.         1.         1.         1.\n",
      " 1.         1.         1.         1.         1.         1.\n",
      " 1.         1.         1.         1.         1.         1.\n",
      " 1.         1.         1.         1.         1.         1.\n",
      " 1.         1.         1.         1.         1.         1.\n",
      " 1.         1.         1.         1.         1.         1.\n",
      " 1.         1.         1.         1.        ]\n"
     ]
    },
    {
     "name": "stderr",
     "output_type": "stream",
     "text": [
      "\r",
      " 63%|██████▎   | 63/100 [02:29<01:33,  2.52s/it]"
     ]
    },
    {
     "name": "stdout",
     "output_type": "stream",
     "text": [
      "[1.05951471 0.92956733 0.84043005 0.77645218 0.72867509 0.69177059\n",
      " 0.6624513  0.6386149  0.61886892 0.60225911 0.58810988 0.57592823\n",
      " 0.56534438 0.55607425 0.54789513 0.54062941 0.53413355 0.52829023\n",
      " 0.52300275 0.51819081 0.51378743 0.50973639 0.50599043 0.5025096\n",
      " 0.49926009 0.4962132  0.49334448 0.49063309 0.4880612  0.48561353\n",
      " 0.48327692 0.48104005 0.47889315 0.47682774 0.47483644 0.47291283\n",
      " 0.4710513  0.46924691 0.46749532 0.4657927  0.46413566 0.46252115\n",
      " 0.46094648 0.45940923 0.45790721 0.45643846 0.45500119 0.45359378\n",
      " 0.45221475 0.45086273 0.44953649 0.44823487 0.44695681 0.44570132\n",
      " 0.4444675  0.44325449 0.4420615  0.44088777 0.43973261 0.43859536\n",
      " 0.4374754  0.43637215 0.43528506 1.         1.         1.\n",
      " 1.         1.         1.         1.         1.         1.\n",
      " 1.         1.         1.         1.         1.         1.\n",
      " 1.         1.         1.         1.         1.         1.\n",
      " 1.         1.         1.         1.         1.         1.\n",
      " 1.         1.         1.         1.         1.         1.\n",
      " 1.         1.         1.         1.        ]\n"
     ]
    },
    {
     "name": "stderr",
     "output_type": "stream",
     "text": [
      "\r",
      " 64%|██████▍   | 64/100 [02:31<01:29,  2.50s/it]"
     ]
    },
    {
     "name": "stdout",
     "output_type": "stream",
     "text": [
      "[1.05951471 0.92956733 0.84043005 0.77645218 0.72867509 0.69177059\n",
      " 0.6624513  0.6386149  0.61886892 0.60225911 0.58810988 0.57592823\n",
      " 0.56534438 0.55607425 0.54789513 0.54062941 0.53413355 0.52829023\n",
      " 0.52300275 0.51819081 0.51378743 0.50973639 0.50599043 0.5025096\n",
      " 0.49926009 0.4962132  0.49334448 0.49063309 0.4880612  0.48561353\n",
      " 0.48327692 0.48104005 0.47889315 0.47682774 0.47483644 0.47291283\n",
      " 0.4710513  0.46924691 0.46749532 0.4657927  0.46413566 0.46252115\n",
      " 0.46094648 0.45940923 0.45790721 0.45643846 0.45500119 0.45359378\n",
      " 0.45221475 0.45086273 0.44953649 0.44823487 0.44695681 0.44570132\n",
      " 0.4444675  0.44325449 0.4420615  0.44088777 0.43973261 0.43859536\n",
      " 0.4374754  0.43637215 0.43528506 0.4342136  1.         1.\n",
      " 1.         1.         1.         1.         1.         1.\n",
      " 1.         1.         1.         1.         1.         1.\n",
      " 1.         1.         1.         1.         1.         1.\n",
      " 1.         1.         1.         1.         1.         1.\n",
      " 1.         1.         1.         1.         1.         1.\n",
      " 1.         1.         1.         1.        ]\n"
     ]
    },
    {
     "name": "stderr",
     "output_type": "stream",
     "text": [
      "\r",
      " 65%|██████▌   | 65/100 [02:34<01:27,  2.50s/it]"
     ]
    },
    {
     "name": "stdout",
     "output_type": "stream",
     "text": [
      "[1.05951471 0.92956733 0.84043005 0.77645218 0.72867509 0.69177059\n",
      " 0.6624513  0.6386149  0.61886892 0.60225911 0.58810988 0.57592823\n",
      " 0.56534438 0.55607425 0.54789513 0.54062941 0.53413355 0.52829023\n",
      " 0.52300275 0.51819081 0.51378743 0.50973639 0.50599043 0.5025096\n",
      " 0.49926009 0.4962132  0.49334448 0.49063309 0.4880612  0.48561353\n",
      " 0.48327692 0.48104005 0.47889315 0.47682774 0.47483644 0.47291283\n",
      " 0.4710513  0.46924691 0.46749532 0.4657927  0.46413566 0.46252115\n",
      " 0.46094648 0.45940923 0.45790721 0.45643846 0.45500119 0.45359378\n",
      " 0.45221475 0.45086273 0.44953649 0.44823487 0.44695681 0.44570132\n",
      " 0.4444675  0.44325449 0.4420615  0.44088777 0.43973261 0.43859536\n",
      " 0.4374754  0.43637215 0.43528506 0.4342136  0.43315728 1.\n",
      " 1.         1.         1.         1.         1.         1.\n",
      " 1.         1.         1.         1.         1.         1.\n",
      " 1.         1.         1.         1.         1.         1.\n",
      " 1.         1.         1.         1.         1.         1.\n",
      " 1.         1.         1.         1.         1.         1.\n",
      " 1.         1.         1.         1.        ]\n"
     ]
    },
    {
     "name": "stderr",
     "output_type": "stream",
     "text": [
      "\r",
      " 66%|██████▌   | 66/100 [02:36<01:25,  2.51s/it]"
     ]
    },
    {
     "name": "stdout",
     "output_type": "stream",
     "text": [
      "[1.05951471 0.92956733 0.84043005 0.77645218 0.72867509 0.69177059\n",
      " 0.6624513  0.6386149  0.61886892 0.60225911 0.58810988 0.57592823\n",
      " 0.56534438 0.55607425 0.54789513 0.54062941 0.53413355 0.52829023\n",
      " 0.52300275 0.51819081 0.51378743 0.50973639 0.50599043 0.5025096\n",
      " 0.49926009 0.4962132  0.49334448 0.49063309 0.4880612  0.48561353\n",
      " 0.48327692 0.48104005 0.47889315 0.47682774 0.47483644 0.47291283\n",
      " 0.4710513  0.46924691 0.46749532 0.4657927  0.46413566 0.46252115\n",
      " 0.46094648 0.45940923 0.45790721 0.45643846 0.45500119 0.45359378\n",
      " 0.45221475 0.45086273 0.44953649 0.44823487 0.44695681 0.44570132\n",
      " 0.4444675  0.44325449 0.4420615  0.44088777 0.43973261 0.43859536\n",
      " 0.4374754  0.43637215 0.43528506 0.4342136  0.43315728 0.43211563\n",
      " 1.         1.         1.         1.         1.         1.\n",
      " 1.         1.         1.         1.         1.         1.\n",
      " 1.         1.         1.         1.         1.         1.\n",
      " 1.         1.         1.         1.         1.         1.\n",
      " 1.         1.         1.         1.         1.         1.\n",
      " 1.         1.         1.         1.        ]\n"
     ]
    },
    {
     "name": "stderr",
     "output_type": "stream",
     "text": [
      "\r",
      " 67%|██████▋   | 67/100 [02:39<01:20,  2.44s/it]"
     ]
    },
    {
     "name": "stdout",
     "output_type": "stream",
     "text": [
      "[1.05951471 0.92956733 0.84043005 0.77645218 0.72867509 0.69177059\n",
      " 0.6624513  0.6386149  0.61886892 0.60225911 0.58810988 0.57592823\n",
      " 0.56534438 0.55607425 0.54789513 0.54062941 0.53413355 0.52829023\n",
      " 0.52300275 0.51819081 0.51378743 0.50973639 0.50599043 0.5025096\n",
      " 0.49926009 0.4962132  0.49334448 0.49063309 0.4880612  0.48561353\n",
      " 0.48327692 0.48104005 0.47889315 0.47682774 0.47483644 0.47291283\n",
      " 0.4710513  0.46924691 0.46749532 0.4657927  0.46413566 0.46252115\n",
      " 0.46094648 0.45940923 0.45790721 0.45643846 0.45500119 0.45359378\n",
      " 0.45221475 0.45086273 0.44953649 0.44823487 0.44695681 0.44570132\n",
      " 0.4444675  0.44325449 0.4420615  0.44088777 0.43973261 0.43859536\n",
      " 0.4374754  0.43637215 0.43528506 0.4342136  0.43315728 0.43211563\n",
      " 0.4310882  1.         1.         1.         1.         1.\n",
      " 1.         1.         1.         1.         1.         1.\n",
      " 1.         1.         1.         1.         1.         1.\n",
      " 1.         1.         1.         1.         1.         1.\n",
      " 1.         1.         1.         1.         1.         1.\n",
      " 1.         1.         1.         1.        ]\n"
     ]
    },
    {
     "name": "stderr",
     "output_type": "stream",
     "text": [
      "\r",
      " 68%|██████▊   | 68/100 [02:41<01:16,  2.39s/it]"
     ]
    },
    {
     "name": "stdout",
     "output_type": "stream",
     "text": [
      "[1.05951471 0.92956733 0.84043005 0.77645218 0.72867509 0.69177059\n",
      " 0.6624513  0.6386149  0.61886892 0.60225911 0.58810988 0.57592823\n",
      " 0.56534438 0.55607425 0.54789513 0.54062941 0.53413355 0.52829023\n",
      " 0.52300275 0.51819081 0.51378743 0.50973639 0.50599043 0.5025096\n",
      " 0.49926009 0.4962132  0.49334448 0.49063309 0.4880612  0.48561353\n",
      " 0.48327692 0.48104005 0.47889315 0.47682774 0.47483644 0.47291283\n",
      " 0.4710513  0.46924691 0.46749532 0.4657927  0.46413566 0.46252115\n",
      " 0.46094648 0.45940923 0.45790721 0.45643846 0.45500119 0.45359378\n",
      " 0.45221475 0.45086273 0.44953649 0.44823487 0.44695681 0.44570132\n",
      " 0.4444675  0.44325449 0.4420615  0.44088777 0.43973261 0.43859536\n",
      " 0.4374754  0.43637215 0.43528506 0.4342136  0.43315728 0.43211563\n",
      " 0.4310882  0.43007456 1.         1.         1.         1.\n",
      " 1.         1.         1.         1.         1.         1.\n",
      " 1.         1.         1.         1.         1.         1.\n",
      " 1.         1.         1.         1.         1.         1.\n",
      " 1.         1.         1.         1.         1.         1.\n",
      " 1.         1.         1.         1.        ]\n"
     ]
    },
    {
     "name": "stderr",
     "output_type": "stream",
     "text": [
      "\r",
      " 69%|██████▉   | 69/100 [02:43<01:13,  2.37s/it]"
     ]
    },
    {
     "name": "stdout",
     "output_type": "stream",
     "text": [
      "[1.05951471 0.92956733 0.84043005 0.77645218 0.72867509 0.69177059\n",
      " 0.6624513  0.6386149  0.61886892 0.60225911 0.58810988 0.57592823\n",
      " 0.56534438 0.55607425 0.54789513 0.54062941 0.53413355 0.52829023\n",
      " 0.52300275 0.51819081 0.51378743 0.50973639 0.50599043 0.5025096\n",
      " 0.49926009 0.4962132  0.49334448 0.49063309 0.4880612  0.48561353\n",
      " 0.48327692 0.48104005 0.47889315 0.47682774 0.47483644 0.47291283\n",
      " 0.4710513  0.46924691 0.46749532 0.4657927  0.46413566 0.46252115\n",
      " 0.46094648 0.45940923 0.45790721 0.45643846 0.45500119 0.45359378\n",
      " 0.45221475 0.45086273 0.44953649 0.44823487 0.44695681 0.44570132\n",
      " 0.4444675  0.44325449 0.4420615  0.44088777 0.43973261 0.43859536\n",
      " 0.4374754  0.43637215 0.43528506 0.4342136  0.43315728 0.43211563\n",
      " 0.4310882  0.43007456 0.42907432 1.         1.         1.\n",
      " 1.         1.         1.         1.         1.         1.\n",
      " 1.         1.         1.         1.         1.         1.\n",
      " 1.         1.         1.         1.         1.         1.\n",
      " 1.         1.         1.         1.         1.         1.\n",
      " 1.         1.         1.         1.        ]\n"
     ]
    },
    {
     "name": "stderr",
     "output_type": "stream",
     "text": [
      "\r",
      " 70%|███████   | 70/100 [02:45<01:09,  2.31s/it]"
     ]
    },
    {
     "name": "stdout",
     "output_type": "stream",
     "text": [
      "[1.05951471 0.92956733 0.84043005 0.77645218 0.72867509 0.69177059\n",
      " 0.6624513  0.6386149  0.61886892 0.60225911 0.58810988 0.57592823\n",
      " 0.56534438 0.55607425 0.54789513 0.54062941 0.53413355 0.52829023\n",
      " 0.52300275 0.51819081 0.51378743 0.50973639 0.50599043 0.5025096\n",
      " 0.49926009 0.4962132  0.49334448 0.49063309 0.4880612  0.48561353\n",
      " 0.48327692 0.48104005 0.47889315 0.47682774 0.47483644 0.47291283\n",
      " 0.4710513  0.46924691 0.46749532 0.4657927  0.46413566 0.46252115\n",
      " 0.46094648 0.45940923 0.45790721 0.45643846 0.45500119 0.45359378\n",
      " 0.45221475 0.45086273 0.44953649 0.44823487 0.44695681 0.44570132\n",
      " 0.4444675  0.44325449 0.4420615  0.44088777 0.43973261 0.43859536\n",
      " 0.4374754  0.43637215 0.43528506 0.4342136  0.43315728 0.43211563\n",
      " 0.4310882  0.43007456 0.42907432 0.42808708 1.         1.\n",
      " 1.         1.         1.         1.         1.         1.\n",
      " 1.         1.         1.         1.         1.         1.\n",
      " 1.         1.         1.         1.         1.         1.\n",
      " 1.         1.         1.         1.         1.         1.\n",
      " 1.         1.         1.         1.        ]\n"
     ]
    },
    {
     "name": "stderr",
     "output_type": "stream",
     "text": [
      "\r",
      " 71%|███████   | 71/100 [02:48<01:06,  2.28s/it]"
     ]
    },
    {
     "name": "stdout",
     "output_type": "stream",
     "text": [
      "[1.05951471 0.92956733 0.84043005 0.77645218 0.72867509 0.69177059\n",
      " 0.6624513  0.6386149  0.61886892 0.60225911 0.58810988 0.57592823\n",
      " 0.56534438 0.55607425 0.54789513 0.54062941 0.53413355 0.52829023\n",
      " 0.52300275 0.51819081 0.51378743 0.50973639 0.50599043 0.5025096\n",
      " 0.49926009 0.4962132  0.49334448 0.49063309 0.4880612  0.48561353\n",
      " 0.48327692 0.48104005 0.47889315 0.47682774 0.47483644 0.47291283\n",
      " 0.4710513  0.46924691 0.46749532 0.4657927  0.46413566 0.46252115\n",
      " 0.46094648 0.45940923 0.45790721 0.45643846 0.45500119 0.45359378\n",
      " 0.45221475 0.45086273 0.44953649 0.44823487 0.44695681 0.44570132\n",
      " 0.4444675  0.44325449 0.4420615  0.44088777 0.43973261 0.43859536\n",
      " 0.4374754  0.43637215 0.43528506 0.4342136  0.43315728 0.43211563\n",
      " 0.4310882  0.43007456 0.42907432 0.42808708 0.42711248 1.\n",
      " 1.         1.         1.         1.         1.         1.\n",
      " 1.         1.         1.         1.         1.         1.\n",
      " 1.         1.         1.         1.         1.         1.\n",
      " 1.         1.         1.         1.         1.         1.\n",
      " 1.         1.         1.         1.        ]\n"
     ]
    },
    {
     "name": "stderr",
     "output_type": "stream",
     "text": [
      "\r",
      " 72%|███████▏  | 72/100 [02:50<01:03,  2.27s/it]"
     ]
    },
    {
     "name": "stdout",
     "output_type": "stream",
     "text": [
      "[1.05951471 0.92956733 0.84043005 0.77645218 0.72867509 0.69177059\n",
      " 0.6624513  0.6386149  0.61886892 0.60225911 0.58810988 0.57592823\n",
      " 0.56534438 0.55607425 0.54789513 0.54062941 0.53413355 0.52829023\n",
      " 0.52300275 0.51819081 0.51378743 0.50973639 0.50599043 0.5025096\n",
      " 0.49926009 0.4962132  0.49334448 0.49063309 0.4880612  0.48561353\n",
      " 0.48327692 0.48104005 0.47889315 0.47682774 0.47483644 0.47291283\n",
      " 0.4710513  0.46924691 0.46749532 0.4657927  0.46413566 0.46252115\n",
      " 0.46094648 0.45940923 0.45790721 0.45643846 0.45500119 0.45359378\n",
      " 0.45221475 0.45086273 0.44953649 0.44823487 0.44695681 0.44570132\n",
      " 0.4444675  0.44325449 0.4420615  0.44088777 0.43973261 0.43859536\n",
      " 0.4374754  0.43637215 0.43528506 0.4342136  0.43315728 0.43211563\n",
      " 0.4310882  0.43007456 0.42907432 0.42808708 0.42711248 0.42615017\n",
      " 1.         1.         1.         1.         1.         1.\n",
      " 1.         1.         1.         1.         1.         1.\n",
      " 1.         1.         1.         1.         1.         1.\n",
      " 1.         1.         1.         1.         1.         1.\n",
      " 1.         1.         1.         1.        ]\n"
     ]
    },
    {
     "name": "stderr",
     "output_type": "stream",
     "text": [
      "\r",
      " 73%|███████▎  | 73/100 [02:52<01:00,  2.26s/it]"
     ]
    },
    {
     "name": "stdout",
     "output_type": "stream",
     "text": [
      "[1.05951471 0.92956733 0.84043005 0.77645218 0.72867509 0.69177059\n",
      " 0.6624513  0.6386149  0.61886892 0.60225911 0.58810988 0.57592823\n",
      " 0.56534438 0.55607425 0.54789513 0.54062941 0.53413355 0.52829023\n",
      " 0.52300275 0.51819081 0.51378743 0.50973639 0.50599043 0.5025096\n",
      " 0.49926009 0.4962132  0.49334448 0.49063309 0.4880612  0.48561353\n",
      " 0.48327692 0.48104005 0.47889315 0.47682774 0.47483644 0.47291283\n",
      " 0.4710513  0.46924691 0.46749532 0.4657927  0.46413566 0.46252115\n",
      " 0.46094648 0.45940923 0.45790721 0.45643846 0.45500119 0.45359378\n",
      " 0.45221475 0.45086273 0.44953649 0.44823487 0.44695681 0.44570132\n",
      " 0.4444675  0.44325449 0.4420615  0.44088777 0.43973261 0.43859536\n",
      " 0.4374754  0.43637215 0.43528506 0.4342136  0.43315728 0.43211563\n",
      " 0.4310882  0.43007456 0.42907432 0.42808708 0.42711248 0.42615017\n",
      " 0.4251998  1.         1.         1.         1.         1.\n",
      " 1.         1.         1.         1.         1.         1.\n",
      " 1.         1.         1.         1.         1.         1.\n",
      " 1.         1.         1.         1.         1.         1.\n",
      " 1.         1.         1.         1.        ]\n"
     ]
    },
    {
     "name": "stderr",
     "output_type": "stream",
     "text": [
      "\r",
      " 74%|███████▍  | 74/100 [02:54<00:58,  2.25s/it]"
     ]
    },
    {
     "name": "stdout",
     "output_type": "stream",
     "text": [
      "[1.05951471 0.92956733 0.84043005 0.77645218 0.72867509 0.69177059\n",
      " 0.6624513  0.6386149  0.61886892 0.60225911 0.58810988 0.57592823\n",
      " 0.56534438 0.55607425 0.54789513 0.54062941 0.53413355 0.52829023\n",
      " 0.52300275 0.51819081 0.51378743 0.50973639 0.50599043 0.5025096\n",
      " 0.49926009 0.4962132  0.49334448 0.49063309 0.4880612  0.48561353\n",
      " 0.48327692 0.48104005 0.47889315 0.47682774 0.47483644 0.47291283\n",
      " 0.4710513  0.46924691 0.46749532 0.4657927  0.46413566 0.46252115\n",
      " 0.46094648 0.45940923 0.45790721 0.45643846 0.45500119 0.45359378\n",
      " 0.45221475 0.45086273 0.44953649 0.44823487 0.44695681 0.44570132\n",
      " 0.4444675  0.44325449 0.4420615  0.44088777 0.43973261 0.43859536\n",
      " 0.4374754  0.43637215 0.43528506 0.4342136  0.43315728 0.43211563\n",
      " 0.4310882  0.43007456 0.42907432 0.42808708 0.42711248 0.42615017\n",
      " 0.4251998  0.42426106 1.         1.         1.         1.\n",
      " 1.         1.         1.         1.         1.         1.\n",
      " 1.         1.         1.         1.         1.         1.\n",
      " 1.         1.         1.         1.         1.         1.\n",
      " 1.         1.         1.         1.        ]\n"
     ]
    },
    {
     "name": "stderr",
     "output_type": "stream",
     "text": [
      "\r",
      " 75%|███████▌  | 75/100 [02:57<00:56,  2.26s/it]"
     ]
    },
    {
     "name": "stdout",
     "output_type": "stream",
     "text": [
      "[1.05951471 0.92956733 0.84043005 0.77645218 0.72867509 0.69177059\n",
      " 0.6624513  0.6386149  0.61886892 0.60225911 0.58810988 0.57592823\n",
      " 0.56534438 0.55607425 0.54789513 0.54062941 0.53413355 0.52829023\n",
      " 0.52300275 0.51819081 0.51378743 0.50973639 0.50599043 0.5025096\n",
      " 0.49926009 0.4962132  0.49334448 0.49063309 0.4880612  0.48561353\n",
      " 0.48327692 0.48104005 0.47889315 0.47682774 0.47483644 0.47291283\n",
      " 0.4710513  0.46924691 0.46749532 0.4657927  0.46413566 0.46252115\n",
      " 0.46094648 0.45940923 0.45790721 0.45643846 0.45500119 0.45359378\n",
      " 0.45221475 0.45086273 0.44953649 0.44823487 0.44695681 0.44570132\n",
      " 0.4444675  0.44325449 0.4420615  0.44088777 0.43973261 0.43859536\n",
      " 0.4374754  0.43637215 0.43528506 0.4342136  0.43315728 0.43211563\n",
      " 0.4310882  0.43007456 0.42907432 0.42808708 0.42711248 0.42615017\n",
      " 0.4251998  0.42426106 0.42333364 1.         1.         1.\n",
      " 1.         1.         1.         1.         1.         1.\n",
      " 1.         1.         1.         1.         1.         1.\n",
      " 1.         1.         1.         1.         1.         1.\n",
      " 1.         1.         1.         1.        ]\n"
     ]
    },
    {
     "name": "stderr",
     "output_type": "stream",
     "text": [
      "\r",
      " 76%|███████▌  | 76/100 [02:59<00:54,  2.25s/it]"
     ]
    },
    {
     "name": "stdout",
     "output_type": "stream",
     "text": [
      "[1.05951471 0.92956733 0.84043005 0.77645218 0.72867509 0.69177059\n",
      " 0.6624513  0.6386149  0.61886892 0.60225911 0.58810988 0.57592823\n",
      " 0.56534438 0.55607425 0.54789513 0.54062941 0.53413355 0.52829023\n",
      " 0.52300275 0.51819081 0.51378743 0.50973639 0.50599043 0.5025096\n",
      " 0.49926009 0.4962132  0.49334448 0.49063309 0.4880612  0.48561353\n",
      " 0.48327692 0.48104005 0.47889315 0.47682774 0.47483644 0.47291283\n",
      " 0.4710513  0.46924691 0.46749532 0.4657927  0.46413566 0.46252115\n",
      " 0.46094648 0.45940923 0.45790721 0.45643846 0.45500119 0.45359378\n",
      " 0.45221475 0.45086273 0.44953649 0.44823487 0.44695681 0.44570132\n",
      " 0.4444675  0.44325449 0.4420615  0.44088777 0.43973261 0.43859536\n",
      " 0.4374754  0.43637215 0.43528506 0.4342136  0.43315728 0.43211563\n",
      " 0.4310882  0.43007456 0.42907432 0.42808708 0.42711248 0.42615017\n",
      " 0.4251998  0.42426106 0.42333364 0.42241724 1.         1.\n",
      " 1.         1.         1.         1.         1.         1.\n",
      " 1.         1.         1.         1.         1.         1.\n",
      " 1.         1.         1.         1.         1.         1.\n",
      " 1.         1.         1.         1.        ]\n"
     ]
    },
    {
     "name": "stderr",
     "output_type": "stream",
     "text": [
      "\r",
      " 77%|███████▋  | 77/100 [03:01<00:52,  2.27s/it]"
     ]
    },
    {
     "name": "stdout",
     "output_type": "stream",
     "text": [
      "[1.05951471 0.92956733 0.84043005 0.77645218 0.72867509 0.69177059\n",
      " 0.6624513  0.6386149  0.61886892 0.60225911 0.58810988 0.57592823\n",
      " 0.56534438 0.55607425 0.54789513 0.54062941 0.53413355 0.52829023\n",
      " 0.52300275 0.51819081 0.51378743 0.50973639 0.50599043 0.5025096\n",
      " 0.49926009 0.4962132  0.49334448 0.49063309 0.4880612  0.48561353\n",
      " 0.48327692 0.48104005 0.47889315 0.47682774 0.47483644 0.47291283\n",
      " 0.4710513  0.46924691 0.46749532 0.4657927  0.46413566 0.46252115\n",
      " 0.46094648 0.45940923 0.45790721 0.45643846 0.45500119 0.45359378\n",
      " 0.45221475 0.45086273 0.44953649 0.44823487 0.44695681 0.44570132\n",
      " 0.4444675  0.44325449 0.4420615  0.44088777 0.43973261 0.43859536\n",
      " 0.4374754  0.43637215 0.43528506 0.4342136  0.43315728 0.43211563\n",
      " 0.4310882  0.43007456 0.42907432 0.42808708 0.42711248 0.42615017\n",
      " 0.4251998  0.42426106 0.42333364 0.42241724 0.42151157 1.\n",
      " 1.         1.         1.         1.         1.         1.\n",
      " 1.         1.         1.         1.         1.         1.\n",
      " 1.         1.         1.         1.         1.         1.\n",
      " 1.         1.         1.         1.        ]\n"
     ]
    },
    {
     "name": "stderr",
     "output_type": "stream",
     "text": [
      "\r",
      " 78%|███████▊  | 78/100 [03:04<00:51,  2.32s/it]"
     ]
    },
    {
     "name": "stdout",
     "output_type": "stream",
     "text": [
      "[1.05951471 0.92956733 0.84043005 0.77645218 0.72867509 0.69177059\n",
      " 0.6624513  0.6386149  0.61886892 0.60225911 0.58810988 0.57592823\n",
      " 0.56534438 0.55607425 0.54789513 0.54062941 0.53413355 0.52829023\n",
      " 0.52300275 0.51819081 0.51378743 0.50973639 0.50599043 0.5025096\n",
      " 0.49926009 0.4962132  0.49334448 0.49063309 0.4880612  0.48561353\n",
      " 0.48327692 0.48104005 0.47889315 0.47682774 0.47483644 0.47291283\n",
      " 0.4710513  0.46924691 0.46749532 0.4657927  0.46413566 0.46252115\n",
      " 0.46094648 0.45940923 0.45790721 0.45643846 0.45500119 0.45359378\n",
      " 0.45221475 0.45086273 0.44953649 0.44823487 0.44695681 0.44570132\n",
      " 0.4444675  0.44325449 0.4420615  0.44088777 0.43973261 0.43859536\n",
      " 0.4374754  0.43637215 0.43528506 0.4342136  0.43315728 0.43211563\n",
      " 0.4310882  0.43007456 0.42907432 0.42808708 0.42711248 0.42615017\n",
      " 0.4251998  0.42426106 0.42333364 0.42241724 0.42151157 0.42061638\n",
      " 1.         1.         1.         1.         1.         1.\n",
      " 1.         1.         1.         1.         1.         1.\n",
      " 1.         1.         1.         1.         1.         1.\n",
      " 1.         1.         1.         1.        ]\n"
     ]
    },
    {
     "name": "stderr",
     "output_type": "stream",
     "text": [
      "\r",
      " 79%|███████▉  | 79/100 [03:06<00:49,  2.37s/it]"
     ]
    },
    {
     "name": "stdout",
     "output_type": "stream",
     "text": [
      "[1.05951471 0.92956733 0.84043005 0.77645218 0.72867509 0.69177059\n",
      " 0.6624513  0.6386149  0.61886892 0.60225911 0.58810988 0.57592823\n",
      " 0.56534438 0.55607425 0.54789513 0.54062941 0.53413355 0.52829023\n",
      " 0.52300275 0.51819081 0.51378743 0.50973639 0.50599043 0.5025096\n",
      " 0.49926009 0.4962132  0.49334448 0.49063309 0.4880612  0.48561353\n",
      " 0.48327692 0.48104005 0.47889315 0.47682774 0.47483644 0.47291283\n",
      " 0.4710513  0.46924691 0.46749532 0.4657927  0.46413566 0.46252115\n",
      " 0.46094648 0.45940923 0.45790721 0.45643846 0.45500119 0.45359378\n",
      " 0.45221475 0.45086273 0.44953649 0.44823487 0.44695681 0.44570132\n",
      " 0.4444675  0.44325449 0.4420615  0.44088777 0.43973261 0.43859536\n",
      " 0.4374754  0.43637215 0.43528506 0.4342136  0.43315728 0.43211563\n",
      " 0.4310882  0.43007456 0.42907432 0.42808708 0.42711248 0.42615017\n",
      " 0.4251998  0.42426106 0.42333364 0.42241724 0.42151157 0.42061638\n",
      " 0.41973138 1.         1.         1.         1.         1.\n",
      " 1.         1.         1.         1.         1.         1.\n",
      " 1.         1.         1.         1.         1.         1.\n",
      " 1.         1.         1.         1.        ]\n"
     ]
    },
    {
     "name": "stderr",
     "output_type": "stream",
     "text": [
      "\r",
      " 80%|████████  | 80/100 [03:08<00:47,  2.39s/it]"
     ]
    },
    {
     "name": "stdout",
     "output_type": "stream",
     "text": [
      "[1.05951471 0.92956733 0.84043005 0.77645218 0.72867509 0.69177059\n",
      " 0.6624513  0.6386149  0.61886892 0.60225911 0.58810988 0.57592823\n",
      " 0.56534438 0.55607425 0.54789513 0.54062941 0.53413355 0.52829023\n",
      " 0.52300275 0.51819081 0.51378743 0.50973639 0.50599043 0.5025096\n",
      " 0.49926009 0.4962132  0.49334448 0.49063309 0.4880612  0.48561353\n",
      " 0.48327692 0.48104005 0.47889315 0.47682774 0.47483644 0.47291283\n",
      " 0.4710513  0.46924691 0.46749532 0.4657927  0.46413566 0.46252115\n",
      " 0.46094648 0.45940923 0.45790721 0.45643846 0.45500119 0.45359378\n",
      " 0.45221475 0.45086273 0.44953649 0.44823487 0.44695681 0.44570132\n",
      " 0.4444675  0.44325449 0.4420615  0.44088777 0.43973261 0.43859536\n",
      " 0.4374754  0.43637215 0.43528506 0.4342136  0.43315728 0.43211563\n",
      " 0.4310882  0.43007456 0.42907432 0.42808708 0.42711248 0.42615017\n",
      " 0.4251998  0.42426106 0.42333364 0.42241724 0.42151157 0.42061638\n",
      " 0.41973138 0.41885634 1.         1.         1.         1.\n",
      " 1.         1.         1.         1.         1.         1.\n",
      " 1.         1.         1.         1.         1.         1.\n",
      " 1.         1.         1.         1.        ]\n"
     ]
    },
    {
     "name": "stderr",
     "output_type": "stream",
     "text": [
      "\r",
      " 81%|████████  | 81/100 [03:11<00:44,  2.35s/it]"
     ]
    },
    {
     "name": "stdout",
     "output_type": "stream",
     "text": [
      "[1.05951471 0.92956733 0.84043005 0.77645218 0.72867509 0.69177059\n",
      " 0.6624513  0.6386149  0.61886892 0.60225911 0.58810988 0.57592823\n",
      " 0.56534438 0.55607425 0.54789513 0.54062941 0.53413355 0.52829023\n",
      " 0.52300275 0.51819081 0.51378743 0.50973639 0.50599043 0.5025096\n",
      " 0.49926009 0.4962132  0.49334448 0.49063309 0.4880612  0.48561353\n",
      " 0.48327692 0.48104005 0.47889315 0.47682774 0.47483644 0.47291283\n",
      " 0.4710513  0.46924691 0.46749532 0.4657927  0.46413566 0.46252115\n",
      " 0.46094648 0.45940923 0.45790721 0.45643846 0.45500119 0.45359378\n",
      " 0.45221475 0.45086273 0.44953649 0.44823487 0.44695681 0.44570132\n",
      " 0.4444675  0.44325449 0.4420615  0.44088777 0.43973261 0.43859536\n",
      " 0.4374754  0.43637215 0.43528506 0.4342136  0.43315728 0.43211563\n",
      " 0.4310882  0.43007456 0.42907432 0.42808708 0.42711248 0.42615017\n",
      " 0.4251998  0.42426106 0.42333364 0.42241724 0.42151157 0.42061638\n",
      " 0.41973138 0.41885634 0.41799102 1.         1.         1.\n",
      " 1.         1.         1.         1.         1.         1.\n",
      " 1.         1.         1.         1.         1.         1.\n",
      " 1.         1.         1.         1.        ]\n"
     ]
    },
    {
     "name": "stderr",
     "output_type": "stream",
     "text": [
      "\r",
      " 82%|████████▏ | 82/100 [03:13<00:42,  2.35s/it]"
     ]
    },
    {
     "name": "stdout",
     "output_type": "stream",
     "text": [
      "[1.05951471 0.92956733 0.84043005 0.77645218 0.72867509 0.69177059\n",
      " 0.6624513  0.6386149  0.61886892 0.60225911 0.58810988 0.57592823\n",
      " 0.56534438 0.55607425 0.54789513 0.54062941 0.53413355 0.52829023\n",
      " 0.52300275 0.51819081 0.51378743 0.50973639 0.50599043 0.5025096\n",
      " 0.49926009 0.4962132  0.49334448 0.49063309 0.4880612  0.48561353\n",
      " 0.48327692 0.48104005 0.47889315 0.47682774 0.47483644 0.47291283\n",
      " 0.4710513  0.46924691 0.46749532 0.4657927  0.46413566 0.46252115\n",
      " 0.46094648 0.45940923 0.45790721 0.45643846 0.45500119 0.45359378\n",
      " 0.45221475 0.45086273 0.44953649 0.44823487 0.44695681 0.44570132\n",
      " 0.4444675  0.44325449 0.4420615  0.44088777 0.43973261 0.43859536\n",
      " 0.4374754  0.43637215 0.43528506 0.4342136  0.43315728 0.43211563\n",
      " 0.4310882  0.43007456 0.42907432 0.42808708 0.42711248 0.42615017\n",
      " 0.4251998  0.42426106 0.42333364 0.42241724 0.42151157 0.42061638\n",
      " 0.41973138 0.41885634 0.41799102 0.41713516 1.         1.\n",
      " 1.         1.         1.         1.         1.         1.\n",
      " 1.         1.         1.         1.         1.         1.\n",
      " 1.         1.         1.         1.        ]\n"
     ]
    },
    {
     "name": "stderr",
     "output_type": "stream",
     "text": [
      "\r",
      " 83%|████████▎ | 83/100 [03:15<00:39,  2.33s/it]"
     ]
    },
    {
     "name": "stdout",
     "output_type": "stream",
     "text": [
      "[1.05951471 0.92956733 0.84043005 0.77645218 0.72867509 0.69177059\n",
      " 0.6624513  0.6386149  0.61886892 0.60225911 0.58810988 0.57592823\n",
      " 0.56534438 0.55607425 0.54789513 0.54062941 0.53413355 0.52829023\n",
      " 0.52300275 0.51819081 0.51378743 0.50973639 0.50599043 0.5025096\n",
      " 0.49926009 0.4962132  0.49334448 0.49063309 0.4880612  0.48561353\n",
      " 0.48327692 0.48104005 0.47889315 0.47682774 0.47483644 0.47291283\n",
      " 0.4710513  0.46924691 0.46749532 0.4657927  0.46413566 0.46252115\n",
      " 0.46094648 0.45940923 0.45790721 0.45643846 0.45500119 0.45359378\n",
      " 0.45221475 0.45086273 0.44953649 0.44823487 0.44695681 0.44570132\n",
      " 0.4444675  0.44325449 0.4420615  0.44088777 0.43973261 0.43859536\n",
      " 0.4374754  0.43637215 0.43528506 0.4342136  0.43315728 0.43211563\n",
      " 0.4310882  0.43007456 0.42907432 0.42808708 0.42711248 0.42615017\n",
      " 0.4251998  0.42426106 0.42333364 0.42241724 0.42151157 0.42061638\n",
      " 0.41973138 0.41885634 0.41799102 0.41713516 0.41628857 1.\n",
      " 1.         1.         1.         1.         1.         1.\n",
      " 1.         1.         1.         1.         1.         1.\n",
      " 1.         1.         1.         1.        ]\n"
     ]
    },
    {
     "name": "stderr",
     "output_type": "stream",
     "text": [
      "\r",
      " 84%|████████▍ | 84/100 [03:18<00:37,  2.32s/it]"
     ]
    },
    {
     "name": "stdout",
     "output_type": "stream",
     "text": [
      "[1.05951471 0.92956733 0.84043005 0.77645218 0.72867509 0.69177059\n",
      " 0.6624513  0.6386149  0.61886892 0.60225911 0.58810988 0.57592823\n",
      " 0.56534438 0.55607425 0.54789513 0.54062941 0.53413355 0.52829023\n",
      " 0.52300275 0.51819081 0.51378743 0.50973639 0.50599043 0.5025096\n",
      " 0.49926009 0.4962132  0.49334448 0.49063309 0.4880612  0.48561353\n",
      " 0.48327692 0.48104005 0.47889315 0.47682774 0.47483644 0.47291283\n",
      " 0.4710513  0.46924691 0.46749532 0.4657927  0.46413566 0.46252115\n",
      " 0.46094648 0.45940923 0.45790721 0.45643846 0.45500119 0.45359378\n",
      " 0.45221475 0.45086273 0.44953649 0.44823487 0.44695681 0.44570132\n",
      " 0.4444675  0.44325449 0.4420615  0.44088777 0.43973261 0.43859536\n",
      " 0.4374754  0.43637215 0.43528506 0.4342136  0.43315728 0.43211563\n",
      " 0.4310882  0.43007456 0.42907432 0.42808708 0.42711248 0.42615017\n",
      " 0.4251998  0.42426106 0.42333364 0.42241724 0.42151157 0.42061638\n",
      " 0.41973138 0.41885634 0.41799102 0.41713516 0.41628857 0.41545101\n",
      " 1.         1.         1.         1.         1.         1.\n",
      " 1.         1.         1.         1.         1.         1.\n",
      " 1.         1.         1.         1.        ]\n"
     ]
    },
    {
     "name": "stderr",
     "output_type": "stream",
     "text": [
      "\r",
      " 85%|████████▌ | 85/100 [03:20<00:34,  2.29s/it]"
     ]
    },
    {
     "name": "stdout",
     "output_type": "stream",
     "text": [
      "[1.05951471 0.92956733 0.84043005 0.77645218 0.72867509 0.69177059\n",
      " 0.6624513  0.6386149  0.61886892 0.60225911 0.58810988 0.57592823\n",
      " 0.56534438 0.55607425 0.54789513 0.54062941 0.53413355 0.52829023\n",
      " 0.52300275 0.51819081 0.51378743 0.50973639 0.50599043 0.5025096\n",
      " 0.49926009 0.4962132  0.49334448 0.49063309 0.4880612  0.48561353\n",
      " 0.48327692 0.48104005 0.47889315 0.47682774 0.47483644 0.47291283\n",
      " 0.4710513  0.46924691 0.46749532 0.4657927  0.46413566 0.46252115\n",
      " 0.46094648 0.45940923 0.45790721 0.45643846 0.45500119 0.45359378\n",
      " 0.45221475 0.45086273 0.44953649 0.44823487 0.44695681 0.44570132\n",
      " 0.4444675  0.44325449 0.4420615  0.44088777 0.43973261 0.43859536\n",
      " 0.4374754  0.43637215 0.43528506 0.4342136  0.43315728 0.43211563\n",
      " 0.4310882  0.43007456 0.42907432 0.42808708 0.42711248 0.42615017\n",
      " 0.4251998  0.42426106 0.42333364 0.42241724 0.42151157 0.42061638\n",
      " 0.41973138 0.41885634 0.41799102 0.41713516 0.41628857 0.41545101\n",
      " 0.41462228 1.         1.         1.         1.         1.\n",
      " 1.         1.         1.         1.         1.         1.\n",
      " 1.         1.         1.         1.        ]\n"
     ]
    },
    {
     "name": "stderr",
     "output_type": "stream",
     "text": [
      "\r",
      " 86%|████████▌ | 86/100 [03:22<00:31,  2.27s/it]"
     ]
    },
    {
     "name": "stdout",
     "output_type": "stream",
     "text": [
      "[1.05951471 0.92956733 0.84043005 0.77645218 0.72867509 0.69177059\n",
      " 0.6624513  0.6386149  0.61886892 0.60225911 0.58810988 0.57592823\n",
      " 0.56534438 0.55607425 0.54789513 0.54062941 0.53413355 0.52829023\n",
      " 0.52300275 0.51819081 0.51378743 0.50973639 0.50599043 0.5025096\n",
      " 0.49926009 0.4962132  0.49334448 0.49063309 0.4880612  0.48561353\n",
      " 0.48327692 0.48104005 0.47889315 0.47682774 0.47483644 0.47291283\n",
      " 0.4710513  0.46924691 0.46749532 0.4657927  0.46413566 0.46252115\n",
      " 0.46094648 0.45940923 0.45790721 0.45643846 0.45500119 0.45359378\n",
      " 0.45221475 0.45086273 0.44953649 0.44823487 0.44695681 0.44570132\n",
      " 0.4444675  0.44325449 0.4420615  0.44088777 0.43973261 0.43859536\n",
      " 0.4374754  0.43637215 0.43528506 0.4342136  0.43315728 0.43211563\n",
      " 0.4310882  0.43007456 0.42907432 0.42808708 0.42711248 0.42615017\n",
      " 0.4251998  0.42426106 0.42333364 0.42241724 0.42151157 0.42061638\n",
      " 0.41973138 0.41885634 0.41799102 0.41713516 0.41628857 0.41545101\n",
      " 0.41462228 0.41380218 1.         1.         1.         1.\n",
      " 1.         1.         1.         1.         1.         1.\n",
      " 1.         1.         1.         1.        ]\n"
     ]
    },
    {
     "name": "stderr",
     "output_type": "stream",
     "text": [
      "\r",
      " 87%|████████▋ | 87/100 [03:24<00:29,  2.27s/it]"
     ]
    },
    {
     "name": "stdout",
     "output_type": "stream",
     "text": [
      "[1.05951471 0.92956733 0.84043005 0.77645218 0.72867509 0.69177059\n",
      " 0.6624513  0.6386149  0.61886892 0.60225911 0.58810988 0.57592823\n",
      " 0.56534438 0.55607425 0.54789513 0.54062941 0.53413355 0.52829023\n",
      " 0.52300275 0.51819081 0.51378743 0.50973639 0.50599043 0.5025096\n",
      " 0.49926009 0.4962132  0.49334448 0.49063309 0.4880612  0.48561353\n",
      " 0.48327692 0.48104005 0.47889315 0.47682774 0.47483644 0.47291283\n",
      " 0.4710513  0.46924691 0.46749532 0.4657927  0.46413566 0.46252115\n",
      " 0.46094648 0.45940923 0.45790721 0.45643846 0.45500119 0.45359378\n",
      " 0.45221475 0.45086273 0.44953649 0.44823487 0.44695681 0.44570132\n",
      " 0.4444675  0.44325449 0.4420615  0.44088777 0.43973261 0.43859536\n",
      " 0.4374754  0.43637215 0.43528506 0.4342136  0.43315728 0.43211563\n",
      " 0.4310882  0.43007456 0.42907432 0.42808708 0.42711248 0.42615017\n",
      " 0.4251998  0.42426106 0.42333364 0.42241724 0.42151157 0.42061638\n",
      " 0.41973138 0.41885634 0.41799102 0.41713516 0.41628857 0.41545101\n",
      " 0.41462228 0.41380218 0.41299052 1.         1.         1.\n",
      " 1.         1.         1.         1.         1.         1.\n",
      " 1.         1.         1.         1.        ]\n"
     ]
    },
    {
     "name": "stderr",
     "output_type": "stream",
     "text": [
      "\r",
      " 88%|████████▊ | 88/100 [03:27<00:27,  2.26s/it]"
     ]
    },
    {
     "name": "stdout",
     "output_type": "stream",
     "text": [
      "[1.05951471 0.92956733 0.84043005 0.77645218 0.72867509 0.69177059\n",
      " 0.6624513  0.6386149  0.61886892 0.60225911 0.58810988 0.57592823\n",
      " 0.56534438 0.55607425 0.54789513 0.54062941 0.53413355 0.52829023\n",
      " 0.52300275 0.51819081 0.51378743 0.50973639 0.50599043 0.5025096\n",
      " 0.49926009 0.4962132  0.49334448 0.49063309 0.4880612  0.48561353\n",
      " 0.48327692 0.48104005 0.47889315 0.47682774 0.47483644 0.47291283\n",
      " 0.4710513  0.46924691 0.46749532 0.4657927  0.46413566 0.46252115\n",
      " 0.46094648 0.45940923 0.45790721 0.45643846 0.45500119 0.45359378\n",
      " 0.45221475 0.45086273 0.44953649 0.44823487 0.44695681 0.44570132\n",
      " 0.4444675  0.44325449 0.4420615  0.44088777 0.43973261 0.43859536\n",
      " 0.4374754  0.43637215 0.43528506 0.4342136  0.43315728 0.43211563\n",
      " 0.4310882  0.43007456 0.42907432 0.42808708 0.42711248 0.42615017\n",
      " 0.4251998  0.42426106 0.42333364 0.42241724 0.42151157 0.42061638\n",
      " 0.41973138 0.41885634 0.41799102 0.41713516 0.41628857 0.41545101\n",
      " 0.41462228 0.41380218 0.41299052 0.41218711 1.         1.\n",
      " 1.         1.         1.         1.         1.         1.\n",
      " 1.         1.         1.         1.        ]\n"
     ]
    },
    {
     "name": "stderr",
     "output_type": "stream",
     "text": [
      "\r",
      " 89%|████████▉ | 89/100 [03:29<00:25,  2.30s/it]"
     ]
    },
    {
     "name": "stdout",
     "output_type": "stream",
     "text": [
      "[1.05951471 0.92956733 0.84043005 0.77645218 0.72867509 0.69177059\n",
      " 0.6624513  0.6386149  0.61886892 0.60225911 0.58810988 0.57592823\n",
      " 0.56534438 0.55607425 0.54789513 0.54062941 0.53413355 0.52829023\n",
      " 0.52300275 0.51819081 0.51378743 0.50973639 0.50599043 0.5025096\n",
      " 0.49926009 0.4962132  0.49334448 0.49063309 0.4880612  0.48561353\n",
      " 0.48327692 0.48104005 0.47889315 0.47682774 0.47483644 0.47291283\n",
      " 0.4710513  0.46924691 0.46749532 0.4657927  0.46413566 0.46252115\n",
      " 0.46094648 0.45940923 0.45790721 0.45643846 0.45500119 0.45359378\n",
      " 0.45221475 0.45086273 0.44953649 0.44823487 0.44695681 0.44570132\n",
      " 0.4444675  0.44325449 0.4420615  0.44088777 0.43973261 0.43859536\n",
      " 0.4374754  0.43637215 0.43528506 0.4342136  0.43315728 0.43211563\n",
      " 0.4310882  0.43007456 0.42907432 0.42808708 0.42711248 0.42615017\n",
      " 0.4251998  0.42426106 0.42333364 0.42241724 0.42151157 0.42061638\n",
      " 0.41973138 0.41885634 0.41799102 0.41713516 0.41628857 0.41545101\n",
      " 0.41462228 0.41380218 0.41299052 0.41218711 0.41139176 1.\n",
      " 1.         1.         1.         1.         1.         1.\n",
      " 1.         1.         1.         1.        ]\n"
     ]
    },
    {
     "name": "stderr",
     "output_type": "stream",
     "text": [
      "\r",
      " 90%|█████████ | 90/100 [03:31<00:23,  2.31s/it]"
     ]
    },
    {
     "name": "stdout",
     "output_type": "stream",
     "text": [
      "[1.05951471 0.92956733 0.84043005 0.77645218 0.72867509 0.69177059\n",
      " 0.6624513  0.6386149  0.61886892 0.60225911 0.58810988 0.57592823\n",
      " 0.56534438 0.55607425 0.54789513 0.54062941 0.53413355 0.52829023\n",
      " 0.52300275 0.51819081 0.51378743 0.50973639 0.50599043 0.5025096\n",
      " 0.49926009 0.4962132  0.49334448 0.49063309 0.4880612  0.48561353\n",
      " 0.48327692 0.48104005 0.47889315 0.47682774 0.47483644 0.47291283\n",
      " 0.4710513  0.46924691 0.46749532 0.4657927  0.46413566 0.46252115\n",
      " 0.46094648 0.45940923 0.45790721 0.45643846 0.45500119 0.45359378\n",
      " 0.45221475 0.45086273 0.44953649 0.44823487 0.44695681 0.44570132\n",
      " 0.4444675  0.44325449 0.4420615  0.44088777 0.43973261 0.43859536\n",
      " 0.4374754  0.43637215 0.43528506 0.4342136  0.43315728 0.43211563\n",
      " 0.4310882  0.43007456 0.42907432 0.42808708 0.42711248 0.42615017\n",
      " 0.4251998  0.42426106 0.42333364 0.42241724 0.42151157 0.42061638\n",
      " 0.41973138 0.41885634 0.41799102 0.41713516 0.41628857 0.41545101\n",
      " 0.41462228 0.41380218 0.41299052 0.41218711 0.41139176 0.41060431\n",
      " 1.         1.         1.         1.         1.         1.\n",
      " 1.         1.         1.         1.        ]\n"
     ]
    },
    {
     "name": "stderr",
     "output_type": "stream",
     "text": [
      "\r",
      " 91%|█████████ | 91/100 [03:34<00:20,  2.30s/it]"
     ]
    },
    {
     "name": "stdout",
     "output_type": "stream",
     "text": [
      "[1.05951471 0.92956733 0.84043005 0.77645218 0.72867509 0.69177059\n",
      " 0.6624513  0.6386149  0.61886892 0.60225911 0.58810988 0.57592823\n",
      " 0.56534438 0.55607425 0.54789513 0.54062941 0.53413355 0.52829023\n",
      " 0.52300275 0.51819081 0.51378743 0.50973639 0.50599043 0.5025096\n",
      " 0.49926009 0.4962132  0.49334448 0.49063309 0.4880612  0.48561353\n",
      " 0.48327692 0.48104005 0.47889315 0.47682774 0.47483644 0.47291283\n",
      " 0.4710513  0.46924691 0.46749532 0.4657927  0.46413566 0.46252115\n",
      " 0.46094648 0.45940923 0.45790721 0.45643846 0.45500119 0.45359378\n",
      " 0.45221475 0.45086273 0.44953649 0.44823487 0.44695681 0.44570132\n",
      " 0.4444675  0.44325449 0.4420615  0.44088777 0.43973261 0.43859536\n",
      " 0.4374754  0.43637215 0.43528506 0.4342136  0.43315728 0.43211563\n",
      " 0.4310882  0.43007456 0.42907432 0.42808708 0.42711248 0.42615017\n",
      " 0.4251998  0.42426106 0.42333364 0.42241724 0.42151157 0.42061638\n",
      " 0.41973138 0.41885634 0.41799102 0.41713516 0.41628857 0.41545101\n",
      " 0.41462228 0.41380218 0.41299052 0.41218711 0.41139176 0.41060431\n",
      " 0.40982458 1.         1.         1.         1.         1.\n",
      " 1.         1.         1.         1.        ]\n"
     ]
    },
    {
     "name": "stderr",
     "output_type": "stream",
     "text": [
      "\r",
      " 92%|█████████▏| 92/100 [03:36<00:18,  2.32s/it]"
     ]
    },
    {
     "name": "stdout",
     "output_type": "stream",
     "text": [
      "[1.05951471 0.92956733 0.84043005 0.77645218 0.72867509 0.69177059\n",
      " 0.6624513  0.6386149  0.61886892 0.60225911 0.58810988 0.57592823\n",
      " 0.56534438 0.55607425 0.54789513 0.54062941 0.53413355 0.52829023\n",
      " 0.52300275 0.51819081 0.51378743 0.50973639 0.50599043 0.5025096\n",
      " 0.49926009 0.4962132  0.49334448 0.49063309 0.4880612  0.48561353\n",
      " 0.48327692 0.48104005 0.47889315 0.47682774 0.47483644 0.47291283\n",
      " 0.4710513  0.46924691 0.46749532 0.4657927  0.46413566 0.46252115\n",
      " 0.46094648 0.45940923 0.45790721 0.45643846 0.45500119 0.45359378\n",
      " 0.45221475 0.45086273 0.44953649 0.44823487 0.44695681 0.44570132\n",
      " 0.4444675  0.44325449 0.4420615  0.44088777 0.43973261 0.43859536\n",
      " 0.4374754  0.43637215 0.43528506 0.4342136  0.43315728 0.43211563\n",
      " 0.4310882  0.43007456 0.42907432 0.42808708 0.42711248 0.42615017\n",
      " 0.4251998  0.42426106 0.42333364 0.42241724 0.42151157 0.42061638\n",
      " 0.41973138 0.41885634 0.41799102 0.41713516 0.41628857 0.41545101\n",
      " 0.41462228 0.41380218 0.41299052 0.41218711 0.41139176 0.41060431\n",
      " 0.40982458 0.40905241 1.         1.         1.         1.\n",
      " 1.         1.         1.         1.        ]\n"
     ]
    },
    {
     "name": "stderr",
     "output_type": "stream",
     "text": [
      "\r",
      " 93%|█████████▎| 93/100 [03:38<00:16,  2.37s/it]"
     ]
    },
    {
     "name": "stdout",
     "output_type": "stream",
     "text": [
      "[1.05951471 0.92956733 0.84043005 0.77645218 0.72867509 0.69177059\n",
      " 0.6624513  0.6386149  0.61886892 0.60225911 0.58810988 0.57592823\n",
      " 0.56534438 0.55607425 0.54789513 0.54062941 0.53413355 0.52829023\n",
      " 0.52300275 0.51819081 0.51378743 0.50973639 0.50599043 0.5025096\n",
      " 0.49926009 0.4962132  0.49334448 0.49063309 0.4880612  0.48561353\n",
      " 0.48327692 0.48104005 0.47889315 0.47682774 0.47483644 0.47291283\n",
      " 0.4710513  0.46924691 0.46749532 0.4657927  0.46413566 0.46252115\n",
      " 0.46094648 0.45940923 0.45790721 0.45643846 0.45500119 0.45359378\n",
      " 0.45221475 0.45086273 0.44953649 0.44823487 0.44695681 0.44570132\n",
      " 0.4444675  0.44325449 0.4420615  0.44088777 0.43973261 0.43859536\n",
      " 0.4374754  0.43637215 0.43528506 0.4342136  0.43315728 0.43211563\n",
      " 0.4310882  0.43007456 0.42907432 0.42808708 0.42711248 0.42615017\n",
      " 0.4251998  0.42426106 0.42333364 0.42241724 0.42151157 0.42061638\n",
      " 0.41973138 0.41885634 0.41799102 0.41713516 0.41628857 0.41545101\n",
      " 0.41462228 0.41380218 0.41299052 0.41218711 0.41139176 0.41060431\n",
      " 0.40982458 0.40905241 0.40828765 1.         1.         1.\n",
      " 1.         1.         1.         1.        ]\n"
     ]
    },
    {
     "name": "stderr",
     "output_type": "stream",
     "text": [
      "\r",
      " 94%|█████████▍| 94/100 [03:41<00:14,  2.38s/it]"
     ]
    },
    {
     "name": "stdout",
     "output_type": "stream",
     "text": [
      "[1.05951471 0.92956733 0.84043005 0.77645218 0.72867509 0.69177059\n",
      " 0.6624513  0.6386149  0.61886892 0.60225911 0.58810988 0.57592823\n",
      " 0.56534438 0.55607425 0.54789513 0.54062941 0.53413355 0.52829023\n",
      " 0.52300275 0.51819081 0.51378743 0.50973639 0.50599043 0.5025096\n",
      " 0.49926009 0.4962132  0.49334448 0.49063309 0.4880612  0.48561353\n",
      " 0.48327692 0.48104005 0.47889315 0.47682774 0.47483644 0.47291283\n",
      " 0.4710513  0.46924691 0.46749532 0.4657927  0.46413566 0.46252115\n",
      " 0.46094648 0.45940923 0.45790721 0.45643846 0.45500119 0.45359378\n",
      " 0.45221475 0.45086273 0.44953649 0.44823487 0.44695681 0.44570132\n",
      " 0.4444675  0.44325449 0.4420615  0.44088777 0.43973261 0.43859536\n",
      " 0.4374754  0.43637215 0.43528506 0.4342136  0.43315728 0.43211563\n",
      " 0.4310882  0.43007456 0.42907432 0.42808708 0.42711248 0.42615017\n",
      " 0.4251998  0.42426106 0.42333364 0.42241724 0.42151157 0.42061638\n",
      " 0.41973138 0.41885634 0.41799102 0.41713516 0.41628857 0.41545101\n",
      " 0.41462228 0.41380218 0.41299052 0.41218711 0.41139176 0.41060431\n",
      " 0.40982458 0.40905241 0.40828765 0.40753014 1.         1.\n",
      " 1.         1.         1.         1.        ]\n"
     ]
    },
    {
     "name": "stderr",
     "output_type": "stream",
     "text": [
      "\r",
      " 95%|█████████▌| 95/100 [03:43<00:11,  2.36s/it]"
     ]
    },
    {
     "name": "stdout",
     "output_type": "stream",
     "text": [
      "[1.05951471 0.92956733 0.84043005 0.77645218 0.72867509 0.69177059\n",
      " 0.6624513  0.6386149  0.61886892 0.60225911 0.58810988 0.57592823\n",
      " 0.56534438 0.55607425 0.54789513 0.54062941 0.53413355 0.52829023\n",
      " 0.52300275 0.51819081 0.51378743 0.50973639 0.50599043 0.5025096\n",
      " 0.49926009 0.4962132  0.49334448 0.49063309 0.4880612  0.48561353\n",
      " 0.48327692 0.48104005 0.47889315 0.47682774 0.47483644 0.47291283\n",
      " 0.4710513  0.46924691 0.46749532 0.4657927  0.46413566 0.46252115\n",
      " 0.46094648 0.45940923 0.45790721 0.45643846 0.45500119 0.45359378\n",
      " 0.45221475 0.45086273 0.44953649 0.44823487 0.44695681 0.44570132\n",
      " 0.4444675  0.44325449 0.4420615  0.44088777 0.43973261 0.43859536\n",
      " 0.4374754  0.43637215 0.43528506 0.4342136  0.43315728 0.43211563\n",
      " 0.4310882  0.43007456 0.42907432 0.42808708 0.42711248 0.42615017\n",
      " 0.4251998  0.42426106 0.42333364 0.42241724 0.42151157 0.42061638\n",
      " 0.41973138 0.41885634 0.41799102 0.41713516 0.41628857 0.41545101\n",
      " 0.41462228 0.41380218 0.41299052 0.41218711 0.41139176 0.41060431\n",
      " 0.40982458 0.40905241 0.40828765 0.40753014 0.40677974 1.\n",
      " 1.         1.         1.         1.        ]\n"
     ]
    },
    {
     "name": "stderr",
     "output_type": "stream",
     "text": [
      "\r",
      " 96%|█████████▌| 96/100 [03:45<00:09,  2.33s/it]"
     ]
    },
    {
     "name": "stdout",
     "output_type": "stream",
     "text": [
      "[1.05951471 0.92956733 0.84043005 0.77645218 0.72867509 0.69177059\n",
      " 0.6624513  0.6386149  0.61886892 0.60225911 0.58810988 0.57592823\n",
      " 0.56534438 0.55607425 0.54789513 0.54062941 0.53413355 0.52829023\n",
      " 0.52300275 0.51819081 0.51378743 0.50973639 0.50599043 0.5025096\n",
      " 0.49926009 0.4962132  0.49334448 0.49063309 0.4880612  0.48561353\n",
      " 0.48327692 0.48104005 0.47889315 0.47682774 0.47483644 0.47291283\n",
      " 0.4710513  0.46924691 0.46749532 0.4657927  0.46413566 0.46252115\n",
      " 0.46094648 0.45940923 0.45790721 0.45643846 0.45500119 0.45359378\n",
      " 0.45221475 0.45086273 0.44953649 0.44823487 0.44695681 0.44570132\n",
      " 0.4444675  0.44325449 0.4420615  0.44088777 0.43973261 0.43859536\n",
      " 0.4374754  0.43637215 0.43528506 0.4342136  0.43315728 0.43211563\n",
      " 0.4310882  0.43007456 0.42907432 0.42808708 0.42711248 0.42615017\n",
      " 0.4251998  0.42426106 0.42333364 0.42241724 0.42151157 0.42061638\n",
      " 0.41973138 0.41885634 0.41799102 0.41713516 0.41628857 0.41545101\n",
      " 0.41462228 0.41380218 0.41299052 0.41218711 0.41139176 0.41060431\n",
      " 0.40982458 0.40905241 0.40828765 0.40753014 0.40677974 0.40603629\n",
      " 1.         1.         1.         1.        ]\n"
     ]
    },
    {
     "name": "stderr",
     "output_type": "stream",
     "text": [
      "\r",
      " 97%|█████████▋| 97/100 [03:48<00:06,  2.31s/it]"
     ]
    },
    {
     "name": "stdout",
     "output_type": "stream",
     "text": [
      "[1.05951471 0.92956733 0.84043005 0.77645218 0.72867509 0.69177059\n",
      " 0.6624513  0.6386149  0.61886892 0.60225911 0.58810988 0.57592823\n",
      " 0.56534438 0.55607425 0.54789513 0.54062941 0.53413355 0.52829023\n",
      " 0.52300275 0.51819081 0.51378743 0.50973639 0.50599043 0.5025096\n",
      " 0.49926009 0.4962132  0.49334448 0.49063309 0.4880612  0.48561353\n",
      " 0.48327692 0.48104005 0.47889315 0.47682774 0.47483644 0.47291283\n",
      " 0.4710513  0.46924691 0.46749532 0.4657927  0.46413566 0.46252115\n",
      " 0.46094648 0.45940923 0.45790721 0.45643846 0.45500119 0.45359378\n",
      " 0.45221475 0.45086273 0.44953649 0.44823487 0.44695681 0.44570132\n",
      " 0.4444675  0.44325449 0.4420615  0.44088777 0.43973261 0.43859536\n",
      " 0.4374754  0.43637215 0.43528506 0.4342136  0.43315728 0.43211563\n",
      " 0.4310882  0.43007456 0.42907432 0.42808708 0.42711248 0.42615017\n",
      " 0.4251998  0.42426106 0.42333364 0.42241724 0.42151157 0.42061638\n",
      " 0.41973138 0.41885634 0.41799102 0.41713516 0.41628857 0.41545101\n",
      " 0.41462228 0.41380218 0.41299052 0.41218711 0.41139176 0.41060431\n",
      " 0.40982458 0.40905241 0.40828765 0.40753014 0.40677974 0.40603629\n",
      " 0.40529966 1.         1.         1.        ]\n"
     ]
    },
    {
     "name": "stderr",
     "output_type": "stream",
     "text": [
      "\r",
      " 98%|█████████▊| 98/100 [03:50<00:04,  2.31s/it]"
     ]
    },
    {
     "name": "stdout",
     "output_type": "stream",
     "text": [
      "[1.05951471 0.92956733 0.84043005 0.77645218 0.72867509 0.69177059\n",
      " 0.6624513  0.6386149  0.61886892 0.60225911 0.58810988 0.57592823\n",
      " 0.56534438 0.55607425 0.54789513 0.54062941 0.53413355 0.52829023\n",
      " 0.52300275 0.51819081 0.51378743 0.50973639 0.50599043 0.5025096\n",
      " 0.49926009 0.4962132  0.49334448 0.49063309 0.4880612  0.48561353\n",
      " 0.48327692 0.48104005 0.47889315 0.47682774 0.47483644 0.47291283\n",
      " 0.4710513  0.46924691 0.46749532 0.4657927  0.46413566 0.46252115\n",
      " 0.46094648 0.45940923 0.45790721 0.45643846 0.45500119 0.45359378\n",
      " 0.45221475 0.45086273 0.44953649 0.44823487 0.44695681 0.44570132\n",
      " 0.4444675  0.44325449 0.4420615  0.44088777 0.43973261 0.43859536\n",
      " 0.4374754  0.43637215 0.43528506 0.4342136  0.43315728 0.43211563\n",
      " 0.4310882  0.43007456 0.42907432 0.42808708 0.42711248 0.42615017\n",
      " 0.4251998  0.42426106 0.42333364 0.42241724 0.42151157 0.42061638\n",
      " 0.41973138 0.41885634 0.41799102 0.41713516 0.41628857 0.41545101\n",
      " 0.41462228 0.41380218 0.41299052 0.41218711 0.41139176 0.41060431\n",
      " 0.40982458 0.40905241 0.40828765 0.40753014 0.40677974 0.40603629\n",
      " 0.40529966 0.40456973 1.         1.        ]\n"
     ]
    },
    {
     "name": "stderr",
     "output_type": "stream",
     "text": [
      "\r",
      " 99%|█████████▉| 99/100 [03:52<00:02,  2.30s/it]"
     ]
    },
    {
     "name": "stdout",
     "output_type": "stream",
     "text": [
      "[1.05951471 0.92956733 0.84043005 0.77645218 0.72867509 0.69177059\n",
      " 0.6624513  0.6386149  0.61886892 0.60225911 0.58810988 0.57592823\n",
      " 0.56534438 0.55607425 0.54789513 0.54062941 0.53413355 0.52829023\n",
      " 0.52300275 0.51819081 0.51378743 0.50973639 0.50599043 0.5025096\n",
      " 0.49926009 0.4962132  0.49334448 0.49063309 0.4880612  0.48561353\n",
      " 0.48327692 0.48104005 0.47889315 0.47682774 0.47483644 0.47291283\n",
      " 0.4710513  0.46924691 0.46749532 0.4657927  0.46413566 0.46252115\n",
      " 0.46094648 0.45940923 0.45790721 0.45643846 0.45500119 0.45359378\n",
      " 0.45221475 0.45086273 0.44953649 0.44823487 0.44695681 0.44570132\n",
      " 0.4444675  0.44325449 0.4420615  0.44088777 0.43973261 0.43859536\n",
      " 0.4374754  0.43637215 0.43528506 0.4342136  0.43315728 0.43211563\n",
      " 0.4310882  0.43007456 0.42907432 0.42808708 0.42711248 0.42615017\n",
      " 0.4251998  0.42426106 0.42333364 0.42241724 0.42151157 0.42061638\n",
      " 0.41973138 0.41885634 0.41799102 0.41713516 0.41628857 0.41545101\n",
      " 0.41462228 0.41380218 0.41299052 0.41218711 0.41139176 0.41060431\n",
      " 0.40982458 0.40905241 0.40828765 0.40753014 0.40677974 0.40603629\n",
      " 0.40529966 0.40456973 0.40384634 1.        ]\n"
     ]
    },
    {
     "name": "stderr",
     "output_type": "stream",
     "text": [
      "\r",
      "100%|██████████| 100/100 [03:55<00:00,  2.35s/it]"
     ]
    },
    {
     "name": "stdout",
     "output_type": "stream",
     "text": [
      "[1.05951471 0.92956733 0.84043005 0.77645218 0.72867509 0.69177059\n",
      " 0.6624513  0.6386149  0.61886892 0.60225911 0.58810988 0.57592823\n",
      " 0.56534438 0.55607425 0.54789513 0.54062941 0.53413355 0.52829023\n",
      " 0.52300275 0.51819081 0.51378743 0.50973639 0.50599043 0.5025096\n",
      " 0.49926009 0.4962132  0.49334448 0.49063309 0.4880612  0.48561353\n",
      " 0.48327692 0.48104005 0.47889315 0.47682774 0.47483644 0.47291283\n",
      " 0.4710513  0.46924691 0.46749532 0.4657927  0.46413566 0.46252115\n",
      " 0.46094648 0.45940923 0.45790721 0.45643846 0.45500119 0.45359378\n",
      " 0.45221475 0.45086273 0.44953649 0.44823487 0.44695681 0.44570132\n",
      " 0.4444675  0.44325449 0.4420615  0.44088777 0.43973261 0.43859536\n",
      " 0.4374754  0.43637215 0.43528506 0.4342136  0.43315728 0.43211563\n",
      " 0.4310882  0.43007456 0.42907432 0.42808708 0.42711248 0.42615017\n",
      " 0.4251998  0.42426106 0.42333364 0.42241724 0.42151157 0.42061638\n",
      " 0.41973138 0.41885634 0.41799102 0.41713516 0.41628857 0.41545101\n",
      " 0.41462228 0.41380218 0.41299052 0.41218711 0.41139176 0.41060431\n",
      " 0.40982458 0.40905241 0.40828765 0.40753014 0.40677974 0.40603629\n",
      " 0.40529966 0.40456973 0.40384634 0.40312939]\n"
     ]
    },
    {
     "name": "stderr",
     "output_type": "stream",
     "text": [
      "\n"
     ]
    }
   ],
   "source": [
    "m, t = get_predictor(X, y, 100, 29)"
>>>>>>> 172323967bb7b552b0392311c5ed13bc505efa77
   ]
  },
  {
   "cell_type": "code",
<<<<<<< HEAD
   "execution_count": 44,
=======
   "execution_count": 133,
   "metadata": {},
   "outputs": [],
   "source": [
    "X_1 = np.concatenate((np.ones((X[:,m].shape[0], 1)), X[:,m]), axis = 1)\n",
    "y_res = np.dot(t, X_1.T) * y_train.std() + y_train.mean()"
   ]
  },
  {
   "cell_type": "code",
   "execution_count": 134,
>>>>>>> 172323967bb7b552b0392311c5ed13bc505efa77
   "metadata": {},
   "outputs": [
    {
     "data": {
      "text/plain": [
<<<<<<< HEAD
       "array([[0.68784962, 0.40627368, 0.31486466, ..., 0.75974436, 0.4492782 ,\n",
       "        0.88006015],\n",
       "       [0.67013475, 0.36427163, 0.31197163, ..., 0.73194326, 0.47362411,\n",
       "        0.89041844],\n",
       "       [0.67767763, 0.36364211, 0.32191447, ..., 0.73116447, 0.49244737,\n",
       "        0.81936842],\n",
       "       ...,\n",
       "       [0.69469512, 0.38380439, 0.32985854, ..., 0.79128742, 0.51523512,\n",
       "        0.81372   ],\n",
       "       [0.73921961, 0.41514235, 0.31815922, ..., 0.79128742, 0.52151235,\n",
       "        0.82902549],\n",
       "       [0.69727407, 0.45233864, 0.32391728, ..., 0.79128742, 0.47813   ,\n",
       "        0.86221975]])"
      ]
     },
     "execution_count": 44,
     "metadata": {},
     "output_type": "execute_result"
    }
   ],
   "source": [
    "y/96"
=======
       "-14.6802449384556"
      ]
     },
     "execution_count": 134,
     "metadata": {},
     "output_type": "execute_result"
    }
   ],
   "source": [
    "r2_score(y_train[:,0].flatten(), y_res.flatten())"
   ]
  },
  {
   "cell_type": "code",
   "execution_count": 127,
   "metadata": {},
   "outputs": [
    {
     "data": {
      "text/plain": [
       "array([[80.3672587 , 64.93734121, 54.29040954, ..., 57.48988195,\n",
       "        61.36343049, 70.53483836]])"
      ]
     },
     "execution_count": 127,
     "metadata": {},
     "output_type": "execute_result"
    }
   ],
   "source": [
    "y_res"
   ]
  },
  {
   "cell_type": "code",
   "execution_count": 128,
   "metadata": {},
   "outputs": [
    {
     "data": {
      "text/plain": [
       "array([84.48577444, 85.48017021, 78.65936842, ..., 78.11712   ,\n",
       "       79.58644706, 82.7730963 ])"
      ]
     },
     "execution_count": 128,
     "metadata": {},
     "output_type": "execute_result"
    }
   ],
   "source": [
    "y_train[:, 29]"
   ]
  },
  {
   "cell_type": "code",
   "execution_count": 88,
   "metadata": {},
   "outputs": [
    {
     "name": "stderr",
     "output_type": "stream",
     "text": [
      "\r",
      "  0%|          | 0/30 [00:00<?, ?it/s]"
     ]
    },
    {
     "name": "stdout",
     "output_type": "stream",
     "text": [
      "(7049, 973) (7049, 1)\n"
     ]
    },
    {
     "name": "stderr",
     "output_type": "stream",
     "text": [
      "\r",
      "  3%|▎         | 1/30 [00:01<00:32,  1.13s/it]"
     ]
    },
    {
     "name": "stdout",
     "output_type": "stream",
     "text": [
      "[1.23931501 1.         1.         1.         1.         1.\n",
      " 1.         1.         1.         1.         1.         1.\n",
      " 1.         1.         1.         1.         1.         1.\n",
      " 1.         1.         1.         1.         1.         1.\n",
      " 1.         1.         1.         1.         1.         1.        ]\n"
     ]
    },
    {
     "name": "stderr",
     "output_type": "stream",
     "text": [
      "\r",
      "  7%|▋         | 2/30 [00:02<00:31,  1.14s/it]"
     ]
    },
    {
     "name": "stdout",
     "output_type": "stream",
     "text": [
      "[1.23931501 1.18635895 1.         1.         1.         1.\n",
      " 1.         1.         1.         1.         1.         1.\n",
      " 1.         1.         1.         1.         1.         1.\n",
      " 1.         1.         1.         1.         1.         1.\n",
      " 1.         1.         1.         1.         1.         1.        ]\n"
     ]
    },
    {
     "name": "stderr",
     "output_type": "stream",
     "text": [
      "\r",
      " 10%|█         | 3/30 [00:03<00:31,  1.17s/it]"
     ]
    },
    {
     "name": "stdout",
     "output_type": "stream",
     "text": [
      "[1.23931501 1.18635895 1.14775622 1.         1.         1.\n",
      " 1.         1.         1.         1.         1.         1.\n",
      " 1.         1.         1.         1.         1.         1.\n",
      " 1.         1.         1.         1.         1.         1.\n",
      " 1.         1.         1.         1.         1.         1.        ]\n"
     ]
    },
    {
     "name": "stderr",
     "output_type": "stream",
     "text": [
      "\r",
      " 13%|█▎        | 4/30 [00:04<00:30,  1.17s/it]"
     ]
    },
    {
     "name": "stdout",
     "output_type": "stream",
     "text": [
      "[1.23931501 1.18635895 1.14775622 1.11461066 1.         1.\n",
      " 1.         1.         1.         1.         1.         1.\n",
      " 1.         1.         1.         1.         1.         1.\n",
      " 1.         1.         1.         1.         1.         1.\n",
      " 1.         1.         1.         1.         1.         1.        ]\n"
     ]
    },
    {
     "name": "stderr",
     "output_type": "stream",
     "text": [
      "\r",
      " 17%|█▋        | 5/30 [00:05<00:29,  1.19s/it]"
     ]
    },
    {
     "name": "stdout",
     "output_type": "stream",
     "text": [
      "[1.23931501 1.18635895 1.14775622 1.11461066 1.08523766 1.\n",
      " 1.         1.         1.         1.         1.         1.\n",
      " 1.         1.         1.         1.         1.         1.\n",
      " 1.         1.         1.         1.         1.         1.\n",
      " 1.         1.         1.         1.         1.         1.        ]\n"
     ]
    },
    {
     "name": "stderr",
     "output_type": "stream",
     "text": [
      "\r",
      " 20%|██        | 6/30 [00:07<00:28,  1.18s/it]"
     ]
    },
    {
     "name": "stdout",
     "output_type": "stream",
     "text": [
      "[1.23931501 1.18635895 1.14775622 1.11461066 1.08523766 1.05888954\n",
      " 1.         1.         1.         1.         1.         1.\n",
      " 1.         1.         1.         1.         1.         1.\n",
      " 1.         1.         1.         1.         1.         1.\n",
      " 1.         1.         1.         1.         1.         1.        ]\n"
     ]
    },
    {
     "name": "stderr",
     "output_type": "stream",
     "text": [
      "\r",
      " 23%|██▎       | 7/30 [00:08<00:27,  1.18s/it]"
     ]
    },
    {
     "name": "stdout",
     "output_type": "stream",
     "text": [
      "[1.23931501 1.18635895 1.14775622 1.11461066 1.08523766 1.05888954\n",
      " 1.03504453 1.         1.         1.         1.         1.\n",
      " 1.         1.         1.         1.         1.         1.\n",
      " 1.         1.         1.         1.         1.         1.\n",
      " 1.         1.         1.         1.         1.         1.        ]\n"
     ]
    },
    {
     "name": "stderr",
     "output_type": "stream",
     "text": [
      "\r",
      " 27%|██▋       | 8/30 [00:09<00:25,  1.17s/it]"
     ]
    },
    {
     "name": "stdout",
     "output_type": "stream",
     "text": [
      "[1.23931501 1.18635895 1.14775622 1.11461066 1.08523766 1.05888954\n",
      " 1.03504453 1.0133004  1.         1.         1.         1.\n",
      " 1.         1.         1.         1.         1.         1.\n",
      " 1.         1.         1.         1.         1.         1.\n",
      " 1.         1.         1.         1.         1.         1.        ]\n"
     ]
    },
    {
     "name": "stderr",
     "output_type": "stream",
     "text": [
      "\r",
      " 30%|███       | 9/30 [00:10<00:24,  1.17s/it]"
     ]
    },
    {
     "name": "stdout",
     "output_type": "stream",
     "text": [
      "[1.23931501 1.18635895 1.14775622 1.11461066 1.08523766 1.05888954\n",
      " 1.03504453 1.0133004  0.99334032 1.         1.         1.\n",
      " 1.         1.         1.         1.         1.         1.\n",
      " 1.         1.         1.         1.         1.         1.\n",
      " 1.         1.         1.         1.         1.         1.        ]\n"
     ]
    },
    {
     "name": "stderr",
     "output_type": "stream",
     "text": [
      "\r",
      " 33%|███▎      | 10/30 [00:11<00:23,  1.16s/it]"
     ]
    },
    {
     "name": "stdout",
     "output_type": "stream",
     "text": [
      "[1.23931501 1.18635895 1.14775622 1.11461066 1.08523766 1.05888954\n",
      " 1.03504453 1.0133004  0.99334032 0.9749122  1.         1.\n",
      " 1.         1.         1.         1.         1.         1.\n",
      " 1.         1.         1.         1.         1.         1.\n",
      " 1.         1.         1.         1.         1.         1.        ]\n"
     ]
    },
    {
     "name": "stderr",
     "output_type": "stream",
     "text": [
      "\r",
      " 37%|███▋      | 11/30 [00:12<00:21,  1.15s/it]"
     ]
    },
    {
     "name": "stdout",
     "output_type": "stream",
     "text": [
      "[1.23931501 1.18635895 1.14775622 1.11461066 1.08523766 1.05888954\n",
      " 1.03504453 1.0133004  0.99334032 0.9749122  0.95781367 1.\n",
      " 1.         1.         1.         1.         1.         1.\n",
      " 1.         1.         1.         1.         1.         1.\n",
      " 1.         1.         1.         1.         1.         1.        ]\n"
     ]
    },
    {
     "name": "stderr",
     "output_type": "stream",
     "text": [
      "\r",
      " 40%|████      | 12/30 [00:13<00:20,  1.15s/it]"
     ]
    },
    {
     "name": "stdout",
     "output_type": "stream",
     "text": [
      "[1.23931501 1.18635895 1.14775622 1.11461066 1.08523766 1.05888954\n",
      " 1.03504453 1.0133004  0.99334032 0.9749122  0.95781367 0.94188079\n",
      " 1.         1.         1.         1.         1.         1.\n",
      " 1.         1.         1.         1.         1.         1.\n",
      " 1.         1.         1.         1.         1.         1.        ]\n"
     ]
    },
    {
     "name": "stderr",
     "output_type": "stream",
     "text": [
      "\r",
      " 43%|████▎     | 13/30 [00:15<00:19,  1.14s/it]"
     ]
    },
    {
     "name": "stdout",
     "output_type": "stream",
     "text": [
      "[1.23931501 1.18635895 1.14775622 1.11461066 1.08523766 1.05888954\n",
      " 1.03504453 1.0133004  0.99334032 0.9749122  0.95781367 0.94188079\n",
      " 0.9269795  1.         1.         1.         1.         1.\n",
      " 1.         1.         1.         1.         1.         1.\n",
      " 1.         1.         1.         1.         1.         1.        ]\n"
     ]
    },
    {
     "name": "stderr",
     "output_type": "stream",
     "text": [
      "\r",
      " 47%|████▋     | 14/30 [00:16<00:18,  1.13s/it]"
     ]
    },
    {
     "name": "stdout",
     "output_type": "stream",
     "text": [
      "[1.23931501 1.18635895 1.14775622 1.11461066 1.08523766 1.05888954\n",
      " 1.03504453 1.0133004  0.99334032 0.9749122  0.95781367 0.94188079\n",
      " 0.9269795  0.91299906 1.         1.         1.         1.\n",
      " 1.         1.         1.         1.         1.         1.\n",
      " 1.         1.         1.         1.         1.         1.        ]\n"
     ]
    },
    {
     "name": "stderr",
     "output_type": "stream",
     "text": [
      "\r",
      " 50%|█████     | 15/30 [00:17<00:16,  1.13s/it]"
     ]
    },
    {
     "name": "stdout",
     "output_type": "stream",
     "text": [
      "[1.23931501 1.18635895 1.14775622 1.11461066 1.08523766 1.05888954\n",
      " 1.03504453 1.0133004  0.99334032 0.9749122  0.95781367 0.94188079\n",
      " 0.9269795  0.91299906 0.8998471  1.         1.         1.\n",
      " 1.         1.         1.         1.         1.         1.\n",
      " 1.         1.         1.         1.         1.         1.        ]\n"
     ]
    },
    {
     "name": "stderr",
     "output_type": "stream",
     "text": [
      "\r",
      " 53%|█████▎    | 16/30 [00:18<00:16,  1.15s/it]"
     ]
    },
    {
     "name": "stdout",
     "output_type": "stream",
     "text": [
      "[1.23931501 1.18635895 1.14775622 1.11461066 1.08523766 1.05888954\n",
      " 1.03504453 1.0133004  0.99334032 0.9749122  0.95781367 0.94188079\n",
      " 0.9269795  0.91299906 0.8998471  0.8874458  1.         1.\n",
      " 1.         1.         1.         1.         1.         1.\n",
      " 1.         1.         1.         1.         1.         1.        ]\n"
     ]
    },
    {
     "name": "stderr",
     "output_type": "stream",
     "text": [
      "\r",
      " 57%|█████▋    | 17/30 [00:19<00:15,  1.15s/it]"
     ]
    },
    {
     "name": "stdout",
     "output_type": "stream",
     "text": [
      "[1.23931501 1.18635895 1.14775622 1.11461066 1.08523766 1.05888954\n",
      " 1.03504453 1.0133004  0.99334032 0.9749122  0.95781367 0.94188079\n",
      " 0.9269795  0.91299906 0.8998471  0.8874458  0.87572887 1.\n",
      " 1.         1.         1.         1.         1.         1.\n",
      " 1.         1.         1.         1.         1.         1.        ]\n"
     ]
    },
    {
     "name": "stderr",
     "output_type": "stream",
     "text": [
      "\r",
      " 60%|██████    | 18/30 [00:20<00:13,  1.16s/it]"
     ]
    },
    {
     "name": "stdout",
     "output_type": "stream",
     "text": [
      "[1.23931501 1.18635895 1.14775622 1.11461066 1.08523766 1.05888954\n",
      " 1.03504453 1.0133004  0.99334032 0.9749122  0.95781367 0.94188079\n",
      " 0.9269795  0.91299906 0.8998471  0.8874458  0.87572887 0.86463932\n",
      " 1.         1.         1.         1.         1.         1.\n",
      " 1.         1.         1.         1.         1.         1.        ]\n"
     ]
    },
    {
     "name": "stderr",
     "output_type": "stream",
     "text": [
      "\r",
      " 63%|██████▎   | 19/30 [00:22<00:13,  1.18s/it]"
     ]
    },
    {
     "name": "stdout",
     "output_type": "stream",
     "text": [
      "[1.23931501 1.18635895 1.14775622 1.11461066 1.08523766 1.05888954\n",
      " 1.03504453 1.0133004  0.99334032 0.9749122  0.95781367 0.94188079\n",
      " 0.9269795  0.91299906 0.8998471  0.8874458  0.87572887 0.86463932\n",
      " 0.85412767 1.         1.         1.         1.         1.\n",
      " 1.         1.         1.         1.         1.         1.        ]\n"
     ]
    },
    {
     "name": "stderr",
     "output_type": "stream",
     "text": [
      "\r",
      " 67%|██████▋   | 20/30 [00:23<00:11,  1.17s/it]"
     ]
    },
    {
     "name": "stdout",
     "output_type": "stream",
     "text": [
      "[1.23931501 1.18635895 1.14775622 1.11461066 1.08523766 1.05888954\n",
      " 1.03504453 1.0133004  0.99334032 0.9749122  0.95781367 0.94188079\n",
      " 0.9269795  0.91299906 0.8998471  0.8874458  0.87572887 0.86463932\n",
      " 0.85412767 0.84415054 1.         1.         1.         1.\n",
      " 1.         1.         1.         1.         1.         1.        ]\n"
     ]
    },
    {
     "name": "stderr",
     "output_type": "stream",
     "text": [
      "\r",
      " 70%|███████   | 21/30 [00:24<00:10,  1.17s/it]"
     ]
    },
    {
     "name": "stdout",
     "output_type": "stream",
     "text": [
      "[1.23931501 1.18635895 1.14775622 1.11461066 1.08523766 1.05888954\n",
      " 1.03504453 1.0133004  0.99334032 0.9749122  0.95781367 0.94188079\n",
      " 0.9269795  0.91299906 0.8998471  0.8874458  0.87572887 0.86463932\n",
      " 0.85412767 0.84415054 0.83466958 1.         1.         1.\n",
      " 1.         1.         1.         1.         1.         1.        ]\n"
     ]
    },
    {
     "name": "stderr",
     "output_type": "stream",
     "text": [
      "\r",
      " 73%|███████▎  | 22/30 [00:25<00:09,  1.17s/it]"
     ]
    },
    {
     "name": "stdout",
     "output_type": "stream",
     "text": [
      "[1.23931501 1.18635895 1.14775622 1.11461066 1.08523766 1.05888954\n",
      " 1.03504453 1.0133004  0.99334032 0.9749122  0.95781367 0.94188079\n",
      " 0.9269795  0.91299906 0.8998471  0.8874458  0.87572887 0.86463932\n",
      " 0.85412767 0.84415054 0.83466958 0.8256506  1.         1.\n",
      " 1.         1.         1.         1.         1.         1.        ]\n"
     ]
    },
    {
     "name": "stderr",
     "output_type": "stream",
     "text": [
      "\r",
      " 77%|███████▋  | 23/30 [00:26<00:08,  1.16s/it]"
     ]
    },
    {
     "name": "stdout",
     "output_type": "stream",
     "text": [
      "[1.23931501 1.18635895 1.14775622 1.11461066 1.08523766 1.05888954\n",
      " 1.03504453 1.0133004  0.99334032 0.9749122  0.95781367 0.94188079\n",
      " 0.9269795  0.91299906 0.8998471  0.8874458  0.87572887 0.86463932\n",
      " 0.85412767 0.84415054 0.83466958 0.8256506  0.8170629  1.\n",
      " 1.         1.         1.         1.         1.         1.        ]\n"
     ]
    },
    {
     "name": "stderr",
     "output_type": "stream",
     "text": [
      "\r",
      " 80%|████████  | 24/30 [00:27<00:06,  1.13s/it]"
     ]
    },
    {
     "name": "stdout",
     "output_type": "stream",
     "text": [
      "[1.23931501 1.18635895 1.14775622 1.11461066 1.08523766 1.05888954\n",
      " 1.03504453 1.0133004  0.99334032 0.9749122  0.95781367 0.94188079\n",
      " 0.9269795  0.91299906 0.8998471  0.8874458  0.87572887 0.86463932\n",
      " 0.85412767 0.84415054 0.83466958 0.8256506  0.8170629  0.8088787\n",
      " 1.         1.         1.         1.         1.         1.        ]\n"
     ]
    },
    {
     "name": "stderr",
     "output_type": "stream",
     "text": [
      "\r",
      " 83%|████████▎ | 25/30 [00:28<00:05,  1.14s/it]"
     ]
    },
    {
     "name": "stdout",
     "output_type": "stream",
     "text": [
      "[1.23931501 1.18635895 1.14775622 1.11461066 1.08523766 1.05888954\n",
      " 1.03504453 1.0133004  0.99334032 0.9749122  0.95781367 0.94188079\n",
      " 0.9269795  0.91299906 0.8998471  0.8874458  0.87572887 0.86463932\n",
      " 0.85412767 0.84415054 0.83466958 0.8256506  0.8170629  0.8088787\n",
      " 0.80107277 1.         1.         1.         1.         1.        ]\n"
     ]
    },
    {
     "name": "stderr",
     "output_type": "stream",
     "text": [
      "\r",
      " 87%|████████▋ | 26/30 [00:30<00:04,  1.11s/it]"
     ]
    },
    {
     "name": "stdout",
     "output_type": "stream",
     "text": [
      "[1.23931501 1.18635895 1.14775622 1.11461066 1.08523766 1.05888954\n",
      " 1.03504453 1.0133004  0.99334032 0.9749122  0.95781367 0.94188079\n",
      " 0.9269795  0.91299906 0.8998471  0.8874458  0.87572887 0.86463932\n",
      " 0.85412767 0.84415054 0.83466958 0.8256506  0.8170629  0.8088787\n",
      " 0.80107277 0.79362199 1.         1.         1.         1.        ]\n"
     ]
    },
    {
     "name": "stderr",
     "output_type": "stream",
     "text": [
      "\r",
      " 90%|█████████ | 27/30 [00:31<00:03,  1.11s/it]"
     ]
    },
    {
     "name": "stdout",
     "output_type": "stream",
     "text": [
      "[1.23931501 1.18635895 1.14775622 1.11461066 1.08523766 1.05888954\n",
      " 1.03504453 1.0133004  0.99334032 0.9749122  0.95781367 0.94188079\n",
      " 0.9269795  0.91299906 0.8998471  0.8874458  0.87572887 0.86463932\n",
      " 0.85412767 0.84415054 0.83466958 0.8256506  0.8170629  0.8088787\n",
      " 0.80107277 0.79362199 0.78650516 1.         1.         1.        ]\n"
     ]
    },
    {
     "name": "stderr",
     "output_type": "stream",
     "text": [
      "\r",
      " 93%|█████████▎| 28/30 [00:32<00:02,  1.12s/it]"
     ]
    },
    {
     "name": "stdout",
     "output_type": "stream",
     "text": [
      "[1.23931501 1.18635895 1.14775622 1.11461066 1.08523766 1.05888954\n",
      " 1.03504453 1.0133004  0.99334032 0.9749122  0.95781367 0.94188079\n",
      " 0.9269795  0.91299906 0.8998471  0.8874458  0.87572887 0.86463932\n",
      " 0.85412767 0.84415054 0.83466958 0.8256506  0.8170629  0.8088787\n",
      " 0.80107277 0.79362199 0.78650516 0.7797027  1.         1.        ]\n"
     ]
    },
    {
     "name": "stderr",
     "output_type": "stream",
     "text": [
      "\r",
      " 97%|█████████▋| 29/30 [00:33<00:01,  1.14s/it]"
     ]
    },
    {
     "name": "stdout",
     "output_type": "stream",
     "text": [
      "[1.23931501 1.18635895 1.14775622 1.11461066 1.08523766 1.05888954\n",
      " 1.03504453 1.0133004  0.99334032 0.9749122  0.95781367 0.94188079\n",
      " 0.9269795  0.91299906 0.8998471  0.8874458  0.87572887 0.86463932\n",
      " 0.85412767 0.84415054 0.83466958 0.8256506  0.8170629  0.8088787\n",
      " 0.80107277 0.79362199 0.78650516 0.7797027  0.77319647 1.        ]\n"
     ]
    },
    {
     "name": "stderr",
     "output_type": "stream",
     "text": [
      "\r",
      "100%|██████████| 30/30 [00:34<00:00,  1.15s/it]"
     ]
    },
    {
     "name": "stdout",
     "output_type": "stream",
     "text": [
      "[1.23931501 1.18635895 1.14775622 1.11461066 1.08523766 1.05888954\n",
      " 1.03504453 1.0133004  0.99334032 0.9749122  0.95781367 0.94188079\n",
      " 0.9269795  0.91299906 0.8998471  0.8874458  0.87572887 0.86463932\n",
      " 0.85412767 0.84415054 0.83466958 0.8256506  0.8170629  0.8088787\n",
      " 0.80107277 0.79362199 0.78650516 0.7797027  0.77319647 0.76696965]\n"
     ]
    },
    {
     "name": "stderr",
     "output_type": "stream",
     "text": [
      "\n"
     ]
    },
    {
     "ename": "ValueError",
     "evalue": "shapes (1,973) and (1929,7049) not aligned: 973 (dim 1) != 1929 (dim 0)",
     "output_type": "error",
     "traceback": [
      "\u001b[0;31m---------------------------------------------------------------------------\u001b[0m",
      "\u001b[0;31mValueError\u001b[0m                                Traceback (most recent call last)",
      "\u001b[0;32m<ipython-input-88-1f43c38f7ad3>\u001b[0m in \u001b[0;36m<module>\u001b[0;34m\u001b[0m\n\u001b[0;32m----> 1\u001b[0;31m \u001b[0my_res\u001b[0m \u001b[0;34m=\u001b[0m \u001b[0mget_predictor\u001b[0m\u001b[0;34m(\u001b[0m\u001b[0mX\u001b[0m\u001b[0;34m,\u001b[0m \u001b[0my\u001b[0m\u001b[0;34m,\u001b[0m \u001b[0;36m30\u001b[0m\u001b[0;34m,\u001b[0m \u001b[0;36m29\u001b[0m\u001b[0;34m)\u001b[0m\u001b[0;34m(\u001b[0m\u001b[0mX\u001b[0m\u001b[0;34m)\u001b[0m\u001b[0;34m\u001b[0m\u001b[0;34m\u001b[0m\u001b[0m\n\u001b[0m",
      "\u001b[0;32m<ipython-input-84-4012c3439026>\u001b[0m in \u001b[0;36mf\u001b[0;34m(X)\u001b[0m\n\u001b[1;32m     13\u001b[0m     \u001b[0;32mdef\u001b[0m \u001b[0mf\u001b[0m\u001b[0;34m(\u001b[0m\u001b[0mX\u001b[0m\u001b[0;34m)\u001b[0m\u001b[0;34m:\u001b[0m\u001b[0;34m\u001b[0m\u001b[0;34m\u001b[0m\u001b[0m\n\u001b[1;32m     14\u001b[0m         \u001b[0mX_1\u001b[0m \u001b[0;34m=\u001b[0m \u001b[0mnp\u001b[0m\u001b[0;34m.\u001b[0m\u001b[0mconcatenate\u001b[0m\u001b[0;34m(\u001b[0m\u001b[0;34m(\u001b[0m\u001b[0mnp\u001b[0m\u001b[0;34m.\u001b[0m\u001b[0mones\u001b[0m\u001b[0;34m(\u001b[0m\u001b[0;34m(\u001b[0m\u001b[0mX\u001b[0m\u001b[0;34m[\u001b[0m\u001b[0;34m:\u001b[0m\u001b[0;34m,\u001b[0m\u001b[0mm\u001b[0m\u001b[0;34m]\u001b[0m\u001b[0;34m.\u001b[0m\u001b[0mshape\u001b[0m\u001b[0;34m[\u001b[0m\u001b[0;36m0\u001b[0m\u001b[0;34m]\u001b[0m\u001b[0;34m,\u001b[0m \u001b[0;36m1\u001b[0m\u001b[0;34m)\u001b[0m\u001b[0;34m)\u001b[0m\u001b[0;34m,\u001b[0m \u001b[0mX\u001b[0m\u001b[0;34m[\u001b[0m\u001b[0;34m:\u001b[0m\u001b[0;34m,\u001b[0m\u001b[0mm\u001b[0m\u001b[0;34m]\u001b[0m\u001b[0;34m)\u001b[0m\u001b[0;34m,\u001b[0m \u001b[0maxis\u001b[0m \u001b[0;34m=\u001b[0m \u001b[0;36m1\u001b[0m\u001b[0;34m)\u001b[0m\u001b[0;34m\u001b[0m\u001b[0;34m\u001b[0m\u001b[0m\n\u001b[0;32m---> 15\u001b[0;31m         \u001b[0my_res\u001b[0m \u001b[0;34m=\u001b[0m \u001b[0mnp\u001b[0m\u001b[0;34m.\u001b[0m\u001b[0mdot\u001b[0m\u001b[0;34m(\u001b[0m\u001b[0mtheta\u001b[0m\u001b[0;34m,\u001b[0m \u001b[0mX_1\u001b[0m\u001b[0;34m.\u001b[0m\u001b[0mT\u001b[0m\u001b[0;34m)\u001b[0m \u001b[0;34m*\u001b[0m \u001b[0my_train\u001b[0m\u001b[0;34m.\u001b[0m\u001b[0mstd\u001b[0m\u001b[0;34m(\u001b[0m\u001b[0;34m)\u001b[0m \u001b[0;34m+\u001b[0m \u001b[0my_train\u001b[0m\u001b[0;34m.\u001b[0m\u001b[0mmean\u001b[0m\u001b[0;34m(\u001b[0m\u001b[0;34m)\u001b[0m\u001b[0;34m\u001b[0m\u001b[0;34m\u001b[0m\u001b[0m\n\u001b[0m\u001b[1;32m     16\u001b[0m         \u001b[0;32mreturn\u001b[0m \u001b[0my_res\u001b[0m\u001b[0;34m\u001b[0m\u001b[0;34m\u001b[0m\u001b[0m\n\u001b[1;32m     17\u001b[0m     \u001b[0;32mreturn\u001b[0m \u001b[0mf\u001b[0m\u001b[0;34m\u001b[0m\u001b[0;34m\u001b[0m\u001b[0m\n",
      "\u001b[0;31mValueError\u001b[0m: shapes (1,973) and (1929,7049) not aligned: 973 (dim 1) != 1929 (dim 0)"
     ]
    }
   ],
   "source": [
    "y_res = get_predictor(X, y, 30, 29)(X)"
>>>>>>> 172323967bb7b552b0392311c5ed13bc505efa77
   ]
  },
  {
   "cell_type": "code",
   "execution_count": null,
   "metadata": {},
   "outputs": [],
   "source": [
    "y_res"
   ]
  },
  {
   "cell_type": "code",
   "execution_count": null,
   "metadata": {},
   "outputs": [],
   "source": [
    "y_train[:,29]"
   ]
  },
  {
   "cell_type": "code",
   "execution_count": null,
   "metadata": {},
   "outputs": [],
   "source": []
  }
 ],
 "metadata": {
  "kernelspec": {
   "display_name": "Python 3",
   "language": "python",
   "name": "python3"
  },
  "language_info": {
   "codemirror_mode": {
    "name": "ipython",
    "version": 3
   },
   "file_extension": ".py",
   "mimetype": "text/x-python",
   "name": "python",
   "nbconvert_exporter": "python",
   "pygments_lexer": "ipython3",
   "version": "3.7.3"
  }
 },
 "nbformat": 4,
 "nbformat_minor": 2
}
